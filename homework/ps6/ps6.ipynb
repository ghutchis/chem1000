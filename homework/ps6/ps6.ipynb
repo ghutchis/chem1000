{
 "cells": [
  {
   "cell_type": "markdown",
   "metadata": {
    "deletable": false,
    "editable": false,
    "nbgrader": {
     "cell_type": "markdown",
     "checksum": "54537c39da7ad24d078c29b6eeb2ddca",
     "grade": false,
     "grade_id": "prefix",
     "locked": true,
     "schema_version": 3,
     "solution": false
    }
   },
   "source": [
    "# CHEM 1000 - Spring 2023\n",
    "Prof. Geoffrey Hutchison, University of Pittsburgh\n",
    "\n",
    "## Graded Homework 6\n",
    "\n",
    "For this homework, we'll focus on:\n",
    "- integrals in 2D polar and 3D spherical space\n",
    "- probability (including integrating continuous distributions)\n",
    "---\n",
    "\n",
    "As a reminder, you do not need to use Python to solve the problems. If you want, you can use other methods, just put your answers in the appropriate places.\n",
    "\n",
    "To turn in, either download as Notebook (.ipynb) or Print to PDF and upload to Gradescope.\n",
    "\n",
    "Make sure you fill in any place that says YOUR CODE HERE or \"YOUR ANSWER HERE\", as well as your name and collaborators (i.e., anyone you discussed this with) below:"
   ]
  },
  {
   "cell_type": "code",
   "execution_count": null,
   "metadata": {},
   "outputs": [],
   "source": [
    "NAME = \"\"\n",
    "COLLABORATORS = \"\""
   ]
  },
  {
   "cell_type": "markdown",
   "metadata": {
    "deletable": false,
    "editable": false,
    "nbgrader": {
     "cell_type": "markdown",
     "checksum": "2174a96115efca7bd56e9d8d1da45b88",
     "grade": false,
     "grade_id": "spherical-z2",
     "locked": true,
     "schema_version": 3,
     "solution": false,
     "task": false
    }
   },
   "source": [
    "### Cartesian to Spherical Integrals\n",
    "\n",
    "Consider the Cartesian integral:\n",
    "$$\n",
    "\\iiint z^{2} d x d y d z\n",
    "$$\n",
    "\n",
    "Evaluation is fairly simple over a rectangular region, but if we wish to evaluate across a spherical volume, the limits of integration become messy.\n",
    "\n",
    "Instead, we can transform $z^2$, resulting in the integral:\n",
    "\n",
    "$$\n",
    "\\int_{0}^{a} \\int_{0}^{\\pi} \\int_{0}^{2 \\pi}(r \\cos \\theta)^{2} r^{2} \\sin \\theta d \\varphi d \\theta d r\n",
    "$$\n",
    "\n",
    "Integrate across a sphere of size \"a\""
   ]
  },
  {
   "cell_type": "code",
   "execution_count": null,
   "metadata": {
    "deletable": false,
    "editable": false,
    "nbgrader": {
     "cell_type": "code",
     "checksum": "5c531311e252e987190e86be0a73365f",
     "grade": false,
     "grade_id": "sympy",
     "locked": true,
     "schema_version": 3,
     "solution": false,
     "task": false
    }
   },
   "outputs": [],
   "source": [
    "from sympy import init_session\n",
    "init_session()"
   ]
  },
  {
   "cell_type": "code",
   "execution_count": null,
   "metadata": {
    "deletable": false,
    "nbgrader": {
     "cell_type": "code",
     "checksum": "332cd16555249219bedfeeb9c61d1747",
     "grade": true,
     "grade_id": "sphere-z2",
     "locked": false,
     "points": 5,
     "schema_version": 3,
     "solution": true,
     "task": false
    }
   },
   "outputs": [],
   "source": [
    "a, r, theta, phi = symbols(\"N r theta phi\")\n",
    "# technically, we're integrating psi**2 but let's not worry about that now\n",
    "# z => (r*cos(theta)) in spherical coordinates\n",
    "f = (r*cos(theta)**2)\n",
    "\n",
    "integrate(# something)"
   ]
  },
  {
   "cell_type": "markdown",
   "metadata": {
    "deletable": false,
    "editable": false,
    "nbgrader": {
     "cell_type": "markdown",
     "checksum": "d8d236f961af379297b4fab68a408d9c",
     "grade": false,
     "grade_id": "intro-2",
     "locked": true,
     "schema_version": 3,
     "solution": false,
     "task": false
    }
   },
   "source": [
    "### Normalizing\n",
    "\n",
    "We often wish to normalize functions. Calculate a normalization constant $N^2$ for the following integral (e.g., evaluate it, set it equal to one, etc.)\n",
    "\n",
    "$$\n",
    "\\int_{0}^{\\infty} \\int_{0}^{\\pi} \\int_{0}^{2 \\pi} N^2 \\mathrm{e}^{-2 r} \\cos ^{2} \\theta r^{2} \\sin \\theta d \\varphi d \\theta d r\n",
    "$$\n",
    "\n",
    "(This is related to a $2p_z$ hydrogen atomic orbital.)"
   ]
  },
  {
   "cell_type": "code",
   "execution_count": null,
   "metadata": {
    "deletable": false,
    "nbgrader": {
     "cell_type": "code",
     "checksum": "b6361a24d1075f746c36194508c50946",
     "grade": true,
     "grade_id": "normalize-2pz",
     "locked": false,
     "points": 5,
     "schema_version": 3,
     "solution": true,
     "task": false
    }
   },
   "outputs": [],
   "source": [
    "# if you have an error, make sure you run the cell above this\n",
    "N, r, theta, phi = symbols(\"N r theta phi\")\n",
    "# technically, we're integrating psi**2 but let's not worry about that now\n",
    "f = N**2 * exp(-2*r) * cos(theta)**2\n",
    "\n",
    "integrate(# something)"
   ]
  },
  {
   "cell_type": "markdown",
   "metadata": {
    "deletable": false,
    "editable": false,
    "nbgrader": {
     "cell_type": "markdown",
     "checksum": "f913a1c46f61f54684a6c48c08de360c",
     "grade": false,
     "grade_id": "gauss-integration",
     "locked": true,
     "schema_version": 3,
     "solution": false,
     "task": false
    }
   },
   "source": [
    "### Gaussian Distribution and Probability\n",
    "\n",
    "You may have heard much about the Gaussian \"normal\" distribution (\"Bell curve\").\n",
    "\n",
    "If we flip a coin enough, the binomial distribution becomes essentially continuous. Moreover, the \"law of large numbers\" (i.e., the [central limit theorem](https://en.wikipedia.org/wiki/Central_limit_theorem)) indicates that by taking the enough data points, the sum - and average will tend towards a Gaussian distribution.\n",
    "\n",
    "In short, even if our underlying data comes from some different distribution, the average will become normal (e.g. consider the average velocities in an ideal gas - a mole is a big number).\n",
    "\n",
    "We will spend some time on the Gaussian distribution.\n",
    "- mean $x_0$\n",
    "- standard deviation $\\sigma$, variance $\\sigma^2$\n",
    "\n",
    "A normalized Gaussian distribution is then:\n",
    "\n",
    "$$\n",
    "p(x) =\\frac{1}{\\sqrt{2 \\pi \\sigma^{2}}} \\exp \\left[-\\frac{\\left(x-x_{0}\\right)^{2}}{2 \\sigma^{2}}\\right]\n",
    "$$\n",
    "\n",
    "If the mean $x_0 = 0$, what fraction of data will fall:\n",
    "- within $\\pm 0.5\\sigma$\n",
    "- within one standard deviation\n",
    "- within $\\pm 1.5 \\sigma$\n",
    "- within $\\pm 2.0 \\sigma$\n",
    "\n",
    "(In other words, change the limits of integration on the probability function.)"
   ]
  },
  {
   "cell_type": "code",
   "execution_count": null,
   "metadata": {
    "deletable": false,
    "nbgrader": {
     "cell_type": "code",
     "checksum": "dff508f69e63137c3ce1b893134cf577",
     "grade": true,
     "grade_id": "gaussian",
     "locked": false,
     "points": 5,
     "schema_version": 3,
     "solution": true,
     "task": false
    }
   },
   "outputs": [],
   "source": [
    "sigma = symbols('sigma')\n",
    "\n",
    "p = (1/sqrt(2*pi*sigma**2))*exp((-x**2)/(2*sigma**2))\n",
    "simplify(integrate(p, (x, -0.5*sigma, +0.5*sigma)))"
   ]
  },
  {
   "cell_type": "markdown",
   "metadata": {
    "deletable": false,
    "nbgrader": {
     "cell_type": "markdown",
     "checksum": "92fc10fd8d9e2560ee450b639a2f3147",
     "grade": true,
     "grade_id": "concept-gauss",
     "locked": false,
     "points": 2,
     "schema_version": 3,
     "solution": true,
     "task": false
    }
   },
   "source": [
    "### If we want to include \"error bars\" with 95% confidence, what intervals do we use?\n",
    "\n",
    "YOUR ANSWER HERE\n",
    "\n",
    "What about 99% confidence intervals?"
   ]
  }
 ],
 "metadata": {
  "kernelspec": {
   "display_name": "Python 3",
   "language": "python",
   "name": "python3"
  },
  "language_info": {
   "codemirror_mode": {
    "name": "ipython",
    "version": 3
   },
   "file_extension": ".py",
   "mimetype": "text/x-python",
   "name": "python",
   "nbconvert_exporter": "python",
   "pygments_lexer": "ipython3",
   "version": "3.6.11"
  },
  "toc": {
   "base_numbering": 1,
   "nav_menu": {},
   "number_sections": false,
   "sideBar": false,
   "skip_h1_title": false,
   "title_cell": "Table of Contents",
   "title_sidebar": "Contents",
   "toc_cell": false,
   "toc_position": {},
   "toc_section_display": false,
   "toc_window_display": false
  }
 },
 "nbformat": 4,
 "nbformat_minor": 1
}
