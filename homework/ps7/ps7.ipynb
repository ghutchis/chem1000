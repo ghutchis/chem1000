{
 "cells": [
  {
   "cell_type": "markdown",
   "metadata": {
    "deletable": false,
    "editable": false,
    "nbgrader": {
     "cell_type": "markdown",
     "checksum": "3e93f10aac87a360b1f18351caad585e",
     "grade": false,
     "grade_id": "prefix",
     "locked": true,
     "schema_version": 3,
     "solution": false
    }
   },
   "source": [
    "# CHEM 1000 - Spring 2022\n",
    "Prof. Geoffrey Hutchison, University of Pittsburgh\n",
    "\n",
    "## Graded Homework 7\n",
    "\n",
    "For this homework, we'll focus on:\n",
    "- categories for differential equations\n",
    "- first-order differential equations\n",
    "---\n",
    "\n",
    "As a reminder, you do not need to use Python to solve the problems. If you want, you can use other methods, just put your answers in the appropriate places.\n",
    "\n",
    "To turn in, either download as Notebook (.ipynb) or Print to PDF and upload to Gradescope.\n",
    "\n",
    "Make sure you fill in any place that says YOUR CODE HERE or \"YOUR ANSWER HERE\", as well as your name and collaborators (i.e., anyone you discussed this with) below:"
   ]
  },
  {
   "cell_type": "code",
   "execution_count": null,
   "metadata": {},
   "outputs": [],
   "source": [
    "NAME = \"\"\n",
    "COLLABORATORS = \"\""
   ]
  },
  {
   "cell_type": "markdown",
   "metadata": {
    "deletable": false,
    "editable": false,
    "nbgrader": {
     "cell_type": "markdown",
     "checksum": "aacc122d3c38faff6ff8104d52e8756d",
     "grade": false,
     "grade_id": "spherical-z2",
     "locked": true,
     "schema_version": 3,
     "solution": false,
     "task": false
    }
   },
   "source": [
    "### Categories of Differential Equations\n",
    "\n",
    "Knowing the type of a differential equation gives insight into the techniques to solve it.\n",
    "\n",
    "- Type (ordinary vs. partial) .. look at the type of derivative (e.g., does it use partial derivatives)\n",
    "- Order .. look at the highest derivative (second, third, first, etc.)\n",
    "- Linear vs. Nonlinear - the terms that involve 'y' or the function, do they only include derivatives and the function itself, or are there terms with '$y^2$' or other non-linear terms?\n",
    "- Homogeneous vs. Non-homogeneous - a homogeneous diff. eq. can be separated with terms involving 'x' on one side, and terms involving the function (e.g., y, u, etc.) on the other side.\n",
    "\n",
    "Categorize the following functions by assigning a string\n",
    "\n",
    "One:\n",
    "$$\n",
    "\\frac{dy}{dx} + 3y = 0\n",
    "$$\n",
    "\n",
    "Two:\n",
    "$$\n",
    "\\frac{d^{2} y(x)}{d x^{2}}+2 \\frac{d y(x)}{d x}+4 y(x)=0\n",
    "$$\n",
    "\n",
    "Three:\n",
    "$$\n",
    "L \\frac{d^{2} u}{d x^{2}}+g \\sin u=0\n",
    "$$\n",
    "\n",
    "Four:\n",
    "$$\n",
    "\\frac{\\partial^{2} u}{\\partial x^{2}}+\\frac{\\partial^{2} u}{\\partial y^{2}}=0\n",
    "$$\n",
    "\n",
    "Five (the classical heat equation):\n",
    "$$\n",
    "\\frac{\\partial u(x, t)}{\\partial t}=\\kappa \\frac{\\partial^{2} u(x, t)}{\\partial x^{2}}\n",
    "$$"
   ]
  },
  {
   "cell_type": "code",
   "execution_count": null,
   "metadata": {
    "deletable": false,
    "nbgrader": {
     "cell_type": "code",
     "checksum": "d02b271e24bd31e1b6b7924707f5f43b",
     "grade": false,
     "grade_id": "categories-answer",
     "locked": false,
     "schema_version": 3,
     "solution": true,
     "task": false
    }
   },
   "outputs": [],
   "source": [
    "# YOUR CODE HERE\n",
    "categories_one = 'linear homogeneous first order ordinary differential equation'\n",
    "categories_two = '.. differential equation'\n",
    "categories_three = '.. differential equation'\n",
    "categories_four = '.. differential equation'\n",
    "categories_five = '.. differential equation'"
   ]
  },
  {
   "cell_type": "code",
   "execution_count": null,
   "metadata": {
    "deletable": false,
    "editable": false,
    "nbgrader": {
     "cell_type": "code",
     "checksum": "4fecfca72423ff6583e60750610b1871",
     "grade": true,
     "grade_id": "categories-validation",
     "locked": true,
     "points": 7,
     "schema_version": 3,
     "solution": false,
     "task": false
    }
   },
   "outputs": [],
   "source": [
    "# these should NOT be in the answer\n",
    "assert('nonlinear' not in categories_one)\n",
    "assert('non-homogeneous' not in categories_one)\n",
    "assert('second' not in categories_one)\n",
    "assert('partial' not in categories_one)\n",
    "# these should be in the answer\n",
    "assert('linear' in categories_one)\n",
    "assert('homogeneous' in categories_one)\n",
    "assert('first' in categories_one)\n",
    "assert('ordinary' in categories_one)\n",
    "assert('differential' in categories_one)\n",
    "\n",
    "# more (hidden) tests for two through five\n"
   ]
  },
  {
   "cell_type": "markdown",
   "metadata": {},
   "source": [
    "### Solving Differential Equations\n",
    "\n",
    "We'll go through two examples a homogeneous first-order equation and then a non-homogeneous equation:\n",
    "\n",
    "Solve:\n",
    "$$\n",
    "\\frac{dy}{dx} + 3y = 0\n",
    "$$"
   ]
  },
  {
   "cell_type": "code",
   "execution_count": null,
   "metadata": {
    "deletable": false,
    "nbgrader": {
     "cell_type": "code",
     "checksum": "c400ad6a6c132076d30ad13ba91a5441",
     "grade": true,
     "grade_id": "cell-homogeneous",
     "locked": false,
     "points": 5,
     "schema_version": 3,
     "solution": true,
     "task": false
    }
   },
   "outputs": [],
   "source": [
    "# YOUR ANSWER HERE\n"
   ]
  },
  {
   "cell_type": "markdown",
   "metadata": {},
   "source": [
    "Show that your solution works by plugging it back into the differential equation and showing that it equals zero."
   ]
  },
  {
   "cell_type": "code",
   "execution_count": null,
   "metadata": {
    "deletable": false,
    "nbgrader": {
     "cell_type": "code",
     "checksum": "ac0274b6785c3e127867eb5a12e1efc8",
     "grade": true,
     "grade_id": "cell-validate",
     "locked": false,
     "points": 1,
     "schema_version": 3,
     "solution": true,
     "task": false
    }
   },
   "outputs": [],
   "source": [
    "# YOUR ANSWER HERE\n"
   ]
  },
  {
   "cell_type": "markdown",
   "metadata": {},
   "source": [
    "Solve the following first-order linear non-homogenous ordinary differential equation:\n",
    "\n",
    "$$\n",
    "\\frac{d y(x)}{d x}+\\frac{2}{x} y(x)=x^{2}+2\n",
    "$$"
   ]
  },
  {
   "cell_type": "code",
   "execution_count": null,
   "metadata": {
    "deletable": false,
    "nbgrader": {
     "cell_type": "code",
     "checksum": "c0dc016fb500fe7d3a3972f19a6bcf10",
     "grade": true,
     "grade_id": "cell-non-homogeneous",
     "locked": false,
     "points": 5,
     "schema_version": 3,
     "solution": true,
     "task": false
    }
   },
   "outputs": [],
   "source": [
    "# YOUR ANSWER HERE\n"
   ]
  },
  {
   "cell_type": "markdown",
   "metadata": {},
   "source": [
    "Show that your solution works by plugging it back into the differential equation"
   ]
  },
  {
   "cell_type": "code",
   "execution_count": null,
   "metadata": {
    "deletable": false,
    "nbgrader": {
     "cell_type": "code",
     "checksum": "c4cd6bf780f7358152d8596bb953f908",
     "grade": true,
     "grade_id": "validation-two",
     "locked": false,
     "points": 2,
     "schema_version": 3,
     "solution": true,
     "task": false
    }
   },
   "outputs": [],
   "source": [
    "# YOUR ANSWER HERE\n"
   ]
  }
 ],
 "metadata": {
  "kernelspec": {
   "display_name": "Python 3",
   "language": "python",
   "name": "python3"
  },
  "language_info": {
   "codemirror_mode": {
    "name": "ipython",
    "version": 3
   },
   "file_extension": ".py",
   "mimetype": "text/x-python",
   "name": "python",
   "nbconvert_exporter": "python",
   "pygments_lexer": "ipython3",
   "version": "3.6.11"
  },
  "toc": {
   "base_numbering": 1,
   "nav_menu": {},
   "number_sections": false,
   "sideBar": false,
   "skip_h1_title": false,
   "title_cell": "Table of Contents",
   "title_sidebar": "Contents",
   "toc_cell": false,
   "toc_position": {},
   "toc_section_display": false,
   "toc_window_display": false
  }
 },
 "nbformat": 4,
 "nbformat_minor": 1
}
