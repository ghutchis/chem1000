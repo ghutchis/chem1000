{
 "cells": [
  {
   "cell_type": "markdown",
   "metadata": {
    "deletable": false,
    "editable": false,
    "nbgrader": {
     "cell_type": "markdown",
     "checksum": "1a260f58a56fcd759976166edf25eb5d",
     "grade": false,
     "grade_id": "prefix",
     "locked": true,
     "schema_version": 3,
     "solution": false
    }
   },
   "source": [
    "# CHEM 1000 - Spring 2025\n",
    "Prof. Geoffrey Hutchison, University of Pittsburgh\n",
    "\n",
    "## Graded Homework 8\n",
    "\n",
    "For this homework, we'll focus on:\n",
    "- second-order differential equations\n",
    "- using power series for diff. eq.\n",
    "---\n",
    "\n",
    "As a reminder, you do not need to use Python to solve the problems. If you want, you can use other methods, just put your answers in the appropriate places.\n",
    "\n",
    "To turn in, either download as Notebook (.ipynb) or Print to PDF and upload to Gradescope.\n",
    "\n",
    "Make sure you fill in any place that says YOUR CODE HERE or \"YOUR ANSWER HERE\", as well as your name and collaborators (i.e., anyone you discussed this with) below:"
   ]
  },
  {
   "cell_type": "code",
   "execution_count": null,
   "metadata": {},
   "outputs": [],
   "source": [
    "NAME = \"\"\n",
    "COLLABORATORS = \"\""
   ]
  },
  {
   "cell_type": "markdown",
   "metadata": {
    "deletable": false,
    "editable": false,
    "nbgrader": {
     "cell_type": "markdown",
     "checksum": "4475cffc66bedfea79a2f7638afa8671",
     "grade": false,
     "grade_id": "spherical-z2",
     "locked": true,
     "schema_version": 3,
     "solution": false,
     "task": false
    }
   },
   "source": [
    "### Differential Equations for Motion\n",
    "\n",
    "Consider a falling object of mass 'm'. Gravity acts as a force ($F = ma$ where $a = -9.807 ms^{-2}$) but there's also friction due to air resistance.\n",
    "\n",
    "Assume the height of the object $z(t)$ obeys:\n",
    "\n",
    "$$\n",
    "m \\frac{d^{2} z(t)}{d t^{2}}=-\\gamma \\frac{d z(t)}{d t}+m g\n",
    "$$\n",
    "\n",
    "If we rewrite this equation in terms of velocity (e.g., $v(t) = \\frac{dz(t)}{dt}$) it becomes:\n",
    "\n",
    "$$\n",
    "\\frac{d v(t)}{d t}+\\frac{\\gamma}{m} v(t)=g\n",
    "$$\n",
    "\n",
    "Assume the initial velocity is zero: $v(0) = 0$. Solve the differential equation."
   ]
  },
  {
   "cell_type": "code",
   "execution_count": null,
   "metadata": {
    "deletable": false,
    "nbgrader": {
     "cell_type": "code",
     "checksum": "45c4ff4b4286566e7cb315b5350fbd5a",
     "grade": true,
     "grade_id": "velocity-diffeq",
     "locked": false,
     "points": 5,
     "schema_version": 3,
     "solution": true,
     "task": false
    }
   },
   "outputs": [],
   "source": [
    "# YOUR ANSWER HERE\n",
    "v = "
   ]
  },
  {
   "cell_type": "markdown",
   "metadata": {},
   "source": [
    "Please plot your solution for v(t):"
   ]
  },
  {
   "cell_type": "code",
   "execution_count": null,
   "metadata": {
    "deletable": false,
    "editable": false,
    "nbgrader": {
     "cell_type": "code",
     "checksum": "33b0c9f9f0f43f9f868f45f25f2314f5",
     "grade": false,
     "grade_id": "matplotlib",
     "locked": true,
     "schema_version": 3,
     "solution": false,
     "task": false
    }
   },
   "outputs": [],
   "source": [
    "# Let's plot it!\n",
    "import numpy as np\n",
    "import matplotlib.pyplot as plt\n",
    "%matplotlib inline\n",
    "%config InlineBackend.figure_format = 'retina'\n",
    "plt.style.use('./chem1000.mplstyle')"
   ]
  },
  {
   "cell_type": "code",
   "execution_count": null,
   "metadata": {
    "deletable": false,
    "nbgrader": {
     "cell_type": "code",
     "checksum": "5a4b2811040c926901a1cb2d6d658c23",
     "grade": true,
     "grade_id": "velocity-plot",
     "locked": false,
     "points": 2,
     "schema_version": 3,
     "solution": true,
     "task": false
    }
   },
   "outputs": [],
   "source": [
    "# YOUR ANSWER HERE\n",
    "t = np.arange(0, FIX_ME, 0.1)\n",
    "v = FIX_ME_TOO\n",
    "\n",
    "plt.plot(t, v)\n",
    "plt.show()"
   ]
  },
  {
   "cell_type": "markdown",
   "metadata": {},
   "source": [
    "### Second Order with Constant Coefficients\n",
    "\n",
    "Solve:\n",
    "\n",
    "$$\n",
    "\\frac{d^{2} y(x)}{d x^{2}}+8 \\frac{d y(x)}{d x}+4 y(x)=0\n",
    "$$"
   ]
  },
  {
   "cell_type": "code",
   "execution_count": null,
   "metadata": {
    "deletable": false,
    "nbgrader": {
     "cell_type": "code",
     "checksum": "7c87eecebf02d6f8b3e0d00b4429ac60",
     "grade": true,
     "grade_id": "constant-coefficients",
     "locked": false,
     "points": 5,
     "schema_version": 3,
     "solution": true,
     "task": false
    }
   },
   "outputs": [],
   "source": [
    "# YOUR ANSWER HERE\n",
    "# HINT USE AUXILIARY EQUATION\n",
    "alpha = \n",
    "y = "
   ]
  },
  {
   "cell_type": "code",
   "execution_count": null,
   "metadata": {},
   "outputs": [],
   "source": [
    "Plot your solution:"
   ]
  },
  {
   "cell_type": "code",
   "execution_count": null,
   "metadata": {
    "deletable": false,
    "nbgrader": {
     "cell_type": "code",
     "checksum": "0341e583a5cfe559215e64d4ff7e0f3c",
     "grade": true,
     "grade_id": "plot2",
     "locked": false,
     "points": 2,
     "schema_version": 3,
     "solution": true,
     "task": false
    }
   },
   "outputs": [],
   "source": [
    "# YOUR ANSWER HERE\n",
    "x = np.arange(0, FIX_ME, 0.1)\n",
    "y = FIX_ME_TOO # you'll have to write the formula so it gets evaluated on the numpy array for 'x'\n",
    "\n",
    "plt.plot(x, y)\n",
    "plt.show()"
   ]
  },
  {
   "cell_type": "markdown",
   "metadata": {},
   "source": [
    "### Solving with Power Series\n",
    "\n",
    "Consider the following 2nd order differential equation:\n",
    "\n",
    "$$\n",
    "\\left(x^{2}+1\\right) \\frac{d^{2}}{d x^{2}} y(x)-4 x \\frac{d}{d x} y(x)+6 y(x)=0\n",
    "$$\n",
    "\n",
    "Solve for $y(x)$ given the boundary conditions $y(0) = 1$ and $y\\prime(0) = 2$\n",
    "\n",
    "**HINT: Use a power series solution and derive the recursion relationship for the coefficients**"
   ]
  },
  {
   "cell_type": "code",
   "execution_count": null,
   "metadata": {
    "deletable": false,
    "nbgrader": {
     "cell_type": "code",
     "checksum": "2dd4bc8608fdfc21052f3cec6e5f8c8f",
     "grade": true,
     "grade_id": "recursion",
     "locked": false,
     "points": 6,
     "schema_version": 3,
     "solution": true,
     "task": false
    }
   },
   "outputs": [],
   "source": [
    "# YOUR ANSWER HERE\n",
    "a_n_plus_X = SOMETHING"
   ]
  }
 ],
 "metadata": {
  "kernelspec": {
   "display_name": "Python 3 (ipykernel)",
   "language": "python",
   "name": "python3"
  },
  "language_info": {
   "codemirror_mode": {
    "name": "ipython",
    "version": 3
   },
   "file_extension": ".py",
   "mimetype": "text/x-python",
   "name": "python",
   "nbconvert_exporter": "python",
   "pygments_lexer": "ipython3",
   "version": "3.10.12"
  },
  "toc": {
   "base_numbering": 1,
   "nav_menu": {},
   "number_sections": false,
   "sideBar": false,
   "skip_h1_title": false,
   "title_cell": "Table of Contents",
   "title_sidebar": "Contents",
   "toc_cell": false,
   "toc_position": {},
   "toc_section_display": false,
   "toc_window_display": false
  }
 },
 "nbformat": 4,
 "nbformat_minor": 4
}
