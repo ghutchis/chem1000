{
 "cells": [
  {
   "cell_type": "markdown",
   "metadata": {
    "deletable": false,
    "editable": false,
    "nbgrader": {
     "cell_type": "markdown",
     "checksum": "4defd7bcd1df27da0a9d82f6ffa5bae5",
     "grade": false,
     "grade_id": "jupyter",
     "locked": true,
     "schema_version": 3,
     "solution": false
    }
   },
   "source": [
    "# CHEM 1000 - Spring 2022\n",
    "Prof. Geoffrey Hutchison, University of Pittsburgh\n",
    "\n",
    "## Graded Homework 2\n",
    "\n",
    "For this homework, we'll focus on:\n",
    "- polar / spherical coordinates\n",
    "- complex numbers\n",
    "- Stirling's approximation\n",
    "- derivatives\n",
    "---\n",
    "\n",
    "As a reminder, you do not need to use Python to solve the problems. If you want, you can use other methods, just put your answers in the appropriate places.\n",
    "\n",
    "To turn in, either download as Notebook (.ipynb) or Print to PDF and upload to Gradescope.\n",
    "\n",
    "Make sure you fill in any place that says YOUR CODE HERE or \"YOUR ANSWER HERE\", as well as your name and collaborators (i.e., anyone you discussed this with) below:"
   ]
  },
  {
   "cell_type": "code",
   "execution_count": null,
   "metadata": {},
   "outputs": [],
   "source": [
    "NAME = \"\"\n",
    "COLLABORATORS = \"\""
   ]
  },
  {
   "cell_type": "markdown",
   "metadata": {
    "deletable": false,
    "editable": false,
    "nbgrader": {
     "cell_type": "markdown",
     "checksum": "9129cb6a6e99bb73e1d17c9658dfae5a",
     "grade": false,
     "grade_id": "polar-intro",
     "locked": true,
     "schema_version": 3,
     "solution": false,
     "task": false
    }
   },
   "source": [
    "### Polar 2D Coordinates (4 points)\n",
    "\n",
    "As a reminder, we sometimes need to convert between x, y, Cartesian 2D coordinates and polar r, $\\theta$ coordinates.\n",
    "\n",
    "Please interconvert the following x, y coordinates and r, $\\theta$ coordinates:"
   ]
  },
  {
   "cell_type": "code",
   "execution_count": null,
   "metadata": {
    "deletable": false,
    "nbgrader": {
     "cell_type": "code",
     "checksum": "706f83b21d723a45c0d984cd7e57e807",
     "grade": true,
     "grade_id": "michaelis-menten-plot",
     "locked": false,
     "points": 2,
     "schema_version": 3,
     "solution": true,
     "task": false
    }
   },
   "outputs": [],
   "source": [
    "# YOUR ANSWERS HERE\n",
    "import numpy as np\n",
    "\n",
    "x1 = 2\n",
    "y1 = 10\n",
    "r1 = \n",
    "theta1 = \n",
    "print(r1, theta1)\n",
    "\n",
    "x2 = -2\n",
    "y2 = -5\n",
    "r2 = \n",
    "theta2 = \n",
    "print(r2, theta2)\n",
    "\n",
    "r3 = 1.0\n",
    "theta3 = 0.52\n",
    "x3 = \n",
    "y3 = \n",
    "print(x3, y3)\n",
    "\n",
    "r4 = 5.0\n",
    "theta = 5.87\n",
    "x4 = \n",
    "y4 = \n",
    "print(x4, y4)"
   ]
  },
  {
   "cell_type": "markdown",
   "metadata": {
    "deletable": false,
    "nbgrader": {
     "cell_type": "markdown",
     "checksum": "8722f1f6951ef73d6f37f5753da15918",
     "grade": true,
     "grade_id": "conceptual",
     "locked": false,
     "points": 2,
     "schema_version": 3,
     "solution": true,
     "task": false
    }
   },
   "source": [
    "**Concept**: What are the ranges of possible r and theta values?\n",
    "\n",
    "YOUR ANSWER HERE:\n",
    "\n",
    "R:\n",
    "\n",
    "Theta: "
   ]
  },
  {
   "cell_type": "markdown",
   "metadata": {},
   "source": [
    "\n",
    "## Spherical Coordinates 4 points):\n",
    "\n",
    "Much like in 2D XY coordinates, we sometimes need to interconvert 3D cartesian and spherical coordinates in chemistry.\n",
    "\n",
    "Please interconvert XYZ to r, $\\theta$, $\\varphi$ or vice-versa"
   ]
  },
  {
   "cell_type": "code",
   "execution_count": null,
   "metadata": {
    "deletable": false,
    "nbgrader": {
     "cell_type": "code",
     "checksum": "b1552c185d0f9de9350cfaf18f0e8f2e",
     "grade": true,
     "grade_id": "spherical-xyz",
     "locked": false,
     "points": 2,
     "schema_version": 3,
     "solution": true,
     "task": false
    }
   },
   "outputs": [],
   "source": [
    "# YOUR ANSWER HERE\n",
    "x = 1.0\n",
    "y = 2.0\n",
    "z = 3.0\n",
    "r = \n",
    "theta = \n",
    "phi = \n",
    "print(r, theta, phi)\n",
    "\n",
    "r2 = 1.0\n",
    "theta2 = 2.5 # radians\n",
    "phi2 = -1.0 # radians\n",
    "x2 =\n",
    "y2 = \n",
    "z2 =\n",
    "print(x2, y2, z2)"
   ]
  },
  {
   "cell_type": "markdown",
   "metadata": {
    "deletable": false,
    "nbgrader": {
     "cell_type": "markdown",
     "checksum": "3d5508b47ed0d75ac8c5e0876060aa25",
     "grade": true,
     "grade_id": "spherical-range",
     "locked": false,
     "points": 2,
     "schema_version": 3,
     "solution": true,
     "task": false
    }
   },
   "source": [
    "\n",
    "**Concept**: What are the ranges of possible r, theta, and phi values?\n",
    "\n",
    "YOUR ANSWER HERE:\n",
    "\n",
    "R:\n",
    "\n",
    "Theta: \n",
    "\n",
    "Phi:"
   ]
  },
  {
   "cell_type": "markdown",
   "metadata": {
    "deletable": false,
    "editable": false,
    "nbgrader": {
     "cell_type": "markdown",
     "checksum": "6d90f25bd613a4f7de8d11f1be3d20ac",
     "grade": false,
     "grade_id": "complex-intro",
     "locked": true,
     "schema_version": 3,
     "solution": false,
     "task": false
    }
   },
   "source": [
    "## Complex Numbers (4 points)\n",
    "\n",
    "Please indicate the complex conjugate and the magnitude of each of the following numbers:\n",
    "\n",
    "(Remember that 'j' in Python is 'i' .. the imaginary part)"
   ]
  },
  {
   "cell_type": "code",
   "execution_count": null,
   "metadata": {
    "deletable": false,
    "nbgrader": {
     "cell_type": "code",
     "checksum": "48745584e26a80075bab923ac4d8c44c",
     "grade": true,
     "grade_id": "complex-conjugates",
     "locked": false,
     "points": 2,
     "schema_version": 3,
     "solution": true,
     "task": false
    }
   },
   "outputs": [],
   "source": [
    "# YOUR ANSWER HERE\n",
    "\n",
    "c1 = 1.5 + 0.0j\n",
    "c1_conjugate =\n",
    "c1_magnitude = \n",
    "\n",
    "c2 = -2.0 - 3.0j\n",
    "c2_conjugate = \n",
    "c2_magnitude ="
   ]
  },
  {
   "cell_type": "markdown",
   "metadata": {
    "deletable": false,
    "nbgrader": {
     "cell_type": "markdown",
     "checksum": "b4b63d0143e2503733764c1e6ae23936",
     "grade": true,
     "grade_id": "complex-explain",
     "locked": false,
     "points": 2,
     "schema_version": 3,
     "solution": true,
     "task": false
    }
   },
   "source": [
    "**Concept:** If z is complex, and z* is the complex conjugate of z, is the quantity $z \\times z^*$ always a real number or not? Explain.\n",
    "\n",
    "YOUR ANSWER HERE:"
   ]
  },
  {
   "cell_type": "markdown",
   "metadata": {
    "deletable": false,
    "editable": false,
    "nbgrader": {
     "cell_type": "markdown",
     "checksum": "19667e75da687b47e192f6baf8bfcd1a",
     "grade": false,
     "grade_id": "part-d-text",
     "locked": true,
     "schema_version": 3,
     "solution": false,
     "task": false
    }
   },
   "source": [
    "### Stirling's Approximation\n",
    "\n",
    "As noted in lecture, we often need log N! to evaluate the entropy of a chemical system.\n",
    "\n",
    "Please calculate N! and log N! for N = 1 .. up to 20:\n",
    "- The exact value\n",
    "- Stirling's approximation (either one)\n",
    "\n",
    "You don't need to use Python, but some example code is included below"
   ]
  },
  {
   "cell_type": "code",
   "execution_count": null,
   "metadata": {
    "deletable": false,
    "nbgrader": {
     "cell_type": "code",
     "checksum": "a6c514665fb1f63f12aab6dfc9cba94d",
     "grade": true,
     "grade_id": "stirling",
     "locked": false,
     "points": 2,
     "schema_version": 3,
     "solution": true,
     "task": false
    }
   },
   "outputs": [],
   "source": [
    "import numpy as np\n",
    "\n",
    "n_factorial = 1\n",
    "for n in range(1, 21): # remember that range will go up to 21 but not include it\n",
    "    n_factorial = n_factorial * n\n",
    "    log_exact = round(np.log(n_factorial), 3)\n",
    "    # FIX THIS LINE\n",
    "    stirling = 1 # fix this line\n",
    "    print(n, n_factorial, log_exact, stirling)"
   ]
  },
  {
   "cell_type": "markdown",
   "metadata": {
    "deletable": false,
    "nbgrader": {
     "cell_type": "markdown",
     "checksum": "4f5540a3d23fa42f014f8067cc2f817d",
     "grade": true,
     "grade_id": "stirling-concept",
     "locked": false,
     "points": 2,
     "schema_version": 3,
     "solution": true,
     "task": false
    }
   },
   "source": [
    "**Concept** How big is the error between the exact log(N!) and Stirling's approximation? Is it bigger or smaller as N gets large?\n",
    "\n",
    "Explain:\n",
    "YOUR ANSWER HERE"
   ]
  },
  {
   "cell_type": "markdown",
   "metadata": {
    "deletable": false,
    "editable": false,
    "nbgrader": {
     "cell_type": "markdown",
     "checksum": "c5c2605a06be640147c5379361c43d26",
     "grade": false,
     "grade_id": "part-e-intro",
     "locked": true,
     "schema_version": 3,
     "solution": false,
     "task": false
    }
   },
   "source": [
    "### Derivatives\n",
    "\n",
    "You may evaluate these however you wish - sympy, Wolfram Alpha, pencil and paper, etc.\n",
    "\n",
    "$$\n",
    "\\frac{d}{dn} \\left[ N \\ln N-n \\ln n \\right]\n",
    "$$\n",
    "\n",
    "$$\n",
    "\\frac{d^2}{dx^2} \\left[ x^{2} \\cos (x) \\right]\n",
    "$$\n",
    "\n",
    "$$\n",
    "\\frac{d^2}{dx^2} \\left[ (2+x) e^{-x^{2}} \\right]\n",
    "$$\n",
    "\n",
    "$$\n",
    "\\partial p / \\partial V; \\left(p+\\frac{n^{2} a}{V^{2}}\\right)(V-n b)=n R T\n",
    "$$"
   ]
  },
  {
   "cell_type": "code",
   "execution_count": null,
   "metadata": {
    "deletable": false,
    "nbgrader": {
     "cell_type": "code",
     "checksum": "c9fae53a0898505c39910d2cc462d234",
     "grade": true,
     "grade_id": "derivatives",
     "locked": false,
     "points": 4,
     "schema_version": 3,
     "solution": true,
     "task": false
    }
   },
   "outputs": [],
   "source": [
    "# YOUR ANSWER HERE:\n",
    "one = \n",
    "two =\n",
    "three =\n",
    "four = "
   ]
  }
 ],
 "metadata": {
  "kernelspec": {
   "display_name": "Python 3",
   "language": "python",
   "name": "python3"
  },
  "language_info": {
   "codemirror_mode": {
    "name": "ipython",
    "version": 3
   },
   "file_extension": ".py",
   "mimetype": "text/x-python",
   "name": "python",
   "nbconvert_exporter": "python",
   "pygments_lexer": "ipython3",
   "version": "3.6.11"
  },
  "toc": {
   "base_numbering": 1,
   "nav_menu": {},
   "number_sections": false,
   "sideBar": false,
   "skip_h1_title": false,
   "title_cell": "Table of Contents",
   "title_sidebar": "Contents",
   "toc_cell": false,
   "toc_position": {},
   "toc_section_display": false,
   "toc_window_display": false
  }
 },
 "nbformat": 4,
 "nbformat_minor": 1
}
