{
 "cells": [
  {
   "cell_type": "markdown",
   "metadata": {
    "nbgrader": {
     "grade": false,
     "grade_id": "jupyter",
     "locked": true,
     "schema_version": 3,
     "solution": false
    }
   },
   "source": [
    "# CHEM 1000 - Spring 2024\n",
    "Prof. Geoffrey Hutchison, University of Pittsburgh\n",
    "\n",
    "## Graded Homework 2\n",
    "\n",
    "For this homework, we'll focus on:\n",
    "- complex numbers\n",
    "- Stirling's approximation\n",
    "- derivatives\n",
    "---\n",
    "\n",
    "As a reminder, you do not need to use Python to solve the problems. If you want, you can use other methods, just put your answers in the appropriate places.\n",
    "\n",
    "To turn in, either download as Notebook (.ipynb) or Print to PDF and upload to Gradescope.\n",
    "\n",
    "Make sure you fill in any place that says YOUR CODE HERE or \"YOUR ANSWER HERE\", as well as your name and collaborators (i.e., anyone you discussed this with) below:"
   ]
  },
  {
   "cell_type": "code",
   "execution_count": null,
   "metadata": {},
   "outputs": [],
   "source": [
    "NAME = \"\"\n",
    "COLLABORATORS = \"\""
   ]
  },
  {
   "cell_type": "markdown",
   "metadata": {
    "nbgrader": {
     "grade": false,
     "grade_id": "complex-intro",
     "locked": true,
     "schema_version": 3,
     "solution": false,
     "task": false
    }
   },
   "source": [
    "###### Complex Numbers (6 points)\n",
    "\n",
    "Please indicate the complex conjugate and the magnitude of each of the following numbers:\n",
    "\n",
    "(Remember that 'j' in Python is 'i' .. the imaginary part)"
   ]
  },
  {
   "cell_type": "code",
   "execution_count": null,
   "metadata": {
    "nbgrader": {
     "grade": true,
     "grade_id": "complex-conjugates",
     "locked": false,
     "points": 4,
     "schema_version": 3,
     "solution": true,
     "task": false
    }
   },
   "outputs": [],
   "source": [
    "c1 = 1.5 + 0.0j\n",
    "c1_conjugate =\n",
    "c1_magnitude = \n",
    "\n",
    "c2 = -2.0 - 3.0j\n",
    "c2_conjugate = \n",
    "c2_magnitude =\n",
    "\n",
    "c3 = 0.0 + 5.0j\n",
    "c3_conjugate = \n",
    "c3_magnitude ="
   ]
  },
  {
   "cell_type": "markdown",
   "metadata": {
    "nbgrader": {
     "grade": true,
     "grade_id": "complex-explain",
     "locked": false,
     "points": 4,
     "schema_version": 3,
     "solution": true,
     "task": false
    }
   },
   "source": [
    "**Concept:** If z is complex, and z* is the complex conjugate of z, is the quantity $z \\times z^*$ always a real number or not? Explain.\n",
    "\n",
    "YOUR ANSWER HERE:"
   ]
  },
  {
   "cell_type": "markdown",
   "metadata": {
    "nbgrader": {
     "grade": false,
     "grade_id": "part-d-text",
     "locked": true,
     "schema_version": 3,
     "solution": false,
     "task": false
    }
   },
   "source": [
    "### Stirling's Approximation\n",
    "\n",
    "As noted in lecture, we often need log N! to evaluate the entropy of a chemical system.\n",
    "\n",
    "Please calculate N! and log N! for N = 1 .. up to 20:\n",
    "- The exact value\n",
    "- Stirling's approximation (either one)\n",
    "\n",
    "You don't need to use Python, but some example code is included below"
   ]
  },
  {
   "cell_type": "code",
   "execution_count": null,
   "metadata": {
    "nbgrader": {
     "grade": true,
     "grade_id": "stirling",
     "locked": false,
     "points": 2,
     "schema_version": 3,
     "solution": true,
     "task": false
    }
   },
   "outputs": [],
   "source": [
    "import numpy as np\n",
    "\n",
    "n_factorial = 1\n",
    "for n in range(1, 21): # remember that range will go up to 21 but not include it\n",
    "    n_factorial = n_factorial * n\n",
    "    log_exact = round(np.log(n_factorial), 3)\n",
    "    # FIX THIS LINE\n",
    "    stirling = 1 # fix this line\n",
    "    print(n, n_factorial, log_exact, stirling)"
   ]
  },
  {
   "cell_type": "markdown",
   "metadata": {
    "nbgrader": {
     "grade": true,
     "grade_id": "stirling-concept",
     "locked": false,
     "points": 4,
     "schema_version": 3,
     "solution": true,
     "task": false
    }
   },
   "source": [
    "**Concept** How big is the error between the exact log(N!) and Stirling's approximation? Is it bigger or smaller as N gets large?\n",
    "\n",
    "Explain:\n",
    "YOUR ANSWER HERE"
   ]
  },
  {
   "cell_type": "markdown",
   "metadata": {
    "nbgrader": {
     "grade": false,
     "grade_id": "derivatives-intro",
     "locked": true,
     "schema_version": 3,
     "solution": false,
     "task": false
    }
   },
   "source": [
    "### Derivatives\n",
    "\n",
    "You may evaluate these however you wish - sympy, Wolfram Alpha, pencil and paper, etc.\n",
    "\n",
    "$$\n",
    "\\frac{d}{dn} \\left[ N \\ln N-n \\ln n \\right]\n",
    "$$\n",
    "\n",
    "$$\n",
    "\\frac{d^2}{dx^2} \\left[ x^{2} \\cos (x) \\right]\n",
    "$$\n",
    "\n",
    "$$\n",
    "\\frac{d^2}{dx^2} \\left[ (2+x) e^{-x^{2}} \\right]\n",
    "$$\n",
    "\n",
    "$$\n",
    "\\partial p / \\partial V; \\left(p+\\frac{n^{2} a}{V^{2}}\\right)(V-n b)=n R T\n",
    "$$\n",
    "\n",
    "$$\n",
    "\\partial f / \\partial x \\partial y; f(x, y)=\\frac{e^{2 y}}{2 x}\n",
    "$$"
   ]
  },
  {
   "cell_type": "code",
   "execution_count": null,
   "metadata": {
    "nbgrader": {
     "grade": true,
     "grade_id": "derivatives",
     "locked": false,
     "points": 6,
     "schema_version": 3,
     "solution": true,
     "task": false
    }
   },
   "outputs": [],
   "source": [
    "one = \n",
    "two =\n",
    "three =\n",
    "four = \n",
    "five = "
   ]
  }
 ],
 "metadata": {
  "celltoolbar": "Create Assignment",
  "kernelspec": {
   "display_name": "Python 3 (ipykernel)",
   "language": "python",
   "name": "python3"
  },
  "language_info": {
   "codemirror_mode": {
    "name": "ipython",
    "version": 3
   },
   "file_extension": ".py",
   "mimetype": "text/x-python",
   "name": "python",
   "nbconvert_exporter": "python",
   "pygments_lexer": "ipython3",
   "version": "3.9.7"
  },
  "toc": {
   "base_numbering": 1,
   "nav_menu": {},
   "number_sections": false,
   "sideBar": false,
   "skip_h1_title": false,
   "title_cell": "Table of Contents",
   "title_sidebar": "Contents",
   "toc_cell": false,
   "toc_position": {},
   "toc_section_display": false,
   "toc_window_display": false
  }
 },
 "nbformat": 4,
 "nbformat_minor": 4
}
