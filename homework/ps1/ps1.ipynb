{
 "cells": [
  {
   "cell_type": "markdown",
   "metadata": {
    "nbgrader": {
     "grade": false,
     "grade_id": "jupyter",
     "locked": true,
     "schema_version": 3,
     "solution": false
    }
   },
   "source": [
    "# CHEM 1000 - Spring 2024\n",
    "Prof. Geoffrey Hutchison, University of Pittsburgh\n",
    "\n",
    "## Graded Homework 1\n",
    "\n",
    "For this homework, we'll be using Jupyter notebooks for a few problems:\n",
    "- Plotting functions (this notebook)\n",
    "- Unit conversions\n",
    "- Significant figures\n",
    "---\n",
    "\n",
    "Before you turn this problem in, make sure everything runs as expected. First, restart the kernel (in the menubar, select Kernel → Restart & Run All) and then check to make sure you don't see any error messages (which will stop the \"Run All\" command.\n",
    "\n",
    "Make sure you fill in any place that says YOUR CODE HERE or \"YOUR ANSWER HERE\", as well as your name and collaborators (i.e., anyone you discussed this with) below:"
   ]
  },
  {
   "cell_type": "code",
   "execution_count": null,
   "metadata": {},
   "outputs": [],
   "source": [
    "NAME = \"\"\n",
    "COLLABORATORS = \"\""
   ]
  },
  {
   "cell_type": "code",
   "execution_count": null,
   "metadata": {
    "nbgrader": {
     "grade": false,
     "grade_id": "initialization",
     "locked": true,
     "schema_version": 3,
     "solution": false,
     "task": false
    }
   },
   "outputs": [],
   "source": [
    "# First, let's import some modules for plotting functions\n",
    "# import sympy and start a session\n",
    "from sympy import init_session\n",
    "init_session()\n",
    "\n",
    "# insert any graphs into our notebooks directly\n",
    "%matplotlib inline\n",
    "# high resolution plots\n",
    "%config InlineBackend.figure_format = 'retina'\n",
    "\n",
    "from sympy.plotting import plot"
   ]
  },
  {
   "cell_type": "markdown",
   "metadata": {
    "nbgrader": {
     "grade": false,
     "grade_id": "michaelis-menten-intro",
     "locked": true,
     "schema_version": 3,
     "solution": false,
     "task": false
    }
   },
   "source": [
    "### Part A (2 points)\n",
    "\n",
    "The [Michaelis-Menten](https://en.wikipedia.org/wiki/Michaelis%E2%80%93Menten_kinetics) equation models the kinetics of enzymatic reactions, e.g.\n",
    "    \n",
    "$$\n",
    "S \\rightarrow P\n",
    "$$\n",
    "\n",
    "$$\n",
    "v = \\frac{d[P]}{dt} = \\frac{V_{max} [S]}{K_m + [S]}\n",
    "$$\n",
    "\n",
    "where $v$ is the rate of the reaction, converting substrate S to product, $V_{max}$ is the maximum rate, and thhe constant $K_m$ is the substrate concentration at whhich the reaction rate is at half its maximum value.\n",
    "\n",
    "Plot $v$ as a function of $[S]$ with $K_m = 0.04 M$ and $V_{max} = 0.1 M/s$."
   ]
  },
  {
   "cell_type": "code",
   "execution_count": null,
   "metadata": {
    "nbgrader": {
     "grade": true,
     "grade_id": "michaelis-menten-plot",
     "locked": false,
     "points": 2,
     "schema_version": 3,
     "solution": true,
     "task": false
    },
    "scrolled": true
   },
   "outputs": [],
   "source": [
    "# use \"x\" as the variable instead of [S]\n",
    "\n",
    "## BEGIN SOLUTION\n",
    "\n",
    "## END SOLUTION\n",
    "\n",
    "plot(v, xlim=(0.0, 3.0), ylim=(0,0.5))"
   ]
  },
  {
   "cell_type": "markdown",
   "metadata": {},
   "source": [
    "## Part B (3 points)\n",
    "\n",
    "The [**sinc** function](https://en.wikipedia.org/wiki/Sinc_filter) is used frequently in audio and signal processing, particularly to remove high-frequency noise.\n",
    "\n",
    "$$\n",
    "\\mathrm{sinc} \\; x = \\frac{\\sin \\pi x}{\\pi x}\n",
    "$$\n",
    "\n",
    "Plot **sinc x** from -4.0 to 4.0:"
   ]
  },
  {
   "cell_type": "code",
   "execution_count": null,
   "metadata": {
    "nbgrader": {
     "grade": true,
     "grade_id": "sinc-plot",
     "locked": false,
     "points": 2,
     "schema_version": 3,
     "solution": true,
     "task": false
    }
   },
   "outputs": [],
   "source": [
    "## BEGIN SOLUTION\n",
    "\n",
    "## END SOLUTION"
   ]
  },
  {
   "cell_type": "markdown",
   "metadata": {
    "nbgrader": {
     "grade": true,
     "grade_id": "even-odd-sinc",
     "locked": false,
     "points": 2,
     "schema_version": 3,
     "solution": true,
     "task": false
    }
   },
   "source": [
    "**Concept** Is the $\\mathrm{sinc}$ function an even or odd function? Explain.\n",
    "\n",
    "YOUR ANSWER HERE:\n",
    "## BEGIN SOLUTION\n",
    "## END SOLUTION"
   ]
  },
  {
   "cell_type": "markdown",
   "metadata": {
    "nbgrader": {
     "grade": false,
     "grade_id": "cell-28b29d68ad1ea2f5",
     "locked": true,
     "schema_version": 3,
     "solution": false,
     "task": false
    }
   },
   "source": [
    "## Part C (3 points)\n",
    "\n",
    "Consider the function:\n",
    "\n",
    "$$f(x) = \\ln\\left(\\frac{1}{\\cos^2 x} \\right)$$\n",
    "\n",
    "Since this will be periodic, we'll need to plot across a wide range, say -20 to +20.\n",
    "\n",
    "Plot the function:"
   ]
  },
  {
   "cell_type": "code",
   "execution_count": null,
   "metadata": {
    "nbgrader": {
     "grade": true,
     "grade_id": "log-cos-plot",
     "locked": false,
     "points": 2,
     "schema_version": 3,
     "solution": true,
     "task": false
    }
   },
   "outputs": [],
   "source": [
    "## BEGIN SOLUTION\n",
    "\n",
    "## END SOLUTION"
   ]
  },
  {
   "cell_type": "markdown",
   "metadata": {
    "nbgrader": {
     "grade": true,
     "grade_id": "log-cos-explain",
     "locked": false,
     "points": 2,
     "schema_version": 3,
     "solution": true,
     "task": false
    }
   },
   "source": [
    "**Concept:** Explain what happens to the function at $x = \\pm \\pi$, $\\pm 2\\pi$, etc. \n",
    "\n",
    "YOUR ANSWER HERE:\n",
    "## BEGIN SOLUTION\n",
    "## END SOLUTION"
   ]
  },
  {
   "cell_type": "markdown",
   "metadata": {
    "nbgrader": {
     "grade": false,
     "grade_id": "part-d-text",
     "locked": true,
     "schema_version": 3,
     "solution": false,
     "task": false
    }
   },
   "source": [
    "### Part D: Significant Figures (3 points)\n",
    "\n",
    "I know, it's everyone's favorite 😆 topic... \n",
    "\n",
    "Make sure to print all three of the following calculations, with rounding to produce the right number of significant figures:"
   ]
  },
  {
   "cell_type": "code",
   "execution_count": null,
   "metadata": {
    "nbgrader": {
     "grade": true,
     "grade_id": "significant-figures",
     "locked": false,
     "points": 3,
     "schema_version": 3,
     "solution": true,
     "task": false
    }
   },
   "outputs": [],
   "source": [
    "from sigfig import round\n",
    "\n",
    "# add and subtract some numbers (e.g., masses)\n",
    "example_1 = 17.13+14.6751+3.123+7.654−8.123\n",
    "\n",
    "# find the volume of a box:\n",
    "# length is given as 7.78 m\n",
    "# width is given as 3.486 m\n",
    "# and whose height is 1.367 m\n",
    "volume = \n",
    "\n",
    "# find the pressure of a gas with PV = nRT\n",
    "# V is 0.200 m**3, \n",
    "# the temperature T is 298.15 K, \n",
    "# and the amount of gas n is 1.000 mol\n",
    "V = \n",
    "T = \n",
    "n = \n",
    "R = 8.31446261815324 # m**3 • Pa (pascals) / (mol•K)\n",
    "pressure = n * R * T / V # you can leave the pressure in Pa\n",
    "\n",
    "## BEGIN SOLUTION\n",
    "## END SOLUTION"
   ]
  },
  {
   "cell_type": "markdown",
   "metadata": {
    "nbgrader": {
     "grade": false,
     "grade_id": "polar-intro",
     "locked": true,
     "schema_version": 3,
     "solution": false,
     "task": false
    }
   },
   "source": [
    "### Polar 2D Coordinates (4 points)\n",
    "\n",
    "As a reminder, we sometimes need to convert between x, y, Cartesian 2D coordinates and polar r, $\\theta$ coordinates.\n",
    "\n",
    "Please interconvert the following x, y coordinates and r, $\\theta$ coordinates:"
   ]
  },
  {
   "cell_type": "code",
   "execution_count": null,
   "metadata": {
    "nbgrader": {
     "grade": true,
     "grade_id": "michaelis-menten-plot",
     "locked": false,
     "points": 2,
     "schema_version": 3,
     "solution": true,
     "task": false
    },
    "scrolled": true
   },
   "outputs": [],
   "source": [
    "x1 = 2\n",
    "y1 = 10\n",
    "r1 = \n",
    "theta1 = \n",
    "\n",
    "x2 = -2\n",
    "y2 = -5\n",
    "r2 = \n",
    "theta2 = \n",
    "\n",
    "r3 = 1.0\n",
    "theta3 = 0.52\n",
    "x3 = \n",
    "y3 = \n",
    "\n",
    "r4 = 5.0\n",
    "theta = 5.87\n",
    "x4 = \n",
    "y4 = "
   ]
  },
  {
   "cell_type": "markdown",
   "metadata": {
    "nbgrader": {
     "grade": true,
     "grade_id": "conceptual",
     "locked": false,
     "points": 2,
     "schema_version": 3,
     "solution": true,
     "task": false
    }
   },
   "source": [
    "**Concept**: What are the ranges of possible r and theta values?\n",
    "\n",
    "R:\n",
    "Theta: "
   ]
  },
  {
   "cell_type": "markdown",
   "metadata": {},
   "source": [
    "\n",
    "## Spherical Coordinates (5 Points)\n",
    "\n",
    "Much like in 2D XY coordinates, we sometimes need to interconvert 3D cartesian and spherical coordinates in chemistry.\n",
    "\n",
    "Please interconvert XYZ to r, $\\theta$, $\\varphi$ or vice-versa"
   ]
  },
  {
   "cell_type": "code",
   "execution_count": null,
   "metadata": {
    "nbgrader": {
     "grade": true,
     "grade_id": "spherical-xyz",
     "locked": false,
     "points": 2,
     "schema_version": 3,
     "solution": true,
     "task": false
    }
   },
   "outputs": [],
   "source": [
    "x = 1.0\n",
    "y = 2.0\n",
    "z = 3.0\n",
    "r = \n",
    "theta = \n",
    "phi = \n",
    "\n",
    "r2 = 1.0\n",
    "theta2 = 2.5 # radians\n",
    "phi2 = -1.0 # radians\n",
    "x2 =\n",
    "y2 = \n",
    "z2 ="
   ]
  },
  {
   "cell_type": "markdown",
   "metadata": {
    "nbgrader": {
     "grade": true,
     "grade_id": "spherical-range",
     "locked": false,
     "points": 2,
     "schema_version": 3,
     "solution": true,
     "task": false
    }
   },
   "source": [
    "**Concept**: What are the ranges of possible r, theta, and phi values?\n",
    "\n",
    "R:\n",
    "\n",
    "Theta: \n",
    "\n",
    "Phi:"
   ]
  }
 ],
 "metadata": {
  "celltoolbar": "Create Assignment",
  "kernelspec": {
   "display_name": "Python 3 (ipykernel)",
   "language": "python",
   "name": "python3"
  },
  "language_info": {
   "codemirror_mode": {
    "name": "ipython",
    "version": 3
   },
   "file_extension": ".py",
   "mimetype": "text/x-python",
   "name": "python",
   "nbconvert_exporter": "python",
   "pygments_lexer": "ipython3",
   "version": "3.9.7"
  },
  "toc": {
   "base_numbering": 1,
   "nav_menu": {},
   "number_sections": false,
   "sideBar": false,
   "skip_h1_title": false,
   "title_cell": "Table of Contents",
   "title_sidebar": "Contents",
   "toc_cell": false,
   "toc_position": {},
   "toc_section_display": false,
   "toc_window_display": false
  }
 },
 "nbformat": 4,
 "nbformat_minor": 4
}
