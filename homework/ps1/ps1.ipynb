{
 "cells": [
  {
   "cell_type": "markdown",
   "metadata": {
    "deletable": false,
    "editable": false,
    "nbgrader": {
     "cell_type": "markdown",
     "checksum": "3a2877836176f717003190cbaca8665e",
     "grade": false,
     "grade_id": "jupyter",
     "locked": true,
     "schema_version": 3,
     "solution": false
    }
   },
   "source": [
    "# CHEM 1000 - Fall 2020\n",
    "Prof. Geoffrey Hutchison, University of Pittsburgh\n",
    "\n",
    "## Graded Homework 1\n",
    "\n",
    "For this homework, we'll be using Jupyter notebooks for a few problems:\n",
    "- Plotting functions (this notebook)\n",
    "- Unit conversions\n",
    "- Significant figures\n",
    "---\n",
    "\n",
    "Before you turn this problem in, make sure everything runs as expected. First, restart the kernel (in the menubar, select Kernel → Restart & Run All) and then check to make sure you don't see any error messages (which will stop the \"Run All\" command.\n",
    "\n",
    "Make sure you fill in any place that says YOUR CODE HERE or \"YOUR ANSWER HERE\", as well as your name and collaborators (i.e., anyone you discussed this with) below:"
   ]
  },
  {
   "cell_type": "code",
   "execution_count": null,
   "metadata": {},
   "outputs": [],
   "source": [
    "NAME = \"\"\n",
    "COLLABORATORS = \"\""
   ]
  },
  {
   "cell_type": "code",
   "execution_count": null,
   "metadata": {
    "deletable": false,
    "editable": false,
    "nbgrader": {
     "cell_type": "code",
     "checksum": "03779914524084b2c6e468afbaea6ce2",
     "grade": false,
     "grade_id": "initialization",
     "locked": true,
     "schema_version": 3,
     "solution": false,
     "task": false
    }
   },
   "outputs": [],
   "source": [
    "# First, let's import some modules for plotting functions\n",
    "# import numpy\n",
    "# the \"as np\" part is giving a shortcut so we can write \"np.function()\" instead of \"numpy.function()\"\n",
    "# (saving typing is nice)\n",
    "import numpy as np\n",
    "# similarly, we import matplotlib's 'pyplot' module\n",
    "# and \"as plt\" means we can use \"plt.show\" instead of \"matplotlib.pyplot.show()\"\n",
    "import matplotlib.pyplot as plt\n",
    "\n",
    "# insert any graphs into our notebooks directly\n",
    "%matplotlib inline\n",
    "# high resolution plots\n",
    "%config InlineBackend.figure_format = 'retina'\n",
    "\n",
    "# set the style, including larger font size\n",
    "plt.style.use('seaborn-whitegrid')\n",
    "# these set the font size for the X and Y axes numbers\n",
    "plt.rcParams['xtick.labelsize'] = 14\n",
    "plt.rcParams['ytick.labelsize'] = 14"
   ]
  },
  {
   "cell_type": "markdown",
   "metadata": {
    "deletable": false,
    "editable": false,
    "nbgrader": {
     "cell_type": "markdown",
     "checksum": "9c5e3b7b9ab4f73572c33b49ed43c9ab",
     "grade": false,
     "grade_id": "michaelis-menten-intro",
     "locked": true,
     "schema_version": 3,
     "solution": false,
     "task": false
    }
   },
   "source": [
    "### Part A (2 points)\n",
    "\n",
    "The [Michaelis-Menten](https://en.wikipedia.org/wiki/Michaelis%E2%80%93Menten_kinetics) equation models the kinetics of enzymatic reactions, e.g.\n",
    "    \n",
    "$$\n",
    "S \\rightarrow P\n",
    "$$\n",
    "\n",
    "$$\n",
    "v = \\frac{d[P]}{dt} = \\frac{V_{max} [S]}{K_m + [S]}\n",
    "$$\n",
    "\n",
    "where $v$ is the rate of the reaction, converting substrate S to product, $V_{max}$ is the maximum rate, and thhe constant $K_m$ is the substrate concentration at whhich the reaction rate is at half its maximum value.\n",
    "\n",
    "Plot $v$ as a function of $[S]$ with $K_m = 0.04 M$ and $V_{max} = 0.1 M/s$."
   ]
  },
  {
   "cell_type": "code",
   "execution_count": null,
   "metadata": {
    "deletable": false,
    "nbgrader": {
     "cell_type": "code",
     "checksum": "be9cb92ca714ea2484edbbcac630bee8",
     "grade": true,
     "grade_id": "michaelis-menten-plot",
     "locked": false,
     "points": 2,
     "schema_version": 3,
     "solution": true,
     "task": false
    }
   },
   "outputs": [],
   "source": [
    "S = np.arange(0.0, 3.0, 0.1)\n",
    "\n",
    "# YOUR CODE HERE\n",
    "v = \n",
    "\n",
    "plt.plot(S, v)\n",
    "plt.show()"
   ]
  },
  {
   "cell_type": "markdown",
   "metadata": {},
   "source": [
    "## Part B (4 points)\n",
    "\n",
    "The [**sinc** function](https://en.wikipedia.org/wiki/Sinc_filter) is used frequently in audio and signal processing, particularly to remove high-frequency noise.\n",
    "\n",
    "$$\n",
    "\\mathrm{sinc} \\; x = \\frac{\\sin \\pi x}{\\pi x}\n",
    "$$\n",
    "\n",
    "Plot **sinc x** from -4.0 to 4.0:"
   ]
  },
  {
   "cell_type": "code",
   "execution_count": null,
   "metadata": {
    "deletable": false,
    "nbgrader": {
     "cell_type": "code",
     "checksum": "2106f8d97e0ec46935d03946ec13fb60",
     "grade": true,
     "grade_id": "sinc-plot",
     "locked": false,
     "points": 2,
     "schema_version": 3,
     "solution": true,
     "task": false
    }
   },
   "outputs": [],
   "source": [
    "x = np.arange(-4.0, 4.0, 0.1) # remember, minimum to maximum, and the step size\n",
    "y = np.sinc(x)\n",
    "\n",
    "# YOUR CODE HERE\n",
    "# how do you plot the function?"
   ]
  },
  {
   "cell_type": "markdown",
   "metadata": {
    "deletable": false,
    "nbgrader": {
     "cell_type": "markdown",
     "checksum": "08e43b5406287ecdb7a56004c47285c2",
     "grade": true,
     "grade_id": "even-odd-sinc",
     "locked": false,
     "points": 2,
     "schema_version": 3,
     "solution": true,
     "task": false
    }
   },
   "source": [
    "**Concept** Is the $\\mathrm{sinc}$ function an even or odd function? Explain.\n",
    "\n",
    "YOUR ANSWER HERE"
   ]
  },
  {
   "cell_type": "markdown",
   "metadata": {
    "deletable": false,
    "editable": false,
    "nbgrader": {
     "cell_type": "markdown",
     "checksum": "46637dc1f93c5c0cfcb8f816c3ab8b0f",
     "grade": false,
     "grade_id": "cell-28b29d68ad1ea2f5",
     "locked": true,
     "schema_version": 3,
     "solution": false,
     "task": false
    }
   },
   "source": [
    "## Part C (4 points)\n",
    "\n",
    "Consider the function:\n",
    "\n",
    "$$f(x) = \\ln\\left(\\frac{1}{\\cos^2 x} \\right)$$\n",
    "\n",
    "Since this will be periodic, we'll need to plot across a wide range, say -20 to +20.\n",
    "\n",
    "Plot the function:"
   ]
  },
  {
   "cell_type": "code",
   "execution_count": null,
   "metadata": {
    "deletable": false,
    "nbgrader": {
     "cell_type": "code",
     "checksum": "d699997df10d5bad7c0fce3dece769b7",
     "grade": true,
     "grade_id": "log-cos-plot",
     "locked": false,
     "points": 2,
     "schema_version": 3,
     "solution": true,
     "task": false
    }
   },
   "outputs": [],
   "source": [
    "x = np.arange(-20.0, 20.0, 0.0001)\n",
    "\n",
    "# YOUR CODE HERE\n",
    "y = # something goes here\n",
    "\n",
    "# Then plot the function"
   ]
  },
  {
   "cell_type": "markdown",
   "metadata": {
    "deletable": false,
    "nbgrader": {
     "cell_type": "markdown",
     "checksum": "36d29dd567e364b072a6b1e30ffde62d",
     "grade": true,
     "grade_id": "log-cos-explain",
     "locked": false,
     "points": 2,
     "schema_version": 3,
     "solution": true,
     "task": false
    }
   },
   "source": [
    "**Concept:** Explain what happens to the function at $x = \\pm \\pi$, $\\pm 2\\pi$, etc. \n",
    "\n",
    "YOUR ANSWER HERE"
   ]
  },
  {
   "cell_type": "markdown",
   "metadata": {
    "deletable": false,
    "editable": false,
    "nbgrader": {
     "cell_type": "markdown",
     "checksum": "79d315cdfdfe22330ef3e39be371425b",
     "grade": false,
     "grade_id": "part-d-text",
     "locked": true,
     "schema_version": 3,
     "solution": false,
     "task": false
    }
   },
   "source": [
    "### Part D: Significant Figures (3 points)\n",
    "\n",
    "I know, it's everyone's favorite 😆 topic... \n",
    "\n",
    "Make sure to print all three of the following calculations, with rounding to produce the right number of significant figures:"
   ]
  },
  {
   "cell_type": "code",
   "execution_count": null,
   "metadata": {
    "deletable": false,
    "nbgrader": {
     "cell_type": "code",
     "checksum": "7b93f3d6e3b2ecf7c1649e4c7192cc7e",
     "grade": true,
     "grade_id": "significant-figures",
     "locked": false,
     "points": 3,
     "schema_version": 3,
     "solution": true,
     "task": false
    }
   },
   "outputs": [],
   "source": [
    "# add and subtract some numbers (e.g., masses)\n",
    "example_1 = 17.13+14.6751+3.123+7.654−8.123\n",
    "\n",
    "# find the volume of a box:\n",
    "# length is given as 7.78 m\n",
    "# width is given as 3.486 m\n",
    "# and whose height is 1.367 m\n",
    "volume = \n",
    "\n",
    "# find the pressure of a gas with PV = nRT\n",
    "# V is 0.200 m**3, \n",
    "# the temperature T is 298.15 K, \n",
    "# and the amount of gas n is 1.000 mol\n",
    "V = \n",
    "T = \n",
    "n = \n",
    "R = 8.31446261815324 # m**3 • Pa (pascals) / (mol•K)\n",
    "pressure = n * R * T / V # you can leave the pressure in Pa\n",
    "\n",
    "# YOUR CODE HERE\n",
    "# fill out the bits above\n",
    "# then print and handle rounding"
   ]
  },
  {
   "cell_type": "markdown",
   "metadata": {
    "deletable": false,
    "editable": false,
    "nbgrader": {
     "cell_type": "markdown",
     "checksum": "7b8b269f3da3e2eeaedbe35d0fcd3a65",
     "grade": false,
     "grade_id": "part-e-intro",
     "locked": true,
     "schema_version": 3,
     "solution": false,
     "task": false
    }
   },
   "source": [
    "### Part E: Unit Conversion (7 points)\n",
    "\n",
    "Another super-popular topic. Hopefully I can demonstrate that with Python and `pint` we can automate a lot of this...\n",
    "\n",
    "You do not *need* to use `pint` if you don't want.\n",
    "\n",
    "E1. How far is a light year? That's the distance light travels in a year. Since we know the speed of light, we just need to multiply by the length of a year... Print the length in kilometers and miles."
   ]
  },
  {
   "cell_type": "code",
   "execution_count": null,
   "metadata": {
    "deletable": false,
    "nbgrader": {
     "cell_type": "code",
     "checksum": "55c752b61fc446842aa43404d1abaef3",
     "grade": true,
     "grade_id": "light-year",
     "locked": false,
     "points": 2,
     "schema_version": 3,
     "solution": true,
     "task": false
    }
   },
   "outputs": [],
   "source": [
    "import pint\n",
    "\n",
    "ureg = pint.UnitRegistry()\n",
    "Q_ = ureg.Quantity\n",
    "\n",
    "# speed of light in meters per second\n",
    "light = Q_(\"299792458 m/s\")\n",
    "\n",
    "year = Q_('1 year').to('seconds')\n",
    "print(year)\n",
    "\n",
    "print(light * year) # but that's in seconds .. oops...\n",
    "\n",
    "# As a reminder, the lecture notes suggest this to convert m/s to miles/hour\n",
    "# print(format(light.to(\"miles/hour\"), '.0f'))\n",
    "\n",
    "# YOUR CODE HERE\n",
    "# Print BOTH kilometers and miles\n"
   ]
  },
  {
   "cell_type": "markdown",
   "metadata": {
    "deletable": false,
    "editable": false,
    "nbgrader": {
     "cell_type": "markdown",
     "checksum": "7816524508763b18977bfe7a50b136f6",
     "grade": false,
     "grade_id": "problem-e2",
     "locked": true,
     "schema_version": 3,
     "solution": false,
     "task": false
    }
   },
   "source": [
    "E2. Okay, that's something you could just look up... \n",
    "\n",
    "Assume the Earth is a sphere with radius 3958.89 miles. Express the volume of the planet in cubic meters..."
   ]
  },
  {
   "cell_type": "code",
   "execution_count": null,
   "metadata": {
    "deletable": false,
    "nbgrader": {
     "cell_type": "code",
     "checksum": "62e5130af7a82d7684ae70e2c5f0ba76",
     "grade": true,
     "grade_id": "volume",
     "locked": false,
     "points": 2,
     "schema_version": 3,
     "solution": true,
     "task": false
    }
   },
   "outputs": [],
   "source": [
    "import math\n",
    "\n",
    "radius = Q_('3958.89 miles')\n",
    "volume = math.pi * 4 / 3 * radius**3\n",
    "\n",
    "# YOUR CODE HERE\n",
    "# convert to cubic meters and print..."
   ]
  },
  {
   "cell_type": "markdown",
   "metadata": {
    "deletable": false,
    "editable": false,
    "nbgrader": {
     "cell_type": "markdown",
     "checksum": "e7548919a37d3e8d32df5568fc389415",
     "grade": false,
     "grade_id": "problem-e3",
     "locked": true,
     "schema_version": 3,
     "solution": false,
     "task": false
    }
   },
   "source": [
    "E3. Final problem, I promise. In chemical spectroscopy, we often have to convert between energy, wavelength, wavenumbers and frequency.\n",
    "\n",
    "Pint uses a syntax like `q.to('unit', 'spectroscopy')` for spectroscopy conversions.\n",
    "\n",
    "Let's assume I measure a polymer and it has a peak at 855. nm in the UV/Vis spectra.\n",
    "\n",
    "- What is the frequency of this absorption peak (in Hz or similar)?\n",
    "- What is the energy of this absorption peak (e.g., in eV)?\n",
    "- What would be the peak in wavenumbers (`'cm_1'` for cm<sup>-1</sup>)?\n",
    "\n",
    "**Hint: Remember our measurement has 3 significant figures.. you may need to call round()**"
   ]
  },
  {
   "cell_type": "code",
   "execution_count": null,
   "metadata": {
    "deletable": false,
    "nbgrader": {
     "cell_type": "code",
     "checksum": "432947c937601bcfdfcd9cfbcc90fe0f",
     "grade": true,
     "grade_id": "spectra-conversions",
     "locked": false,
     "points": 3,
     "schema_version": 3,
     "solution": true,
     "task": false
    }
   },
   "outputs": [],
   "source": [
    "wavelength = 855 * ureg.nm\n",
    "\n",
    "# YOUR CODE HERE\n",
    "# convert and print in Hz or terahertz\n",
    "# convert and print in eV\n",
    "# print and convert to cm_1 for wavenumbers"
   ]
  }
 ],
 "metadata": {
  "kernelspec": {
   "display_name": "Python 3",
   "language": "python",
   "name": "python3"
  },
  "language_info": {
   "codemirror_mode": {
    "name": "ipython",
    "version": 3
   },
   "file_extension": ".py",
   "mimetype": "text/x-python",
   "name": "python",
   "nbconvert_exporter": "python",
   "pygments_lexer": "ipython3",
   "version": "3.6.11"
  },
  "toc": {
   "base_numbering": 1,
   "nav_menu": {},
   "number_sections": false,
   "sideBar": false,
   "skip_h1_title": false,
   "title_cell": "Table of Contents",
   "title_sidebar": "Contents",
   "toc_cell": false,
   "toc_position": {},
   "toc_section_display": false,
   "toc_window_display": false
  }
 },
 "nbformat": 4,
 "nbformat_minor": 1
}
