{
 "cells": [
  {
   "cell_type": "markdown",
   "metadata": {
    "deletable": false,
    "editable": false,
    "nbgrader": {
     "cell_type": "markdown",
     "checksum": "e43a0351ccec1fcfbdf8c7776f2f5bc2",
     "grade": false,
     "grade_id": "jupyter",
     "locked": true,
     "schema_version": 3,
     "solution": false
    }
   },
   "source": [
    "# CHEM 1000 - Spring 2023\n",
    "Prof. Geoffrey Hutchison, University of Pittsburgh\n",
    "\n",
    "## Graded Homework 3\n",
    "\n",
    "For this homework, we'll focus on:\n",
    "- vector arithmetic\n",
    "- scalar dot product\n",
    "- vector cross product\n",
    "- simple operators\n",
    "---\n",
    "\n",
    "As a reminder, you do not need to use Python to solve the problems. If you want, you can use other methods, just put your answers in the appropriate places.\n",
    "\n",
    "To turn in, either download as Notebook (.ipynb) or Print to PDF and upload to Gradescope.\n",
    "\n",
    "Make sure you fill in any place that says YOUR CODE HERE or \"YOUR ANSWER HERE\", as well as your name and collaborators (i.e., anyone you discussed this with) below:"
   ]
  },
  {
   "cell_type": "code",
   "execution_count": null,
   "metadata": {},
   "outputs": [],
   "source": [
    "NAME = \"\"\n",
    "COLLABORATORS = \"\""
   ]
  },
  {
   "cell_type": "markdown",
   "metadata": {
    "deletable": false,
    "editable": false,
    "nbgrader": {
     "cell_type": "markdown",
     "checksum": "ca7cf55d10955c8b5b2cb7e6551f2b17",
     "grade": false,
     "grade_id": "polar-intro",
     "locked": true,
     "schema_version": 3,
     "solution": false,
     "task": false
    }
   },
   "source": [
    "### Vector Arithmetic (4 points)\n",
    "\n",
    "We're going to use some vectors on a more complicated molecule, biphenyl:\n",
    "\n",
    "<img src=\"../../images/biphenyl-dihedral.png\" width=\"350\" />"
   ]
  },
  {
   "cell_type": "code",
   "execution_count": 1,
   "metadata": {
    "deletable": false,
    "editable": false,
    "nbgrader": {
     "cell_type": "code",
     "checksum": "02cfce0d61f4b1b95694b7b0dd4f8641",
     "grade": false,
     "grade_id": "cell-7da57db012877fcc",
     "locked": true,
     "schema_version": 3,
     "solution": false,
     "task": false
    }
   },
   "outputs": [
    {
     "data": {
      "application/3dmoljs_load.v0": "<div id=\"3dmolviewer_1599837352608927\"  style=\"position: relative; width: 400px; height: 400px\">\n        <p id=\"3dmolwarning_1599837352608927\" style=\"background-color:#ffcccc;color:black\">You appear to be running in JupyterLab (or JavaScript failed to load for some other reason).  You need to install the 3dmol extension: <br>\n        <tt>jupyter labextension install jupyterlab_3dmol</tt></p>\n        </div>\n<script>\n\nvar loadScriptAsync = function(uri){\n  return new Promise((resolve, reject) => {\n    var tag = document.createElement('script');\n    tag.src = uri;\n    tag.async = true;\n    tag.onload = () => {\n      resolve();\n    };\n  var firstScriptTag = document.getElementsByTagName('script')[0];\n  firstScriptTag.parentNode.insertBefore(tag, firstScriptTag);\n});\n};\n\nif(typeof $3Dmolpromise === 'undefined') {\n$3Dmolpromise = null;\n  $3Dmolpromise = loadScriptAsync('https://3dmol.csb.pitt.edu/build/3Dmol.js');\n}\n\nvar viewer_1599837352608927 = null;\nvar warn = document.getElementById(\"3dmolwarning_1599837352608927\");\nif(warn) {\n    warn.parentNode.removeChild(warn);\n}\n$3Dmolpromise.then(function() {\nviewer_1599837352608927 = $3Dmol.createViewer($(\"#3dmolviewer_1599837352608927\"),{backgroundColor:\"white\"});\n$3Dmol.download(\"cid:7095\", viewer_1599837352608927, {}, function() {\n\tviewer_1599837352608927.setStyle({\"stick\": {}});\n\tviewer_1599837352608927.addSurface(1,{\"opacity\": 0.7, \"color\": \"white\"});\n\tviewer_1599837352608927.zoomTo();\nviewer_1599837352608927.render();\n})\n});\n</script>",
      "text/html": [
       "<div id=\"3dmolviewer_1599837352608927\"  style=\"position: relative; width: 400px; height: 400px\">\n",
       "        <p id=\"3dmolwarning_1599837352608927\" style=\"background-color:#ffcccc;color:black\">You appear to be running in JupyterLab (or JavaScript failed to load for some other reason).  You need to install the 3dmol extension: <br>\n",
       "        <tt>jupyter labextension install jupyterlab_3dmol</tt></p>\n",
       "        </div>\n",
       "<script>\n",
       "\n",
       "var loadScriptAsync = function(uri){\n",
       "  return new Promise((resolve, reject) => {\n",
       "    var tag = document.createElement('script');\n",
       "    tag.src = uri;\n",
       "    tag.async = true;\n",
       "    tag.onload = () => {\n",
       "      resolve();\n",
       "    };\n",
       "  var firstScriptTag = document.getElementsByTagName('script')[0];\n",
       "  firstScriptTag.parentNode.insertBefore(tag, firstScriptTag);\n",
       "});\n",
       "};\n",
       "\n",
       "if(typeof $3Dmolpromise === 'undefined') {\n",
       "$3Dmolpromise = null;\n",
       "  $3Dmolpromise = loadScriptAsync('https://3dmol.csb.pitt.edu/build/3Dmol.js');\n",
       "}\n",
       "\n",
       "var viewer_1599837352608927 = null;\n",
       "var warn = document.getElementById(\"3dmolwarning_1599837352608927\");\n",
       "if(warn) {\n",
       "    warn.parentNode.removeChild(warn);\n",
       "}\n",
       "$3Dmolpromise.then(function() {\n",
       "viewer_1599837352608927 = $3Dmol.createViewer($(\"#3dmolviewer_1599837352608927\"),{backgroundColor:\"white\"});\n",
       "$3Dmol.download(\"cid:7095\", viewer_1599837352608927, {}, function() {\n",
       "\tviewer_1599837352608927.setStyle({\"stick\": {}});\n",
       "\tviewer_1599837352608927.addSurface(1,{\"opacity\": 0.7, \"color\": \"white\"});\n",
       "\tviewer_1599837352608927.zoomTo();\n",
       "viewer_1599837352608927.render();\n",
       "})\n",
       "});\n",
       "</script>"
      ]
     },
     "metadata": {},
     "output_type": "display_data"
    }
   ],
   "source": [
    "import py3Dmol\n",
    "\n",
    "# 7095 is the PubChem Compound ID (CID) for biphenyl:\n",
    "# https://pubchem.ncbi.nlm.nih.gov/compound/Biphenyl\n",
    "view = py3Dmol.view(width=400,height=400,query='cid:7095')\n",
    "view.setStyle({'stick':{}})\n",
    "view.addSurface(py3Dmol.VDW,{'opacity':0.7,'color':'white'})\n",
    "view.zoomTo()\n",
    "view.show()"
   ]
  },
  {
   "cell_type": "code",
   "execution_count": null,
   "metadata": {
    "deletable": false,
    "nbgrader": {
     "cell_type": "code",
     "checksum": "ecaed9dedea2cd8068bf28f248036e4d",
     "grade": true,
     "grade_id": "michaelis-menten-plot",
     "locked": false,
     "points": 3,
     "schema_version": 3,
     "solution": true,
     "task": false
    }
   },
   "outputs": [],
   "source": [
    "# here are the coordinates of the indicated atoms\n",
    "import numpy as np\n",
    "\n",
    "c1 = np.array([ 1.441, -1.132, 0.414])\n",
    "c2 = np.array([ 0.742,  0.001, 0.004])\n",
    "c3 = np.array([-0.742,  0.000, 0.002])\n",
    "c4 = np.array([-1.443,  1.133, 0.412])\n",
    "\n",
    "# find the vector for c1-c2 bond by subtraction\n",
    "c1c2 = \n",
    "c2c3 = \n",
    "c3c4 = \n",
    "\n",
    "# print the length of the c1c2 bond (i.e., the magnitude or 'norm' in numpy)\n",
    "print( round(np.linalg.norm(c1c2), 3) )\n",
    "\n",
    "# print the length of the c2c3 bond\n",
    "print( round(np.linalg.norm(c2c3), 3) )\n",
    "\n",
    "# print the length of the c3c4 bond\n",
    "print( round(np.linalg.norm(c3c4), 3) )"
   ]
  },
  {
   "cell_type": "markdown",
   "metadata": {
    "deletable": false,
    "nbgrader": {
     "cell_type": "markdown",
     "checksum": "8722f1f6951ef73d6f37f5753da15918",
     "grade": true,
     "grade_id": "conceptual",
     "locked": false,
     "points": 2,
     "schema_version": 3,
     "solution": true,
     "task": false
    }
   },
   "source": [
    "<div class=\"alert alert-block alert-info\">\n",
    "\n",
    "**Concept**: Are the bonds all the same length or not? Why?\n",
    "    \n",
    "YOUR ANSWER HERE\n",
    "    \n",
    "</div>"
   ]
  },
  {
   "cell_type": "markdown",
   "metadata": {},
   "source": [
    "\n",
    "## Center of Geometry\n",
    "\n",
    "Find the 'centroid' or center point for the atoms c1, c2, c3, c4. (This should obviously be the center of the molecule, and between atoms c3 and c4)."
   ]
  },
  {
   "cell_type": "code",
   "execution_count": null,
   "metadata": {
    "deletable": false,
    "nbgrader": {
     "cell_type": "code",
     "checksum": "61bcda08d12813bdffb8a4db77dbbc20",
     "grade": true,
     "grade_id": "find-centroid",
     "locked": false,
     "points": 2,
     "schema_version": 3,
     "solution": true,
     "task": false
    }
   },
   "outputs": [],
   "source": [
    "# YOUR CODE HERE\n",
    "centroid = # FIXME\n",
    "print(centroid)"
   ]
  },
  {
   "cell_type": "markdown",
   "metadata": {
    "deletable": false,
    "nbgrader": {
     "cell_type": "markdown",
     "checksum": "b579df87d62b3d8ec778e10112fddc3a",
     "grade": true,
     "grade_id": "origin-centroid",
     "locked": false,
     "points": 1,
     "schema_version": 3,
     "solution": true,
     "task": false
    }
   },
   "source": [
    "<div class=\"alert alert-block alert-info\">\n",
    "\n",
    "**Concept**: Are the coordinates of this molecule exactly at the origin 0,0,0?\n",
    "\n",
    "YOUR ANSWER HERE\n",
    "    \n",
    "</div>"
   ]
  },
  {
   "cell_type": "markdown",
   "metadata": {
    "deletable": false,
    "editable": false,
    "nbgrader": {
     "cell_type": "markdown",
     "checksum": "cca443f983970eef241c06944cd6a8f7",
     "grade": false,
     "grade_id": "complex-intro",
     "locked": true,
     "schema_version": 3,
     "solution": false,
     "task": false
    }
   },
   "source": [
    "## Scalar Dot Product\n",
    "\n",
    "Use the scalar dot product to find the angle between c1c2 and c2c3 (i.e., the c1-c2-c3 angle)\n",
    "\n",
    "As a reminder:\n",
    "\n",
    "$$\n",
    "\\cos (\\theta)=\\frac{\\mathbf{u} \\cdot \\mathbf{v}}{|\\mathbf{u}||\\mathbf{v}|}\n",
    "$$"
   ]
  },
  {
   "cell_type": "code",
   "execution_count": null,
   "metadata": {
    "deletable": false,
    "nbgrader": {
     "cell_type": "code",
     "checksum": "423e5278bce57f4f3f68d66cc56e450b",
     "grade": true,
     "grade_id": "dot-angles",
     "locked": false,
     "points": 2,
     "schema_version": 3,
     "solution": true,
     "task": false
    }
   },
   "outputs": [],
   "source": [
    "# YOUR CODE HERE\n",
    "mag_c1c2 = np.linalg.norm(c1c2)\n",
    "mag_c2c3 = np.linalg.norm(c2c3)\n",
    "\n",
    "theta = np.arccos( # FIXME )\n",
    "print( round(np.degrees(theta), 3) )"
   ]
  },
  {
   "cell_type": "markdown",
   "metadata": {
    "deletable": false,
    "nbgrader": {
     "cell_type": "markdown",
     "checksum": "8c31f97150c00555aa5d2f90b6afb01e",
     "grade": true,
     "grade_id": "dot-explain",
     "locked": false,
     "points": 2,
     "schema_version": 3,
     "solution": true,
     "task": false
    }
   },
   "source": [
    "<div class=\"alert alert-block alert-info\">\n",
    "\n",
    "**Concept:** Does your answer above match your expectation? What do you think the angle should be based on chemistry?\n",
    "\n",
    "YOUR ANSWER HERE\n",
    "    \n",
    "</div>"
   ]
  },
  {
   "cell_type": "markdown",
   "metadata": {
    "deletable": false,
    "editable": false,
    "nbgrader": {
     "cell_type": "markdown",
     "checksum": "1967983bcb3b17852f24f80ffeb59b7c",
     "grade": false,
     "grade_id": "part-d-text",
     "locked": true,
     "schema_version": 3,
     "solution": false,
     "task": false
    }
   },
   "source": [
    "### Vector Cross Product\n",
    "\n",
    "Let's say we want to know the angle between the two benzene rings in biphenyl. That's the *dihedral* or torsion angle around c1-c2-c3-c4.\n",
    "\n",
    "We know that c1-c2-c3 form a plane (i.e., three points determine a plane) and that the cross product will give us the vector perpendicular to that plane.\n",
    "\n",
    "So we'll need to take two cross products (and be careful to take them in the right order)"
   ]
  },
  {
   "cell_type": "code",
   "execution_count": null,
   "metadata": {
    "deletable": false,
    "nbgrader": {
     "cell_type": "code",
     "checksum": "fc08dbc31690c53866bf89b3f796b404",
     "grade": true,
     "grade_id": "cross-product",
     "locked": false,
     "points": 2,
     "schema_version": 3,
     "solution": true,
     "task": false
    }
   },
   "outputs": [],
   "source": [
    "# YOUR CODE HERE\n",
    "# find the cross product between c1c2 and c2c3 bonds\n",
    "c1c2c3 = \n",
    "print(c1c2c3)\n",
    "\n",
    "# find the cross product between c2c3 and c3c4 bonds\n",
    "c2c3c4 = \n",
    "print(c2c3c4)\n",
    "\n",
    "# the following code should get the torsion angle for you\n",
    "mag_c1c2c3 = np.linalg.norm(c1c2c3)\n",
    "mag_c2c3c4 = np.linalg.norm(c2c3c4)\n",
    "torsion = np.arccos(np.dot(c1c2c3, c2c3c4) / (mag_c1c2c3 * mag_c2c3c4))\n",
    "print( round(np.degrees(torsion), 3) )"
   ]
  },
  {
   "cell_type": "markdown",
   "metadata": {
    "deletable": false,
    "nbgrader": {
     "cell_type": "markdown",
     "checksum": "56ed0f42feb536d8aaec2c43afc098da",
     "grade": true,
     "grade_id": "cross-concept",
     "locked": false,
     "points": 2,
     "schema_version": 3,
     "solution": true,
     "task": false
    }
   },
   "source": [
    "<div class=\"alert alert-block alert-info\">\n",
    "\n",
    "**Concept** What happens if you reverse the order of the bonds in the cross product? Will it change your answer for the angle?\n",
    "\n",
    "Explain:\n",
    "YOUR ANSWER HERE\n",
    "    \n",
    "</div>"
   ]
  },
  {
   "cell_type": "markdown",
   "metadata": {
    "deletable": false,
    "editable": false,
    "nbgrader": {
     "cell_type": "markdown",
     "checksum": "821541d29695a90bb7f866df03501bfb",
     "grade": false,
     "grade_id": "part-e-intro",
     "locked": true,
     "schema_version": 3,
     "solution": false,
     "task": false
    }
   },
   "source": [
    "### Operators\n",
    "\n",
    "Unfortunately, what we've learned about operators is a bit abstract still.\n",
    "(We'll design some operators that tell us things about energies, forces, etc. on Monday.)\n",
    "\n",
    "If you find these hard, they can be. You can either do this with Sympy, or create a PDF of this notebook and add pages with your work.\n",
    "\n",
    "5.3 Consider the linear momentum operator\n",
    "$$\n",
    "\\hat{p} \\equiv-i \\hbar \\frac{d}{d x}\n",
    "$$\n",
    "where $\\hbar$ is a constant. For the function $\\psi(x)=\\mathrm{e}^{i k x},$ show that $\\hat{p} \\psi(x)=\\hbar k \\psi(x)$\n",
    "\n",
    "5.4 Consider the kinetic energy operator\n",
    "$$\n",
    "\\hat{H} \\equiv-\\frac{h^{2}}{8 \\pi^{2} m} \\frac{d^{2}}{d x^{2}}\n",
    "$$\n",
    "For the function $\\psi(x)=\\sin \\left(\\frac{\\pi x}{L}\\right),$ show that $\\hat{H} \\psi(x)=\\frac{h^{2}}{8 m L^{2}} \\psi(x)$"
   ]
  },
  {
   "cell_type": "code",
   "execution_count": null,
   "metadata": {
    "deletable": false,
    "editable": false,
    "nbgrader": {
     "cell_type": "code",
     "checksum": "2b13e5a47cd30f0caab4c67f0563ff6e",
     "grade": false,
     "grade_id": "sympy",
     "locked": true,
     "schema_version": 3,
     "solution": false,
     "task": false
    }
   },
   "outputs": [],
   "source": [
    "from sympy import init_session\n",
    "init_session()\n",
    "\n",
    "i, hbar = symbols('i hbar')\n",
    "h, m, L = symbols('h m L')"
   ]
  },
  {
   "cell_type": "code",
   "execution_count": null,
   "metadata": {
    "deletable": false,
    "nbgrader": {
     "cell_type": "code",
     "checksum": "d68a5816d9b96db489ab190f1e2e34de",
     "grade": true,
     "grade_id": "fivethree",
     "locked": false,
     "points": 2,
     "schema_version": 3,
     "solution": true,
     "task": false
    }
   },
   "outputs": [],
   "source": [
    "# YOUR CODE HERE\n",
    "# if you have an error, make sure you run the cell above this\n",
    "psi = exp(i*k*x)\n",
    "p = \n",
    "\n",
    "print(p)"
   ]
  },
  {
   "cell_type": "code",
   "execution_count": null,
   "metadata": {
    "deletable": false,
    "nbgrader": {
     "cell_type": "code",
     "checksum": "c0595bbcd0b20909d185c99ae1cbd98a",
     "grade": true,
     "grade_id": "fivefour",
     "locked": false,
     "points": 2,
     "schema_version": 3,
     "solution": true,
     "task": false
    }
   },
   "outputs": [],
   "source": [
    "# YOUR CODE HERE\n",
    "psi = sin(pi*x/L)\n",
    "H = \n",
    "\n",
    "print(H)"
   ]
  }
 ],
 "metadata": {
  "kernelspec": {
   "display_name": "Python 3",
   "language": "python",
   "name": "python3"
  },
  "language_info": {
   "codemirror_mode": {
    "name": "ipython",
    "version": 3
   },
   "file_extension": ".py",
   "mimetype": "text/x-python",
   "name": "python",
   "nbconvert_exporter": "python",
   "pygments_lexer": "ipython3",
   "version": "3.6.11"
  },
  "toc": {
   "base_numbering": 1,
   "nav_menu": {},
   "number_sections": false,
   "sideBar": false,
   "skip_h1_title": false,
   "title_cell": "Table of Contents",
   "title_sidebar": "Contents",
   "toc_cell": false,
   "toc_position": {},
   "toc_section_display": false,
   "toc_window_display": false
  }
 },
 "nbformat": 4,
 "nbformat_minor": 1
}
