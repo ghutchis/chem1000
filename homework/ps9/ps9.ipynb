{
 "cells": [
  {
   "cell_type": "markdown",
   "metadata": {
    "deletable": false,
    "editable": false,
    "nbgrader": {
     "cell_type": "markdown",
     "checksum": "f39ac650787ab79f73c2911693c4653a",
     "grade": false,
     "grade_id": "prefix",
     "locked": true,
     "schema_version": 3,
     "solution": false
    }
   },
   "source": [
    "# CHEM 1000 - Spring 2022\n",
    "Prof. Geoffrey Hutchison, University of Pittsburgh\n",
    "\n",
    "## Graded Homework 9\n",
    "\n",
    "For this homework, we'll focus on:\n",
    "- simple Fourier series\n",
    "- matrix operations\n",
    "  - trace\n",
    "  - determinant\n",
    "  - inverse\n",
    "---\n",
    "\n",
    "As a reminder, you do not need to use Python to solve the problems. If you want, you can use other methods, just put your answers in the appropriate places.\n",
    "\n",
    "To turn in, either download as Notebook (.ipynb) or Print to PDF and upload to Gradescope.\n",
    "\n",
    "Make sure you fill in any place that says YOUR CODE HERE or \"YOUR ANSWER HERE\", as well as your name and collaborators (i.e., anyone you discussed this with) below:"
   ]
  },
  {
   "cell_type": "code",
   "execution_count": null,
   "metadata": {},
   "outputs": [],
   "source": [
    "NAME = \"\"\n",
    "COLLABORATORS = \"\""
   ]
  },
  {
   "cell_type": "markdown",
   "metadata": {
    "deletable": false,
    "editable": false,
    "nbgrader": {
     "cell_type": "markdown",
     "checksum": "ef79300a115ab33771645e684012bcd4",
     "grade": false,
     "grade_id": "spherical-z2",
     "locked": true,
     "schema_version": 3,
     "solution": false,
     "task": false
    }
   },
   "source": [
    "### Fourier Series\n",
    "\n",
    "We discussed several examples of both Fourier series and the Fourier transform.\n",
    "\n",
    "Let's consider the Fourier series for a parabolic function from $-\\pi$ to $\\pi$:\n",
    "\n",
    "$$\n",
    "f(x) = \\frac{1}{\\pi^2} x^2\n",
    "$$\n",
    "\n",
    "Notice that the function ranges from 0 to 1.\n",
    "\n",
    "Give at least the first 3 terms of both $\\sin$ and $\\cos$ components.\n",
    "\n",
    "**Reminder:** while many of the examples in class did not have a constant offset $a_0$, this function might."
   ]
  },
  {
   "cell_type": "code",
   "execution_count": null,
   "metadata": {
    "deletable": false,
    "nbgrader": {
     "cell_type": "code",
     "checksum": "cc20b5ed16c88c8c09598ff349cc9fbc",
     "grade": true,
     "grade_id": "fourier-coefficients",
     "locked": false,
     "points": 5,
     "schema_version": 3,
     "solution": true,
     "task": false
    }
   },
   "outputs": [],
   "source": [
    "a0 = #FIXME\n",
    "a1 = #FIXME\n",
    "a2 = #FIXME\n",
    "a3 = #FIXME\n",
    "\n",
    "b1 = #Fixme\n",
    "b2 = #FIXME\n",
    "b3 = #FIXME"
   ]
  },
  {
   "cell_type": "markdown",
   "metadata": {},
   "source": [
    "Please plot your approximation for f(x):"
   ]
  },
  {
   "cell_type": "code",
   "execution_count": null,
   "metadata": {
    "deletable": false,
    "editable": false,
    "nbgrader": {
     "cell_type": "code",
     "checksum": "33b0c9f9f0f43f9f868f45f25f2314f5",
     "grade": false,
     "grade_id": "matplotlib",
     "locked": true,
     "schema_version": 3,
     "solution": false,
     "task": false
    }
   },
   "outputs": [],
   "source": [
    "# Let's plot it!\n",
    "import numpy as np\n",
    "import matplotlib.pyplot as plt\n",
    "%matplotlib inline\n",
    "%config InlineBackend.figure_format = 'retina'\n",
    "plt.style.use('./chem1000.mplstyle')"
   ]
  },
  {
   "cell_type": "code",
   "execution_count": null,
   "metadata": {
    "deletable": false,
    "nbgrader": {
     "cell_type": "code",
     "checksum": "5a4b2811040c926901a1cb2d6d658c23",
     "grade": true,
     "grade_id": "velocity-plot",
     "locked": false,
     "points": 2,
     "schema_version": 3,
     "solution": true,
     "task": false
    }
   },
   "outputs": [],
   "source": [
    "x = np.arange(-np.pi, np.pi, 0.1)\n",
    "f = x**2 / (np.pi**2)\n",
    "\n",
    "approx = a0 + np.cos() # FIXME - you need more here...\n",
    "\n",
    "plt.plot(x, f)\n",
    "plt.plot(x, approx)\n",
    "plt.show()"
   ]
  },
  {
   "cell_type": "markdown",
   "metadata": {},
   "source": [
    "### Matrices\n",
    "\n",
    "For the following matrix, give the:\n",
    "- trace\n",
    "- determinant\n",
    "- inverse matrix\n",
    "\n",
    "$$\n",
    "\\left|\\begin{array}{rrr}\n",
    "1 & 2 & 3 \\\\\n",
    "3 & 0 & 1 \\\\\n",
    "-1 & 4 & 2\n",
    "\\end{array}\\right|\n",
    "$$"
   ]
  },
  {
   "cell_type": "code",
   "execution_count": null,
   "metadata": {
    "deletable": false,
    "nbgrader": {
     "cell_type": "code",
     "checksum": "8f2e74d491c12a7867c021f9e8d09797",
     "grade": true,
     "grade_id": "matrix1",
     "locked": false,
     "points": 4,
     "schema_version": 3,
     "solution": true,
     "task": false
    }
   },
   "outputs": [],
   "source": [
    "a = np.array([1, 2, 3],\n",
    "             [3, 0, 1],\n",
    "             [-1, 4, 2])\n",
    "\n",
    "trace = \n",
    "determinant\n",
    "inverse = "
   ]
  },
  {
   "cell_type": "markdown",
   "metadata": {},
   "source": [
    "For the following matrix, give the:\n",
    "- trace\n",
    "- determinant\n",
    "\n",
    "$$\n",
    "\\left|\\begin{array}{lll}\n",
    "x & 1 & 0 \\\\\n",
    "1 & x & 1 \\\\\n",
    "0 & 1 & x\n",
    "\\end{array}\\right|\n",
    "$$\n",
    "\n",
    "Solve the \"characteristic equation\" from the determinant by setting it equal to zero"
   ]
  },
  {
   "cell_type": "code",
   "execution_count": null,
   "metadata": {
    "deletable": false,
    "nbgrader": {
     "cell_type": "code",
     "checksum": "281294c61e96a6664a2c97b0c9cb4297",
     "grade": true,
     "grade_id": "matrix2",
     "locked": false,
     "points": 5,
     "schema_version": 3,
     "solution": true,
     "task": false
    }
   },
   "outputs": [],
   "source": [
    "trace2 = \n",
    "determinant2 = \n",
    "solutions = "
   ]
  },
  {
   "cell_type": "markdown",
   "metadata": {
    "deletable": false,
    "editable": false,
    "nbgrader": {
     "cell_type": "markdown",
     "checksum": "7b471e5d4e5fc99d279b77a591138b34",
     "grade": false,
     "grade_id": "cell-d523d74d03dd69dc",
     "locked": true,
     "schema_version": 3,
     "solution": false,
     "task": false
    }
   },
   "source": [
    "### Matrix Multiplication\n",
    "\n",
    "Multiply the following matrices:\n",
    "\n",
    "$$\n",
    "A = \\left(\\begin{array}{rrr}\n",
    "3 & 0 & 3 \\\\\n",
    "4 & -1 & -1 \\\\\n",
    "1 & 2 & 5\n",
    "\\end{array}\\right)\n",
    "$$\n",
    "\n",
    "$$\n",
    "B = \\left(\\begin{array}{rrr}\n",
    "1 & 1 & 1 \\\\\n",
    "-2 & 1 & 6 \\\\\n",
    "3 & 4 & 5\n",
    "\\end{array}\\right)\n",
    "$$\n",
    "\n",
    "Give both $A\\times B$ and $B \\times A$"
   ]
  },
  {
   "cell_type": "code",
   "execution_count": null,
   "metadata": {
    "deletable": false,
    "nbgrader": {
     "cell_type": "code",
     "checksum": "f51f8683b8d6e353fb0381ada38e104b",
     "grade": true,
     "grade_id": "multiplication",
     "locked": false,
     "points": 4,
     "schema_version": 3,
     "solution": true,
     "task": false
    }
   },
   "outputs": [],
   "source": [
    "a = np.array([3, 0, 3],\n",
    "             [4, -1, -1],\n",
    "             [1, 2, 5])\n",
    "b = np.array([1, 1, 1],\n",
    "             [-2, 1, 6],\n",
    "             [3, 4, 5])\n",
    "\n",
    "a_times_b = # FIXME\n",
    "b_times_a = # fiXME"
   ]
  }
 ],
 "metadata": {
  "kernelspec": {
   "display_name": "Python 3",
   "language": "python",
   "name": "python3"
  },
  "language_info": {
   "codemirror_mode": {
    "name": "ipython",
    "version": 3
   },
   "file_extension": ".py",
   "mimetype": "text/x-python",
   "name": "python",
   "nbconvert_exporter": "python",
   "pygments_lexer": "ipython3",
   "version": "3.6.11"
  },
  "toc": {
   "base_numbering": 1,
   "nav_menu": {},
   "number_sections": false,
   "sideBar": false,
   "skip_h1_title": false,
   "title_cell": "Table of Contents",
   "title_sidebar": "Contents",
   "toc_cell": false,
   "toc_position": {},
   "toc_section_display": false,
   "toc_window_display": false
  }
 },
 "nbformat": 4,
 "nbformat_minor": 1
}
