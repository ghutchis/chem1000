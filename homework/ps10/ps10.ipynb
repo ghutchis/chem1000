{
 "cells": [
  {
   "cell_type": "markdown",
   "metadata": {
    "deletable": false,
    "editable": false,
    "nbgrader": {
     "cell_type": "markdown",
     "checksum": "01c0c2290df7002681e3df0298291501",
     "grade": false,
     "grade_id": "prefix",
     "locked": true,
     "schema_version": 3,
     "solution": false
    }
   },
   "source": [
    "# CHEM 1000 - Spring 2022\n",
    "Prof. Geoffrey Hutchison, University of Pittsburgh\n",
    "\n",
    "## OPTIONAL Graded Homework 10\n",
    "\n",
    "For this **optional** review homework, we'll focus on:\n",
    "- matrix operations\n",
    "  - systems of equations\n",
    "  - eigenvalues\n",
    "  - Hückel matrices\n",
    "---\n",
    "\n",
    "As a reminder, you do not need to use Python to solve the problems. If you want, you can use other methods, just put your answers in the appropriate places.\n",
    "\n",
    "To turn in, either download as Notebook (.ipynb) or Print to PDF and upload to Gradescope.\n",
    "\n",
    "Make sure you fill in any place that says YOUR CODE HERE or \"YOUR ANSWER HERE\", as well as your name and collaborators (i.e., anyone you discussed this with) below:"
   ]
  },
  {
   "cell_type": "code",
   "execution_count": null,
   "metadata": {},
   "outputs": [],
   "source": [
    "NAME = \"\"\n",
    "COLLABORATORS = \"\""
   ]
  },
  {
   "cell_type": "markdown",
   "metadata": {},
   "source": [
    "### Matrices\n",
    "\n",
    "We can solve many systems of equations by generating the augmented matrix, reducing to triangular form, and back-substitution.\n",
    "\n",
    "$$\n",
    "x + 2y + 3z = -5\n",
    "$$\n",
    "$$\n",
    "-x - 3y + z = -14\n",
    "$$\n",
    "$$\n",
    "2x + y + z = 1\n",
    "$$\n",
    "\n",
    "Try to solve by pen-and-paper - you can check your answer with `np.linalg.solve(a, c)`"
   ]
  },
  {
   "cell_type": "code",
   "execution_count": null,
   "metadata": {
    "deletable": false,
    "nbgrader": {
     "cell_type": "code",
     "checksum": "8f2e74d491c12a7867c021f9e8d09797",
     "grade": true,
     "grade_id": "matrix1",
     "locked": false,
     "points": 4,
     "schema_version": 3,
     "solution": true,
     "task": false
    }
   },
   "outputs": [],
   "source": [
    "import numpy as np\n",
    "import numpy.linalg\n",
    "\n",
    "a = np.array([[1, 2, 3],\n",
    "             [-1, -3, 1],\n",
    "             [2, 1, 1]])\n",
    "c = np.array([-5, -14, 1])\n",
    "\n",
    "x, y, z = ( ,  ,  ) # PUT YOUR ANSWER HERE\n",
    "\n",
    "np.linalg.solve(a, c)"
   ]
  },
  {
   "cell_type": "markdown",
   "metadata": {},
   "source": [
    "Try the following $4\\times 4$ system of equations!\n",
    "\n",
    "$$\n",
    "x + 2y - z + t = 2\n",
    "$$\n",
    "$$\n",
    "x - 2y + z - 3t = 6\n",
    "$$\n",
    "$$\n",
    "2x + y + 2z = t = -4\n",
    "$$\n",
    "$$\n",
    "3x + 3y = z - 2t = 10\n",
    "$$\n",
    "\n",
    "Again, try to solve via pen-and-paper by reducing to a triangular matrix - you can again check your work below."
   ]
  },
  {
   "cell_type": "code",
   "execution_count": null,
   "metadata": {
    "deletable": false,
    "nbgrader": {
     "cell_type": "code",
     "checksum": "281294c61e96a6664a2c97b0c9cb4297",
     "grade": true,
     "grade_id": "matrix2",
     "locked": false,
     "points": 5,
     "schema_version": 3,
     "solution": true,
     "task": false
    }
   },
   "outputs": [],
   "source": [
    "a = np.array([[1, 2, -1, 1],\n",
    "              [1, -2, 1, -3],\n",
    "              [2, 1, 2, 1],\n",
    "              [3, 3, 1, -2]])\n",
    "c = np.array([2, 6, -4, 10])\n",
    "\n",
    "x, y, z, t = ( ,  ,  ,  ) # PUT YOUR ANSWER HERE\n",
    "\n",
    "np.linalg.solve(a, c)"
   ]
  },
  {
   "cell_type": "markdown",
   "metadata": {},
   "source": [
    "### Huckel Theory and Eigenvalues\n",
    "\n",
    "The most useful aspect of Hückel theory is in setting up the matrices:\n",
    "\n",
    "$\\hat{H} \\psi = E \\psi$\n",
    "\n",
    "To solve the eigenvalue problem, you then calculate the determinant:\n",
    "\n",
    "$$\n",
    "| \\hat{H} - E I | = 0\n",
    "$$\n",
    "\n",
    "where $I$ is the identity matrix. (This is why you will often see $alpha - E$ or $-E$ on the diagonal elements of the Hückel matrix.\n",
    "\n",
    "Let's set up four Hückel matrices... Consider the differences\n",
    "\n",
    "- alyl radical (i.e., 3 carbon π-system)\n",
    "- cyclopropylene (i.e., triangular π-system)\n",
    "- cyclobutadiene (i.e., square π-system)\n",
    "- 1,3-butadiene (i.e., 4-carbon linear π-system)"
   ]
  },
  {
   "cell_type": "code",
   "execution_count": null,
   "metadata": {},
   "outputs": [],
   "source": [
    "# Either type out the four different Hückel matrices\n",
    "# or do by hand and scan the PDF..."
   ]
  }
 ],
 "metadata": {
  "kernelspec": {
   "display_name": "Python 3",
   "language": "python",
   "name": "python3"
  },
  "language_info": {
   "codemirror_mode": {
    "name": "ipython",
    "version": 3
   },
   "file_extension": ".py",
   "mimetype": "text/x-python",
   "name": "python",
   "nbconvert_exporter": "python",
   "pygments_lexer": "ipython3",
   "version": "3.6.11"
  },
  "toc": {
   "base_numbering": 1,
   "nav_menu": {},
   "number_sections": false,
   "sideBar": false,
   "skip_h1_title": false,
   "title_cell": "Table of Contents",
   "title_sidebar": "Contents",
   "toc_cell": false,
   "toc_position": {},
   "toc_section_display": false,
   "toc_window_display": false
  }
 },
 "nbformat": 4,
 "nbformat_minor": 1
}
