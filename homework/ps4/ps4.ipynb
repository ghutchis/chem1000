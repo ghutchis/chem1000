{
 "cells": [
  {
   "cell_type": "markdown",
   "metadata": {
    "deletable": false,
    "editable": false,
    "nbgrader": {
     "cell_type": "markdown",
     "checksum": "51a9c752c2cef3d40d920a21f514b668",
     "grade": false,
     "grade_id": "jupyter",
     "locked": true,
     "schema_version": 3,
     "solution": false
    }
   },
   "source": [
    "# CHEM 1000 - Spring 2025\n",
    "Prof. Geoffrey Hutchison, University of Pittsburgh\n",
    "\n",
    "## Graded Homework 4\n",
    "\n",
    "For this homework, we'll focus on:\n",
    "- optimizing multi-variable functions (using Calculus FTW!)\n",
    "- optimizing multi-variable functions using `scipy.optimize`\n",
    "---\n",
    "\n",
    "As a reminder, you do not need to use Python to solve the problems. If you want, you can use other methods, just put your answers in the appropriate places.\n",
    "\n",
    "To turn in, either download as Notebook (.ipynb) or Print to PDF and upload to Gradescope.\n",
    "\n",
    "Make sure you fill in any place that says YOUR CODE HERE or \"YOUR ANSWER HERE\", as well as your name and collaborators (i.e., anyone you discussed this with) below:"
   ]
  },
  {
   "cell_type": "code",
   "execution_count": null,
   "metadata": {},
   "outputs": [],
   "source": [
    "NAME = \"\"\n",
    "COLLABORATORS = \"\""
   ]
  },
  {
   "cell_type": "markdown",
   "metadata": {
    "deletable": false,
    "editable": false,
    "nbgrader": {
     "cell_type": "markdown",
     "checksum": "ed8c3998c932e1028443eb3b3973d790",
     "grade": false,
     "grade_id": "intro",
     "locked": true,
     "schema_version": 3,
     "solution": false,
     "task": false
    }
   },
   "source": [
    "### Optimizing Functions\n",
    "\n",
    "Unfortunately, optimizing functions tend to fall into two categories...\n",
    "- Things that are super-easy to do analytically with Calculus (yay!)\n",
    "- Things that are too hard and we need to use numerical methods like `scipy.optimize`\n",
    "\n",
    "As I mentioned, there are whole areas of mathematics and computer science devoted to optimizing functions, depending on how much information you have (e.g., can you work out a gradient or Hessian). Much of this has become more important as machine learning and neural networks become important (e.g., the function you want to optimize is \"how well can this robot car drive?\").\n",
    "\n",
    "I'll also point out that a ***lot*** of science and chemistry turn into optimization problems:\n",
    "- how do I change my synthesis conditions to get the highest yield of this new molecule?\n",
    "- how do I find a solvent with high solubility for this?\n",
    "- how do I increase the fluorescence efficiency of this LED screen?\n",
    "- how do we minimize the spread of COVID without a vaccine?\n",
    "- how do we find a polymer with the best performance as a solar cell?\n",
    "- how do we maximize energy storage in this battery?\n",
    "- (etc.)"
   ]
  },
  {
   "cell_type": "markdown",
   "metadata": {
    "deletable": false,
    "editable": false,
    "nbgrader": {
     "cell_type": "markdown",
     "checksum": "06a90479d5578c1cb967884707f6d8fc",
     "grade": false,
     "grade_id": "himmelblau",
     "locked": true,
     "schema_version": 3,
     "solution": false,
     "task": false
    }
   },
   "source": [
    "### Part A: Himmelblau's function\n",
    "\n",
    "Here's another function designed to be easy to solve by Calculus, and hard to do it with numerical methods. So we'll do it the easy way:\n",
    "\n",
    "$$\n",
    "f(x, y)=\\left(x^{2}+y-11\\right)^{2}+\\left(x+y^{2}-7\\right)^{2}\n",
    "$$\n",
    "\n",
    "1. Find the maxima. What is the value of $f(x,y)$ at this point.\n",
    "2. Find all minima.\n",
    "\n",
    "Show work... (You can do this with Sympy, Wolfram Alpha, Pen-and-Paper.. whatever works best.)\n",
    "(You can create extra cells / work area in the notebook, but please put the answer where indicated."
   ]
  },
  {
   "cell_type": "code",
   "execution_count": null,
   "metadata": {
    "deletable": false,
    "editable": false,
    "nbgrader": {
     "cell_type": "code",
     "checksum": "5c531311e252e987190e86be0a73365f",
     "grade": false,
     "grade_id": "sympy",
     "locked": true,
     "schema_version": 3,
     "solution": false,
     "task": false
    }
   },
   "outputs": [],
   "source": [
    "from sympy import init_session\n",
    "init_session()"
   ]
  },
  {
   "cell_type": "code",
   "execution_count": null,
   "metadata": {
    "deletable": false,
    "nbgrader": {
     "cell_type": "code",
     "checksum": "02b685cf254c7348f62f88c0f3b8a431",
     "grade": true,
     "grade_id": "Himmelblau",
     "locked": false,
     "points": 10,
     "schema_version": 3,
     "solution": true,
     "task": false
    }
   },
   "outputs": [],
   "source": [
    "# if you have an error, make sure you run the cell above this\n",
    "f = (x**2 + y - 11)**2 + (x + y**2 - 7)**2\n",
    "dfdx = diff(f, x)\n",
    "dfdy = diff(f, y)"
   ]
  },
  {
   "cell_type": "markdown",
   "metadata": {
    "deletable": false,
    "editable": false,
    "nbgrader": {
     "cell_type": "markdown",
     "checksum": "1b3b387b4b557ba639235c9763aca67d",
     "grade": false,
     "grade_id": "constrained-opt-intro",
     "locked": true,
     "schema_version": 3,
     "solution": false,
     "task": false
    }
   },
   "source": [
    "### Constrained Optimization\n",
    "\n",
    "Okay, so you may think \"but how does any of this help me in the real world?\"\n",
    "\n",
    "Let's say you're playing a video game. Careful Internet research has determined the \"effective health\" is a combination of health and armor - both of which you can buy to improve:\n",
    "\n",
    "$$\n",
    "E = \\frac{H(100+A)}{150}\n",
    "$$\n",
    "\n",
    "H is health, which costs 5 gold per unit, and A is armor, which costs 20 gold per unit.\n",
    "\n",
    "You have 3600 gold, and you need to optimize the effectiveness E of your health and armor to survive as long as possible against the enemy team. How much of each should you buy?\n",
    "\n",
    "(Hint, you want to write this as a Lagrange multiplier problem...)\n",
    "\n",
    "Again, you can add more cells, do this by hand, etc. but please put your answer and explanations into the box."
   ]
  },
  {
   "cell_type": "code",
   "execution_count": null,
   "metadata": {
    "deletable": false,
    "nbgrader": {
     "cell_type": "code",
     "checksum": "ba64d7f0095167c190a82df0a66ad898",
     "grade": true,
     "grade_id": "initial-health",
     "locked": false,
     "points": 2,
     "schema_version": 3,
     "solution": true,
     "task": false
    }
   },
   "outputs": [],
   "source": [
    "h, a, lam = symbols('h a lam', real=True)\n",
    "E = (h * (100 + a)) / 150\n",
    "g = h*5 + a*20 - 3600\n",
    "\n",
    "# more work needed\n",
    "health = \n",
    "armor = "
   ]
  },
  {
   "cell_type": "markdown",
   "metadata": {},
   "source": [
    "Ten minutes into the game, you have 500 health and 10 armor left.\n",
    "\n",
    "After spending all your gold to start, you've managed to earn another 500 gold, and prices are the same.\n",
    "\n",
    "Again the goal is to maximize the effectiveness E. Notice that you don't want to maximize the effectiveness of what you *purchase* -- you want to maximize the total effectiveness E of your resulting health and armor. \n",
    "\n",
    "How much of each should you buy now?"
   ]
  },
  {
   "cell_type": "code",
   "execution_count": null,
   "metadata": {
    "deletable": false,
    "nbgrader": {
     "cell_type": "code",
     "checksum": "0825326fb431ee6856d2c5dc56f09275",
     "grade": true,
     "grade_id": "new-health",
     "locked": false,
     "points": 2,
     "schema_version": 3,
     "solution": true,
     "task": false
    }
   },
   "outputs": [],
   "source": [
    "health_purchase = \n",
    "armor_purchase = "
   ]
  },
  {
   "cell_type": "markdown",
   "metadata": {
    "deletable": false,
    "editable": false,
    "nbgrader": {
     "cell_type": "markdown",
     "checksum": "076e78705d4db589f65067162c2bdc2e",
     "grade": false,
     "grade_id": "water-intro",
     "locked": true,
     "schema_version": 3,
     "solution": false,
     "task": false
    }
   },
   "source": [
    "### Water Stretch-Bend\n",
    "\n",
    "In our flipped lecture, I went through the water potential energy function:\n",
    "    \n",
    "$$\n",
    "V(r, \\theta) = V_{bond} + V_{angle} + V_{str-bend}\n",
    "$$\n",
    "\n",
    "Where:\n",
    "$$\n",
    "V_{bond} = 265.79(1 - e^{-2.2534(R - 0.96242)})^2\n",
    "$$\n",
    "\n",
    "$$\n",
    "V_{angle} = 167.16 - 3.217\\theta + 0.01548\\theta^2\n",
    "$$\n",
    "\n",
    "$$\n",
    "V_{s-b} = 0.041 \\left(\\theta-103.908\\right)[2\\left(R- 0.9624 \\right)]\n",
    "$$\n",
    "\n",
    "(I'll admit, I made up the 0.041.)\n",
    "\n",
    "Minimize the potential energy. I suggest using Calculus..."
   ]
  },
  {
   "cell_type": "code",
   "execution_count": null,
   "metadata": {
    "deletable": false,
    "nbgrader": {
     "cell_type": "code",
     "checksum": "bccc0ade4400da2dbdf3184535c82e91",
     "grade": true,
     "grade_id": "potential-e",
     "locked": false,
     "points": 4,
     "schema_version": 3,
     "solution": true,
     "task": false
    }
   },
   "outputs": [],
   "source": [
    "bond = 265.79*(1 - exp((-2.2534)*(r - 0.96242)))**2\n",
    "angle = 167.16 - 3.217*theta + 0.01548*theta**2\n",
    "stretch_bend = 0.041*(theta - 103.908)*(2*(r - 0.9624))\n",
    "V = "
   ]
  },
  {
   "cell_type": "markdown",
   "metadata": {
    "deletable": false,
    "nbgrader": {
     "cell_type": "code",
     "checksum": "cd2f137b90db037233b0a633d6e40c10",
     "grade": true,
     "grade_id": "concept-stretch-bend",
     "locked": false,
     "points": 2,
     "schema_version": 3,
     "solution": true,
     "task": false
    }
   },
   "source": [
    "<div class=\"alert alert-block alert-info\">\n",
    "\n",
    "**Concept**: Based only on the stretch-bend term, what happens to the bonds as the angle increases?\n",
    "    \n",
    "YOUR ANSWER HERE\n",
    "    \n",
    "</div>"
   ]
  }
 ],
 "metadata": {
  "kernelspec": {
   "display_name": "Python 3 (ipykernel)",
   "language": "python",
   "name": "python3"
  },
  "language_info": {
   "codemirror_mode": {
    "name": "ipython",
    "version": 3
   },
   "file_extension": ".py",
   "mimetype": "text/x-python",
   "name": "python",
   "nbconvert_exporter": "python",
   "pygments_lexer": "ipython3",
   "version": "3.9.7"
  },
  "toc": {
   "base_numbering": 1,
   "nav_menu": {},
   "number_sections": false,
   "sideBar": false,
   "skip_h1_title": false,
   "title_cell": "Table of Contents",
   "title_sidebar": "Contents",
   "toc_cell": false,
   "toc_position": {},
   "toc_section_display": false,
   "toc_window_display": false
  }
 },
 "nbformat": 4,
 "nbformat_minor": 1
}
