{
 "cells": [
  {
   "cell_type": "markdown",
   "metadata": {
    "deletable": false,
    "editable": false,
    "nbgrader": {
     "cell_type": "markdown",
     "checksum": "afabaecdfbc732b6d68324d625b57d4d",
     "grade": false,
     "grade_id": "jupyter",
     "locked": true,
     "schema_version": 3,
     "solution": false
    }
   },
   "source": [
    "# CHEM 1000 - Spring 2024\n",
    "Prof. Geoffrey Hutchison, University of Pittsburgh\n",
    "\n",
    "## Graded Homework 5\n",
    "\n",
    "For this homework, we'll focus on:\n",
    "- using Maclaurin and Taylor series\n",
    "- performing integrals (e.g. practice with u-substitution and integration by parts)\n",
    "---\n",
    "\n",
    "As a reminder, you do not need to use Python to solve the problems. If you want, you can use other methods, just put your answers in the appropriate places.\n",
    "\n",
    "To turn in, either download as Notebook (.ipynb) or Print to PDF and upload to Gradescope.\n",
    "\n",
    "Make sure you fill in any place that says YOUR CODE HERE or \"YOUR ANSWER HERE\", as well as your name and collaborators (i.e., anyone you discussed this with) below:"
   ]
  },
  {
   "cell_type": "code",
   "execution_count": null,
   "metadata": {},
   "outputs": [],
   "source": [
    "NAME = \"\"\n",
    "COLLABORATORS = \"\""
   ]
  },
  {
   "cell_type": "markdown",
   "metadata": {
    "deletable": false,
    "editable": false,
    "nbgrader": {
     "cell_type": "markdown",
     "checksum": "dfe9a99da1cb18380658ff5243491131",
     "grade": false,
     "grade_id": "intro",
     "locked": true,
     "schema_version": 3,
     "solution": false,
     "task": false
    }
   },
   "source": [
    "### Maclaurin & Taylor Series\n",
    "\n",
    "As a reminder, we can use Maclaurin series (around x=0) and Taylor series to derive approximations to more complicated functions. This is particularly useful if the function is not completely known, or hard to take derivatives / integrals."
   ]
  },
  {
   "cell_type": "markdown",
   "metadata": {
    "deletable": false,
    "editable": false,
    "nbgrader": {
     "cell_type": "markdown",
     "checksum": "1cc3f2896a748d1176ebe9162b15ea9e",
     "grade": false,
     "grade_id": "series-1",
     "locked": true,
     "schema_version": 3,
     "solution": false,
     "task": false
    }
   },
   "source": [
    "### Hyperbolic Sine\n",
    "\n",
    "Derive the 3rd order (i.e., up to $x^3$) series for the *hyperbolic sine* function:\n",
    "\n",
    "$$\n",
    "\\sinh (x)=\\frac{\\mathrm{e}^{x}-\\mathrm{e}^{-x}}{2}\n",
    "$$\n",
    "\n",
    "Show work... (You can do this with Sympy, Wolfram Alpha, Pen-and-Paper.. whatever works best.)\n",
    "(You can create extra cells / work area in the notebook, but please put the answer where indicated."
   ]
  },
  {
   "cell_type": "code",
   "execution_count": null,
   "metadata": {
    "deletable": false,
    "editable": false,
    "nbgrader": {
     "cell_type": "code",
     "checksum": "5c531311e252e987190e86be0a73365f",
     "grade": false,
     "grade_id": "sympy",
     "locked": true,
     "schema_version": 3,
     "solution": false,
     "task": false
    }
   },
   "outputs": [],
   "source": [
    "from sympy import init_session\n",
    "init_session()"
   ]
  },
  {
   "cell_type": "code",
   "execution_count": null,
   "metadata": {
    "deletable": false,
    "nbgrader": {
     "cell_type": "code",
     "checksum": "f6f5bfe300398064ebb0b344b04cc76b",
     "grade": true,
     "grade_id": "hyperbolic-sine",
     "locked": false,
     "points": 4,
     "schema_version": 3,
     "solution": true,
     "task": false
    }
   },
   "outputs": [],
   "source": [
    "# if you have an error, make sure you run the cell above this\n",
    "hsin = (exp(x) - exp(-x))/2\n",
    "\n",
    "# write the Maclaurin series here"
   ]
  },
  {
   "cell_type": "code",
   "execution_count": null,
   "metadata": {
    "deletable": false,
    "nbgrader": {
     "cell_type": "code",
     "checksum": "b58d64a7f831aa8f26c6a708ad971383",
     "grade": true,
     "grade_id": "hyperbolic-sin",
     "locked": false,
     "points": 2,
     "schema_version": 3,
     "solution": true,
     "task": false
    }
   },
   "outputs": [],
   "source": [
    "# use numpy and matplotlib\n",
    "# to plot the true function\n",
    "# and your Maclaurin series\n",
    "\n",
    "import numpy as np\n",
    "import matplotlib.pyplot as plt\n",
    "%matplotlib inline\n",
    "%config InlineBackend.figure_format = 'retina'\n",
    "\n",
    "x_plot = np.arange(-2.5, 2.5, 0.1)\n",
    "y_plot = (np.exp(x_plot) - np.exp(-x_plot))/2\n",
    "plt.plot(x_plot, y_plot)\n",
    "\n",
    "# make sure to plot your Maclaurin series here\n",
    "\n",
    "plt.show()"
   ]
  },
  {
   "cell_type": "markdown",
   "metadata": {
    "deletable": false,
    "editable": false,
    "nbgrader": {
     "cell_type": "markdown",
     "checksum": "2613d253b1758d2ae8fc38ec4ee6b460",
     "grade": false,
     "grade_id": "taylor-integration",
     "locked": true,
     "schema_version": 3,
     "solution": false,
     "task": false
    }
   },
   "source": [
    "### Taylor Series in Integration\n",
    "\n",
    "Okay, what do you do if you need to integrate an \"impossible\" case, e.g.:\n",
    "\n",
    "$$\n",
    "\\int \\sin \\left(x^{2}\\right) d x\n",
    "$$\n",
    "\n",
    "One option is to use numeric integration. We'll do that later.\n",
    "\n",
    "For this case, work out the first 3 terms in a Taylor series expansion for $\\sin (x^2)$. You will need to go higher than the $x^3$ (i.e., you'll want to see three non-zero terms).\n",
    "\n",
    "Once we have the power series, we can integrate each term in the power series to approximate the integral we want."
   ]
  },
  {
   "cell_type": "code",
   "execution_count": null,
   "metadata": {
    "deletable": false,
    "nbgrader": {
     "cell_type": "code",
     "checksum": "6ce7acec3c334b7934bcc6607bf28b78",
     "grade": true,
     "grade_id": "taylor-sin-x2",
     "locked": false,
     "points": 4,
     "schema_version": 3,
     "solution": true,
     "task": false
    }
   },
   "outputs": [],
   "source": [
    "# your work here\n"
   ]
  },
  {
   "cell_type": "markdown",
   "metadata": {
    "deletable": false,
    "editable": false,
    "nbgrader": {
     "cell_type": "markdown",
     "checksum": "4aa6d097ac4387f1d2ca09831ece1748",
     "grade": false,
     "grade_id": "substitution-intro",
     "locked": true,
     "schema_version": 3,
     "solution": false,
     "task": false
    }
   },
   "source": [
    "### Integration via Substitution\n",
    "\n",
    "A few u-substitution problems - evaluate each of the following integrals by u-substitution. You can check your work via Sympy or Wolfram Alpha, etc. but please show work.\n",
    "\n",
    "$$\n",
    "\\int(\\tan x) d x\n",
    "$$\n",
    "\n",
    "$$\n",
    "\\int \\frac{4 x^{3}}{x^{4}+7} d x\n",
    "$$\n",
    "\n",
    "$$\n",
    "\\int \\frac{(\\ln x)^{2}}{x} d x=\n",
    "$$"
   ]
  },
  {
   "cell_type": "code",
   "execution_count": null,
   "metadata": {
    "deletable": false,
    "nbgrader": {
     "cell_type": "code",
     "checksum": "399f64941f346ad4312b57412e41249c",
     "grade": true,
     "grade_id": "work",
     "locked": false,
     "points": 3,
     "schema_version": 3,
     "solution": true,
     "task": false
    }
   },
   "outputs": [],
   "source": [
    "# Your work here\n",
    "int_tan =\n",
    "fraction =\n",
    "lnx2_x ="
   ]
  },
  {
   "cell_type": "markdown",
   "metadata": {
    "deletable": false,
    "editable": false,
    "nbgrader": {
     "cell_type": "markdown",
     "checksum": "d3889cfa8a734fcb3da3fa77d8bd32f3",
     "grade": false,
     "grade_id": "parts-introduction",
     "locked": true,
     "schema_version": 3,
     "solution": false,
     "task": false
    }
   },
   "source": [
    "### Integration by Parts\n",
    "\n",
    "One great thing about teaching is that you learn new techniques.\n",
    "\n",
    "To help pick the \"u\" for integration, there's a priority list [\"LIATE\"](https://en.wikipedia.org/wiki/Integration_by_parts#LIATE_rule):\n",
    "1 Logarithm\n",
    "2 Inverse trigonometric\n",
    "3 Algebraic\n",
    "4 Trigonometric\n",
    "5 Exponential\n",
    "\n",
    "In other words, \"u\" comes earlier in the list, and \"dv\" comes later in the list.\n",
    "\n",
    "There's also a useful technique for repeated integration-by-parts using [tabular integration](https://en.wikipedia.org/wiki/Integration_by_parts#Tabular_integration_by_parts) I'll show off on Monday.\n",
    "\n",
    "In the meantime, here are some useful practice problems:\n",
    "\n",
    "$$\n",
    "\\int x \\sin (x) d x\n",
    "$$\n",
    "\n",
    "$$\n",
    "\\int \\sin (x) e^{ax} d x\n",
    "$$\n",
    "\n",
    "$$\n",
    "\\int w^{2} \\sin (10 w) d w\n",
    "$$\n",
    "\n",
    "Much like above, you can use sympy or Wolfram Alpha or other tools, but try to work by yourself. Please show work."
   ]
  },
  {
   "cell_type": "code",
   "execution_count": null,
   "metadata": {
    "deletable": false,
    "nbgrader": {
     "cell_type": "code",
     "checksum": "cd2f137b90db037233b0a633d6e40c10",
     "grade": true,
     "grade_id": "concept-stretch-bend",
     "locked": false,
     "points": 2,
     "schema_version": 3,
     "solution": true,
     "task": false
    }
   },
   "outputs": [],
   "source": [
    "# your work here\n",
    "xsinx = \n",
    "sin_eax = \n",
    "w2_sin10w = "
   ]
  }
 ],
 "metadata": {
  "kernelspec": {
   "display_name": "Python 3 (ipykernel)",
   "language": "python",
   "name": "python3"
  },
  "language_info": {
   "codemirror_mode": {
    "name": "ipython",
    "version": 3
   },
   "file_extension": ".py",
   "mimetype": "text/x-python",
   "name": "python",
   "nbconvert_exporter": "python",
   "pygments_lexer": "ipython3",
   "version": "3.9.7"
  },
  "toc": {
   "base_numbering": 1,
   "nav_menu": {},
   "number_sections": false,
   "sideBar": false,
   "skip_h1_title": false,
   "title_cell": "Table of Contents",
   "title_sidebar": "Contents",
   "toc_cell": false,
   "toc_position": {},
   "toc_section_display": false,
   "toc_window_display": false
  }
 },
 "nbformat": 4,
 "nbformat_minor": 1
}
