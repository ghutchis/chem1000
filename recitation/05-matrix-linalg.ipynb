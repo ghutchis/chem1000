{
 "cells": [
  {
   "cell_type": "markdown",
   "metadata": {},
   "source": [
    "# CHEM 1000 - Spring 2024\n",
    "Prof. Geoffrey Hutchison, University of Pittsburgh\n",
    "\n",
    "## Recitation 5 - Numpy Matrices\n",
    "\n",
    "Many applications of Python to science, statistics, engineering, etc. are built on top of the [`numpy`](https://numpy.org/devdocs/user/quickstart.html) module. \n",
    "\n",
    "**Learning Objectives**\n",
    "\n",
    "- Understand how to create `numpy` arrays from lists, or regular sets of numbers\n",
    "- Apply mathematical operations and functions to `numpy` arrays (e.g. for plotting, analysis, vectors, etc.)\n",
    "- Use matrix operations, including determinants, inverses, and solving systems of equations\n",
    "\n",
    "**Attribution**\n",
    "\n",
    "Some of this material has been adapted from [Mathematical Python by Patrick Wills](https://github.com/patrickwalls/mathematical-python/blob/master/scipy/numpy.ipynb)"
   ]
  },
  {
   "cell_type": "markdown",
   "metadata": {},
   "source": [
    "Before we start, we're going to `import numpy` with a standard shorthand `np`\n",
    "\n",
    "This means that we refer to functions as `np.sin` and not `numpy.sin`, etc. to save some keystrokes..."
   ]
  },
  {
   "cell_type": "code",
   "execution_count": null,
   "metadata": {},
   "outputs": [],
   "source": [
    "import numpy as np"
   ]
  },
  {
   "cell_type": "markdown",
   "metadata": {},
   "source": [
    "## NumPy Arrays\n",
    "\n",
    "As a reminder, the fundamental type provided by the NumPy package is the `ndarray`, which is an *n*-dimensional array - usually of numbers.\n",
    "\n",
    "Generally, that means we can store:\n",
    "- 1-dimensional lists / vectors\n",
    "- 2-dimensional matrices / grids\n",
    "- 3-dimensional 'cube' or volumes of data\n",
    "- etc. (e.g., cubes of data over time.. maybe an MRI movie or watching a protein move?)\n",
    "\n",
    "That flexibility adds complexity, unfortunately, but in this class, we'll mostly work with 1D and 2D arrays, which is not too bad. It just means that the Numpy documentation can be complicated to read because functions have to work on so many *types* of `ndarray`.\n",
    "\n",
    "### Creating Arrays\n",
    "\n",
    "The function `numpy.array()` creates a NumPy array from a Python list, or a list of lists (for a matrix)."
   ]
  },
  {
   "cell_type": "code",
   "execution_count": null,
   "metadata": {},
   "outputs": [],
   "source": [
    "M = np.array([[1,2,3],\n",
    "              [4,5,6]])\n",
    "print(M.shape)"
   ]
  },
  {
   "cell_type": "markdown",
   "metadata": {},
   "source": [
    "Again as a reminder, there are several NumPy functions for [creating arrays](https://docs.scipy.org/doc/numpy/user/quickstart.html#array-creation) - here we're using the standard `np` abbreviation for `numpy`:\n",
    "\n",
    "| Function | Description |\n",
    "| ---: | :--- |\n",
    "| `np.array(a)` | Create $n$-dimensional NumPy array from sequence `a` |\n",
    "| `np.linspace(a,b,N)` | Create 1D NumPy array with `N` equally spaced values from `a` to `b` (inclusively)|\n",
    "| `np.arange(a,b,step)` | Create 1D NumPy array with values from `a` to `b` (exclusively) incremented by `step`|\n",
    "| `np.zeros(N)` | Create 1D NumPy array of zeros of length $N$ |\n",
    "| `np.zeros((n,m))` | Create 2D NumPy array of zeros with $n$ rows and $m$ columns |\n",
    "| `np.full(N, value)` | Create 1D NumPy array of `value` of length $N$ |\n",
    "| `np.fill((n,m), value)` | Create 2D NumPy array of `value` with $n$ rows and $m$ columns |\n",
    "| `np.eye(N)` | Create 2D NumPy array with $N$ rows and $N$ columns with ones on the diagonal (ie. the identity matrix of size $N$) |"
   ]
  },
  {
   "cell_type": "code",
   "execution_count": null,
   "metadata": {},
   "outputs": [],
   "source": [
    "# Create a 2D NumPy array with 3 rows and 2 columns, filled with pi\n",
    "N = np.full((3,2), np.pi) # Mmm pies.. 🥧\n",
    "print(N)"
   ]
  },
  {
   "cell_type": "code",
   "execution_count": null,
   "metadata": {},
   "outputs": [],
   "source": [
    "# full will let values be lists\n",
    "# this will create a 3x3 array with 1, 2, 3 across each row\n",
    "one_two_three = np.full((3, 3), [1, 2, 3])\n",
    "print(one_two_three)"
   ]
  },
  {
   "cell_type": "code",
   "execution_count": null,
   "metadata": {},
   "outputs": [],
   "source": [
    "# Create the identity matrix of size 4:\n",
    "I = np.eye(4) # we'll use this again when we get to matrices.. esp. bigger ones\n",
    "print(I)"
   ]
  },
  {
   "cell_type": "markdown",
   "metadata": {},
   "source": [
    "### Dimension, Shape and Size\n",
    "\n",
    "We can think of a 1D NumPy array as a list of numbers, a 2D NumPy array as a matrix, a 3D NumPy array as a cube of numbers, and so on. Given a NumPy array, we can find out how many dimensions it has by accessing its `.ndim` attribute. The result is a number telling us how many dimensions it has.\n",
    "\n",
    "For example - let's check that `I` matrix above:"
   ]
  },
  {
   "cell_type": "code",
   "execution_count": null,
   "metadata": {},
   "outputs": [],
   "source": [
    "I.ndim"
   ]
  },
  {
   "cell_type": "markdown",
   "metadata": {},
   "source": [
    "The result tells us that `I` has 2 dimensions. The first dimension corresponds to the vertical direction counting the rows and the second dimension corresponds to the horizontal direction counting the columns.\n",
    "\n",
    "We can find out how many rows and columns `M` has by accessing its `.shape` attribute:"
   ]
  },
  {
   "cell_type": "code",
   "execution_count": null,
   "metadata": {},
   "outputs": [],
   "source": [
    "M.shape"
   ]
  },
  {
   "cell_type": "markdown",
   "metadata": {},
   "source": [
    "Of course, we created M to be a $2\\times 5$ matrix, so this may seem pretty silly.. still, for example when multiplying vectors and matrices, we need to know what size they are.\n",
    "\n",
    "We can also use the `.size` attribute to give us the total elements - much like we'd use `len()` on a list."
   ]
  },
  {
   "cell_type": "code",
   "execution_count": null,
   "metadata": {},
   "outputs": [],
   "source": [
    "M.size"
   ]
  },
  {
   "cell_type": "markdown",
   "metadata": {},
   "source": [
    "### Array Operations\n",
    "\n",
    "[Arithmetic operators](https://docs.scipy.org/doc/numpy/user/quickstart.html#basic-operations) including addition `+`, subtraction `-`, multiplication `*`, division `/` and exponentiation `**` are applied to arrays *elementwise*. For addition and substraction, these are the familiar vector operations we see in linear algebra:"
   ]
  },
  {
   "cell_type": "code",
   "execution_count": null,
   "metadata": {},
   "outputs": [],
   "source": [
    "v = np.array([1,2,3])\n",
    "w = np.array([1,0,-1])"
   ]
  },
  {
   "cell_type": "code",
   "execution_count": null,
   "metadata": {},
   "outputs": [],
   "source": [
    "v + w"
   ]
  },
  {
   "cell_type": "code",
   "execution_count": null,
   "metadata": {},
   "outputs": [],
   "source": [
    "v - w"
   ]
  },
  {
   "cell_type": "markdown",
   "metadata": {},
   "source": [
    "This also works for multiplying or dividing by scalar numbers:"
   ]
  },
  {
   "cell_type": "code",
   "execution_count": null,
   "metadata": {},
   "outputs": [],
   "source": [
    "2*v"
   ]
  },
  {
   "cell_type": "code",
   "execution_count": null,
   "metadata": {},
   "outputs": [],
   "source": [
    "w / 2"
   ]
  },
  {
   "cell_type": "markdown",
   "metadata": {},
   "source": [
    "The exponent operator ** also acts element by element in the array:"
   ]
  },
  {
   "cell_type": "code",
   "execution_count": null,
   "metadata": {},
   "outputs": [],
   "source": [
    "v ** 2"
   ]
  },
  {
   "cell_type": "markdown",
   "metadata": {},
   "source": [
    "All of these work as expected with matrix operations. Notice that we use two \"[\" characters when starting a 2D matrix (and then two \"]\" characters to end it)."
   ]
  },
  {
   "cell_type": "code",
   "execution_count": null,
   "metadata": {
    "scrolled": true
   },
   "outputs": [],
   "source": [
    "a = np.array( [[1,2,3],\n",
    "               [4,5,6],\n",
    "               [7,8,9]])\n",
    "\n",
    "b = np.array( [[3,1,4],\n",
    "               [1,5,9],\n",
    "               [2,6,5]])\n",
    "\n",
    "print(2*a + b)"
   ]
  },
  {
   "cell_type": "markdown",
   "metadata": {},
   "source": [
    "What about matrix multiplication?\n",
    "\n",
    "If we do use \"a\\*b\" we're actually doing element-wise multiplication. Numpy will multiply the contents of each cell, rather than perform matrix multiplication. 😡\n",
    "\n",
    "It's fairly easy when you know the right syntax.\n",
    "\n",
    "For matrix multiplcation, you want the \"@\" operator:"
   ]
  },
  {
   "cell_type": "code",
   "execution_count": null,
   "metadata": {},
   "outputs": [],
   "source": [
    "a*b # NOT WHAT I WANTED..."
   ]
  },
  {
   "cell_type": "code",
   "execution_count": null,
   "metadata": {},
   "outputs": [],
   "source": [
    "a@b # ah, that's matrix multiplication"
   ]
  },
  {
   "cell_type": "markdown",
   "metadata": {},
   "source": [
    "### Linear Algebra with Matrices\n",
    "\n",
    "There are a few key tasks when using matrices for linear algebra. Most of these are in `numpy.linalg`:\n",
    "\n",
    "- Transpose: `A.T` is the transpose of A\n",
    "- Trace: `numpy.trace(A)` is the trace of A\n",
    "- Determinant: `numpy.linalg.det(A)` is the determinant\n",
    "- Inverse: `numpy.linalg.inv(A)` is the inverse\n",
    "- Solving systems of equations: `numpy.linalg.solve(A, b)` solves the matrix equation $A \\times x = b$"
   ]
  },
  {
   "cell_type": "code",
   "execution_count": null,
   "metadata": {
    "scrolled": false
   },
   "outputs": [],
   "source": [
    "a.T"
   ]
  },
  {
   "cell_type": "code",
   "execution_count": null,
   "metadata": {},
   "outputs": [],
   "source": [
    "np.trace(a)"
   ]
  },
  {
   "cell_type": "code",
   "execution_count": null,
   "metadata": {},
   "outputs": [],
   "source": [
    "# Even though we already imported numpy, we can save some keystrokes\n",
    "# by giving it a shortcut name\n",
    "import numpy.linalg as la\n",
    "\n",
    "la.det(b)"
   ]
  },
  {
   "cell_type": "code",
   "execution_count": null,
   "metadata": {
    "scrolled": true
   },
   "outputs": [],
   "source": [
    "la.inv(b)"
   ]
  },
  {
   "cell_type": "code",
   "execution_count": null,
   "metadata": {
    "scrolled": true
   },
   "outputs": [],
   "source": [
    "# Check b multiplied by inverse\n",
    "b@la.inv(b)"
   ]
  },
  {
   "cell_type": "code",
   "execution_count": null,
   "metadata": {
    "scrolled": true
   },
   "outputs": [],
   "source": [
    "la.inv(b)@b"
   ]
  },
  {
   "cell_type": "markdown",
   "metadata": {},
   "source": [
    "Notice that $b \\times b^{-1}$ is very, very close to the identity matrix:"
   ]
  },
  {
   "cell_type": "code",
   "execution_count": null,
   "metadata": {
    "scrolled": true
   },
   "outputs": [],
   "source": [
    "np.eye(3)"
   ]
  },
  {
   "cell_type": "markdown",
   "metadata": {},
   "source": [
    "Solve the system of equations x + 2y = 1 and 3x + 5y = 2:"
   ]
  },
  {
   "cell_type": "code",
   "execution_count": null,
   "metadata": {},
   "outputs": [],
   "source": [
    "a = np.array([[1, 2],\n",
    "             [3, 5]])\n",
    "b = np.array([1,2])\n",
    "\n",
    "np.linalg.solve(a, b)"
   ]
  },
  {
   "cell_type": "markdown",
   "metadata": {},
   "source": [
    "In other words, x = -1 and y = 1"
   ]
  },
  {
   "cell_type": "markdown",
   "metadata": {},
   "source": [
    "-------\n",
    "This notebook is from Prof. Geoffrey Hutchison, University of Pittsburgh\n",
    "https://github.com/ghutchis/chem1000\n",
    "\n",
    "Portions have been adapted from [Mathematical Python by Patrick Wills](https://github.com/patrickwalls/mathematical-python/tree/master/scipy)\n",
    "\n",
    "<a rel=\"license\" href=\"http://creativecommons.org/licenses/by/4.0/\"><img alt=\"Creative Commons License\" style=\"border-width:0\" src=\"https://i.creativecommons.org/l/by/4.0/88x31.png\" /></a>"
   ]
  }
 ],
 "metadata": {
  "kernelspec": {
   "display_name": "Python 3 (ipykernel)",
   "language": "python",
   "name": "python3"
  },
  "language_info": {
   "codemirror_mode": {
    "name": "ipython",
    "version": 3
   },
   "file_extension": ".py",
   "mimetype": "text/x-python",
   "name": "python",
   "nbconvert_exporter": "python",
   "pygments_lexer": "ipython3",
   "version": "3.9.7"
  },
  "toc": {
   "base_numbering": 1,
   "nav_menu": {},
   "number_sections": false,
   "sideBar": false,
   "skip_h1_title": false,
   "title_cell": "Table of Contents",
   "title_sidebar": "Contents",
   "toc_cell": false,
   "toc_position": {},
   "toc_section_display": false,
   "toc_window_display": false
  }
 },
 "nbformat": 4,
 "nbformat_minor": 4
}
