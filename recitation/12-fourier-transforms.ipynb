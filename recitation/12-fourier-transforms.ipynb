{
 "cells": [
  {
   "cell_type": "markdown",
   "metadata": {},
   "source": [
    "# CHEM 1000 - Spring 2024\n",
    "Ryan Wheat, University of Pittsburgh\n",
    "\n",
    "## Recitation\n",
    "\n",
    "For this recitation, we'll focus on:\n",
    "- Graphical Relations Between Fourier Transforms\n",
    "- Convolutional Theorem and CNN Application\n",
    "---\n",
    "\n",
    "The goal of this recitation network is to expand on the Fourier Transform topic by discussing graphical representations. This will add a visual element to help better understand the mathematics behind these transforms. In addition, discussion will be made on a real-life situation where FFT can be used to aid object classification.\n",
    "\n",
    "Please follow along with recitation and complete the following questions to gain credit for this assignment."
   ]
  },
  {
   "cell_type": "markdown",
   "metadata": {},
   "source": [
    "### Part A: Graphical Interpretation of Fourier Transforms\n",
    "\n",
    "Remember that the fourier transform and inverse fourier transform essentially move between different spatial representations. In cases where cartesian coordinates are not necessary suitable for describing spectra, for example, we can use fourier transforms to plot the important frequencies. Let's do a few fourier transforms so you get comfortable with the graphical relationships.\n",
    "\n",
    "##### Fourier Transforms\n",
    "\n",
    "(1)   $f(x) = cos(x)$\n",
    "\n",
    "(2)   $f(x) = sin(x)$\n",
    "\n",
    "(3)   $f(x) = sinc(x)$\n",
    "\n",
    "##### Inverse Fourier Transforms\n",
    "\n",
    "(4)   $f(w) = e^{-w^2/2}$\n",
    "\n",
    "(5)   $f(w) = \\sum_{k=-\\infty}^{\\infty}{\\delta(w-2k)}$\n",
    "\n",
    "#### Run the code in each cell and answer the two questions below to get credit for this recitation.\n",
    "\n",
    "1. Calculate the Fourier Transform or Inverse Fourier Transform for each function above. This can be done via Wolfram Alpha.\n",
    "2. For each Fourier Transform pair, describe the graphical relationships between the two.\n",
    "\n",
    "*HINT: For the second inverse fourier transform, this is a comb function."
   ]
  },
  {
   "cell_type": "code",
   "execution_count": null,
   "metadata": {},
   "outputs": [],
   "source": [
    "from sympy import init_session\n",
    "init_session()"
   ]
  },
  {
   "cell_type": "code",
   "execution_count": null,
   "metadata": {},
   "outputs": [],
   "source": [
    "# Write the corresponding functions within this cell and give a brief one sentence description of the relationship.\n",
    "\n",
    "fourier_1 = \n",
    "description = \n",
    "\n",
    "fourier_2 = \n",
    "description = \n",
    "\n",
    "fourier_3 = \n",
    "description = \n",
    "\n",
    "inverse_fourier_1 = \n",
    "description = \n",
    "\n",
    "inverse_fourier_2 = \n",
    "description = "
   ]
  },
  {
   "cell_type": "markdown",
   "metadata": {},
   "source": [
    "### Part B: Convolution Theorem\n",
    "\n",
    "Here, we are going to cover the Convolution Theorem, which states that the pointwise product of two Fourier Transforms is equivalent to the convolution of two Inverse Fourier Transforms. Here, the pointwise product is just a product, but in some algebraic concepts can mean something much more complicated. The convolution on the other hand consideres shape formed from the overlap of two distinct graphs. What the Convolution Theorem does is allow for analyzing graphs that can't be expressed explicitly by a single form.\n",
    "\n",
    "Using this concept, let's try building a square wave.\n",
    "\n",
    "#### Run the code in each cell and answer the four questions below to get credit for this recitation.\n",
    "\n",
    "1. Set $f(x) = e^{-x}$ and $g(x) = \\sum_{k=-\\infty}^{\\infty}{\\delta(w-2k)}$. Write the product between both functions. No simplification necessary.\n",
    "2. Now, take the fourier transformation of the function you found in the previous question. Briefly describe the new function.\n",
    "3. What two functions could you postulate make up this function? This step is known as convolution because we are working with one function that is actually a combination of two.\n",
    "4. The last step is to take the inverse fourier transform of the graph that corresponds to the square wave. Which graph is that? Describe it if necessary."
   ]
  },
  {
   "cell_type": "code",
   "execution_count": null,
   "metadata": {},
   "outputs": [],
   "source": [
    "# Calculate the product between f(x) and g(x)\n",
    "\n",
    "product_function = "
   ]
  },
  {
   "cell_type": "code",
   "execution_count": null,
   "metadata": {},
   "outputs": [],
   "source": [
    "# What does the new transformed graph look like?\n",
    "\n",
    "description = "
   ]
  },
  {
   "cell_type": "code",
   "execution_count": null,
   "metadata": {},
   "outputs": [],
   "source": [
    "# What two functions make up the fourier transform graph?\n",
    "\n",
    "function_1 = \n",
    "function_2 = "
   ]
  },
  {
   "cell_type": "code",
   "execution_count": null,
   "metadata": {},
   "outputs": [],
   "source": [
    "# Which graph corresponds to the square wave?\n",
    "\n",
    "square_wave = "
   ]
  }
 ],
 "metadata": {
  "kernelspec": {
   "display_name": "Python 3.7",
   "language": "python",
   "name": "python3"
  },
  "language_info": {
   "codemirror_mode": {
    "name": "ipython",
    "version": 3
   },
   "file_extension": ".py",
   "mimetype": "text/x-python",
   "name": "python",
   "nbconvert_exporter": "python",
   "pygments_lexer": "ipython3",
   "version": "3.7.0"
  }
 },
 "nbformat": 4,
 "nbformat_minor": 4
}
