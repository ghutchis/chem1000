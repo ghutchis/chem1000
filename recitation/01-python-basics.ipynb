{
 "cells": [
  {
   "cell_type": "markdown",
   "metadata": {},
   "source": [
    "# CHEM 1000 - Fall 2020\n",
    "Prof. Geoffrey Hutchison, University of Pittsburgh\n",
    "\n",
    "## Recitation 1 - Python Basics\n",
    "\n",
    "The best way to learn coding or a new programming language is to do something useful. Not only will you have more motivation, but the time invested for the skill will be repaid in (hopefully) doing that useful task.\n",
    "\n",
    "**Learning Objectives**\n",
    "\n",
    "By the end of this recitation / notebook, you should be able to:\n",
    "- Read and write basic Python\n",
    "- Assign variables in Python\n",
    "- Call Python functions and methods\n",
    "- Load Python modules with `import`\n",
    "- Understand simple `for` and `while` loops\n",
    "\n",
    "**Attribution**\n",
    "\n",
    "Much of this recitation has been adapted from [Software Carpentry - Scientific Python Basics](https://bids.github.io/2016-01-14-berkeley/python/00-python-intro.html) and [Mathematical Python by Patrick Wills](https://github.com/patrickwalls/mathematical-python/tree/master/python)"
   ]
  },
  {
   "cell_type": "markdown",
   "metadata": {},
   "source": [
    "## 1. Variables / Things\n",
    "\n",
    "The most basic component of any programming language are \"things\", also called variables or (in special cases) objects.\n",
    "\n",
    "The most common basic \"things\" in Python are integers, floats (i.e., floating-point decimals), strings, booleans, and some special objects of various types. We'll meet many of these as we go through the lesson.\n",
    "\n",
    "**TIP:** To run the code in a cell quickly, press `Ctrl-Enter`."
   ]
  },
  {
   "cell_type": "code",
   "execution_count": null,
   "metadata": {},
   "outputs": [],
   "source": [
    "# a thing\n",
    "2"
   ]
  },
  {
   "cell_type": "code",
   "execution_count": null,
   "metadata": {},
   "outputs": [],
   "source": [
    "# Use print to show multiple things in the same cell\n",
    "# Note that you can use single or double quotes for strings\n",
    "print(2)\n",
    "print('hello')"
   ]
  },
  {
   "cell_type": "markdown",
   "metadata": {},
   "source": [
    "### 1.1 Assign Values to Variables\n",
    "\n",
    "We assign a value to a variable using the assignment operator `=`. For example, assign the integer 2 to the variable `x`:"
   ]
  },
  {
   "cell_type": "code",
   "execution_count": null,
   "metadata": {},
   "outputs": [],
   "source": [
    "# Things can be stored as variables\n",
    "x = 2\n",
    "y = 'hello' # strings can be in single quotes or double quotes\n",
    "z = True  # True and False are case sensitive"
   ]
  },
  {
   "cell_type": "markdown",
   "metadata": {},
   "source": [
    "The assignment operator does not produce any output and so the cell above does not produce any output in a Jupyter notebook. Use the built-in function `print` to display the value assigned to a variable:"
   ]
  },
  {
   "cell_type": "code",
   "execution_count": null,
   "metadata": {},
   "outputs": [],
   "source": [
    "print(x)"
   ]
  },
  {
   "cell_type": "markdown",
   "metadata": {},
   "source": [
    "### 1.2 Naming Conventions\n",
    "\n",
    "We can use any set of letters, numbers and underscores to make variable names however a variable name *cannot* begin with a number. There are many different kinds of naming conventions and we refer to the [Style Guide for Python Code (PEP8)](https://www.python.org/dev/peps/pep-0008/#naming-conventions) for a summary.\n",
    "\n",
    "In general, in Python, people use `lower_case_with_underscores` variable names and single lowercase letter variable names such as `x`. It is good practice to use descriptive variable names, like `height_in_meters` to make your code more readable for other people (including yourself looking back later).\n",
    "\n",
    "However there are words that we should not use as variable names because these words already have special meaning in Python, including [reserved words](https://docs.python.org/3.3/reference/lexical_analysis.html#keywords) and built-in functions For example, do not use `class`, `import`, `sum`, `min`, `max`, `list` or `sorted` as a variable name. See the full list of [builtin functions](https://docs.python.org/3/library/functions.html). Generally if you either use single letters or descriptive `words_with_underscores` you should be fine."
   ]
  },
  {
   "cell_type": "markdown",
   "metadata": {},
   "source": [
    "## 2. Commands that operate on things\n",
    "\n",
    "Just storing data in variables isn't much use to us. Right away, we'd like to start performing operations and manipulations on data and variables.\n",
    "\n",
    "There are three very common means of performing an operation on a thing.\n",
    "\n",
    "### 2.1 Use an operator\n",
    "All of the basic math operators work like you think they should for numbers. They can also do some useful operations on other things, like strings.\n",
    "\n",
    "Number operators include `+`, `-`, `*`, and `/` as well as `%` for integer remainder"
   ]
  },
  {
   "cell_type": "code",
   "execution_count": null,
   "metadata": {},
   "outputs": [],
   "source": [
    "# Standard math operators work as expected on numbers\n",
    "a = 2\n",
    "b = 3\n",
    "print(a + b)\n",
    "print(a * b)\n",
    "print(a ** b)  # a to the power of b (a^b does something completely different!)\n",
    "print(a / b)   # Careful with dividing integers if you use Python 2\n",
    "print(b % a)"
   ]
  },
  {
   "cell_type": "code",
   "execution_count": null,
   "metadata": {},
   "outputs": [],
   "source": [
    "# There are also operators for strings\n",
    "print('hello' + 'world') # notice that the + operator won't include a space\n",
    "print('hello' * 3) # This can be very useful for building up larger strings as sequences"
   ]
  },
  {
   "cell_type": "markdown",
   "metadata": {},
   "source": [
    "### 2.2 Use a function\n",
    "\n",
    "These will be very familiar to anyone who has programmed in any language, and work like you\n",
    "would expect. Functions have a syntax like:\n",
    "\n",
    "`name( *parameters* ) # sometimes with multiple parameters.`\n",
    "\n",
    "**TIP:** Many useful functions are not in the Python itself, but are in external \"modules\" or \"libraries\". These need to be imported into your Python notebook (or program) before they can be used. Some of the most important of these are math, numpy and matplotlib."
   ]
  },
  {
   "cell_type": "code",
   "execution_count": null,
   "metadata": {},
   "outputs": [],
   "source": [
    "print(round(3.3))\n",
    "\n",
    "import math\n",
    "print(math.sqrt(4))\n",
    "print(math.pi) # just a constant\n",
    "print(round(math.pi, 4)) # round pi to 4 decimal places\n",
    "print(math.sin(math.pi/2))"
   ]
  },
  {
   "cell_type": "markdown",
   "metadata": {},
   "source": [
    "### Modules\n",
    "\n",
    "As mentioned above, much of the power of Python is that there are many, many useful modules, particularly for science, math, statistics, machine learning, .. We load these tools with statements like:\n",
    "\n",
    "`import cmath`\n",
    "`import numpy as np`\n",
    "`from sympy import ode`\n",
    "\n",
    "These statements will load additional functions to our Python notebooks and scripts. To prevent confusion, we will typically use a prefix for the method:\n",
    "\n",
    "- `math.sqrt` (from the math module)\n",
    "- `np.sqrt` (from the numpy module using np as an abbreviation)"
   ]
  },
  {
   "cell_type": "markdown",
   "metadata": {},
   "source": [
    "## Exercise 1 - Conversion\n",
    "\n",
    "Throughout this lesson, we will successively build towards a program that will calculate the variance of some measurements, in this case Height in meters. The first thing we want to do is convert from an antiquated measurement system.\n",
    "\n",
    "To change inches into metres we use the following equation (conversion factor is rounded - feel free to look up the exact conversion - we'll use another tool, `pint`, later)\n",
    "\n",
    "$$ meter = \\frac{inches}{39}$$\n",
    "\n",
    "- Create a variable for the conversion factor, called `inches_in_meters`\n",
    "- Create a variable (`inches`) for your height in inches, as inaccurately as you want.\n",
    "- Divide inches by `inches_in_meters`, and store the result in a new variable, `meters`.\n",
    "- Print the result"
   ]
  },
  {
   "cell_type": "code",
   "execution_count": null,
   "metadata": {},
   "outputs": [],
   "source": [
    "## Enter your code here ##\n"
   ]
  },
  {
   "cell_type": "markdown",
   "metadata": {},
   "source": [
    "Hmm, that seems like too many significant figures. We can use the round() method:"
   ]
  },
  {
   "cell_type": "code",
   "execution_count": null,
   "metadata": {},
   "outputs": [],
   "source": [
    "print(round(meters, 3))"
   ]
  },
  {
   "cell_type": "markdown",
   "metadata": {},
   "source": [
    "## 3. Collections\n",
    "\n",
    "While it is interesting to explore your own height, in science we work with larger  slightly more complex datasets. In this example, we are interested in the characteristics and distribution of heights. Python provides us with a number of objects to handle collections.\n",
    "\n",
    "Probably 99% of your work in scientific Python will use `lists` and `numpy arrays`. We'll talk about `numpy` in another session - basically, it offers ways to do math on lists/vectors, matrices, and the like."
   ]
  },
  {
   "cell_type": "markdown",
   "metadata": {},
   "source": [
    "Lists are probably the handiest and most flexible type of container.\n",
    "\n",
    "Lists are declared with square brackets [].\n",
    "\n",
    "Individual elements of a list can be selected using the syntax a[ind].\n",
    "\n",
    "One \"gotcha\" for people new to programming is that lists in Python (and many other programming languages) start at 0."
   ]
  },
  {
   "cell_type": "code",
   "execution_count": null,
   "metadata": {},
   "outputs": [],
   "source": [
    "# Lists are created with square bracket syntax\n",
    "pies = ['blueberry', 'strawberry', 'apple', 'rubarb', 'cherry']\n",
    "print(pies, type(pies))"
   ]
  },
  {
   "cell_type": "code",
   "execution_count": null,
   "metadata": {},
   "outputs": [],
   "source": [
    "# Lists (and all collections) are also indexed with square brackets\n",
    "# NOTE: The first index is zero, not one\n",
    "print(pies[0])\n",
    "print(pies[1])\n",
    "\n",
    "## You can also count from the end of the list\n",
    "print('last item is:', pies[-1])\n",
    "print('second to last item is:', pies[-2]) # notice that the comma between things in a print() adds spaces"
   ]
  },
  {
   "cell_type": "code",
   "execution_count": null,
   "metadata": {},
   "outputs": [],
   "source": [
    "# We can add things to the list\n",
    "pies.append('pumpkin')\n",
    "print('last item is now:', pies[-1])"
   ]
  },
  {
   "cell_type": "markdown",
   "metadata": {},
   "source": [
    "What is a method? It's a type of function. Some types of variables, called objects contain data as well as functions (called methods) to manipulate that data. Everything in Python is an object! The list `pies` in the cell above contains the string entries (the data) but it also has methods like `append()` to manipulate the data."
   ]
  },
  {
   "cell_type": "markdown",
   "metadata": {},
   "source": [
    "### Exercise 2 - Store a bunch of heights (in metres) in a list\n",
    "\n",
    "1. Ask five people around you for their heights (in metres). (For social distancing, just make up some heights.)\n",
    "2. Store these in a list called `heights`.\n",
    "3. Append your own height, calculated above in the variable *meters*, to the list.\n",
    "4. Get the first height from the list and print it.\n",
    "\n",
    "__Bonus__\n",
    "\n",
    "1. Extract the last value in two different ways: first, by using the index for\n",
    "the last item in the list, and second, presuming that you do not know how long the list is.\n",
    "\n",
    "__HINT:__ **len()** can be used to find the length of a collection"
   ]
  },
  {
   "cell_type": "code",
   "execution_count": null,
   "metadata": {},
   "outputs": [],
   "source": [
    "## Enter your code here"
   ]
  },
  {
   "cell_type": "markdown",
   "metadata": {},
   "source": [
    "## 4. Loops\n",
    "\n",
    "Let's say you're asked to take a cognitive test and count backwards from 100 by 7:"
   ]
  },
  {
   "cell_type": "code",
   "execution_count": null,
   "metadata": {},
   "outputs": [],
   "source": [
    "number = 100\n",
    "while number > 0:\n",
    "    print(number)\n",
    "    number = number - 7"
   ]
  },
  {
   "cell_type": "markdown",
   "metadata": {},
   "source": [
    "This is a common case in programming, and we can do the same thing with a `for` loop. We'll usee a new function - the `range()` function has three options:\n",
    "- start (100)\n",
    "- end (0)\n",
    "- step (-7 each time through the loop)"
   ]
  },
  {
   "cell_type": "code",
   "execution_count": null,
   "metadata": {
    "scrolled": true
   },
   "outputs": [],
   "source": [
    "# repeat starting at 100, ending at 0, and going by -7 each time\n",
    "for number in range(100,0,-7):\n",
    "    print(number)"
   ]
  },
  {
   "cell_type": "markdown",
   "metadata": {},
   "source": [
    "This is an important lesson - there are usually many ways to do the same thing in programming. For this class, we're using a small amount of code to help us get the correct answer. I don't care what the code looks like, although we need to read it for grading and it needs to work. 😀"
   ]
  },
  {
   "cell_type": "markdown",
   "metadata": {},
   "source": [
    "## Exercise 3 - Calculate the average height in your list\n",
    "\n",
    "There are a few ways to do this, but let's use a loop.\n",
    "- Create a variable for the total height\n",
    "- Loop through the list of `heights`\n",
    "- For each item in the list, add it to the total (e.g., `total = total + ...`\n",
    "- Once you have the total of all the heights, print total / count"
   ]
  },
  {
   "cell_type": "code",
   "execution_count": null,
   "metadata": {},
   "outputs": [],
   "source": [
    "## Enter your code here"
   ]
  },
  {
   "cell_type": "markdown",
   "metadata": {},
   "source": [
    "## 5. Final Thoughts\n",
    "\n",
    "There's obviously a lot more to Python programming, but this should cover the basics we need for this course. If you have questions about the tutorial here, or code in the future, please don't hestiate to ask in the discussion forum."
   ]
  },
  {
   "cell_type": "markdown",
   "metadata": {},
   "source": [
    "-------\n",
    "This notebook is from Prof. Geoffrey Hutchison, University of Pittsburgh\n",
    "https://github.com/ghutchis/chem1000\n",
    "\n",
    "<a rel=\"license\" href=\"http://creativecommons.org/licenses/by/4.0/\"><img alt=\"Creative Commons License\" style=\"border-width:0\" src=\"https://i.creativecommons.org/l/by/4.0/88x31.png\" /></a>"
   ]
  }
 ],
 "metadata": {
  "kernelspec": {
   "display_name": "Python 3",
   "language": "python",
   "name": "python3"
  },
  "language_info": {
   "codemirror_mode": {
    "name": "ipython",
    "version": 3
   },
   "file_extension": ".py",
   "mimetype": "text/x-python",
   "name": "python",
   "nbconvert_exporter": "python",
   "pygments_lexer": "ipython3",
   "version": "3.6.10"
  },
  "toc": {
   "base_numbering": 1,
   "nav_menu": {},
   "number_sections": false,
   "sideBar": false,
   "skip_h1_title": false,
   "title_cell": "Table of Contents",
   "title_sidebar": "Contents",
   "toc_cell": false,
   "toc_position": {},
   "toc_section_display": false,
   "toc_window_display": false
  }
 },
 "nbformat": 4,
 "nbformat_minor": 4
}
