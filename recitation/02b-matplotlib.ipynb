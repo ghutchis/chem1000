{
 "cells": [
  {
   "cell_type": "markdown",
   "metadata": {},
   "source": [
    "# CHEM 1000 - Spring 2023\n",
    "Prof. Geoffrey Hutchison, University of Pittsburgh\n",
    "\n",
    "## Recitation 2 - Matplotlib\n",
    "\n",
    "Python has several plotting libraries, but [Matplotlib](http://matplotlib.org) is a common tool for 2D plotting, particularly the `matplotlib.pyplot` sub-module.\n",
    "\n",
    "**Learning Objectives**\n",
    "\n",
    "- Understand how to create `numpy` arrays from lists, or regular sets of numbers\n",
    "- Apply mathematical operations and functions to `numpy` arrays (e.g. for plotting, analysis, vectors, etc.)\n",
    "\n",
    "**Attribution**\n",
    "\n",
    "Most of this material has been adapted from [Mathematical Python by Patrick Wills](https://github.com/patrickwalls/mathematical-python/blob/master/scipy/numpy.ipynb)"
   ]
  },
  {
   "cell_type": "markdown",
   "metadata": {},
   "source": [
    "Let's get started by importing `matplotlib.pyplot` and using `%matplotlib` [Jupyter magic](https://ipython.readthedocs.io/en/stable/interactive/magics.html#magic-matplotlib) to display plots in the notebook."
   ]
  },
  {
   "cell_type": "code",
   "execution_count": null,
   "metadata": {},
   "outputs": [],
   "source": [
    "# import the key parts of matplotlib with the common abbreviation `plt`\n",
    "import matplotlib.pyplot as plt\n",
    "\n",
    "# tell matplotlib and Jupyter to include plots inline - in the notebook\n",
    "%matplotlib inline\n",
    "# make the inline backend include high-resolution 'retina' plots on high-res screens\n",
    "# not critical, but it makes a huge difference if you have a good screen\n",
    "%config InlineBackend.figure_format = 'retina'"
   ]
  },
  {
   "cell_type": "markdown",
   "metadata": {},
   "source": [
    "That bit above (and similar versions) is \"boilerplate\" - I just copy and paste it to create plots, e.g.:\n",
    "\n",
    "```\n",
    "# import numpy and matplotlib\n",
    "import numpy as np\n",
    "import matplotlib.pyplot as plt\n",
    "# insert plots in the notebook\n",
    "%matplotlib inline\n",
    "%config InlineBackend.figure_format = 'retina'\n",
    "# bump up the font sizes\n",
    "plt.style.use('./chem1000.mplstyle')\n",
    "```"
   ]
  },
  {
   "cell_type": "markdown",
   "metadata": {},
   "source": [
    "## Basic Plotting\n",
    "\n",
    "### Procedure\n",
    "\n",
    "The general procedure to create a 2D line plot is:\n",
    "\n",
    "1. Create a sequence of $x$ values.\n",
    "2. Create a sequence of $y$ values.\n",
    "3. Enter `plt.plot(x,y,[fmt],**kwargs)` \n",
    "  - where `[fmt]` is an optional format string\n",
    "  - `**kwargs` are optional keyword arguments specifying line properties of the plot\n",
    "4. Use `pyplot` functions to add features to the figure such as a title, legend, grid lines, etc.\n",
    "5. Enter `plt.show()` to display the resulting figure.\n",
    "\n",
    "Some code uses [format strings](https://matplotlib.org/devdocs/api/_as_gen/matplotlib.axes.Axes.plot.html) like 'ro', but it's generally easier to read and understand the keyword options, as discussed below.\n",
    "\n",
    "Let's begin with a basic example with a few random points:"
   ]
  },
  {
   "cell_type": "code",
   "execution_count": null,
   "metadata": {},
   "outputs": [],
   "source": [
    "x = [-5,-2,0,1,3]\n",
    "y = [2,-1,1,-4,3]\n",
    "plt.plot(x,y)\n",
    "plt.show()"
   ]
  },
  {
   "cell_type": "markdown",
   "metadata": {},
   "source": [
    "The main things to notice are:\n",
    "\n",
    "1. The sequences `x` and `y` define the coordinates of the points in the plot.\n",
    "2. The line in the plot is constructed by connecting the points by straight lines.\n",
    "\n",
    "The second observation implies that if we want to plot a smooth curve then we need to plot lots of points otherwise the plot will not be smooth. For example, we could try plotting the parabola $y = x^2$ for $x$ from -2 .. 2 using only 5 points:"
   ]
  },
  {
   "cell_type": "code",
   "execution_count": null,
   "metadata": {},
   "outputs": [],
   "source": [
    "x = [-2,-1,0,1,2]\n",
    "y = [4,1,0,1,4]\n",
    "plt.plot(x,y)\n",
    "plt.show()"
   ]
  },
  {
   "cell_type": "markdown",
   "metadata": {},
   "source": [
    "This is too few points to plot a smooth curve such as $y = x^2$ and so we need more points! Let's try again using the NumPy function `np.linspace` to create 100 points!"
   ]
  },
  {
   "cell_type": "code",
   "execution_count": null,
   "metadata": {},
   "outputs": [],
   "source": [
    "import numpy as np # we haven't done that yet in this notebook\n",
    "\n",
    "x = np.linspace(-2,2,100) # remember, this creates an array from -2 to +2 with 100 divisions (and includes both ±2)\n",
    "y = x**2\n",
    "plt.plot(x,y)\n",
    "plt.show()"
   ]
  },
  {
   "cell_type": "markdown",
   "metadata": {},
   "source": [
    "That's a better representation of the parabola $y = x^2$. Note that the number of points we use in a line plot (100 in this case) is completely arbitrary but the goal is to show a smooth graph for a smooth curve and so we just need to pick a big enough number depending on the function. But be careful not to generate too many points since a *very* large number of points will take a *long* time to plot!\n",
    "\n",
    "Instead of `np.linspace()` we could use `np.arange(start, end, resolution)` to set up our `x` variable.. read them in from a file, write them by hand.. it doesn't matter much. We just need to make sure we have `x` and `y` arrays that are the same length."
   ]
  },
  {
   "cell_type": "markdown",
   "metadata": {},
   "source": [
    "### Line Properties\n",
    "\n",
    "A line appearing in a plot has several properties including color, transparency, style, width and markers. We can set these properties when we call `plt.plot` using the following keyword arguments:\n",
    "\n",
    "| Property | Description |\n",
    "| :---: | :--- |\n",
    "| `alpha` | transparency (0.0 transparent through 1.0 opaque) |\n",
    "| `color` (or `c`) | any matplotlib color |\n",
    "| `label` | text appearing in legend |\n",
    "| `linestyle` (or `ls`) | `solid`, `dashed`, `dashdot`, `dotted` |\n",
    "| `linewidth` (or `lw`) | set width of the line |\n",
    "| `marker` | set marker style |\n",
    "| `markeredgecolor` (or `mec`) | any matplotlib color |\n",
    "| `markerfacecolor` (or `mfc`) | any matplotlib color |\n",
    "| `markersize` (or `ms`) | size of the marker |\n",
    "\n",
    "Note that we can specify a [matplotlib color](https://matplotlib.org/api/colors_api.html) in several different ways including by name such as `blue` or `red`, or by a [RGB](https://www.w3schools.com/colors/colors_rgb.asp) tuple such as `(1,0,1)` for purple. For example, let's plot the function\n",
    "\n",
    "$$\n",
    "y = e^{-x^2}\\cos(2 \\pi x) \\ \\ , \\ \\ x \\in [-2,2]\n",
    "$$"
   ]
  },
  {
   "cell_type": "code",
   "execution_count": null,
   "metadata": {},
   "outputs": [],
   "source": [
    "x = np.linspace(-2,2,41) # range of 4, so 0.1 resolution, plus one to ensure we get -2 and +2\n",
    "y = np.exp(-x**2) * np.cos(2*np.pi*x)\n",
    "\n",
    "plt.plot(x,y,alpha=0.4,label='Decaying Cosine',\n",
    "         color='red',linestyle='dashed',linewidth=2,\n",
    "         marker='o',markersize=5,markerfacecolor='blue',\n",
    "         markeredgecolor='blue')\n",
    "plt.ylim(-2, 2) # set the limits on the y-axis to -2,2\n",
    "plt.legend() #show the plot legend\n",
    "plt.show()"
   ]
  },
  {
   "cell_type": "markdown",
   "metadata": {},
   "source": [
    "Notice that we used the pyplot function `plt.legend` to display the figure with a legend (showing the line label) and  and `plt.ylim` to set the limits on the vertical axis to `[-2,2]`."
   ]
  },
  {
   "cell_type": "markdown",
   "metadata": {},
   "source": [
    "Another example:\n",
    "\n",
    "$$\n",
    "y = \\frac{1}{1 + x^2} \\ , \\ x \\in [-5,5]\n",
    "$$\n",
    "\n",
    "with a dashed black line and square markers:"
   ]
  },
  {
   "cell_type": "code",
   "execution_count": null,
   "metadata": {},
   "outputs": [],
   "source": [
    "x = np.linspace(-5,5,41)\n",
    "y = 1/(1 + x**2)\n",
    "\n",
    "plt.plot(x,y,color='black',linestyle='dashed',marker='s')\n",
    "plt.show()"
   ]
  },
  {
   "cell_type": "markdown",
   "metadata": {},
   "source": [
    "Format strings can be used as a shorthand, e.g. `'ks--'` where `k` denotes a black line, `s` a square marker and `--` a dashed line.\n",
    "\n",
    "#### Colors\n",
    "\n",
    "| Character | Color |\n",
    "| :---: | :---: |\n",
    "| `b` | blue |\n",
    "| `g` | green |\n",
    "| `r` | red |\n",
    "| `c` | cyan |\n",
    "| `m` | magenta |\n",
    "| `y` | yellow |\n",
    "| `k` | black |\n",
    "| `w` | white |\n",
    "\n",
    "Any Web / HTML color name is supported, lists can be found [e.g., Wikipedia](https://en.wikipedia.org/wiki/Web_colors#HTML_color_names).\n",
    "\n",
    "#### Markers\n",
    "\n",
    "| Character | Marker |\n",
    "| :---: | :---: |\n",
    "| `.` | point |\n",
    "| `o` | circle |\n",
    "| `v` | triangle down |\n",
    "| `^` | triangle up |\n",
    "| `s` | square |\n",
    "| `p` | pentagon |\n",
    "| `*` |\tstar |\n",
    "| `+` | plus |\n",
    "| `x` |\tx |\n",
    "| `D` | diamond |\n",
    "\n",
    "#### Line Styles\n",
    "\n",
    "| Character | Line Style |\n",
    "| :---: | :---: |\n",
    "| `-` | solid line style |\n",
    "| `--` | dashed line style |\n",
    "| `-.` | dash-dot line style |\n",
    "| `:` | dotted line style |\n",
    "\n",
    "See the [matplotlib.pyplot.plot documentation](https://matplotlib.org/api/_as_gen/matplotlib.pyplot.plot.html) for more options."
   ]
  },
  {
   "cell_type": "markdown",
   "metadata": {},
   "source": [
    "### Pyplot Functions\n",
    "\n",
    "There are many `pyplot` functions available for us to customize our figures. For example:\n",
    "\n",
    "| Fucntion | Description |\n",
    "| ---: | :--- |\n",
    "| `plt.xlim` | set $x$ limits |\n",
    "| `plt.ylim` | set $y$ limits |\n",
    "| `plt.xscale` | set $x$ scale, e.g. \"linear\", \"log\", \"symlog\" |\n",
    "| `plt.yscale` | set $y$ scale, e.g. \"linear\", \"log\", \"symlog\" |\n",
    "| `plt.xlabel` | add label to the horizontal axis |\n",
    "| `plt.ylabel` | add label to the vertical axis |\n",
    "| `plt.xticks` | set tick locations on the horizontal axis |\n",
    "| `plt.yticks` | set tick locations on the vertical axis |\n",
    "| `plt.grid` | add grid lines |\n",
    "| `plt.title` | add a title |\n",
    "| `plt.axis` | set axis properties (`equal`, `off`, `scaled`, etc.) |\n",
    "| `plt.legend` | display legend for several lines in the same figure |\n",
    "| `plt.savefig` | save figure (as .png, .pdf, etc.) to working directory |\n",
    "| `plt.figure` | create a new figure and set its properties |\n",
    "\n",
    "See the [pyplot documentation](https://matplotlib.org/api/pyplot_summary.html) for a full list of functions."
   ]
  },
  {
   "cell_type": "markdown",
   "metadata": {},
   "source": [
    "### Examples\n",
    "\n",
    "We can also include more than one plot in a figure. We just call `plt.plot()` more than once before `plt.show()`.\n",
    "\n",
    "Indeed, that's part of the point of `matplotlib.pyplot` - you build up a set of commands that modifies the figure before `plt.show()` turns it into a graphic."
   ]
  },
  {
   "cell_type": "code",
   "execution_count": null,
   "metadata": {},
   "outputs": [],
   "source": [
    "x = np.arange(-3.0, 3.0, 0.1) # notice that this leaves off 3.0\n",
    "y1 = -x**2 + 2*x - 1\n",
    "y2 = x**2 + 2*x + 0.75\n",
    "\n",
    "plt.plot(x, y1, color='black')\n",
    "plt.plot(x, y2, color='red')\n",
    "\n",
    "plt.ylim(-4,4) # set the limit on the y-axis to -4 .. 4\n",
    "plt.show()"
   ]
  },
  {
   "cell_type": "markdown",
   "metadata": {},
   "source": [
    "### Taylor Polynomials\n",
    "\n",
    "Plot the function $y = \\cos(x)$ along with its [Taylor polynomials](https://en.wikipedia.org/wiki/Taylor_series) of degrees 2 and 4."
   ]
  },
  {
   "cell_type": "code",
   "execution_count": null,
   "metadata": {},
   "outputs": [],
   "source": [
    "x = np.linspace(-6,6,50)\n",
    "\n",
    "# Plot y = cos(x)\n",
    "y = np.cos(x)\n",
    "plt.plot(x,y,'b',label='cos(x)')\n",
    "\n",
    "# Plot degree 2 Taylor polynomial\n",
    "y2 = 1 - x**2/2\n",
    "plt.plot(x,y2,color='red',label='Degree 2')\n",
    "\n",
    "# Plot degree 4 Taylor polynomial\n",
    "y4 = 1 - x**2/2 + x**4/24\n",
    "plt.plot(x,y4,color='green',label='Degree 4')\n",
    "\n",
    "# Add features to our figure\n",
    "plt.legend()\n",
    "plt.grid(True,linestyle=':')\n",
    "plt.xlim([-6,6])\n",
    "plt.ylim([-4,4])\n",
    "plt.title('Taylor Polynomials of cos(x) at x=0')\n",
    "plt.xlabel('x')\n",
    "plt.ylabel('y')\n",
    "\n",
    "plt.show()"
   ]
  },
  {
   "cell_type": "markdown",
   "metadata": {},
   "source": [
    "### Subplots\n",
    "\n",
    "The `plt.subplot` can be used to create arrays of plots. The function takes at least 3 inputs $n$, $m$ and $i$ and creates a figure with a $n$ by $m$ grid of subplots and then sets the $i$th subplot (counting across the rows) as the current plot (ie. current axes object).\n",
    "\n",
    "For example, consider the [sawtooth wave](https://en.wikipedia.org/wiki/Sawtooth_wave)\n",
    "\n",
    "$$\n",
    "f(t) = \\frac{1}{2} - \\frac{1}{\\pi} \\sum_{k=1}^{\\infty} (-1)^k \\frac{\\sin(2 \\pi k t)}{k}\n",
    "$$\n",
    "\n",
    "and let $f_N(t)$ denote the $N$th partial sum of the sawtooth wave:\n",
    "\n",
    "$$\n",
    "f_N(t) = \\frac{1}{2} - \\frac{1}{\\pi} \\sum_{k=1}^{N} (-1)^k \\frac{\\sin(2 \\pi k t)}{k}\n",
    "$$\n",
    "\n",
    "Create a 2 by 2 grid of subplots to plot the first 4 partial sums:\n",
    "\n",
    "\\begin{align}\n",
    "f_1(t) &= \\frac{1}{2} + \\frac{\\sin(2 \\pi t)}{\\pi} \\\\\\\n",
    "f_2(t) &= \\frac{1}{2} + \\frac{\\sin(2 \\pi t)}{\\pi} - \\frac{\\sin(4 \\pi t)}{2\\pi} \\\\\\\n",
    "f_3(t) &= \\frac{1}{2} + \\frac{\\sin(2 \\pi t)}{\\pi} - \\frac{\\sin(4 \\pi t)}{2\\pi} + \\frac{\\sin(6 \\pi t)}{3\\pi} \\\\\\\n",
    "f_4(t) &= \\frac{1}{2} + \\frac{\\sin(2 \\pi t)}{\\pi} - \\frac{\\sin(4 \\pi t)}{2\\pi} + \\frac{\\sin(6 \\pi t)}{3\\pi} - \\frac{\\sin(8 \\pi t)}{4\\pi}\n",
    "\\end{align}"
   ]
  },
  {
   "cell_type": "code",
   "execution_count": null,
   "metadata": {},
   "outputs": [],
   "source": [
    "t = np.linspace(0,4,200)\n",
    "\n",
    "fN = 1/2\n",
    "for N in [1,2,3,4]:\n",
    "    fN = fN - (-1)**N * np.sin(2*N*np.pi*t)/(N*np.pi)\n",
    "    plt.subplot(2,2,N)\n",
    "    plt.plot(t,fN)\n",
    "    plt.title('N = {}'.format(N))\n",
    "\n",
    "plt.tight_layout() # adds some space between the subplots\n",
    "plt.show()"
   ]
  },
  {
   "cell_type": "markdown",
   "metadata": {},
   "source": [
    "## Scatter plots\n",
    "\n",
    "A [scatter plot](https://matplotlib.org/api/_as_gen/matplotlib.pyplot.scatter.html) has 4 dimensions: $x$ coordinate, $y$ coordinate, and optionally size and color. Let's make a random scatter plot:"
   ]
  },
  {
   "cell_type": "code",
   "execution_count": null,
   "metadata": {},
   "outputs": [],
   "source": [
    "# Set the number of dots in the plot\n",
    "N = 200\n",
    "\n",
    "# Create N different random x and y coordinates sampled uniformly from [0,1]\n",
    "x = np.random.rand(N)\n",
    "y = np.random.rand(N)\n",
    "\n",
    "# Create random array sampled uniformly from [5,25]\n",
    "# `size` array is used below to set the size of each dot\n",
    "size = 20*np.random.rand(N) + 5\n",
    "\n",
    "# Create a figure of size 12 by 5 and create scatter plot\n",
    "# plt.figure(figsize=(12,5))\n",
    "plt.scatter(x,y,s=size)\n",
    "plt.axis('off')\n",
    "plt.show()"
   ]
  },
  {
   "cell_type": "markdown",
   "metadata": {},
   "source": [
    "### Histograms\n",
    "\n",
    "Generate an array of 5000 random numbers sampled from the normal distribution and create a [histogram](https://matplotlib.org/api/_as_gen/matplotlib.pyplot.hist.html). Let's also superimpose the normal distribution:\n",
    "\n",
    "$$\n",
    "y = \\frac{1}{\\sqrt{2\\pi}} e^{-x^2/2}\n",
    "$$"
   ]
  },
  {
   "cell_type": "code",
   "execution_count": null,
   "metadata": {},
   "outputs": [],
   "source": [
    "samples = np.random.randn(5000)\n",
    "\n",
    "# bins = 20 (i.e., 20 equal-sized bins)\n",
    "# density = True means the histogram will be rescaled to reflect the total # of samples\n",
    "plt.hist(samples,bins=20, density=True, alpha=0.5, color=(0.3,0.8,0.1))\n",
    "plt.title('Random Samples - Normal Distribution')\n",
    "plt.ylabel('Frequency')\n",
    "\n",
    "# second plot, adding a Gaussian curve by evaluating x, y across -4 to +4\n",
    "x = np.linspace(-4,4,100)\n",
    "y = 1/(2*np.pi)**0.5 * np.exp(-x**2/2)\n",
    "plt.plot(x,y, alpha=0.8)\n",
    "\n",
    "plt.show()"
   ]
  },
  {
   "cell_type": "markdown",
   "metadata": {},
   "source": [
    "-------\n",
    "This notebook is from Prof. Geoffrey Hutchison, University of Pittsburgh\n",
    "https://github.com/ghutchis/chem1000\n",
    "\n",
    "Most of this material has been adapted from [Mathematical Python by Patrick Wills](https://github.com/patrickwalls/mathematical-python/tree/master/scipy)\n",
    "\n",
    "<a rel=\"license\" href=\"http://creativecommons.org/licenses/by/4.0/\"><img alt=\"Creative Commons License\" style=\"border-width:0\" src=\"https://i.creativecommons.org/l/by/4.0/88x31.png\" /></a>"
   ]
  }
 ],
 "metadata": {
  "kernelspec": {
   "display_name": "Python 3 (ipykernel)",
   "language": "python",
   "name": "python3"
  },
  "language_info": {
   "codemirror_mode": {
    "name": "ipython",
    "version": 3
   },
   "file_extension": ".py",
   "mimetype": "text/x-python",
   "name": "python",
   "nbconvert_exporter": "python",
   "pygments_lexer": "ipython3",
   "version": "3.9.7"
  },
  "toc": {
   "base_numbering": 1,
   "nav_menu": {},
   "number_sections": false,
   "sideBar": false,
   "skip_h1_title": false,
   "title_cell": "Table of Contents",
   "title_sidebar": "Contents",
   "toc_cell": false,
   "toc_position": {},
   "toc_section_display": false,
   "toc_window_display": false
  }
 },
 "nbformat": 4,
 "nbformat_minor": 4
}
