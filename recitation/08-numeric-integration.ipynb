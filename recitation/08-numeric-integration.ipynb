{
 "cells": [
  {
   "cell_type": "markdown",
   "metadata": {},
   "source": [
    "# CHEM 1000 - Spring 2022\n",
    "Prof. Geoffrey Hutchison, University of Pittsburgh\n",
    "\n",
    "## Recitation Ch 8 - Numeric Integration\n",
    "\n",
    "**Learning Objectives**\n",
    "\n",
    "- Understand how to perform numeric integration (using a few different techniques)\n",
    "  - Understand why some methods work better than others\n",
    "\n",
    "**Attribution**\n",
    "\n",
    "Much of this material has been adapted from [Mathematical Python by Patrick Wills](https://github.com/patrickwalls/mathematical-python/blob/master/integration/riemann-sums.ipynb)\n",
    "\n",
    "### Numeric Integration\n",
    "\n",
    "Sometimes we need to use numeric integration rather than analytical indefinite or definite integrals:\n",
    "- The function / data we want to integrate doesn't have a formula (e.g., NMR spectra, MRI images, real-world data, etc.)\n",
    "- The function we want to integrate has no known analytical solution\n",
    "    - (e.g., electron density on a grid, machine learning models\n",
    "- The function has an analytical form, but \"it's complicate\" and maybe it's faster or better to do the integration numerically\n",
    "\n",
    "Remember that we initially expressed integrals as the area under a curve - a limit of a sum of rectangles.\n",
    "\n",
    "These are known as [Riemann sums](https://en.wikipedia.org/wiki/Riemann_sum), which important because they provide an easy way to approximate a definite integral\n",
    "\n",
    "$$\n",
    "\\int_a^b f(x) \\, dx \\approx \\sum_{i=1}^N f(x_i^ * ) (x_i - x_{i-1}) \\\n",
    "$$\n",
    "\n",
    "Notice that the product $f(x_i^ * ) (x_i - x_{i-1})$ for each $i$ is the area of a rectangle of height $f(x_i^ * )$ and width $x_i - x_{i-1}$. We can think of a Riemann sum as the area of $N$ rectangles with heights determined by the graph of $y=f(x)$.\n",
    "\n",
    "The value $x_i^*$ chosen in each subinterval is arbitrary however there are certain obvious choices:\n",
    "\n",
    "* A *left* Riemann sum is when each $x_i^* = x_{i-1}$ is the left endpoint of the subinterval $[x_{i-1},x_i]$\n",
    "* A *right* Riemann sum is when each $x_i^* = x_i$ is the right endpoint of the subinterval $[x_{i-1},x_i]$\n",
    "* A *midpoint* Riemann sum is when each $x_i^* = (x_{i-1} + x_i)/2$ is the midpoint of the subinterval $[x_{i-1},x_i]$\n",
    "\n",
    "Let's visualize rectangles in the left, right and midpoint Riemann sums for the function\n",
    "\n",
    "$$\n",
    "f(x) = \\frac{1}{1 + x^2}\n",
    "$$\n",
    "\n",
    "over the interval $[0,5]$ with a partition of size $N=10$."
   ]
  },
  {
   "cell_type": "code",
   "execution_count": null,
   "metadata": {},
   "outputs": [],
   "source": [
    "# let's plot this\n",
    "import numpy as np\n",
    "import matplotlib.pyplot as plt\n",
    "%matplotlib inline\n",
    "\n",
    "%config InlineBackend.figure_format = 'retina'\n",
    "plt.style.use('../lectures/chem1000.mplstyle')"
   ]
  },
  {
   "cell_type": "code",
   "execution_count": null,
   "metadata": {},
   "outputs": [],
   "source": [
    "# our function to integrate\n",
    "def f(x):\n",
    "    return 1/(1+x**2)\n",
    "\n",
    "\n",
    "a = 0; b = 5; N = 10 # range and partion size\n",
    "n = 10 # Use n*N+1 points to plot the function smoothly\n",
    "\n",
    "x = np.linspace(a,b,N+1)\n",
    "y = f(x)\n",
    "\n",
    "X = np.linspace(a,b,n*N+1)\n",
    "Y = f(X)\n",
    "\n",
    "# set up three plots\n",
    "plt.figure(figsize=(15,5))\n",
    "\n",
    "# left endpoints\n",
    "plt.subplot(1,3,1)\n",
    "plt.plot(X,Y,'b')\n",
    "x_left = x[:-1] # Left endpoints\n",
    "y_left = y[:-1]\n",
    "plt.plot(x_left,y_left,'b.',markersize=10)\n",
    "plt.bar(x_left,y_left,width=(b-a)/N,alpha=0.2,align='edge',edgecolor='b')\n",
    "plt.title('Left Riemann Sum, N = {}'.format(N))\n",
    "plt.ylabel('f(x)')\n",
    "plt.xlabel('x')\n",
    "\n",
    "# midpoints\n",
    "plt.subplot(1,3,2)\n",
    "plt.plot(X,Y,'b')\n",
    "x_mid = (x[:-1] + x[1:])/2 # Midpoints\n",
    "y_mid = f(x_mid)\n",
    "plt.plot(x_mid,y_mid,'b.',markersize=10)\n",
    "plt.bar(x_mid,y_mid,width=(b-a)/N,alpha=0.2,edgecolor='b')\n",
    "plt.title('Midpoint Riemann Sum, N = {}'.format(N))\n",
    "\n",
    "# right endpoints\n",
    "plt.subplot(1,3,3)\n",
    "plt.plot(X,Y,'b')\n",
    "x_right = x[1:] # right endpoints\n",
    "y_right = y[1:]\n",
    "plt.plot(x_right,y_right,'b.',markersize=10)\n",
    "plt.bar(x_right,y_right,width=-(b-a)/N,alpha=0.2,align='edge',edgecolor='b')\n",
    "plt.title('Right Riemann Sum, N = {}'.format(N))\n",
    "plt.ylabel('f(x)')\n",
    "plt.xlabel('x')"
   ]
  },
  {
   "cell_type": "markdown",
   "metadata": {},
   "source": [
    "Notice that when the function $f(x)$ is decreasing on $[a,b]$ the left endpoints give an overestimate of the integral $\\int_a^b f(x) dx$ and right endpoints give an underestimate. The opposite is true is when the function is increasing.\n",
    "\n",
    "Let's compute the value of each of the Riemann sums:"
   ]
  },
  {
   "cell_type": "code",
   "execution_count": null,
   "metadata": {},
   "outputs": [],
   "source": [
    "dx = (b-a)/N\n",
    "\n",
    "print(\"Partition with\",N,\"subintervals.\")\n",
    "\n",
    "x_left = np.linspace(a,b-dx,N)\n",
    "left_riemann_sum = np.sum(f(x_left) * dx)\n",
    "print(\"Left Riemann Sum:\", left_riemann_sum)\n",
    "\n",
    "x_midpoint = np.linspace(dx/2,b - dx/2,N)\n",
    "midpoint_riemann_sum = np.sum(f(x_midpoint) * dx)\n",
    "print(\"Midpoint Riemann Sum:\", midpoint_riemann_sum)\n",
    "\n",
    "x_right = np.linspace(dx,b,N)\n",
    "right_riemann_sum = np.sum(f(x_right) * dx)\n",
    "print(\"Right Riemann Sum:\", right_riemann_sum)"
   ]
  },
  {
   "cell_type": "markdown",
   "metadata": {},
   "source": [
    "We know the exact value\n",
    "\n",
    "$$\n",
    "\\int_0^5 \\frac{1}{1 + x^2} dx = \\arctan(5)\n",
    "$$\n",
    "\n",
    "and we can compare the Riemann sums to the value:"
   ]
  },
  {
   "cell_type": "code",
   "execution_count": null,
   "metadata": {},
   "outputs": [],
   "source": [
    "I = np.arctan(5)\n",
    "print(I)"
   ]
  },
  {
   "cell_type": "code",
   "execution_count": null,
   "metadata": {},
   "outputs": [],
   "source": [
    "print(\"Left Riemann Sum Error:\",np.abs(left_riemann_sum - I))\n",
    "print(\"Midpoint Riemann Sum:\",np.abs(midpoint_riemann_sum - I))\n",
    "print(\"Right Riemann Sum:\",np.abs(right_riemann_sum - I))"
   ]
  },
  {
   "cell_type": "markdown",
   "metadata": {},
   "source": [
    "Much like the central difference formula for numeric derivatives, the midpoint Riemann Sum is much, much more accurate."
   ]
  },
  {
   "cell_type": "code",
   "execution_count": null,
   "metadata": {},
   "outputs": [],
   "source": [
    "def riemann_sum(f,a,b,N=50):\n",
    "    '''Compute the midpoint Riemann sum of f(x) over the interval [a,b].\n",
    "    f : function - numpy function of one variable\n",
    "    a , b : numbers - Endpoints of the interval [a,b]\n",
    "    N : integer - Number of subintervals of equal length in the partition of [a,b]\n",
    "    '''\n",
    "    dx = (b - a)/N\n",
    "    x = np.linspace(a,b,N+1)\n",
    "    # now we need to get the midpoints\n",
    "    # this is a bit sneaky:\n",
    "    # x[:-1] - it takes the array up to the second-to-last element (i.e., last - 1)\n",
    "    # x[1:] - it takes the second array up to the last\n",
    "    # so x[0] + x[1], etc.\n",
    "    x_mid = (x[:-1] + x[1:])/2\n",
    "    \n",
    "    # just add up the rectangles\n",
    "    return np.sum(f(x_mid)*dx)"
   ]
  },
  {
   "cell_type": "code",
   "execution_count": null,
   "metadata": {},
   "outputs": [],
   "source": [
    "riemann_sum(np.sin, 0, np.pi/2, 100)"
   ]
  },
  {
   "cell_type": "markdown",
   "metadata": {},
   "source": [
    "### Exercise 1\n",
    "\n",
    "We know that: \n",
    "\n",
    "$$\n",
    "\\int_{0}^{1} \\frac{4}{1+x^{2}} d x=\\pi\n",
    "$$\n",
    "\n",
    "Use a Riemann sum to calculate $\\pi$.\n",
    "\n",
    "- How big does N need to be to calculate $\\pi$ to 5 decimal places?\n",
    "- How many intervals do you need to get 10 decimal places correct?\n"
   ]
  },
  {
   "cell_type": "code",
   "execution_count": null,
   "metadata": {},
   "outputs": [],
   "source": [
    "def f(x):\n",
    "    return 4/(1 + x**2)\n",
    "\n",
    "# 3.14159265358979\n",
    "# 3.14159\n",
    "# 3.1415926536 (rounding up)\n",
    "riemann_sum(f, 0, 1, 28000)"
   ]
  },
  {
   "cell_type": "code",
   "execution_count": null,
   "metadata": {},
   "outputs": [],
   "source": [
    "# how big is N for 5 decimal places?\n",
    "N = 107 # 3.1415999322458608\n",
    "# how big is n for 10 decimal places?\n",
    "N = 28000 # gives 3.141592653696086 -- still not accurate enough"
   ]
  },
  {
   "cell_type": "markdown",
   "metadata": {},
   "source": [
    "### Trapezoid Rule\n",
    "\n",
    "The [trapezoid rule](https://en.wikipedia.org/wiki/Trapezoidal_rule) gives a better approximation of a definite integral by summing the areas of the trapezoids connecting the points\n",
    "\n",
    "$$\n",
    "(x_{i-1},0), (x_i,0), (x_{i-1},f(x_{i-1})), (x_i,f(x_i))\n",
    "$$\n",
    "\n",
    "for each subinterval $[x_{i-1},x_i]$ of a partition. Note that the area of each trapezoid is the sum of a rectangle and a triangle\n",
    "\n",
    "$$\n",
    "(x_i - x_{i-1}) f(x_{i-1}) + \\frac{1}{2}(x_i - x_{i-1}) (f(x_i) - f(x_{i-1})) = \\frac{1}{2}(f(x_i) + f(x_{i-1}))(x_i - x_{i-1})\n",
    "$$\n",
    "\n",
    "For example, we can use a single trapezoid to approximate:\n",
    "\n",
    "$$\n",
    "\\int_0^1 e^{-x^2} \\, dx\n",
    "$$\n",
    "\n",
    "First, let's plot the curve $y = e^{-x^2}$ and the trapezoid on the interval $[0,1]$:"
   ]
  },
  {
   "cell_type": "code",
   "execution_count": null,
   "metadata": {},
   "outputs": [],
   "source": [
    "x = np.linspace(-0.5,1.5,100)\n",
    "y = np.exp(-x**2)\n",
    "plt.plot(x,y)\n",
    "\n",
    "x0 = 0; x1 = 1;\n",
    "y0 = np.exp(-x0**2); y1 = np.exp(-x1**2);\n",
    "plt.fill_between([x0,x1],[y0,y1])\n",
    "\n",
    "plt.xlim([-0.5,1.5]); plt.ylim([0,1.5]);\n",
    "plt.show()"
   ]
  },
  {
   "cell_type": "code",
   "execution_count": null,
   "metadata": {},
   "outputs": [],
   "source": [
    "A = 0.5*(y1 + y0)*(x1 - x0)\n",
    "print(\"Trapezoid area:\", A)"
   ]
  },
  {
   "cell_type": "markdown",
   "metadata": {},
   "source": [
    "Let's compare this to the midpoint Riemann sum (i.e., with one rectangle)"
   ]
  },
  {
   "cell_type": "code",
   "execution_count": null,
   "metadata": {},
   "outputs": [],
   "source": [
    "def f(x):\n",
    "    return np.exp(-x**2)\n",
    "\n",
    "riemann_sum(f, 0, 1, 1)"
   ]
  },
  {
   "cell_type": "markdown",
   "metadata": {},
   "source": [
    "The limit is about:"
   ]
  },
  {
   "cell_type": "code",
   "execution_count": null,
   "metadata": {},
   "outputs": [],
   "source": [
    "riemann_sum(f, 0, 1, 1000)"
   ]
  },
  {
   "cell_type": "markdown",
   "metadata": {},
   "source": [
    "So one trapezoid sounds like a good idea, but it's around the same accuracy as the midpoint Riemann sum.\n",
    "\n",
    "Let's try some side-by-side comparisons with an implementation:"
   ]
  },
  {
   "cell_type": "code",
   "execution_count": null,
   "metadata": {},
   "outputs": [],
   "source": [
    "def trapz(f,a,b,N=50):\n",
    "    '''Approximate the integral of f(x) from a to b by the trapezoid rule.\n",
    "\n",
    "    The trapezoid rule approximates the integral \\int_a^b f(x) dx by the sum:\n",
    "    (dx/2) \\sum_{k=1}^N (f(x_k) + f(x_{k-1}))\n",
    "    where x_k = a + k*dx and dx = (b - a)/N.\n",
    "\n",
    "    Parameters\n",
    "    ----------\n",
    "    f : function - numpy function of a single variable\n",
    "    a , b : numbers - Interval of integration [a,b]\n",
    "    N : integer - Number of subintervals of [a,b]\n",
    "\n",
    "    '''\n",
    "    x = np.linspace(a,b,N+1) # N+1 points make N subintervals\n",
    "    y = f(x)\n",
    "    y_right = y[1:] # right endpoints\n",
    "    y_left = y[:-1] # left endpoints\n",
    "    dx = (b - a)/N\n",
    "    return (dx/2) * np.sum(y_right + y_left)"
   ]
  },
  {
   "cell_type": "code",
   "execution_count": null,
   "metadata": {},
   "outputs": [],
   "source": [
    "print('Riemann: ', riemann_sum(f, 0, 1, 10))\n",
    "print('trapezoids: ', trapz(f, 0, 1, 10))"
   ]
  },
  {
   "cell_type": "code",
   "execution_count": null,
   "metadata": {},
   "outputs": [],
   "source": [
    "print('Riemann: ', riemann_sum(np.sin, 0, np.pi/2, 10))\n",
    "print('trapezoids: ', trapz(np.sin, 0, np.pi/2, 10))"
   ]
  },
  {
   "cell_type": "markdown",
   "metadata": {},
   "source": [
    "In short, they're really close in accuracy. There's even a numpy (np) method for performing integration:\n",
    "\n",
    "`np.trapz(y-values, dx=spacing)`\n",
    "\n",
    "The trick is to make sure that the spacing is consistent between your function and what you tell:\n",
    "\n",
    "`np.trapz(.., dx=..)`\n",
    "\n",
    "Note that since `np.trapz()` just asks for $y$ values, it can be used on anything (e.g., real-world data)"
   ]
  },
  {
   "cell_type": "code",
   "execution_count": null,
   "metadata": {},
   "outputs": [],
   "source": [
    "spacing = 0.05\n",
    "x = np.arange(0, np.pi/2, spacing)\n",
    "np.trapz(data, dx=spacing)"
   ]
  },
  {
   "cell_type": "markdown",
   "metadata": {},
   "source": [
    "### Exercise 2\n",
    "\n",
    "We used Riemann sums to approximate $\\pi$ above, let's try with trapezoids\n",
    "\n",
    "- How many intervals do you need to get 5 decimal place accuracy?\n",
    "- How many intervals do you need to get 10 decimal place accuracy?"
   ]
  },
  {
   "cell_type": "code",
   "execution_count": null,
   "metadata": {},
   "outputs": [],
   "source": [
    "def f(x):\n",
    "    return 4/(1 + x**2)\n",
    "\n",
    "trapz(f, 0, 1, 43083)\n",
    "# want 3.1415926535 8979"
   ]
  },
  {
   "cell_type": "code",
   "execution_count": null,
   "metadata": {},
   "outputs": [],
   "source": [
    "# how big is N for 5 decimal places?\n",
    "N = 251 # gives 3.141590008129139\n",
    "# how big is n for 10 decimal places?\n",
    "N = 43083 # gives 3.141592653500001"
   ]
  },
  {
   "cell_type": "markdown",
   "metadata": {},
   "source": [
    "### Simpson's Rule\n",
    "\n",
    "[Simpson's rule](https://en.wikipedia.org/wiki/Simpson%27s_rule) uses a quadratic polynomial on each subinterval of a partition to approximate the function $f(x)$ and to compute the definite integral. This is an improvement over the trapezoid rule which approximates $f(x)$ by a straight line on each subinterval of a partition.\n",
    "\n",
    "Image from Wikipedia - function f(x) is in blue and the quadratic approximation P() is in red:\n",
    "<a href=\"https://commons.wikimedia.org/wiki/File:Simpsons_method_illustration.svg#/media/File:Simpsons_method_illustration.svg\"><img src=\"https://upload.wikimedia.org/wikipedia/commons/thumb/c/ca/Simpsons_method_illustration.svg/1200px-Simpsons_method_illustration.svg.png\" alt=\"Simpsons method illustration.svg\" width=\"300\"></a>\n",
    "\n",
    "In short, you approximate the integral by taking a small parabola using the two end points and the midpoint (i.e., three points exactly determines a curve).\n",
    "\n",
    "The formula for Simpson's rule is:\n",
    "\n",
    "$$\n",
    "S_N(f) = \\frac{\\Delta x}{3} \\sum_{i=1}^{N/2} \\left( f(x_{2i-2}) + 4 f(x_{2i-1}) + f(x_{2i}) \\right)\n",
    "$$\n",
    "\n",
    "where $N$ is an ***even*** number of subintervals of $[a,b]$, $\\Delta x = (b - a)/N$ and $x_i = a + i \\Delta x$."
   ]
  },
  {
   "cell_type": "code",
   "execution_count": null,
   "metadata": {},
   "outputs": [],
   "source": [
    "def simps(f,a,b,N=50):\n",
    "    '''Approximate the integral of f(x) from a to b by Simpson's rule.\n",
    "\n",
    "    Simpson's rule approximates the integral \\int_a^b f(x) dx by the sum:\n",
    "    (dx/3) \\sum_{k=1}^{N/2} (f(x_{2i-2} + 4f(x_{2i-1}) + f(x_{2i}))\n",
    "    where x_i = a + i*dx and dx = (b - a)/N.\n",
    "\n",
    "    Parameters\n",
    "    ----------\n",
    "    f : function - numpy function of a single variable\n",
    "    a , b : numbers - Interval of integration [a,b]\n",
    "    N : (even) integer - Number of subintervals of [a,b]\n",
    "    '''\n",
    "    if N % 2 == 1:\n",
    "        raise ValueError(\"N must be an even integer.\")\n",
    "    dx = (b-a)/N\n",
    "    x = np.linspace(a,b,N+1)\n",
    "    y = f(x)\n",
    "    return dx/3 * np.sum(y[0:-1:2] + 4*y[1::2] + y[2::2])"
   ]
  },
  {
   "cell_type": "markdown",
   "metadata": {},
   "source": [
    "Let's try it out on $\\sin x$ first:"
   ]
  },
  {
   "cell_type": "code",
   "execution_count": null,
   "metadata": {},
   "outputs": [],
   "source": [
    "print('Riemann: ', riemann_sum(np.sin, 0, np.pi/2, 4))\n",
    "print('trapezoids: ', trapz(np.sin, 0, np.pi/2, 4))\n",
    "print('Simpson: ', simps(np.sin, 0, np.pi/2, 4))"
   ]
  },
  {
   "cell_type": "markdown",
   "metadata": {},
   "source": [
    "Notice that I intentionally used a small number of intervals here (4) and Simpson's rule is already accurate to over 3 decimal places, much better than either other method.\n",
    "\n",
    "In some sense, Simpson's rule is a weighted average of the estimates from the two other methods.\n",
    "\n",
    "There are other numeric integration methods, but Riemann / Trapezoid and Simpson's rule are good, useful methods."
   ]
  },
  {
   "cell_type": "code",
   "execution_count": null,
   "metadata": {},
   "outputs": [],
   "source": [
    "# from the homework\n",
    "def f(x):\n",
    "    return np.sin(x**2)\n",
    "\n",
    "print('Riemann: ', riemann_sum(f, 0, np.pi/2, 50))\n",
    "print('trapezoids: ', trapz(f, 0, np.pi/2, 50))\n",
    "print('Simpson: ', simps(f, 0, np.pi/2, 50))"
   ]
  },
  {
   "cell_type": "markdown",
   "metadata": {},
   "source": [
    "### Exercise 3\n",
    "\n",
    "We approximated $\\pi$ using Riemann sums and trapezoids above.\n",
    "\n",
    "Now try with Simpson's rule. \n",
    "\n",
    "- How many intervals do you need to get 5 decimal place accuracy?\n",
    "- How many intervals do you need to get 10 decimal place accuracy?"
   ]
  },
  {
   "cell_type": "code",
   "execution_count": null,
   "metadata": {},
   "outputs": [],
   "source": [
    "def f(x):\n",
    "    return 4/(1 + x**2)\n",
    "\n",
    "simps(f, 0, 1, 30)\n",
    "# want 3.1415926536 or 3.14159265358979"
   ]
  },
  {
   "cell_type": "code",
   "execution_count": null,
   "metadata": {},
   "outputs": [],
   "source": [
    "# how big is N for 5 decimal places?\n",
    "N = 6 # gives 3.141591780936043\n",
    "# how big is n for 10 decimal places?\n",
    "N = 28 # gives 3.1415926535074465\n",
    "N = 30 # gives 3.141592653535359"
   ]
  },
  {
   "cell_type": "markdown",
   "metadata": {},
   "source": [
    "### Exercise 4\n",
    "\n",
    "Go back and compare:\n",
    "\n",
    "- For Riemann sums, trapezoids, and Simpson's rule, how many intervals did you need for 5 decimal place accuracy?\n",
    "- For all three methods, how many do you need for 10 decimal place accuracy?"
   ]
  },
  {
   "cell_type": "code",
   "execution_count": null,
   "metadata": {},
   "outputs": [],
   "source": [
    "# 5 decimal places - how big does N need to be?\n",
    "riemann = 107\n",
    "trapz = 251\n",
    "simps = 6\n",
    "# 10 decimal places - how big does N need to be?\n",
    "riemann = 28000\n",
    "trapz = 43083\n",
    "simps = 28"
   ]
  },
  {
   "cell_type": "markdown",
   "metadata": {},
   "source": [
    "-------\n",
    "This notebook is from Prof. Geoffrey Hutchison, University of Pittsburgh\n",
    "https://github.com/ghutchis/chem1000\n",
    "\n",
    "Most of this material has been adapted from [Mathematical Python by Patrick Wills](https://github.com/patrickwalls/mathematical-python/tree/master/scipy)\n",
    "\n",
    "<a rel=\"license\" href=\"http://creativecommons.org/licenses/by/4.0/\"><img alt=\"Creative Commons License\" style=\"border-width:0\" src=\"https://i.creativecommons.org/l/by/4.0/88x31.png\" /></a>"
   ]
  }
 ],
 "metadata": {
  "kernelspec": {
   "display_name": "Python 3",
   "language": "python",
   "name": "python3"
  },
  "language_info": {
   "codemirror_mode": {
    "name": "ipython",
    "version": 3
   },
   "file_extension": ".py",
   "mimetype": "text/x-python",
   "name": "python",
   "nbconvert_exporter": "python",
   "pygments_lexer": "ipython3",
   "version": "3.6.11"
  },
  "toc": {
   "base_numbering": 1,
   "nav_menu": {},
   "number_sections": false,
   "sideBar": false,
   "skip_h1_title": false,
   "title_cell": "Table of Contents",
   "title_sidebar": "Contents",
   "toc_cell": false,
   "toc_position": {},
   "toc_section_display": false,
   "toc_window_display": false
  }
 },
 "nbformat": 4,
 "nbformat_minor": 4
}
