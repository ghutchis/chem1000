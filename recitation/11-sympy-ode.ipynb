{
 "cells": [
  {
   "cell_type": "markdown",
   "metadata": {},
   "source": [
    "# CHEM 1000 - Spring 2023\n",
    "Prof. Geoffrey Hutchison, University of Pittsburgh\n",
    "\n",
    "## Recitation Ch 11 - Using Sympy to Solve Differential Equations\n",
    "\n",
    "**Learning Objectives**\n",
    "\n",
    "- Understand how to use Sympy to solve ordinary differential equations algebraically\n",
    "\n",
    "**Attribution**\n",
    "\n",
    "Some of this material has been adapted from [Sympy Documentation](https://docs.sympy.org/dev/guides/solving/solve-ode.html) by Dr. Jeremy Monat.\n",
    "\n",
    "### Definining a Differential Equation in Sympy\n",
    "\n",
    "Much like we can use `solve()` to solve equations and systems of equations using Sympy, we can use `dsolve()` to solve many kinds of differential equations.\n",
    "\n",
    "The syntax is a little different, but not too hard to build up.\n",
    "\n",
    "Most important, we need to define our function to solve for:\n",
    "\n",
    "```\n",
    "# for example...\n",
    "y = Function('y')\n",
    "f = Function('f')\n",
    "```\n",
    "\n",
    "Note that it must be a function rather than a variable (symbol). SymPy will give an error if you specify a variable ($x$) rather than a function ($f(x)$). \n",
    "\n",
    "You must also specify the variable of the function, i.e. $y(x)$ not just $y$ or $f$."
   ]
  },
  {
   "cell_type": "code",
   "execution_count": null,
   "metadata": {},
   "outputs": [],
   "source": [
    "from sympy import init_session\n",
    "init_session()"
   ]
  },
  {
   "cell_type": "markdown",
   "metadata": {},
   "source": [
    "Okay, let's start with something simple like:\n",
    "\n",
    "$$\\frac{df}{dx} + 9f =  0$$\n",
    "\n",
    "We know how to solve this, and we know what the solution should look like...\n",
    "\n",
    "Remember, we need to use `f(x)` when we're specifying the differential equation."
   ]
  },
  {
   "cell_type": "code",
   "execution_count": null,
   "metadata": {},
   "outputs": [],
   "source": [
    "diffeq = diff(f(x), x) + 9*f(x)\n",
    "\n",
    "# now solve for f(x)\n",
    "dsolve(diffeq, f(x))"
   ]
  },
  {
   "cell_type": "markdown",
   "metadata": {},
   "source": [
    "Okay, that wasn't too hard, what about a non-homogeneous example:\n",
    "\n",
    "$$ \\frac{df}{dx} + 9x^2 f = 3x $$"
   ]
  },
  {
   "cell_type": "code",
   "execution_count": null,
   "metadata": {},
   "outputs": [],
   "source": [
    "# rewrite this to equal zero\n",
    "eq2 = diff(f(x), x) + 8*x * f(x) - 3*x\n",
    "\n",
    "dsolve(eq2, f(x))"
   ]
  },
  {
   "cell_type": "markdown",
   "metadata": {},
   "source": [
    "And let's go for a second-order differential equation with constant coefficients?\n",
    "\n",
    "$$ \\frac{d^2 f}{dx^2} + 9f = 0 $$\n",
    "\n",
    "Note that Sympy will automatically simplify through the Euler relation if needed."
   ]
  },
  {
   "cell_type": "code",
   "execution_count": null,
   "metadata": {},
   "outputs": [],
   "source": [
    "eq3 = diff(f(x), x, x) + 9*f(x)\n",
    "dsolve(eq3, f(x))"
   ]
  },
  {
   "cell_type": "code",
   "execution_count": null,
   "metadata": {},
   "outputs": [],
   "source": [
    "eq4 = diff(f(x), x, x) + 2*diff(f(x), x) + 5*f(x)\n",
    "dsolve(eq4, f(x))"
   ]
  },
  {
   "cell_type": "markdown",
   "metadata": {},
   "source": [
    "Now, you might wonder .. how do I check my solution?\n",
    "\n",
    "Okay. Maybe you're not wondering.\n",
    "\n",
    "You can use `checkodesol(equation, result)`\n",
    "\n",
    "This returns `True` or `False` and the result of the substitution (presumably 0):"
   ]
  },
  {
   "cell_type": "code",
   "execution_count": null,
   "metadata": {},
   "outputs": [],
   "source": [
    "result4 = dsolve(eq4, f(x))\n",
    "checkodesol(eq4, result4)"
   ]
  },
  {
   "cell_type": "markdown",
   "metadata": {},
   "source": [
    "### Initial Values / Boundary Conditions\n",
    "\n",
    "This works great for the general solution. Many times we need a specific solution in which we solve for the integration constants.\n",
    "\n",
    "To do this, we need to supply an option to `dsolve( .. ics={})`\n",
    "\n",
    "For example:\n",
    "`ics={f(x0): y0, f(x).diff(x).subs(x, x1): y1}`\n",
    "\n",
    "In this case, we have initial values: $f(x_0) = y_0$ and $f'(x_1) = y_1$\n",
    "\n",
    "The syntax for substituting the first derivative is a little long - but it's exactly saying \"take the derivative of the function, then substitute x for a value 1 .. and at that point the value is 2\"\n",
    "\n",
    "`f(x).diff(x).subs(x, 1): 2`"
   ]
  },
  {
   "cell_type": "code",
   "execution_count": null,
   "metadata": {},
   "outputs": [],
   "source": [
    "dsolve(eq4, f(x), ics={f(0): 0})\n",
    "# note that the cos() term disappears"
   ]
  },
  {
   "cell_type": "code",
   "execution_count": null,
   "metadata": {},
   "outputs": [],
   "source": [
    "dsolve(eq4, f(x), ics={f(0): 0, f(x).diff(x).subs(x, 0) : 2})"
   ]
  },
  {
   "cell_type": "code",
   "execution_count": null,
   "metadata": {},
   "outputs": [],
   "source": [
    "# another example\n",
    "diffeq = diff(f(x), x) + 9*f(x)\n",
    "# set the value at x = 0 to 2*e\n",
    "dsolve(diffeq, f(x), ics={f(0): 2*exp(0)})"
   ]
  },
  {
   "cell_type": "markdown",
   "metadata": {},
   "source": [
    "### What About Harder Differential Equations?\n",
    "\n",
    "Sympy knows several methods to solve differential equations. Like us, it classifies the diff. eq. before using a method.\n",
    "\n",
    "In more general cases, it will resort to a power series solution.\n",
    "\n",
    "Unlike our manual efforts, it will just start spitting terms of a series. You'll need to use the option `n=8` or something if you want a higher-order polynomial.\n",
    "\n",
    "Here's an example for:\n",
    "\n",
    "$$ \\frac{d^2 f}{dx^2} + x^2 f(x) = 9f(x) $$"
   ]
  },
  {
   "cell_type": "code",
   "execution_count": null,
   "metadata": {},
   "outputs": [],
   "source": [
    "eq5 = diff(f(x), x, x) + x**2 * f(x) - 9 * f(x)\n",
    "dsolve(eq5, f(x))"
   ]
  },
  {
   "cell_type": "code",
   "execution_count": null,
   "metadata": {},
   "outputs": [],
   "source": [
    "dsolve(eq5, f(x), n=8)"
   ]
  },
  {
   "cell_type": "markdown",
   "metadata": {},
   "source": [
    "### A Few Examples\n",
    "\n",
    "Try to solve these:\n",
    "  \n",
    "$$\n",
    "x \\frac{d y(x)}{d x}+y(x)=x^2+1\n",
    "$$\n",
    "\n",
    "$$\n",
    "\\frac{d^2 y(x)}{d x^2}+2 \\frac{d y(x)}{d x}+4 y(x)=0\n",
    "$$\n",
    "\n",
    "$$\n",
    "\\frac{d^2 y(x)}{d x^2}+2 \\frac{d y(x)}{d x}+y(x)=0\n",
    "$$\n"
   ]
  },
  {
   "cell_type": "code",
   "execution_count": null,
   "metadata": {},
   "outputs": [],
   "source": []
  },
  {
   "cell_type": "markdown",
   "metadata": {},
   "source": [
    "-------\n",
    "This notebook is from Prof. Geoffrey Hutchison, University of Pittsburgh\n",
    "https://github.com/ghutchis/chem1000\n",
    "\n",
    "<a rel=\"license\" href=\"http://creativecommons.org/licenses/by/4.0/\"><img alt=\"Creative Commons License\" style=\"border-width:0\" src=\"https://i.creativecommons.org/l/by/4.0/88x31.png\" /></a>"
   ]
  }
 ],
 "metadata": {
  "kernelspec": {
   "display_name": "Python 3 (ipykernel)",
   "language": "python",
   "name": "python3"
  },
  "language_info": {
   "codemirror_mode": {
    "name": "ipython",
    "version": 3
   },
   "file_extension": ".py",
   "mimetype": "text/x-python",
   "name": "python",
   "nbconvert_exporter": "python",
   "pygments_lexer": "ipython3",
   "version": "3.9.16"
  },
  "toc": {
   "base_numbering": 1,
   "nav_menu": {},
   "number_sections": false,
   "sideBar": false,
   "skip_h1_title": false,
   "title_cell": "Table of Contents",
   "title_sidebar": "Contents",
   "toc_cell": false,
   "toc_position": {},
   "toc_section_display": false,
   "toc_window_display": false
  }
 },
 "nbformat": 4,
 "nbformat_minor": 4
}
