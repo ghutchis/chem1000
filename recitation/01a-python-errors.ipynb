{
 "cells": [
  {
   "cell_type": "markdown",
   "metadata": {},
   "source": [
    "# CHEM 1000 - Spring 2023\n",
    "Prof. Geoffrey Hutchison, University of Pittsburgh\n",
    "\n",
    "## Recitation 1a - Python Errors\n",
    "\n",
    "No matter how good you become as a programmer, you will make errors. That's of course part of being human. It also means that when we learn coding, we make mistakes. Unfortunately, it can take some work to translate from a Python error message into \"how do I fix the problem.\"\n",
    "\n",
    "<img src=\"../images/Error.png\" width=\"400\" />\n",
    "\n",
    "We will see some examples of common errors and how to fix them. This list is hardly comprehensive, so please ask if you run into an error -- we can add them to the list.\n",
    "\n",
    "Eventually, we will be able to use Python 3.10 and later, which include better error messages with more specific suggestions.\n",
    "\n",
    "**Learning Objectives**\n",
    "\n",
    "By the end of this recitation / notebook, you should be able to:\n",
    "- See examples of common Python errors\n",
    "- Better understand Python error messages\n",
    "\n",
    "**Attribution**\n",
    "\n",
    "Parts of this have been adapted from material from [Software Carpentry](https://swcarpentry.github.io/python-novice-inflammation/09-errors/index.html)."
   ]
  },
  {
   "cell_type": "markdown",
   "metadata": {},
   "source": [
    "## Types of errors\n",
    "\n",
    "The two most common kinds of errors are:\n",
    "- *Syntax errors* (the code is not correct Python syntax)\n",
    "- *Runtime errors* (the code starts to run but has a problem)\n",
    "\n",
    "We'll look at a few examples of each.\n",
    "\n",
    "Generally when Python finds an error or \"exception\" it will also print a \"traceback.\" The last level is the actual place where the error occurred, with the offending line indicated. This should be where the problematic code is, although in some cases, the traceback can get confused and the error is somewhere else.\n",
    "\n",
    "Newer versions of Python are improving the error messages, but aren't widely available.\n",
    "\n",
    "Even so, it's really helpful to know how to translate error messages into human language. 😉"
   ]
  },
  {
   "cell_type": "markdown",
   "metadata": {},
   "source": [
    "## Syntax Errors\n",
    "\n",
    "There are a few sub-categories of syntax errors, but most of these are some form of typo.\n",
    "\n",
    "When you forget a colon at the end of a line, accidentally add one space too many when indenting under a `for` loop, or forget a parenthesis, you will encounter a syntax error. \n",
    "\n",
    "This means that Python couldn’t figure out how to read your program. This is similar to forgetting punctuation in English: for example, this text is difficult to read there is no punctuation there is also no capitalization why is this hard because you have to figure out where each sentence ends you also have to figure out where each sentence begins to some extent it might be ambiguous if there should be a sentence break or not\n",
    "\n",
    "People can typically figure out what is meant by text with no punctuation, but people are much smarter than computers (for now at least). If Python doesn’t know how to read the program, it will give up and inform you with an error. For example:\n",
    "\n"
   ]
  },
  {
   "cell_type": "code",
   "execution_count": 1,
   "metadata": {},
   "outputs": [
    {
     "ename": "SyntaxError",
     "evalue": "invalid syntax (904803411.py, line 1)",
     "output_type": "error",
     "traceback": [
      "\u001b[0;36m  Input \u001b[0;32mIn [1]\u001b[0;36m\u001b[0m\n\u001b[0;31m    for number in range(1, 10)\u001b[0m\n\u001b[0m                              ^\u001b[0m\n\u001b[0;31mSyntaxError\u001b[0m\u001b[0;31m:\u001b[0m invalid syntax\n"
     ]
    }
   ],
   "source": [
    "for number in range(1, 10)\n",
    "    print(number)"
   ]
  },
  {
   "cell_type": "markdown",
   "metadata": {},
   "source": [
    "Notice that there's something missing at the end of this line. Python syntax should have a `:` to indicate the end of the `for` statement, and the `^` character is showing you where it goes (but not how to fix it, necessarily).\n",
    "\n",
    "Here's another case:"
   ]
  },
  {
   "cell_type": "code",
   "execution_count": 2,
   "metadata": {},
   "outputs": [
    {
     "ename": "SyntaxError",
     "evalue": "invalid syntax (644244798.py, line 4)",
     "output_type": "error",
     "traceback": [
      "\u001b[0;36m  Input \u001b[0;32mIn [2]\u001b[0;36m\u001b[0m\n\u001b[0;31m    y = np.cos(3.5)\u001b[0m\n\u001b[0m    ^\u001b[0m\n\u001b[0;31mSyntaxError\u001b[0m\u001b[0;31m:\u001b[0m invalid syntax\n"
     ]
    }
   ],
   "source": [
    "import numpy as np\n",
    "\n",
    "x = np.sin(3.5\n",
    "y = np.cos(3.5)"
   ]
  },
  {
   "cell_type": "markdown",
   "metadata": {},
   "source": [
    "This error is sneaky. Notice that the error message is flagging the `y = np.cos(3.5)` line. But the real problem is on the line above, where there's a missing `)` at the end of the line.\n",
    "\n",
    "If you don't spot a problem with the line flagged in the error message, check the line above to see if you're missing end `)` or `]` characters.\n",
    "\n",
    "The latest version of Python 3.10 (which unfortunately isn't installed yet) gives a better error message, e.g.\n",
    "\n",
    "```\n",
    "SyntaxError: '(' was never closed\n",
    "```\n",
    "\n",
    "Another class of sneaky error messages comes up with indentation:"
   ]
  },
  {
   "cell_type": "code",
   "execution_count": 3,
   "metadata": {},
   "outputs": [
    {
     "ename": "IndentationError",
     "evalue": "unexpected indent (3568391020.py, line 4)",
     "output_type": "error",
     "traceback": [
      "\u001b[0;36m  Input \u001b[0;32mIn [3]\u001b[0;36m\u001b[0m\n\u001b[0;31m    print(total)\u001b[0m\n\u001b[0m    ^\u001b[0m\n\u001b[0;31mIndentationError\u001b[0m\u001b[0;31m:\u001b[0m unexpected indent\n"
     ]
    }
   ],
   "source": [
    "total = 0\n",
    "while total < 100:\n",
    "  total = total + 1\n",
    "    print(total)"
   ]
  },
  {
   "cell_type": "markdown",
   "metadata": {},
   "source": [
    "In this case, we get a specific `IndentationError` - a kind of Syntax Error complaining about the amount of indent used in the code.\n",
    "\n",
    "Python uses tabs or spaces to indicate what code belongs in a loop or `if` / `else` conditional statement, etc. and what code will run after the loop.\n",
    "\n",
    "Consequently, if you have inconsistent indendation, like above, your code will get an IndentationError.\n",
    "\n",
    "Occasionally, if you're pasting code from somewhere else, you might also see a `TabError` which is when there's inconsistent use of tabs and spaces. (Like maybe one line uses tabs, and another line uses spaces.) In that case, just go through and re-type the indents and you'll be okay. (Some people have holy wars over tabs versus spaces. Ignore them.)"
   ]
  },
  {
   "cell_type": "markdown",
   "metadata": {},
   "source": [
    "### Name Errors\n",
    "\n",
    "Another kind of typo-induced error is a NameError. Technically speaking, these are runtime errors, because the syntax is correct, but the code won't run. There are a few of these:"
   ]
  },
  {
   "cell_type": "code",
   "execution_count": 4,
   "metadata": {},
   "outputs": [
    {
     "ename": "ModuleNotFoundError",
     "evalue": "No module named 'numy'",
     "output_type": "error",
     "traceback": [
      "\u001b[0;31m---------------------------------------------------------------------------\u001b[0m",
      "\u001b[0;31mModuleNotFoundError\u001b[0m                       Traceback (most recent call last)",
      "Input \u001b[0;32mIn [4]\u001b[0m, in \u001b[0;36m<cell line: 1>\u001b[0;34m()\u001b[0m\n\u001b[0;32m----> 1\u001b[0m \u001b[38;5;28;01mimport\u001b[39;00m \u001b[38;5;21;01mnumy\u001b[39;00m \u001b[38;5;28;01mas\u001b[39;00m \u001b[38;5;21;01mnp\u001b[39;00m\n",
      "\u001b[0;31mModuleNotFoundError\u001b[0m: No module named 'numy'"
     ]
    }
   ],
   "source": [
    "import numy as np # there is no \"numy\" module"
   ]
  },
  {
   "cell_type": "markdown",
   "metadata": {},
   "source": [
    "These will show up as either `ImportError` or `ModuleNoteFoundError` but they're fundamentally a typo. I can't count the number of times I've typed \"numy\" or \"nupy\" or \"nunpy\" because I'm typing too fast.\n",
    "\n",
    "Similarly:"
   ]
  },
  {
   "cell_type": "code",
   "execution_count": 5,
   "metadata": {},
   "outputs": [
    {
     "ename": "NameError",
     "evalue": "name 'count' is not defined",
     "output_type": "error",
     "traceback": [
      "\u001b[0;31m---------------------------------------------------------------------------\u001b[0m",
      "\u001b[0;31mNameError\u001b[0m                                 Traceback (most recent call last)",
      "Input \u001b[0;32mIn [5]\u001b[0m, in \u001b[0;36m<cell line: 1>\u001b[0;34m()\u001b[0m\n\u001b[1;32m      1\u001b[0m \u001b[38;5;28;01mfor\u001b[39;00m number \u001b[38;5;129;01min\u001b[39;00m \u001b[38;5;28mrange\u001b[39m(\u001b[38;5;241m10\u001b[39m):\n\u001b[0;32m----> 2\u001b[0m     count \u001b[38;5;241m=\u001b[39m \u001b[43mcount\u001b[49m \u001b[38;5;241m+\u001b[39m number\n\u001b[1;32m      3\u001b[0m \u001b[38;5;28mprint\u001b[39m(\u001b[38;5;124m\"\u001b[39m\u001b[38;5;124mThe total is \u001b[39m\u001b[38;5;124m\"\u001b[39m, count)\n",
      "\u001b[0;31mNameError\u001b[0m: name 'count' is not defined"
     ]
    }
   ],
   "source": [
    "for number in range(10):\n",
    "    count = count + number\n",
    "print(\"The total is \", count)"
   ]
  },
  {
   "cell_type": "markdown",
   "metadata": {},
   "source": [
    "This `NameError` is telling us that we're using a variable we didn't define. (We should define it before we use it in the loop:\n",
    "```\n",
    "count = 0\n",
    "```"
   ]
  },
  {
   "cell_type": "code",
   "execution_count": 6,
   "metadata": {},
   "outputs": [
    {
     "ename": "NameError",
     "evalue": "name 'count' is not defined",
     "output_type": "error",
     "traceback": [
      "\u001b[0;31m---------------------------------------------------------------------------\u001b[0m",
      "\u001b[0;31mNameError\u001b[0m                                 Traceback (most recent call last)",
      "Input \u001b[0;32mIn [6]\u001b[0m, in \u001b[0;36m<cell line: 2>\u001b[0;34m()\u001b[0m\n\u001b[1;32m      1\u001b[0m Count \u001b[38;5;241m=\u001b[39m \u001b[38;5;241m0\u001b[39m\n\u001b[1;32m      2\u001b[0m \u001b[38;5;28;01mfor\u001b[39;00m number \u001b[38;5;129;01min\u001b[39;00m \u001b[38;5;28mrange\u001b[39m(\u001b[38;5;241m10\u001b[39m):\n\u001b[0;32m----> 3\u001b[0m     count \u001b[38;5;241m=\u001b[39m \u001b[43mcount\u001b[49m \u001b[38;5;241m+\u001b[39m number\n\u001b[1;32m      4\u001b[0m \u001b[38;5;28mprint\u001b[39m(\u001b[38;5;124m\"\u001b[39m\u001b[38;5;124mThe total is \u001b[39m\u001b[38;5;124m\"\u001b[39m, count)\n",
      "\u001b[0;31mNameError\u001b[0m: name 'count' is not defined"
     ]
    }
   ],
   "source": [
    "Count = 0\n",
    "for number in range(10):\n",
    "    count = count + number\n",
    "print(\"The total is \", count)"
   ]
  },
  {
   "cell_type": "markdown",
   "metadata": {},
   "source": [
    "Wait, I defined it! Oh, I used a captial `Count` instead of lowercase `count`. Ugh."
   ]
  },
  {
   "cell_type": "code",
   "execution_count": 7,
   "metadata": {},
   "outputs": [
    {
     "ename": "NameError",
     "evalue": "name 'hello' is not defined",
     "output_type": "error",
     "traceback": [
      "\u001b[0;31m---------------------------------------------------------------------------\u001b[0m",
      "\u001b[0;31mNameError\u001b[0m                                 Traceback (most recent call last)",
      "Input \u001b[0;32mIn [7]\u001b[0m, in \u001b[0;36m<cell line: 1>\u001b[0;34m()\u001b[0m\n\u001b[0;32m----> 1\u001b[0m \u001b[38;5;28mprint\u001b[39m(\u001b[43mhello\u001b[49m)\n",
      "\u001b[0;31mNameError\u001b[0m: name 'hello' is not defined"
     ]
    }
   ],
   "source": [
    "print(hello)"
   ]
  },
  {
   "cell_type": "markdown",
   "metadata": {},
   "source": [
    "In this case, we probably mean:\n",
    "```\n",
    "print(\"hello\")\n",
    "```\n",
    "\n",
    "(Incidentally, it doesn't matter if you use single quotes ' or double quotes \" around strings, as long as you match them at the start and end.)"
   ]
  },
  {
   "cell_type": "markdown",
   "metadata": {
    "tags": []
   },
   "source": [
    "## Runtime Errors\n",
    "\n",
    "Many of these still \"feel\" like syntax errors, but they're usually more subtle. It's less obvious what the problem is, and they usually take more work to translate from an error message into English."
   ]
  },
  {
   "cell_type": "code",
   "execution_count": 8,
   "metadata": {},
   "outputs": [
    {
     "name": "stdout",
     "output_type": "stream",
     "text": [
      "Letter #1 is a\n",
      "Letter #2 is b\n",
      "Letter #3 is c\n"
     ]
    },
    {
     "ename": "IndexError",
     "evalue": "list index out of range",
     "output_type": "error",
     "traceback": [
      "\u001b[0;31m---------------------------------------------------------------------------\u001b[0m",
      "\u001b[0;31mIndexError\u001b[0m                                Traceback (most recent call last)",
      "Input \u001b[0;32mIn [8]\u001b[0m, in \u001b[0;36m<cell line: 5>\u001b[0;34m()\u001b[0m\n\u001b[1;32m      3\u001b[0m \u001b[38;5;28mprint\u001b[39m(\u001b[38;5;124m'\u001b[39m\u001b[38;5;124mLetter #2 is\u001b[39m\u001b[38;5;124m'\u001b[39m, letters[\u001b[38;5;241m1\u001b[39m])\n\u001b[1;32m      4\u001b[0m \u001b[38;5;28mprint\u001b[39m(\u001b[38;5;124m'\u001b[39m\u001b[38;5;124mLetter #3 is\u001b[39m\u001b[38;5;124m'\u001b[39m, letters[\u001b[38;5;241m2\u001b[39m])\n\u001b[0;32m----> 5\u001b[0m \u001b[38;5;28mprint\u001b[39m(\u001b[38;5;124m'\u001b[39m\u001b[38;5;124mLetter #4 is\u001b[39m\u001b[38;5;124m'\u001b[39m, \u001b[43mletters\u001b[49m\u001b[43m[\u001b[49m\u001b[38;5;241;43m3\u001b[39;49m\u001b[43m]\u001b[49m)\n",
      "\u001b[0;31mIndexError\u001b[0m: list index out of range"
     ]
    }
   ],
   "source": [
    "letters = ['a', 'b', 'c']\n",
    "print('Letter #1 is', letters[0])\n",
    "print('Letter #2 is', letters[1])\n",
    "print('Letter #3 is', letters[2])\n",
    "print('Letter #4 is', letters[3])"
   ]
  },
  {
   "cell_type": "markdown",
   "metadata": {},
   "source": [
    "Why is that a problem? A frequent issue is with off-by-one errors because Python and many programming languages start lists at item 0. So we ask for `letter[3]` because we want the 3rd letter, but we should ask for `letter[2]`.\n",
    "\n",
    "Python gets annoyed at us, because `[3]` is not in the list of letters. It would like me suggesting \"Caturday\" as a day to meet up. It doesn't exist."
   ]
  },
  {
   "cell_type": "code",
   "execution_count": 9,
   "metadata": {},
   "outputs": [
    {
     "ename": "TypeError",
     "evalue": "'float' object is not iterable",
     "output_type": "error",
     "traceback": [
      "\u001b[0;31m---------------------------------------------------------------------------\u001b[0m",
      "\u001b[0;31mTypeError\u001b[0m                                 Traceback (most recent call last)",
      "Input \u001b[0;32mIn [9]\u001b[0m, in \u001b[0;36m<cell line: 4>\u001b[0;34m()\u001b[0m\n\u001b[1;32m      2\u001b[0m heights \u001b[38;5;241m=\u001b[39m \u001b[38;5;241m74\u001b[39m \u001b[38;5;241m/\u001b[39m \u001b[38;5;241m39.3701\u001b[39m\n\u001b[1;32m      3\u001b[0m total \u001b[38;5;241m=\u001b[39m \u001b[38;5;241m0\u001b[39m\n\u001b[0;32m----> 4\u001b[0m \u001b[38;5;28;01mfor\u001b[39;00m height \u001b[38;5;129;01min\u001b[39;00m heights:\n\u001b[1;32m      5\u001b[0m     total \u001b[38;5;241m=\u001b[39m total \u001b[38;5;241m+\u001b[39m height\n\u001b[1;32m      6\u001b[0m \u001b[38;5;28mprint\u001b[39m(\u001b[38;5;124m\"\u001b[39m\u001b[38;5;124mTotal: \u001b[39m\u001b[38;5;124m\"\u001b[39m, total)\n",
      "\u001b[0;31mTypeError\u001b[0m: 'float' object is not iterable"
     ]
    }
   ],
   "source": [
    "heights = [ 1.7, 1.8, 1.9, 2.0, 1.8 ]\n",
    "heights = 74 / 39.3701\n",
    "total = 0\n",
    "for height in heights:\n",
    "    total = total + height\n",
    "print(\"Total: \", total)"
   ]
  },
  {
   "cell_type": "markdown",
   "metadata": {},
   "source": [
    "Notice that while the error is flagged in the `for` loop, the problem is actually in line 2, where we assign a `float` number (74 / 39.3701) over a list.\n",
    "\n",
    "The `TypeError` is telling us that `heights` is not a list anymore, so we can't `iterate` (loop) over it aka `not iterable`."
   ]
  },
  {
   "cell_type": "code",
   "execution_count": 10,
   "metadata": {},
   "outputs": [
    {
     "ename": "TypeError",
     "evalue": "can only concatenate str (not \"int\") to str",
     "output_type": "error",
     "traceback": [
      "\u001b[0;31m---------------------------------------------------------------------------\u001b[0m",
      "\u001b[0;31mTypeError\u001b[0m                                 Traceback (most recent call last)",
      "Input \u001b[0;32mIn [10]\u001b[0m, in \u001b[0;36m<cell line: 1>\u001b[0;34m()\u001b[0m\n\u001b[0;32m----> 1\u001b[0m mixing_strings \u001b[38;5;241m=\u001b[39m \u001b[38;5;124;43m'\u001b[39;49m\u001b[38;5;124;43mhello\u001b[39;49m\u001b[38;5;124;43m'\u001b[39;49m\u001b[43m \u001b[49m\u001b[38;5;241;43m+\u001b[39;49m\u001b[43m \u001b[49m\u001b[38;5;241;43m55\u001b[39;49m\n",
      "\u001b[0;31mTypeError\u001b[0m: can only concatenate str (not \"int\") to str"
     ]
    }
   ],
   "source": [
    "mixing_strings = 'hello' + 55"
   ]
  },
  {
   "cell_type": "markdown",
   "metadata": {},
   "source": [
    "Python is fairly flexible about \"types\" of variables, but thou shall not mix strings and numbers. It's hard for the code to know what you want. Adding numbers is easy. Adding together strings is easy. It's much harder to know what this code (or similar code) is supposed to do.\n",
    "\n",
    "If you want to assemble a string with a number in it, there are ways to do that, including the `str()` function, which turns a number into string or `float()` which will attempt to convert a string into a floating-point number."
   ]
  },
  {
   "cell_type": "markdown",
   "metadata": {},
   "source": [
    "### More Errors\n",
    "\n",
    "I've listed most of the common errors that students encounter. Undoubtedly you'll run into more throughout the semester. That's part of learning a programming language. If you hit an error you don't understand, please submit a screenshot to [Piazza](https://piazza.com/pitt/spring2023/chem1000/home) and we'll work through it.\n",
    "\n",
    "I'll work to add other common errors (and explanations) to this notebook in the future."
   ]
  },
  {
   "cell_type": "markdown",
   "metadata": {},
   "source": [
    "-------\n",
    "This notebook is from Prof. Geoffrey Hutchison, University of Pittsburgh\n",
    "https://github.com/ghutchis/chem1000\n",
    "\n",
    "Portions have been adapted from [Software Carpentry - Scientific Python Basics](https://bids.github.io/2016-01-14-berkeley/python/00-python-intro.html) and [Mathematical Python by Patrick Wills](https://github.com/patrickwalls/mathematical-python/tree/master/python)\n",
    "\n",
    "<a rel=\"license\" href=\"http://creativecommons.org/licenses/by/4.0/\"><img alt=\"Creative Commons License\" style=\"border-width:0\" src=\"https://i.creativecommons.org/l/by/4.0/88x31.png\" /></a>"
   ]
  }
 ],
 "metadata": {
  "kernelspec": {
   "display_name": "Python 3 (ipykernel)",
   "language": "python",
   "name": "python3"
  },
  "language_info": {
   "codemirror_mode": {
    "name": "ipython",
    "version": 3
   },
   "file_extension": ".py",
   "mimetype": "text/x-python",
   "name": "python",
   "nbconvert_exporter": "python",
   "pygments_lexer": "ipython3",
   "version": "3.9.13"
  },
  "toc": {
   "base_numbering": 1,
   "nav_menu": {},
   "number_sections": false,
   "sideBar": false,
   "skip_h1_title": false,
   "title_cell": "Table of Contents",
   "title_sidebar": "Contents",
   "toc_cell": false,
   "toc_position": {},
   "toc_section_display": false,
   "toc_window_display": false
  }
 },
 "nbformat": 4,
 "nbformat_minor": 4
}
