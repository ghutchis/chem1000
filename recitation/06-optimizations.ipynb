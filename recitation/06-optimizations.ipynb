{
 "cells": [
  {
   "cell_type": "markdown",
   "metadata": {},
   "source": [
    "# CHEM 1000 - Spring 2023\n",
    "Ryan Wheat, University of Pittsburgh\n",
    "\n",
    "## Recitation\n",
    "\n",
    "For this recitation, we'll focus on:\n",
    "- Graphical Interpolation for Optimization\n",
    "- Lagrange Multipliers Practice\n",
    "---\n",
    "\n",
    "The goal of Chapter 6 is to give a cursory overview of the vastly expanding field that is \"optimization algorithms\". All fields, in some form, deal with optimizing something with known constraints. It is to your advantage to hold onto the conceptual aspects of this content.\n",
    "\n",
    "Please follow along with recitation and complete the following questions to gain credit for this assignment."
   ]
  },
  {
   "cell_type": "markdown",
   "metadata": {},
   "source": [
    "### Part A: Simionescu Function\n",
    "\n",
    "Sometimes determining the analytical solution to a function is not practical. In this case, one might wish to better understand the function graphically to then interpolate the extrema. Today we will be working with another function, the Simionescu function, which is unique not for the function itself, but how the constraint is defined. Here, f(x, y) is the function and g(x, y) is the constraint.\n",
    "\n",
    "$$\n",
    "f(x, y)=0.1xy\n",
    "$$\n",
    "\n",
    "$$\n",
    "g(x, y)=x^{2}+y^{2}-(1+0.2cos(8tan^{-1}(x/y)))^{2}\n",
    "$$\n",
    "\n",
    "#### Run the code in each cell and answer the three questions below to get credit for this recitation.\n",
    "\n",
    "1. Calculate all partial derivatives.\n",
    "2. Describe the constraint on the basis of symmetry.\n",
    "3. Where are the maxima and minima?"
   ]
  },
  {
   "cell_type": "code",
   "execution_count": null,
   "metadata": {},
   "outputs": [],
   "source": [
    "from sympy import init_session\n",
    "init_session()"
   ]
  },
  {
   "cell_type": "code",
   "execution_count": null,
   "metadata": {},
   "outputs": [],
   "source": [
    "# Calculate derivatives here with sympy. Note that arctan(x) = atan(x).\n",
    "\n",
    "dfdx = \n",
    "dfdy = \n",
    "dgdx = \n",
    "dgdy = "
   ]
  },
  {
   "cell_type": "markdown",
   "metadata": {},
   "source": [
    "Use this website to plot the constraint function. Describe what you see? What symmetries do you notice? Why do you think this constraint makes optimization difficult? Think critically about how a computer might search for minima and maxima...\n",
    "\n",
    "https://www.desmos.com/calculator"
   ]
  },
  {
   "cell_type": "code",
   "execution_count": 33,
   "metadata": {},
   "outputs": [],
   "source": [
    "# Write your description of the constraint function below.\n",
    "\n"
   ]
  },
  {
   "cell_type": "markdown",
   "metadata": {},
   "source": [
    "We can extend our original function in three dimensions by setting it equal to z.\n",
    "\n",
    "$$\n",
    "f(x,y) = 0.1xy = z\n",
    "$$\n",
    "\n",
    "Follow along with recitation to learn how to graphically determine the maxima and minima. In the cell below, write (approximately) what values correspond to the maxima and minima."
   ]
  },
  {
   "cell_type": "code",
   "execution_count": null,
   "metadata": {},
   "outputs": [],
   "source": [
    "maxima =\n",
    "minima = "
   ]
  },
  {
   "cell_type": "markdown",
   "metadata": {},
   "source": [
    "### Part B: Company Startup\n",
    "\n",
    "Let's say that you are starting a company and need to hire staff and order materials. The materials (m) you need can be ordered in bulk at 50 dollars for each crate. You need to hire staff (s) to convert the materials into some product (think assembly line) at 20 dollars per hour. After consulting an entrepeneur and an engineer, you find that similar companies have used this model:\n",
    "\n",
    "$$\n",
    "f(m,s) = 5m^{2}s+2s^{2}m\n",
    "$$\n",
    "\n",
    "#### Run the code in each cell and answer the three questions below to get credit for this recitation.\n",
    "\n",
    "1. Your company has a startup fund of 600 dollars. Optimize your initial spending given the model above.\n",
    "2. Your friend is also starting a company and has been instructed to use the same model. However, you decided to give your friend two crates of material and to transfer one of your workers to their company to start production. Modify the model with these initial conditions.\n",
    "3. Your friend has applied for a startup fund and was awarded 480 dollars. Optimize spending to maximize their efficiency."
   ]
  },
  {
   "cell_type": "code",
   "execution_count": null,
   "metadata": {},
   "outputs": [],
   "source": [
    "# Calculate your optimal spending.\n",
    "\n",
    "f = 5*s*m**2 + 2*m*s**2\n",
    "g = \n",
    "h = "
   ]
  },
  {
   "cell_type": "code",
   "execution_count": null,
   "metadata": {},
   "outputs": [],
   "source": [
    "# Write your new model here...\n",
    "\n",
    "f_new = "
   ]
  },
  {
   "cell_type": "code",
   "execution_count": null,
   "metadata": {},
   "outputs": [],
   "source": [
    "# Calculate the optimal spending for your friend.\n",
    "\n",
    "f_new = \n",
    "g = \n",
    "h = "
   ]
  }
 ],
 "metadata": {
  "kernelspec": {
   "display_name": "Python 3 (ipykernel)",
   "language": "python",
   "name": "python3"
  },
  "language_info": {
   "codemirror_mode": {
    "name": "ipython",
    "version": 3
   },
   "file_extension": ".py",
   "mimetype": "text/x-python",
   "name": "python",
   "nbconvert_exporter": "python",
   "pygments_lexer": "ipython3",
   "version": "3.9.7"
  }
 },
 "nbformat": 4,
 "nbformat_minor": 4
}
