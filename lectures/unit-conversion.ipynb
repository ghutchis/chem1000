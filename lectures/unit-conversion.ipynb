{
 "cells": [
  {
   "cell_type": "markdown",
   "metadata": {},
   "source": [
    "# CHEM 1000 - Fall 2020\n",
    "Prof. Geoffrey Hutchison, University of Pittsburgh\n",
    "\n",
    "## 1. Introduction"
   ]
  },
  {
   "cell_type": "markdown",
   "metadata": {},
   "source": [
    "### Unit Conversion\n",
    "\n",
    "Unit conversion is usually a major annoyance in physical sciences. Fortunately, it's possible in Python to track and convert units using a package called `pint` (hah.)\n",
    "\n",
    "`pint` tracks a [lot of units](https://github.com/hgrecco/pint/blob/master/pint/default_en.txt) and most standard prefixes (e.g., *pico-* to *giga-* and more).\n",
    "\n",
    "Here's a quick tutorial - there's more [documentation online](https://pint.readthedocs.io/en/stable/index.html) including a more complete [tutorial](https://pint.readthedocs.io/en/stable/tutorial.html).\n",
    "\n",
    "Please hit the 'Run' button or the Kernel => \"Restart and Run All\" commands"
   ]
  },
  {
   "cell_type": "code",
   "execution_count": 1,
   "metadata": {},
   "outputs": [
    {
     "data": {
      "text/html": [
       "<script>\n",
       "code_show=true; \n",
       "function code_toggle() {\n",
       "    if (code_show){\n",
       "        $('div.cell.code_cell.rendered.selected div.input').hide();\n",
       "    } else {\n",
       "        $('div.cell.code_cell.rendered.selected div.input').show();\n",
       "    }\n",
       "    code_show = !code_show\n",
       "} \n",
       "$( document ).ready(code_toggle);\n",
       "</script>\n",
       "This cell is checking what version of pint is installed - for raw code input, click <a href=\"javascript:code_toggle()\">here</a>."
      ],
      "text/plain": [
       "<IPython.core.display.HTML object>"
      ]
     },
     "metadata": {},
     "output_type": "display_data"
    }
   ],
   "source": [
    "from IPython.display import HTML\n",
    "from IPython.display import display\n",
    "\n",
    "# Taken from https://stackoverflow.com/questions/31517194/how-to-hide-one-specific-cell-input-or-output-in-ipython-notebook\n",
    "tag = HTML('''<script>\n",
    "code_show=true; \n",
    "function code_toggle() {\n",
    "    if (code_show){\n",
    "        $('div.cell.code_cell.rendered.selected div.input').hide();\n",
    "    } else {\n",
    "        $('div.cell.code_cell.rendered.selected div.input').show();\n",
    "    }\n",
    "    code_show = !code_show\n",
    "} \n",
    "$( document ).ready(code_toggle);\n",
    "</script>\n",
    "This cell is checking what version of pint is installed - for raw code input, click <a href=\"javascript:code_toggle()\">here</a>.''')\n",
    "display(tag)\n",
    "\n",
    "############### Write code below ##################\n",
    "\n",
    "import pint \n",
    "def versiontuple(v):\n",
    "    return tuple(map(int, (v.split(\".\"))))\n",
    "\n",
    "if versiontuple(pint.__version__) < versiontuple('0.14'):\n",
    "    import sys\n",
    "    !{sys.executable} -m pip install pint --upgrade"
   ]
  },
  {
   "cell_type": "code",
   "execution_count": 2,
   "metadata": {},
   "outputs": [],
   "source": [
    "import pint\n",
    "\n",
    "ureg = pint.UnitRegistry()"
   ]
  },
  {
   "cell_type": "code",
   "execution_count": 3,
   "metadata": {},
   "outputs": [
    {
     "name": "stdout",
     "output_type": "stream",
     "text": [
      "24.587200000000003 meter / second\n"
     ]
    },
    {
     "data": {
      "text/html": [
       "\\[24.587200000000003\\ meter/second\\]"
      ],
      "text/latex": [
       "$24.587200000000003\\ \\frac{\\mathrm{meter}}{\\mathrm{second}}$"
      ],
      "text/plain": [
       "24.587200000000003 <Unit('meter / second')>"
      ]
     },
     "execution_count": 3,
     "metadata": {},
     "output_type": "execute_result"
    }
   ],
   "source": [
    "# we can convert this\n",
    "car_speed = 55*ureg.miles/ureg.hour\n",
    "print(car_speed.to_base_units())\n",
    "\n",
    "# alternately\n",
    "Q_ = ureg.Quantity\n",
    "Q_(55, 'miles/hour').to_base_units()"
   ]
  },
  {
   "cell_type": "code",
   "execution_count": 4,
   "metadata": {},
   "outputs": [
    {
     "name": "stdout",
     "output_type": "stream",
     "text": [
      "670616629.384395 mile / hour\n"
     ]
    }
   ],
   "source": [
    "light = Q_(\"299792458 m/s\")\n",
    "print(light.to(\"miles/hour\"))"
   ]
  },
  {
   "cell_type": "code",
   "execution_count": 5,
   "metadata": {},
   "outputs": [
    {
     "name": "stdout",
     "output_type": "stream",
     "text": [
      "36.57599999999999 meter ** 2\n"
     ]
    }
   ],
   "source": [
    "# some math, with conversion\n",
    "floor_area = 12*ureg.feet * 10*ureg.meter\n",
    "print(floor_area.to_base_units())"
   ]
  },
  {
   "cell_type": "code",
   "execution_count": 6,
   "metadata": {},
   "outputs": [
    {
     "name": "stdout",
     "output_type": "stream",
     "text": [
      "0.2972972972972973 pound / foot / inch ** 2\n",
      "685.76340498251 kilogram / meter ** 3\n"
     ]
    }
   ],
   "source": [
    "# what about density\n",
    "weight = 165*ureg.lbs\n",
    "height = 6*ureg.ft + 2*ureg.inches\n",
    "width = 18*ureg.inches # honestly, I have no idea\n",
    "depth = 5*ureg.inches # a random guess\n",
    "\n",
    "volume = height * width * depth # well, no, but let's assume I'm a box\n",
    "density = weight / volume\n",
    "print(density)\n",
    "print(density.to_base_units())"
   ]
  },
  {
   "cell_type": "code",
   "execution_count": 7,
   "metadata": {},
   "outputs": [
    {
     "name": "stdout",
     "output_type": "stream",
     "text": [
      "27.78 degree_Celsius\n",
      "300.93 kelvin\n"
     ]
    }
   ],
   "source": [
    "# temperature conversion\n",
    "weather = Q_(82, \"degF\") # degrees Fahrenheit\n",
    "ureg.default_format = '.2f' # number of decimals\n",
    "print(weather.to('degC'))\n",
    "print(weather.to('kelvin'))"
   ]
  },
  {
   "cell_type": "markdown",
   "metadata": {},
   "source": [
    "Batteries are often listed with somewhat weird capacity units - milli-Ampere•hour (e.g., they can supply an electrical current of 1 mA for X number of hours. Here's my iPhone:"
   ]
  },
  {
   "cell_type": "code",
   "execution_count": 8,
   "metadata": {},
   "outputs": [
    {
     "name": "stdout",
     "output_type": "stream",
     "text": [
      "3110.00 hour * milliampere\n"
     ]
    }
   ],
   "source": [
    "capacity = Q_('3110 mA*hr')\n",
    "print(capacity)"
   ]
  },
  {
   "cell_type": "markdown",
   "metadata": {},
   "source": [
    "The weird thing is that electrical current is charge $\\times$ time, so we should be able to convert that to Coulombs (i.e., units of charge):"
   ]
  },
  {
   "cell_type": "code",
   "execution_count": 9,
   "metadata": {},
   "outputs": [
    {
     "data": {
      "text/html": [
       "\\[11195.999999999998\\ coulomb\\]"
      ],
      "text/latex": [
       "$11195.999999999998\\ \\mathrm{coulomb}$"
      ],
      "text/plain": [
       "11195.999999999998 <Unit('coulomb')>"
      ]
     },
     "execution_count": 9,
     "metadata": {},
     "output_type": "execute_result"
    }
   ],
   "source": [
    "capacity.to('coulomb')"
   ]
  },
  {
   "cell_type": "markdown",
   "metadata": {},
   "source": [
    "Let's create a new unit - so we can figure out how many electrons are in my iPhone battery..."
   ]
  },
  {
   "cell_type": "code",
   "execution_count": 10,
   "metadata": {},
   "outputs": [
    {
     "name": "stdout",
     "output_type": "stream",
     "text": [
      "69879935596982385508352.00 charge\n",
      "moles  0.11602180906023973\n"
     ]
    }
   ],
   "source": [
    "ureg.define('charge = 1.0/6.2415090744e18 coulomb')\n",
    "print(capacity.to('charges'))\n",
    "\n",
    "print('moles ', capacity.to('charges').magnitude / 6.023e23)"
   ]
  },
  {
   "cell_type": "markdown",
   "metadata": {},
   "source": [
    "A little over 0.1 mole, which seems fairly reasonable. We could, if we wanted, work out charge density (volume) or charg density per gram, etc."
   ]
  },
  {
   "cell_type": "markdown",
   "metadata": {},
   "source": [
    "Here's a personal favorite. The atomic unit of electrical field corresponds to the field between a proton and an electron in a hydrogen atom."
   ]
  },
  {
   "cell_type": "code",
   "execution_count": 11,
   "metadata": {},
   "outputs": [
    {
     "data": {
      "text/html": [
       "\\[514.220674762318\\ gigavolt/meter\\]"
      ],
      "text/latex": [
       "$514.220674762318\\ \\frac{\\mathrm{gigavolt}}{\\mathrm{meter}}$"
      ],
      "text/plain": [
       "514.220674762318 <Unit('gigavolt / meter')>"
      ]
     },
     "execution_count": 11,
     "metadata": {},
     "output_type": "execute_result"
    }
   ],
   "source": [
    "au = Q_('1.0 atomic_unit_of_electric_field')\n",
    "au.to_compact('V/m')"
   ]
  },
  {
   "cell_type": "code",
   "execution_count": 12,
   "metadata": {},
   "outputs": [
    {
     "data": {
      "text/html": [
       "\\[514.2206747623179\\ volt/nanometer\\]"
      ],
      "text/latex": [
       "$514.2206747623179\\ \\frac{\\mathrm{volt}}{\\mathrm{nanometer}}$"
      ],
      "text/plain": [
       "514.2206747623179 <Unit('volt / nanometer')>"
      ]
     },
     "execution_count": 12,
     "metadata": {},
     "output_type": "execute_result"
    }
   ],
   "source": [
    "au.to('V/nm')"
   ]
  },
  {
   "cell_type": "markdown",
   "metadata": {},
   "source": [
    "### Energy conversions:\n",
    "\n",
    "1 Hartree is the \"atomic unit\" of energy"
   ]
  },
  {
   "cell_type": "code",
   "execution_count": 13,
   "metadata": {},
   "outputs": [
    {
     "data": {
      "text/html": [
       "\\[27.21138624598847\\ electron\\_volt\\]"
      ],
      "text/latex": [
       "$27.21138624598847\\ \\mathrm{electron\\_volt}$"
      ],
      "text/plain": [
       "27.21138624598847 <Unit('electron_volt')>"
      ]
     },
     "execution_count": 13,
     "metadata": {},
     "output_type": "execute_result"
    }
   ],
   "source": [
    "energy = Q_(1.0, 'hartree')\n",
    "energy.to('eV')"
   ]
  },
  {
   "cell_type": "code",
   "execution_count": 14,
   "metadata": {},
   "outputs": [
    {
     "data": {
      "text/html": [
       "\\[627.5990072144787\\ kilocalorie/mole\\]"
      ],
      "text/latex": [
       "$627.5990072144787\\ \\frac{\\mathrm{kilocalorie}}{\\mathrm{mole}}$"
      ],
      "text/plain": [
       "627.5990072144787 <Unit('kilocalorie / mole')>"
      ]
     },
     "execution_count": 14,
     "metadata": {},
     "output_type": "execute_result"
    }
   ],
   "source": [
    "energy.to('kcal') * 6.023e23/ureg.mol"
   ]
  },
  {
   "cell_type": "markdown",
   "metadata": {},
   "source": [
    "### Spectroscopy conversions:\n"
   ]
  },
  {
   "cell_type": "code",
   "execution_count": 15,
   "metadata": {},
   "outputs": [
    {
     "data": {
      "text/html": [
       "\\[599584915999999.9\\ hertz\\]"
      ],
      "text/latex": [
       "$599584915999999.9\\ \\mathrm{hertz}$"
      ],
      "text/plain": [
       "599584915999999.9 <Unit('hertz')>"
      ]
     },
     "execution_count": 15,
     "metadata": {},
     "output_type": "execute_result"
    }
   ],
   "source": [
    "q = 500 * ureg.nm\n",
    "# q.to('Hz') # this will give a 'DimensionalityError' because nm is a length and Hz is a frequency\n",
    "q.to('Hz', 'spectroscopy')"
   ]
  },
  {
   "cell_type": "code",
   "execution_count": 16,
   "metadata": {},
   "outputs": [
    {
     "data": {
      "text/html": [
       "\\[6249.999999999999\\ nanometer\\]"
      ],
      "text/latex": [
       "$6249.999999999999\\ \\mathrm{nanometer}$"
      ],
      "text/plain": [
       "6249.999999999999 <Unit('nanometer')>"
      ]
     },
     "execution_count": 16,
     "metadata": {},
     "output_type": "execute_result"
    }
   ],
   "source": [
    "# we see a peak in our IR spectra at 1600 wavenumbers\n",
    "ir = 1600 * ureg.cm_1\n",
    "ir.to('nm', 'spectroscopy')"
   ]
  },
  {
   "cell_type": "markdown",
   "metadata": {},
   "source": [
    "-------\n",
    "This notebook is from Prof. Geoffrey Hutchison, University of Pittsburgh\n",
    "https://github.com/ghutchis/chem1000\n",
    "\n",
    "<a rel=\"license\" href=\"http://creativecommons.org/licenses/by-nc-sa/4.0/\"><img alt=\"Creative Commons License\" style=\"border-width:0\" src=\"https://i.creativecommons.org/l/by-nc-sa/4.0/88x31.png\" /></a><br />This work is licensed under a <a rel=\"license\" href=\"http://creativecommons.org/licenses/by-nc-sa/4.0/\">Creative Commons Attribution-NonCommercial-ShareAlike 4.0 International License</a>."
   ]
  }
 ],
 "metadata": {
  "kernelspec": {
   "display_name": "Python 3.7",
   "language": "python",
   "name": "python3"
  },
  "language_info": {
   "codemirror_mode": {
    "name": "ipython",
    "version": 3
   },
   "file_extension": ".py",
   "mimetype": "text/x-python",
   "name": "python",
   "nbconvert_exporter": "python",
   "pygments_lexer": "ipython3",
   "version": "3.7.0"
  }
 },
 "nbformat": 4,
 "nbformat_minor": 2
}
