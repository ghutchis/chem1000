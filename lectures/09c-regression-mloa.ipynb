{
 "cells": [
  {
   "cell_type": "markdown",
   "metadata": {},
   "source": [
    "# CHEM 1000 - Spring 2023\n",
    "Prof. Geoffrey Hutchison, University of Pittsburgh\n",
    "\n",
    "## 9 Statistics: Regression Examples\n",
    "\n",
    "These lectures notes on probability and statistics will include substantial material not found in our text.\n",
    "\n",
    "By the end of this session, you should be able to:\n",
    "- More examples with regression\n",
    "    - in particular, CO2 data from Mauna Loa observatory - 1959 until today\n",
    "    - https://www.esrl.noaa.gov/gmd/ccgg/trends/"
   ]
  },
  {
   "cell_type": "markdown",
   "metadata": {},
   "source": [
    "### Linear (and Nonlinear) Regression\n",
    "\n",
    "Probably all of you have fit a trendline through a set of data in Excel or another program:\n",
    "\n",
    "$$\n",
    "y = mx + b; R^2 = ...\n",
    "$$\n",
    "\n",
    "There are assumptions behind linear regression:\n",
    "\n",
    "- **Linearity**: the relationship between X and Y is linear.\n",
    "- **Independence**: observations are independent of each other (e.g., it's not a time series)\n",
    "- **Homoscedasticity**: the residual errors do not depend on X\n",
    "- **Normality**: the residual errors are normally distributed\n",
    "\n",
    "It's fairly easy to use some diagnostic plots to test these assumptions, particularly:\n",
    "- looking at the observed Y values versus the fitted values\n",
    "- looking at the residual errors as a function of X values\n",
    "\n",
    "We'll talk about the assumptions and what to do if they don't hold up later.\n",
    "\n",
    "There are several packages in Python that can (and will) do curve fitting - each has somewhat different features:\n",
    "- statsmodels\n",
    "- scipy\n",
    "- scikit-learn\n",
    "\n",
    "We're going to use `scipy.stats.linregress()` for linear regression and `scipy.optimize()` for general curve fitting."
   ]
  },
  {
   "cell_type": "code",
   "execution_count": null,
   "metadata": {},
   "outputs": [],
   "source": [
    "# Let's plot it!\n",
    "import numpy as np\n",
    "import matplotlib.pyplot as plt\n",
    "%matplotlib inline\n",
    "%config InlineBackend.figure_format = 'retina'\n",
    "plt.style.use('./chem1000.mplstyle')"
   ]
  },
  {
   "cell_type": "markdown",
   "metadata": {},
   "source": [
    "We're going to import some data - from the Mauna Loa observatory... they've tracked atmospheric $\\mathrm{CO_2}$ since March 1958.\n",
    "\n",
    "https://www.esrl.noaa.gov/gmd/ccgg/trends/"
   ]
  },
  {
   "cell_type": "code",
   "execution_count": null,
   "metadata": {},
   "outputs": [],
   "source": [
    "# the pandas module helps to read and handle spreadsheets\n",
    "# this includes CSV, XLSX, often even XLS, etc.\n",
    "import pandas as pd\n",
    "co2_data = pd.read_csv('../data/mloa-co2.csv')\n",
    "\n",
    "co2_data.columns"
   ]
  },
  {
   "cell_type": "markdown",
   "metadata": {},
   "source": [
    "Let's get a brief preview of what's in this data..."
   ]
  },
  {
   "cell_type": "code",
   "execution_count": null,
   "metadata": {},
   "outputs": [],
   "source": [
    "co2_data.head()"
   ]
  },
  {
   "cell_type": "code",
   "execution_count": null,
   "metadata": {},
   "outputs": [],
   "source": [
    "plt.plot(co2_data['Date'], co2_data['CO2'])"
   ]
  },
  {
   "cell_type": "markdown",
   "metadata": {},
   "source": [
    "We can see that missing data is indicated with -99.99 values, which makes graphing (and trendlines) difficult.\n",
    "\n",
    "We can drop the data (e.g., selecting good data which isn't -99.99)."
   ]
  },
  {
   "cell_type": "code",
   "execution_count": null,
   "metadata": {
    "scrolled": true
   },
   "outputs": [],
   "source": [
    "good_data = co2_data[co2_data.CO2 != -99.99]\n",
    "\n",
    "plt.plot(good_data['Date'], good_data['CO2'])"
   ]
  },
  {
   "cell_type": "code",
   "execution_count": null,
   "metadata": {},
   "outputs": [],
   "source": [
    "import scipy.optimize\n",
    "import scipy.stats\n",
    "\n",
    "dates = good_data['Date']\n",
    "co2 = good_data['CO2']\n",
    "\n",
    "slope, intercept, r_value, p_value, std_err = scipy.stats.linregress(dates, co2)\n",
    "print(slope, intercept, r_value**2)"
   ]
  },
  {
   "cell_type": "code",
   "execution_count": null,
   "metadata": {},
   "outputs": [],
   "source": [
    "plt.plot(dates, co2)\n",
    "plt.plot(dates, slope*dates + intercept, color='red')\n",
    "plt.xlabel('Date (??)')\n",
    "plt.ylabel('CO2 (ppm)')"
   ]
  },
  {
   "cell_type": "markdown",
   "metadata": {},
   "source": [
    "It's **definitely** not linear. (Uh oh, kinda scary!)\n",
    "\n",
    "Even though the $R^2$ is high (0.98), it's not a good fit. We can't use $R^2$ to tell us if we have a good fit honestly. It tells us how much the variation in Y is explained by variation in X - but that's true here because we have a large range in both variables.\n",
    "\n",
    "It's still not linear."
   ]
  },
  {
   "cell_type": "code",
   "execution_count": null,
   "metadata": {},
   "outputs": [],
   "source": [
    "fitted = slope*dates + intercept\n",
    "residuals = fitted - co2\n",
    "\n",
    "plt.scatter(dates, residuals)\n",
    "plt.show()"
   ]
  },
  {
   "cell_type": "markdown",
   "metadata": {},
   "source": [
    "So this residual plot shows there's a problem with linearity - the residuals depend on date.\n",
    "\n",
    "With data that's kinda close to linear, this is a useful plot in my experience. It's sometimes hard to spot not-quite-linear data from the fit, but more obvious in the residual plot."
   ]
  },
  {
   "cell_type": "code",
   "execution_count": null,
   "metadata": {},
   "outputs": [],
   "source": [
    "# Define the fit function - notice, no intercept, so that's forced through zero\n",
    "def quadratic_fit(x, a, b, c):\n",
    "    y = a + b*x + c*x**2\n",
    "    return y\n",
    "\n",
    "parameters, covariance = scipy.optimize.curve_fit(quadratic_fit, dates, co2)\n",
    "# this prints all the parameters in the array\n",
    "print(*parameters)"
   ]
  },
  {
   "cell_type": "markdown",
   "metadata": {},
   "source": [
    "The slope and quadratic terms may seem small, but the x-axis is an Excel date/time so it's days since January 1st 1900."
   ]
  },
  {
   "cell_type": "code",
   "execution_count": null,
   "metadata": {},
   "outputs": [],
   "source": [
    "a = parameters[0]\n",
    "b = parameters[1]\n",
    "c = parameters[2]\n",
    "\n",
    "fitted = a + b*dates + c*dates**2\n",
    "residuals = fitted - co2\n",
    "\n",
    "plt.scatter(dates, residuals)\n",
    "plt.show()"
   ]
  },
  {
   "cell_type": "code",
   "execution_count": null,
   "metadata": {},
   "outputs": [],
   "source": [
    "plt.plot(dates, residuals)"
   ]
  },
  {
   "cell_type": "markdown",
   "metadata": {},
   "source": [
    "This *definitely* has structure to it - there's a seasonal variation to $\\mathrm{CO_2}$ concentrations, so there's already a seasonally-corrected column."
   ]
  },
  {
   "cell_type": "code",
   "execution_count": null,
   "metadata": {},
   "outputs": [],
   "source": [
    "dates = good_data['Date']\n",
    "co2 = good_data['Seasonal CO2']\n",
    "\n",
    "parameters, covariance = scipy.optimize.curve_fit(quadratic_fit, dates, co2)\n",
    "# this prints all the parameters in the array\n",
    "print(*parameters)"
   ]
  },
  {
   "cell_type": "markdown",
   "metadata": {},
   "source": [
    "Note that the parameters are essentially identical."
   ]
  },
  {
   "cell_type": "code",
   "execution_count": null,
   "metadata": {},
   "outputs": [],
   "source": [
    "a = parameters[0]\n",
    "b = parameters[1]\n",
    "c = parameters[2]\n",
    "\n",
    "fitted = a + b*dates + c*dates**2\n",
    "\n",
    "plt.scatter(dates, co2)\n",
    "plt.plot(dates, fitted, color='red')\n",
    "plt.xlabel('Date (??)')\n",
    "plt.ylabel('CO2 (ppm)')\n",
    "plt.show()"
   ]
  },
  {
   "cell_type": "code",
   "execution_count": null,
   "metadata": {},
   "outputs": [],
   "source": [
    "residuals = fitted - co2\n",
    "\n",
    "plt.plot(dates, residuals)\n",
    "plt.show()"
   ]
  },
  {
   "cell_type": "code",
   "execution_count": null,
   "metadata": {},
   "outputs": [],
   "source": [
    "plt.hist(residuals, bins=20)\n",
    "plt.show()"
   ]
  },
  {
   "cell_type": "markdown",
   "metadata": {},
   "source": [
    "Assumption checklist:\n",
    "- Linearity - this wasn't linear, but we found a good fit (quadratic)\n",
    "- Independence - this is a time-series data, and the residuals show some structure, but maybe okay?\n",
    "- Homoscedasticity - looks good from plotting the residuals\n",
    "- Normality - the histogram looks.. eh? not great, not bad.. maybe?\n",
    "\n",
    "Now if we can just transform those dates.."
   ]
  },
  {
   "cell_type": "code",
   "execution_count": null,
   "metadata": {},
   "outputs": [],
   "source": [
    "plt.scatter(dates / 365, co2)\n",
    "plt.plot(dates / 365, fitted, color='red')\n",
    "plt.xlabel('Year')\n",
    "plt.ylabel('CO2 (ppm)')\n",
    "plt.show()"
   ]
  },
  {
   "cell_type": "markdown",
   "metadata": {},
   "source": [
    "I could clean up the x-axis a little more, but it's probably fine for now.\n",
    "\n",
    "The critical question is more \"can we change the shape of this curve?\""
   ]
  },
  {
   "cell_type": "markdown",
   "metadata": {},
   "source": [
    "### Tips Data\n",
    "\n",
    "This is a somewhat famous data set:\n",
    "Bryant, P. G. and Smith, M (1995) *Practical Data Analysis: Case Studies in Business Statistics.* Homewood, IL: Richard D. Irwin Publishing\n",
    "\n",
    "Each tip recorded at a restaurant over 244 bills."
   ]
  },
  {
   "cell_type": "code",
   "execution_count": null,
   "metadata": {},
   "outputs": [],
   "source": [
    "tips_data = pd.read_csv('../data/tips.csv')\n",
    "tips_data.columns"
   ]
  },
  {
   "cell_type": "code",
   "execution_count": null,
   "metadata": {},
   "outputs": [],
   "source": [
    "tips_data.head()"
   ]
  },
  {
   "cell_type": "markdown",
   "metadata": {},
   "source": [
    "Let's see how the tip scales with the total bill."
   ]
  },
  {
   "cell_type": "code",
   "execution_count": null,
   "metadata": {},
   "outputs": [],
   "source": [
    "plt.scatter(tips_data.total_bill, tips_data.tip)\n",
    "plt.xlabel('Total Bill ($)')\n",
    "plt.ylabel('Tip ($)')"
   ]
  },
  {
   "cell_type": "markdown",
   "metadata": {},
   "source": [
    "This is a classic case of heteroscedastic errors - much larger variation with big bills than with small bills."
   ]
  },
  {
   "cell_type": "code",
   "execution_count": null,
   "metadata": {},
   "outputs": [],
   "source": [
    "# seaborn is a Python package on top of matplotlib - it makes some plots much easier\n",
    "#    https://seaborn.pydata.org/examples/index.html\n",
    "import seaborn as sns\n",
    "\n",
    "# Draw a nested boxplot to show tips by day\n",
    "sns.boxplot(x=\"day\", y=\"tip\", hue=\"smoker\", data=tips_data)"
   ]
  },
  {
   "cell_type": "code",
   "execution_count": null,
   "metadata": {},
   "outputs": [],
   "source": [
    "sns.boxplot(x=\"day\", y=\"tip\", hue=\"sex\", data=tips_data)"
   ]
  },
  {
   "cell_type": "markdown",
   "metadata": {},
   "source": [
    "Notice the outliers in the box plots. Not sure how much data there is, but the median tip from a smoker on Sunday...\n",
    "\n",
    "The catch, though, is that we *know* tips are related to total bill. Most people tip around 15%.\n",
    "\n",
    "So let's *transform* the data and see if we can minimize the heteroscedastic errors."
   ]
  },
  {
   "cell_type": "code",
   "execution_count": null,
   "metadata": {},
   "outputs": [],
   "source": [
    "# I don't need to do this, but it saves me some typing\n",
    "tips = tips_data.tip\n",
    "total_bill = tips_data.total_bill\n",
    "\n",
    "percent = tips / total_bill\n",
    "\n",
    "plt.scatter(total_bill, percent * 100)\n",
    "plt.xlabel('Total Bill ($)')\n",
    "plt.ylabel('Tip (%)')\n",
    "plt.show()"
   ]
  },
  {
   "cell_type": "markdown",
   "metadata": {},
   "source": [
    "Woah, that's a nice tip! Let's analyze the cases where the tip is under 30% (i.e., the usual cases)"
   ]
  },
  {
   "cell_type": "code",
   "execution_count": null,
   "metadata": {},
   "outputs": [],
   "source": [
    "clean = tips_data[percent < 0.3]\n",
    "\n",
    "percent = clean['tip'] / clean['total_bill']\n",
    "print(percent)"
   ]
  },
  {
   "cell_type": "code",
   "execution_count": null,
   "metadata": {},
   "outputs": [],
   "source": [
    "plt.scatter(clean['total_bill'], percent)\n",
    "plt.xlabel('Total Bill ($)')\n",
    "plt.ylabel('Tip (%)')\n",
    "plt.show()"
   ]
  },
  {
   "cell_type": "markdown",
   "metadata": {},
   "source": [
    "It's safe to say that smaller restaurant bills get higher tips.. and some people are really, really bad tippers in this data set. I mean 5% tip? That's horrible!\n",
    "\n",
    "It's still not linear."
   ]
  },
  {
   "cell_type": "code",
   "execution_count": null,
   "metadata": {},
   "outputs": [],
   "source": [
    "plt.scatter(clean['total_bill'], np.sqrt(percent))"
   ]
  },
  {
   "cell_type": "markdown",
   "metadata": {},
   "source": [
    "You can feel free to play with the data more... transforming the X or Y values to get a better fit:"
   ]
  },
  {
   "cell_type": "code",
   "execution_count": null,
   "metadata": {},
   "outputs": [],
   "source": [
    "total = clean['total_bill']\n",
    "sq_percent = np.sqrt(percent)\n",
    "\n",
    "slope, intercept, r_value, p_value, std_err = scipy.stats.linregress(total, sq_percent)\n",
    "print(slope, intercept, r_value**2)"
   ]
  },
  {
   "cell_type": "markdown",
   "metadata": {},
   "source": [
    "-------\n",
    "This notebook is from Prof. Geoffrey Hutchison, University of Pittsburgh\n",
    "https://github.com/ghutchis/chem1000\n",
    "\n",
    "<a rel=\"license\" href=\"http://creativecommons.org/licenses/by/4.0/\"><img alt=\"Creative Commons License\" style=\"border-width:0\" src=\"https://i.creativecommons.org/l/by/4.0/88x31.png\" /></a>"
   ]
  }
 ],
 "metadata": {
  "kernelspec": {
   "display_name": "Python 3 (ipykernel)",
   "language": "python",
   "name": "python3"
  },
  "language_info": {
   "codemirror_mode": {
    "name": "ipython",
    "version": 3
   },
   "file_extension": ".py",
   "mimetype": "text/x-python",
   "name": "python",
   "nbconvert_exporter": "python",
   "pygments_lexer": "ipython3",
   "version": "3.9.7"
  },
  "toc": {
   "base_numbering": 1,
   "nav_menu": {},
   "number_sections": false,
   "sideBar": false,
   "skip_h1_title": false,
   "title_cell": "Table of Contents",
   "title_sidebar": "Contents",
   "toc_cell": false,
   "toc_position": {},
   "toc_section_display": false,
   "toc_window_display": false
  }
 },
 "nbformat": 4,
 "nbformat_minor": 4
}
