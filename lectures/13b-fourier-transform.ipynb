{
 "cells": [
  {
   "cell_type": "markdown",
   "metadata": {},
   "source": [
    "# CHEM 1000 - Fall 2020\n",
    "Prof. Geoffrey Hutchison, University of Pittsburgh\n",
    "\n",
    "## 13 Fourier Transforms\n",
    "\n",
    "Chapter 13 in [*Mathematical Methods for Chemists*](http://sites.bu.edu/straub/mathematical-methods-for-molecular-science/)\n",
    "\n",
    "This notebook contains additional material on Fourier transforms. Thanks to example code by [Caleb Madrigal](https://calebmadrigal.com/fourier-transform-notes/) - \n",
    "Code online at [GitHub](https://github.com/calebmadrigal/FourierTalkOSCON)\n",
    "\n",
    "By the end of this session, you should be able to:\n",
    "- Understand how to use Fourier transform to shift from time-domain data to frequency domain signals\n",
    "  - e.g. FTIR, FT NMR, FT UV/Vis.. (pretty much all spectroscopy)\n",
    "- Understand other related transforms (e.g. Wavelet)"
   ]
  },
  {
   "cell_type": "markdown",
   "metadata": {},
   "source": [
    "### Fourier Transform\n",
    "\n",
    "We've talked about using the Fourier series as a sum of sine and cosine functions - we find the coefficients using overlap integrals.\n",
    "\n",
    "We can remember that the Euler transform converts $e^{ix}$ into sine and cosines, so we can also write the Fourier series in complex numbers:\n",
    "\n",
    "$$\n",
    "f(x)=\\sum_{n=0}^{\\infty} c_{n} \\exp \\left(i \\frac{2 \\pi n x}{L}\\right)\n",
    "$$\n",
    "\n",
    "And the coefficients would then be:\n",
    "\n",
    "$$\n",
    "c_{n}=\\frac{1}{L} \\int_{-\\frac{L}{2}}^{\\frac{L}{2}} f(x) \\exp \\left(-i \\frac{2 \\pi n x}{L}\\right) d x\n",
    "$$\n",
    "\n",
    "We might not like the use of complex numbers, but it's obviously the same Fourier series.\n",
    "\n",
    "We can also simplify the notation a bit, by introducing the \"wave number\"\n",
    "\n",
    "$$\n",
    "k_{n}=\\frac{2 \\pi n}{L} = \\frac{2 \\pi}{\\lambda}\n",
    "$$\n",
    "\n",
    "where $\\lambda$ is the wavelength.\n",
    "\n",
    "If we let the length $L$ go to infinity, then:\n",
    "\n",
    "$$\n",
    "\\Delta k_{n}=\\frac{2 \\pi n}{L} \\rightarrow d k\n",
    "$$\n",
    "\n",
    "the coefficients are:\n",
    "\n",
    "$$\n",
    "c(k)=\\frac{1}{2 \\pi} \\int_{-\\infty}^{\\infty} f(x) \\mathrm{e}^{-i k x} d x\n",
    "$$\n",
    "\n",
    "<div class=\"alert alert-block alert-success\">\n",
    "    \n",
    "We might call this the **Fourier transform**:\n",
    "\n",
    "$$\n",
    "F(k)=\\int_{-\\infty}^{\\infty} f(x) \\mathrm{e}^{-i k x} d x\n",
    "$$\n",
    "\n",
    "Then the original $f(x)$ is the **inverse Fourier transform**:\n",
    "\n",
    "$$\n",
    "f(x)=\\frac{1}{2 \\pi} \\int_{-\\infty}^{\\infty} F(k) \\mathrm{e}^{i k x} d k\n",
    "$$\n",
    "    \n",
    "</div>\n",
    "\n",
    "Let's see a few examples..."
   ]
  },
  {
   "cell_type": "code",
   "execution_count": null,
   "metadata": {},
   "outputs": [],
   "source": [
    "import numpy as np\n",
    "import matplotlib.pyplot as plt\n",
    "%matplotlib inline\n",
    "%config InlineBackend.figure_format = 'retina'\n",
    "plt.style.use('./chem1000.mplstyle')"
   ]
  },
  {
   "cell_type": "markdown",
   "metadata": {},
   "source": [
    "We're going to construct an array of time points.\n",
    "\n",
    "Then we'll set up a function with two sine waves:\n",
    "\n",
    "$$\n",
    "y = \\sin(30 \\cdot 2\\pi t) + \\frac{1}{2} \\sin(50 \\cdot 2 \\pi t)\n",
    "$$"
   ]
  },
  {
   "cell_type": "code",
   "execution_count": null,
   "metadata": {},
   "outputs": [],
   "source": [
    "# Number of sample points\n",
    "N = 600\n",
    "# sample spacing\n",
    "delta = 1.0 / 800.0\n",
    "\n",
    "t = np.linspace(0.0, delta*N, N)\n",
    "y = np.sin(30.0 * 2.0*np.pi*t) + 0.5*np.sin(50.0 * 2.0*np.pi*t)\n",
    "\n",
    "plt.plot(t, y)\n",
    "\n",
    "plt.xlabel(\"Time\")\n",
    "plt.show()"
   ]
  },
  {
   "cell_type": "markdown",
   "metadata": {},
   "source": [
    "Seems suitably complicated.\n",
    "\n",
    "We can use `scipy.fftpack` to perform the \"fast Fourier transform\" (FFT). The resulting \"x\" variable will be in frequency - so the limit is defined by the $dt$ we had. We cannot find a higher frequency than that time resolution. (In short, if we expected to have GHz signals, we'd need short time resolution.)"
   ]
  },
  {
   "cell_type": "code",
   "execution_count": null,
   "metadata": {},
   "outputs": [],
   "source": [
    "import scipy.fftpack\n",
    "\n",
    "xf = np.linspace(0.0, 1.0/(2.0*delta), (N//2))\n",
    "yf = scipy.fftpack.fft(y)\n",
    "\n",
    "plt.plot(xf, 2.0/N * np.abs(yf[:N//2]))\n",
    "plt.xlabel(\"Frequency\")\n",
    "plt.show()"
   ]
  },
  {
   "cell_type": "markdown",
   "metadata": {},
   "source": [
    "Notice it's not a *perfect* reconstruction. We only put in two specific frequencies, so we'd expect to see two different lines. But if we don't have exactly perfect waves when we cut off the time signal, there will be a bit of peak width.\n",
    "\n",
    "The time-domain signal can be as complicated as we want. Here's an example with 4 frequencies - note that it doesn't matter the *phase* indicated by sine or cosine functions - they're both periodic."
   ]
  },
  {
   "cell_type": "code",
   "execution_count": null,
   "metadata": {},
   "outputs": [],
   "source": [
    "y = np.sin(30.0 *2.0*np.pi*t) + 0.5*np.cos(50.0 *2.0*np.pi*t)\n",
    "y = y + 1.5*np.sin(165.0 *2.0*np.pi*t) + np.cos(104 * 2*np.pi*t)\n",
    "\n",
    "plt.plot(t, y)\n",
    "\n",
    "plt.xlabel(\"Time\")\n",
    "plt.show()"
   ]
  },
  {
   "cell_type": "code",
   "execution_count": null,
   "metadata": {},
   "outputs": [],
   "source": [
    "yf = scipy.fftpack.fft(y)\n",
    "\n",
    "plt.plot(xf, 2.0/N * np.abs(yf[:N//2]))\n",
    "plt.xlabel(\"Frequency\")\n",
    "plt.show()"
   ]
  },
  {
   "cell_type": "markdown",
   "metadata": {},
   "source": [
    "Whatever signals we put into our time function will come out from our FFT .. at least given the time resolution we start with. (We can't find 800 Hz frequencies in this example).\n",
    "\n",
    "Also, the time signal doesn't need to be completely periodic.. a \"chirp\" can also work where the signal intensity drops over time."
   ]
  },
  {
   "cell_type": "code",
   "execution_count": null,
   "metadata": {},
   "outputs": [],
   "source": [
    "y = y * np.exp(-2*t)\n",
    "\n",
    "plt.plot(t, y)\n",
    "\n",
    "plt.xlabel(\"Time\")\n",
    "plt.show()"
   ]
  },
  {
   "cell_type": "code",
   "execution_count": null,
   "metadata": {
    "scrolled": true
   },
   "outputs": [],
   "source": [
    "yf = scipy.fftpack.fft(y)\n",
    "\n",
    "plt.plot(xf, 2.0/N * np.abs(yf[:N//2]))\n",
    "plt.xlabel(\"Frequency\")\n",
    "plt.show()"
   ]
  },
  {
   "cell_type": "markdown",
   "metadata": {},
   "source": [
    "Notice that while the peak heights changed a bit, the relative intensities and peak areas remain unchanged. So if you're doing spectroscopy, you'll need a few wave repeats, but it doesn't need to be a \"continuous wave\" spectra - useful if you're worried about applying a high-intensity beam (e.g. x-ray, etc.)\n",
    "\n",
    "Let's try the FFT on our square wave from last time."
   ]
  },
  {
   "cell_type": "code",
   "execution_count": null,
   "metadata": {},
   "outputs": [],
   "source": [
    "import scipy.signal\n",
    "\n",
    "y = scipy.signal.square(4 * np.pi * 2 * t)\n",
    "\n",
    "plt.plot(t, y)\n",
    "plt.show()"
   ]
  },
  {
   "cell_type": "code",
   "execution_count": null,
   "metadata": {},
   "outputs": [],
   "source": [
    "yf = scipy.fftpack.fft(y)\n",
    "\n",
    "plt.plot(xf, 2.0/N * np.abs(yf[:N//2]))\n",
    "plt.xlabel(\"Frequency\")\n",
    "plt.show()"
   ]
  },
  {
   "cell_type": "markdown",
   "metadata": {},
   "source": [
    "You can see the \"ringing\" - basically all the frequencies show up at least a bit to try to get those sharp corners.\n",
    "\n",
    "We can also use the inverse FFT `scipy.fft.ifft()` to go back to the time domain. In this case, the differences are minor."
   ]
  },
  {
   "cell_type": "code",
   "execution_count": null,
   "metadata": {},
   "outputs": [],
   "source": [
    "inverse = scipy.fft.ifft(yf)\n",
    "\n",
    "plt.plot(t, inverse)\n",
    "plt.show()"
   ]
  },
  {
   "cell_type": "markdown",
   "metadata": {},
   "source": [
    "### Fourier Transform for Audio\n",
    "\n",
    "Unfortunately, it turns out to be a bit tricky to do Fourier transform on raw NMR data. For one, some instrument manufacturers add \"fingerprints\" for unclear reasons. For another, we usually plot NMR in ppm, not in frequency (e.g. MHz).\n",
    "\n",
    "So we'll look at some slightly more complicated examples using audio files."
   ]
  },
  {
   "cell_type": "code",
   "execution_count": null,
   "metadata": {},
   "outputs": [],
   "source": [
    "import scipy\n",
    "import scipy.io.wavfile\n",
    "\n",
    "# Graphing helper function\n",
    "def setup_graph(title='', x_label='', y_label='', fig_size=None):\n",
    "    fig = plt.figure()\n",
    "    if fig_size != None:\n",
    "        fig.set_size_inches(fig_size[0], fig_size[1])\n",
    "    ax = fig.add_subplot(111)\n",
    "    ax.set_title(title)\n",
    "    ax.set_xlabel(x_label)\n",
    "    ax.set_ylabel(y_label)"
   ]
  },
  {
   "cell_type": "markdown",
   "metadata": {},
   "source": [
    "Here's a recording of me saying the \"ah\" sound."
   ]
  },
  {
   "cell_type": "code",
   "execution_count": null,
   "metadata": {},
   "outputs": [],
   "source": [
    "# NOTE: This is only works with 1 channel (mono).  To record a mono audio sample,\n",
    "# you can use this command: rec -r 44100 -c 1 -b 16 test.wav\n",
    "(sample_rate, input_signal) = scipy.io.wavfile.read(\"audio/ah.wav\")\n",
    "time_array = np.arange(0, len(input_signal)/sample_rate, 1/sample_rate)"
   ]
  },
  {
   "cell_type": "code",
   "execution_count": null,
   "metadata": {},
   "outputs": [],
   "source": [
    "setup_graph(title='Ah vowel sound', x_label='time (in seconds)', y_label='amplitude', fig_size=(14,7))\n",
    "_ = plt.plot(time_array[800:5000], input_signal[800:5000])"
   ]
  },
  {
   "cell_type": "code",
   "execution_count": null,
   "metadata": {},
   "outputs": [],
   "source": [
    "fft_out = np.fft.rfft(input_signal)\n",
    "fft_mag = [np.sqrt(i.real**2 + i.imag**2)/len(fft_out) for i in fft_out]\n",
    "num_samples = len(input_signal)\n",
    "rfreqs = [(i*1.0/num_samples)*sample_rate for i in range(num_samples//2+1)]\n",
    "\n",
    "setup_graph(title='FFT of Ah Vowel (first 1500)', x_label='FFT Bins', y_label='magnitude', fig_size=(14,7))\n",
    "_ = plt.plot(rfreqs[0:1500], fft_mag[0:1500])"
   ]
  },
  {
   "cell_type": "markdown",
   "metadata": {},
   "source": [
    "In short, the FFT enables us to get frequency spectra out of a time signal. Hit a sample, get it to \"sing\" and you'll find out all the frequencies in one shot. (You can repeat if you want to average and improve the signal to noise.. remember standard error.)\n",
    "\n",
    "What about getting frequencies as a function of time?\n",
    "\n",
    "That's called a spectrogram.\n",
    "\n",
    "Here's a short scale \"do re mi fa sol ..\""
   ]
  },
  {
   "cell_type": "code",
   "execution_count": null,
   "metadata": {},
   "outputs": [],
   "source": [
    "(doremi_sample_rate, doremi) = scipy.io.wavfile.read(\"audio/do-re-mi.wav\")"
   ]
  },
  {
   "cell_type": "code",
   "execution_count": null,
   "metadata": {},
   "outputs": [],
   "source": [
    "setup_graph(title='Spectrogram of diatonic scale (44100Hz sample rate)', x_label='time (in seconds)', y_label='frequency', fig_size=(14,8))\n",
    "_ = plt.specgram(doremi, Fs=doremi_sample_rate, cmap='plasma')"
   ]
  },
  {
   "cell_type": "markdown",
   "metadata": {},
   "source": [
    "There's a lot of data up there in the higher regions (overtones) but that's not really where I'm singing.\n",
    "\n",
    "Let's look at the lower frequency data - zero to 4000 Hz.."
   ]
  },
  {
   "cell_type": "code",
   "execution_count": null,
   "metadata": {},
   "outputs": [],
   "source": [
    "downscale = 8000\n",
    "\n",
    "doremi_downscale = [doremi[i] for i in range(0, len(doremi), 44100//downscale)]\n",
    "setup_graph(title='Spectrogram (downscale sample rate)', x_label='time (in seconds)', y_label='frequency', fig_size=(14,7))\n",
    "_ = plt.specgram(doremi_downscale, Fs=downscale, cmap='plasma')"
   ]
  },
  {
   "cell_type": "markdown",
   "metadata": {},
   "source": [
    "Not only can we see the increasing frequency in the scale, but it's possible to see overtones at $2\\times$, $3\\times$, and higher frequencies. This is one thing that separates natural sounds from some artificial sounds (buzzers and the like)."
   ]
  },
  {
   "cell_type": "code",
   "execution_count": null,
   "metadata": {},
   "outputs": [],
   "source": [
    "# we should delete the data to free up some memory on the server\n",
    "del(doremi, doremi_downscale)"
   ]
  },
  {
   "cell_type": "markdown",
   "metadata": {},
   "source": [
    "### Other Transforms\n",
    "\n",
    "There are a huge variety of other transforms. The main idea is to map a complicated function into:\n",
    "- a set of coefficients \n",
    "- a set of simpler basis functions\n",
    "\n",
    "(One chemical example is converting molecular orbitals into sums of hydrogen-like atomic orbitals.)\n",
    "\n",
    "Fourier transforms are useful because, once in the frequency domain, you can remove selected noise (e.g., low-frequency such as building movement, footsteps, etc., or high-frequency like electrical noise, etc.)\n",
    "\n",
    "On the other hand, since Fourier transforms require periodic (or mostly periodic signals) there are alternatives:\n",
    "- [Wavelets](https://en.wikipedia.org/wiki/Wavelet) have frequencies but are designed to have finite length (so you know *when* the signal occurred)\n",
    "\n",
    "<a href=\"https://commons.wikimedia.org/wiki/File:MorletWaveletMathematica.svg#/media/File:MorletWaveletMathematica.svg\"><img src=\"https://upload.wikimedia.org/wikipedia/commons/thumb/0/0a/MorletWaveletMathematica.svg/1200px-MorletWaveletMathematica.svg.png\" alt=\"MorletWaveletMathematica.svg\" width=\"350\" /></a>\n",
    "\n",
    "- [Discrete Cosine](https://en.wikipedia.org/wiki/Discrete_cosine_transform) used heavily in audio and video compression (JPEG, MP3, H.264, etc.) - similar to a Fourier series, but only the cosine terms\n",
    "\n",
    "- Discrete Sine - only the sine terms from a Fourier series\n",
    "\n",
    "- [Laplace Transform](https://en.wikipedia.org/wiki/Laplace_transform) - turns a function of time into a function of complex frequency - useful in image / audio / signal processing - but also in solving differential equations, since differentiation becomes multiplication, and integration becomes division."
   ]
  },
  {
   "cell_type": "markdown",
   "metadata": {},
   "source": [
    "-------\n",
    "This notebook is from Prof. Geoffrey Hutchison, University of Pittsburgh\n",
    "https://github.com/ghutchis/chem1000\n",
    "\n",
    "<a rel=\"license\" href=\"http://creativecommons.org/licenses/by/4.0/\"><img alt=\"Creative Commons License\" style=\"border-width:0\" src=\"https://i.creativecommons.org/l/by/4.0/88x31.png\" /></a>"
   ]
  }
 ],
 "metadata": {
  "kernelspec": {
   "display_name": "Python 3",
   "language": "python",
   "name": "python3"
  },
  "language_info": {
   "codemirror_mode": {
    "name": "ipython",
    "version": 3
   },
   "file_extension": ".py",
   "mimetype": "text/x-python",
   "name": "python",
   "nbconvert_exporter": "python",
   "pygments_lexer": "ipython3",
   "version": "3.6.11"
  },
  "toc": {
   "base_numbering": 1,
   "nav_menu": {},
   "number_sections": false,
   "sideBar": false,
   "skip_h1_title": false,
   "title_cell": "Table of Contents",
   "title_sidebar": "Contents",
   "toc_cell": false,
   "toc_position": {},
   "toc_section_display": false,
   "toc_window_display": false
  }
 },
 "nbformat": 4,
 "nbformat_minor": 4
}
