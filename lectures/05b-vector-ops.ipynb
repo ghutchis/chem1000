{
 "cells": [
  {
   "cell_type": "markdown",
   "metadata": {},
   "source": [
    "# CHEM 1000 - Spring 2022\n",
    "Prof. Geoffrey Hutchison, University of Pittsburgh\n",
    "\n",
    "## 5 Scalar and Vector Operators\n",
    "\n",
    "Chapter 5 in [*Mathematical Methods for Chemists*](http://sites.bu.edu/straub/mathematical-methods-for-molecular-science/)\n",
    "\n",
    "By the end of this session, you should be able to:\n",
    "- Understand the concept of vector-valued functions and vector fields\n",
    "- Identify sinks, sources, and saddle points of vector fields\n",
    "- Understand the concept of vector operators\n",
    "- Understand the gradient and applications to chemistry (e.g., forces)"
   ]
  },
  {
   "cell_type": "markdown",
   "metadata": {},
   "source": [
    "### Scalars vs. Vectors\n",
    "\n",
    "Reminder...\n",
    "\n",
    "**Scalars** are just numbers - they have a magnitude, a size. The mass of a molecule would be an example, e.g., 120 amu.\n",
    "\n",
    "**Vectors** have both a magnitude and a direction:\n",
    "- velocity $\\mathbf{v}$\n",
    "- acceleration $\\mathbf{a}$\n",
    "- force $\\mathbf{F}$\n",
    "- electric field $\\mathbf{E}$\n",
    "\n",
    "### Scalar Functions and Vector Functions\n",
    "\n",
    "A **function** takes in a number, a vector, etc. and returns a number:\n",
    "\n",
    "$$\n",
    "\\sin 0 = 0\n",
    "$$\n",
    "\n",
    "Notice that $\\sin x$ is a scalar function. You give it something, and it returns a **scalar**.\n",
    "\n",
    "By extension, there must be **vector functions** too - one that returns a vector for every point.\n",
    "\n",
    "Right now, you're experiencing force due to gravity. If you stand up, the forces acting on your body change over time. (Consider if you go on a roller coaster or fly in an airplane.)\n",
    "\n",
    "$$\n",
    "\\overrightarrow{\\boldsymbol{F}}(t)\n",
    "$$\n",
    "\n",
    "Notice that time is a scalar - it's just a number. So a vector function returns a vector regardless of what the input is. It might be one-dimensional (e.g., the force we feel at a given time $t$) or 2D or 3D, etc. (e.g., the forces on a satellite in space .. we probably care about the position of the satellite but maybe also time.)\n",
    "\n",
    "### Vector Fields\n",
    "\n",
    "When we have a vector function in 2D or 3D, we usually call these **vector fields**. \n",
    "\n",
    "<div class=\"alert alert-block alert-success\">\n",
    "\n",
    "A **vector field** is a function that return a vector for every (x,y) or (x, y, z) point.\n",
    "    \n",
    "</div>\n",
    "\n",
    "It sounds abstract, but we're actually already familiar with the concept. Consider a weather map showing wind:\n",
    "\n",
    "<img src='../images/wind-vectors.png' width=\"540\" />\n",
    "\n",
    "Depending on our location, the wind speed and vector will differ. Let's look at a [tropical cyclone (Hurricane \n",
    "Sally)](https://en.wikipedia.org/wiki/Tropical_Storm_Sally_(2020)) in the Gulf of Mexico.\n",
    "\n",
    "<img src='../images/hurricane.png' width=\"505\" />\n",
    "\n",
    "Obviously, the further away from the hurricane, the wind speed (magnitude) decreases, and there's an *eye* in the center, where there's no wind at all. Also, the vector direction differs depending on where you are.\n",
    "\n",
    "In chemistry, we encounter a range of vector functions and vector fields. For example:\n",
    "\n",
    "- The force acting on a charge in an electric field. At each point in space, the force acting on the charge will have a specific magnitude and a direction.\n",
    "- Fluid flow for which each element of the fluid at some point in space has a given speed and direction of flow. \n",
    "\n",
    "There are a few key terms with vector fields:\n",
    "- a **sink** is a point in which all vectors flow inward\n",
    "- a **source** is a point at which all vectors flow outward\n",
    "- a **saddle-point** has no net inward or outward flow (i.e., they balance exactly)\n",
    "\n",
    "<img src='../images/vector-field.png' />\n",
    "\n",
    "(Image from [*Mathematical Methods for Chemists*](http://sites.bu.edu/straub/mathematical-methods-for-molecular-science/)) \n",
    "\n",
    "Here, the red point is a **source** and all the arrows point away from it (imagine the forces from a negative charge towards an electron). \n",
    "\n",
    "The black point is a **sink** and all the arrows point towards it (e.g., a positive charge that will attract an electron).\n",
    "\n",
    "The two \"X\" points are **saddle points**. Notice that they come inward along one direction and outward along another direction. (Think about a horse saddle that rises up to the neck and head and also to the tail, and slopes down along the sides.)"
   ]
  },
  {
   "cell_type": "markdown",
   "metadata": {},
   "source": [
    "### Example Vector Field\n",
    "\n",
    "Let's try plotting\n",
    "\n",
    "$$\n",
    "\\vec{F}=\\frac{x}{5} \\hat{\\mathbf{x}}+\\frac{y}{5} \\hat{\\mathbf{y}}\n",
    "$$\n",
    "\n",
    "We'll use `numpy` and `matplotlib`. The code is a bit different because we're creating a \"quiverplot\"."
   ]
  },
  {
   "cell_type": "code",
   "execution_count": null,
   "metadata": {},
   "outputs": [],
   "source": [
    "# Let's plot some vector fields with numpy and matplotlib\n",
    "# this is just our normal 'import numpy and matplotlib' code\n",
    "import numpy as np\n",
    "import matplotlib.pyplot as plt\n",
    "%matplotlib inline\n",
    "%config InlineBackend.figure_format = 'retina'\n",
    "plt.style.use('./chem1000.mplstyle')"
   ]
  },
  {
   "cell_type": "code",
   "execution_count": null,
   "metadata": {},
   "outputs": [],
   "source": [
    "# Example adapted from: \n",
    "# https://pythonforundergradengineers.com/quiver-plot-with-matplotlib-and-jupyter-notebooks.html\n",
    "\n",
    "# we're going to create a set of points from -5 to +5\n",
    "# along x and y axes\n",
    "x = np.arange(-5,6,1) # remember that np.arange() doesn't include the end value\n",
    "y = np.arange(-5,6,1)\n",
    "# remember, this takes the numpy arrays above and makes a mesh\n",
    "X, Y = np.meshgrid(x, y)\n",
    "\n",
    "# here's how we express the function\n",
    "F_x = X/5 # x component\n",
    "F_y = Y/5 # y component\n",
    "\n",
    "# here's how we create a \"quiver plot\" with matplotlib\n",
    "# if you want to know more, please ask\n",
    "fig, ax = plt.subplots() # create a figure\n",
    "\n",
    "ax.quiver(X,Y,F_x,F_y) # axis.quiver( X, Y mesh, Func X, Func Y )\n",
    "\n",
    "# We'll go from -6 to +6 on each axis\n",
    "# to see the arrows\n",
    "ax.axis([-6, 6, -6, 6])\n",
    "ax.set_aspect('equal') # make sure it's exactly square\n",
    "\n",
    "plt.show()"
   ]
  },
  {
   "cell_type": "markdown",
   "metadata": {},
   "source": [
    "<div class=\"alert alert-block alert-info\">\n",
    "\n",
    "**In the plot above, what kind of a point is at the origin?**\n",
    "    \n",
    "</div>\n",
    "\n",
    "Let's try another example. This time, we'll plot:\n",
    "\n",
    "$$\n",
    "\\vec{F}=\\frac{x}{5} \\hat{\\mathbf{x}} - \\frac{y}{5} \\hat{\\mathbf{y}}\n",
    "$$"
   ]
  },
  {
   "cell_type": "code",
   "execution_count": null,
   "metadata": {},
   "outputs": [],
   "source": [
    "# here's how we express the function\n",
    "F_x = +X/5 # x component\n",
    "F_y = -Y/5 # y component\n",
    "\n",
    "fig, ax = plt.subplots() # create a figure\n",
    "ax.quiver(X,Y,F_x,F_y) # axis.quiver( X, Y mesh, Func X, Func Y )\n",
    "\n",
    "# We'll go from -6 to +6 on each axis\n",
    "# to see the arrows\n",
    "ax.axis([-6, 6, -6, 6])\n",
    "ax.set_aspect('equal') # make sure it's exactly square\n",
    "\n",
    "plt.show()"
   ]
  },
  {
   "cell_type": "markdown",
   "metadata": {},
   "source": [
    "<div class=\"alert alert-block alert-info\">\n",
    "\n",
    "**Now what kind of point is at the origin?**\n",
    "    \n",
    "</div>"
   ]
  },
  {
   "cell_type": "markdown",
   "metadata": {},
   "source": [
    "**Gradients**\n",
    "\n",
    "Perhaps one of the most useful vector functions / vector fields in chemistry comes from the **gradient** of a scalar function.\n",
    "\n",
    "<div class=\"alert alert-block alert-success\">\n",
    "\n",
    "The **gradient** operator in 2D Cartesian coordinates (x, y) is \n",
    "$$\n",
    "\\boldsymbol{\\nabla} \\equiv \\hat{\\mathbf{x}} \\frac{\\partial}{\\partial x}+\\hat{\\mathbf{y}} \\frac{\\partial}{\\partial y}\n",
    "$$\n",
    "    \n",
    "</div>\n",
    "\n",
    "We use $\\boldsymbol{\\nabla}$ as a short-hand for the gradient operator, no matter what coordinate system is. Particularly in polar or spherical coordinates the expression can get complicated.\n",
    "\n",
    "So what does it do?\n",
    "\n",
    "$$\n",
    "\\boldsymbol{\\nabla} V(x, y) = \\left(\\hat{\\mathbf{x}} \\frac{\\partial}{\\partial x}+\\hat{\\mathbf{y}} \\frac{\\partial}{\\partial y}\\right) V(x, y)\n",
    "$$\n",
    "\n",
    "At every point (x,y) we take the partial derivative of $V(x,y)$ (a scalar function) with respect to x and y, and use those as the x-component and y-component of a vector.\n",
    "\n",
    "In other words, the gradient operator returns a **vector** from a **scalar** function.\n",
    "\n",
    "**Laplace Operator**\n",
    "\n",
    "<div class=\"alert alert-block alert-success\">\n",
    "\n",
    "The **Laplace** operator (sometimes called the Laplacian) in 2D Cartesian coordinates (x, y) is \n",
    "\n",
    "$$\n",
    "\\nabla^{2} \\equiv \\frac{\\partial^{2}}{\\partial x^{2}}+\\frac{\\partial^{2}}{\\partial y^{2}}\n",
    "$$\n",
    "\n",
    "</div>\n",
    "\n",
    "We use $\\nabla^2$ as a short-hand for the Laplace operator, no matter what coordinate system we use. At every point, we take the second partial derivatives of a function, and add the components.\n",
    "\n",
    "The Laplace operator takes a scalar function and returns a new scalar function."
   ]
  },
  {
   "cell_type": "markdown",
   "metadata": {},
   "source": [
    "**Potential Energy and Forces**\n",
    "\n",
    "Consider the interaction of two atoms according to the [Lennard-Jones potential](https://en.wikipedia.org/wiki/Lennard-Jones_potential):\n",
    "\n",
    "$$\n",
    "V(r)=4 \\varepsilon\\left[\\left(\\frac{\\sigma}{r}\\right)^{12}-\\left(\\frac{\\sigma}{r}\\right)^{6}\\right]\n",
    "$$\n",
    "\n",
    "where $r$ is the distance between the two atoms, $\\sigma$ represents the atomic diameter (or the sum of the two atomic radii), and $\\epsilon$ represents the binding energy. In this case, we know that there will be a minimum energy at:\n",
    "\n",
    "$$\n",
    "r_{\\min }=\\sqrt[6]{2} \\sigma\n",
    "$$\n",
    "\n",
    "Image from [*Mathematical Methods for Chemists*](http://sites.bu.edu/straub/mathematical-methods-for-molecular-science/):\n",
    "<img src=\"../images/lennard-jones.png\" />\n",
    "\n",
    "Now the force will depend on the potential energy:\n",
    "\n",
    "$$\n",
    "\\mathbf{F}=-\\left[\\hat{\\mathbf{x}} \\frac{\\partial}{\\partial x}+\\hat{\\mathbf{y}} \\frac{\\partial}{\\partial y}+\\hat{\\mathbf{z}} \\frac{\\partial}{\\partial z}\\right] V(x, y, z)=-\\nabla V(x, y, z)\n",
    "$$\n",
    "\n",
    "Put simply, the forces are the gradient of the potential energy!\n",
    "\n",
    "$$\n",
    "\\mathbf{F}=-\\boldsymbol{\\nabla} V\n",
    "$$\n",
    "\n",
    "We can even do the work in this case - it's one-dimensional in $\\hat{\\mathbf{r}}$:\n",
    "$$\n",
    "\\mathbf{F}(r)=-\\frac{d V(r)}{d r} \\hat{\\mathbf{r}}=4 \\varepsilon\\left[12\\left(\\frac{\\sigma^{12}}{r^{13}}\\right)-6\\left(\\frac{\\sigma^6}{r^7}\\right)\\right] \\hat{\\mathbf{r}}\n",
    "$$\n",
    "\n",
    "So when $r < r_{min}$ the repulsive force proportional to $1/r^{12}$ dominates the total force and pushes in a positive direction, while at distances $r > r_{min}$ the attractive force proportional to $1/r^6$ is dominant and pushes in a negative direction.\n",
    "\n",
    "<div class=\"alert alert-block alert-info\">\n",
    "Notice that the forces on the atom always aim to minimize the energy:\n",
    "    \n",
    "- If the two atoms are close together, the repulsive force pushes in a direction towards $r_{min}$. \n",
    "- If the two atoms are far apart, the attractive force pulls in a direction towards $r_{min}$.\n",
    "</div>\n",
    "\n",
    "While the Lennard-Jones potential has a very simple one-dimensional form (e.g., one atom is at the origin and the other is some distance $r$ away), the concept of the gradient and forces applies regardless of the potential energy.\n",
    "\n",
    "If we have some method to calculate the potential energy (e.g., quantum chemistry, etc.) we can take the gradient, get the forces on the atoms, and move them accordingly to get a minimum energy.\n",
    "\n",
    "<img src=\"../images/atom-forces.png\" width=\"341\" />\n",
    "\n",
    "In this case, we can see that the central carbon-carbon bond is too short and the carbon atoms are pulling apart, resulting in the hydrogen atoms moving in different directions.\n",
    "\n",
    "Eventually as we repeat the process (find the gradient and forces, move the atoms a bit, re-calculate), we can minimize the potential energy and find an optimized geometry."
   ]
  },
  {
   "cell_type": "markdown",
   "metadata": {},
   "source": [
    "**Example problem:**\n",
    "\n",
    "For a scalar potential energy, $V(x, y, z)=x^{2}+y^{2}+z^{2}$, derive the force defined as the negative gradient of the potential."
   ]
  },
  {
   "cell_type": "code",
   "execution_count": null,
   "metadata": {},
   "outputs": [],
   "source": [
    "from sympy import init_session\n",
    "init_session()"
   ]
  },
  {
   "cell_type": "code",
   "execution_count": null,
   "metadata": {},
   "outputs": [],
   "source": [
    "V = x**2 + y**2 + z**2\n",
    "# get the x-component\n",
    "diff(V, x)"
   ]
  },
  {
   "cell_type": "code",
   "execution_count": null,
   "metadata": {},
   "outputs": [],
   "source": [
    "# the y-component\n",
    "diff(V, y)"
   ]
  },
  {
   "cell_type": "code",
   "execution_count": null,
   "metadata": {},
   "outputs": [],
   "source": [
    "# the z-component\n",
    "diff(V, z)"
   ]
  },
  {
   "cell_type": "markdown",
   "metadata": {},
   "source": [
    "Okay, we probably could have done that by inspection.\n",
    "\n",
    "$$\n",
    "\\boldsymbol{\\nabla} V(x,y,z) = 2x \\hat{\\mathbf{x}} + 2y \\hat{\\mathbf{y}} + 2z \\hat{\\mathbf{z}}\n",
    "$$"
   ]
  },
  {
   "cell_type": "markdown",
   "metadata": {},
   "source": [
    "<div class=\"alert alert-block alert-info\">\n",
    "\n",
    "**If that's the gradient, what are the forces?**\n",
    "    \n",
    "</div>"
   ]
  },
  {
   "cell_type": "markdown",
   "metadata": {},
   "source": [
    "### Gradient in Spherical Coordinates\n",
    "\n",
    "One last thing.. so far, we've expressed the gradient in 2D or 3D Cartesian coordinates, and it's not too bad.\n",
    "\n",
    "In spherical coordinates, it's a little messier:\n",
    "\n",
    "$$\n",
    "\\boldsymbol{\\nabla} V=\\hat{\\mathbf{r}} \\frac{\\partial V}{\\partial r}+\\hat{\\boldsymbol{\\theta}} \\frac{1}{r} \\frac{\\partial V}{\\partial \\theta}+\\hat{\\boldsymbol{\\varphi}} \\frac{1}{r \\sin \\theta} \\frac{\\partial V}{\\partial \\varphi}\n",
    "$$\n",
    "\n",
    "The Laplace operator is similarly messy:\n",
    "\n",
    "$$\n",
    "\\nabla^{2} V=\\frac{1}{r^{2}} \\frac{\\partial}{\\partial r}\\left(r^{2} \\frac{\\partial V}{\\partial r}\\right)+\\frac{1}{r^{2} \\sin \\theta} \\frac{\\partial}{\\partial \\theta}\\left(\\sin \\theta \\frac{\\partial V}{\\partial \\theta}\\right)+\\frac{1}{r^{2} \\sin ^{2} \\theta} \\frac{\\partial^{2} V}{\\partial \\varphi^{2}}\n",
    "$$\n",
    "\n",
    "We'll come back to these as we need them, but it's a nice illustration of why we use operators. We can write a short symbol and it represents a longer, messier operator."
   ]
  },
  {
   "cell_type": "markdown",
   "metadata": {},
   "source": [
    "-------\n",
    "This notebook is from Prof. Geoffrey Hutchison, University of Pittsburgh\n",
    "https://github.com/ghutchis/chem1000\n",
    "\n",
    "<a rel=\"license\" href=\"http://creativecommons.org/licenses/by/4.0/\"><img alt=\"Creative Commons License\" style=\"border-width:0\" src=\"https://i.creativecommons.org/l/by/4.0/88x31.png\" /></a>"
   ]
  }
 ],
 "metadata": {
  "kernelspec": {
   "display_name": "Python 3",
   "language": "python",
   "name": "python3"
  },
  "language_info": {
   "codemirror_mode": {
    "name": "ipython",
    "version": 3
   },
   "file_extension": ".py",
   "mimetype": "text/x-python",
   "name": "python",
   "nbconvert_exporter": "python",
   "pygments_lexer": "ipython3",
   "version": "3.6.11"
  },
  "toc": {
   "base_numbering": 1,
   "nav_menu": {},
   "number_sections": false,
   "sideBar": false,
   "skip_h1_title": false,
   "title_cell": "Table of Contents",
   "title_sidebar": "Contents",
   "toc_cell": false,
   "toc_position": {},
   "toc_section_display": false,
   "toc_window_display": false
  }
 },
 "nbformat": 4,
 "nbformat_minor": 4
}
