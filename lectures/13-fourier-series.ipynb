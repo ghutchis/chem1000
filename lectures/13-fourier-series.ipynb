{
 "cells": [
  {
   "cell_type": "markdown",
   "metadata": {},
   "source": [
    "# CHEM 1000 - Spring 2025\n",
    "Prof. Geoffrey Hutchison, University of Pittsburgh\n",
    "\n",
    "## 13 Fourier Series\n",
    "\n",
    "Chapter 13 in [*Mathematical Methods for Chemists*](http://sites.bu.edu/straub/mathematical-methods-for-molecular-science/)\n",
    "\n",
    "By the end of this session, you should be able to:\n",
    "- Understand how to use Fourier series to express a periodic function\n",
    "- Understand how to get the Fourier coefficients for the series"
   ]
  },
  {
   "cell_type": "markdown",
   "metadata": {},
   "source": [
    "### Fourier Series\n",
    "\n",
    "Several times during the course, we have discussed methods to approximate complicated functions using sums of simple functions:\n",
    "- Taylor / Maclaurin series\n",
    "- Power series for differential equations\n",
    "\n",
    "A Taylor or Maclaurin series work well for approximating a function *around a particular point*.\n",
    "\n",
    "**What if you have a periodic function?**\n",
    "\n",
    "For example, when solving the classical wave equation or plucking a string, we get a solution like:\n",
    "\n",
    "$$\n",
    "\\begin{aligned}\n",
    "h(x, t) &=\\sum_{n=1}^{\\infty} X_{n}(x) T_{n}(t) \\\\\n",
    "&=\\sum_{n=1}^{\\infty} b_{n} \\sin \\left[\\frac{n \\pi}{L} x\\right] \\times\\left[c_{n} \\cos \\left(\\frac{n \\pi}{L} v t\\right)+d_{n} \\sin \\left(\\frac{n \\pi}{L} v t\\right)\\right] \\\\\n",
    "&=\\sum_{n=1}^{\\infty} \\sin \\left[\\frac{n \\pi}{L} x\\right]\\left[s_{n} \\cos \\left(\\omega_{n} t\\right)+t_{n} \\sin \\left(\\omega_{n} t\\right)\\right]\n",
    "\\end{aligned}\n",
    "$$\n",
    "\n",
    "<div class=\"alert alert-block alert-success\">\n",
    "\n",
    "We can approximate periodic functions using a **Fourier series**: a sum of sine and cosine functions\n",
    "    \n",
    "$$\n",
    "f(x) \\approx \\frac{a_{0}}{2}+\\sum_{n=1}^{\\infty} a_{n} \\cos \\left(\\frac{2 \\pi n x}{L}\\right)+\\sum_{n=1}^{\\infty} b_{n} \\sin \\left(\\frac{2 \\pi n x}{L}\\right)\n",
    "$$\n",
    "    \n",
    "where f(x) is periodic from $-\\infty .. \\infty$ with wavelength period L\n",
    "    \n",
    "</div>\n",
    "\n",
    "This decomposition is also known as *harmonic analysis* - to find the appropriate coefficients $a_n$ and $b_n$ .. just like with a Taylor series.\n",
    "\n",
    "We do that by determining the *overlap* of the function f(x) and each of the component sine or cosine functions that make up the \"basis\" of the Fourier series.\n",
    "\n",
    "### Basics\n",
    "\n",
    "What do we mean by overlap?\n",
    "\n",
    "Let's say we just had a simple sine function:\n",
    "\n",
    "<img src=\"../images/sine.png\" width=\"350\" />\n",
    "\n",
    "Obviously, we'd want the series to only include one term - all the other coefficients would be zero.\n",
    "\n",
    "Similarly, if we had some combination of sine and cosine:\n",
    "\n",
    "<img src=\"../images/sine-cos2x.png\" width=\"350\" />\n",
    "\n",
    "This was simply $\\sin x - \\cos 2x$\n",
    "\n",
    "So we'd want to include those two terms and remove **all** the other coefficients.\n",
    "\n",
    "If we limit our analysis at the moment from $-\\pi$ to $\\pi$, we'll get:\n",
    "\n",
    "$$\n",
    "a_{n}=\\frac{1}{\\pi} \\int_{-\\pi}^{\\pi} f(x) \\cos (n x) d x \\quad b_{n}=\\frac{1}{\\pi} \\int_{-\\pi}^{\\pi} f(x) \\sin (n x) d x\n",
    "$$\n",
    "\n",
    "Let's check this out with our example:\n",
    "\n",
    "$$\n",
    "f(x) = \\sin x + \\cos 2x\n",
    "$$"
   ]
  },
  {
   "cell_type": "code",
   "execution_count": null,
   "metadata": {},
   "outputs": [],
   "source": [
    "import numpy as np\n",
    "import matplotlib.pyplot as plt\n",
    "%matplotlib inline\n",
    "%config InlineBackend.figure_format = 'retina' # high-res images where supported\n",
    "plt.style.use('./chem1000.mplstyle')"
   ]
  },
  {
   "cell_type": "code",
   "execution_count": null,
   "metadata": {},
   "outputs": [],
   "source": [
    "x = np.arange(-3*np.pi, 3*np.pi, 0.1)\n",
    "f = np.sin(x) - np.cos(2*x)\n",
    "\n",
    "plt.plot(x, f)\n",
    "plt.show()"
   ]
  },
  {
   "cell_type": "markdown",
   "metadata": {},
   "source": [
    "So we're going to plot a few of the $f(x) \\cdot \\cos nx$ terms first:"
   ]
  },
  {
   "cell_type": "code",
   "execution_count": null,
   "metadata": {},
   "outputs": [],
   "source": [
    "plt.plot(x, f*np.cos(x))\n",
    "plt.xlim(-np.pi, np.pi)"
   ]
  },
  {
   "cell_type": "markdown",
   "metadata": {},
   "source": [
    "We will check this, but the area *above* $y = 0$ and *below* $y = 0$ looks about equal.\n",
    "\n",
    "What about $\\cos 2x$ ?"
   ]
  },
  {
   "cell_type": "code",
   "execution_count": null,
   "metadata": {},
   "outputs": [],
   "source": [
    "plt.plot(x, f*np.cos(2*x))\n",
    "plt.xlim(-np.pi, np.pi)"
   ]
  },
  {
   "cell_type": "markdown",
   "metadata": {},
   "source": [
    "It's not hard to see that the area below $y = 0$ is much larger than above the curve. (It should be, since we constructed $f(x) = \\sin x - \\cos 2x$.)\n",
    "\n",
    "If you remember, we can use `scipy.integrate.simps()` to perform Simpson's rule for numeric integration."
   ]
  },
  {
   "cell_type": "code",
   "execution_count": null,
   "metadata": {},
   "outputs": [],
   "source": [
    "from scipy.integrate import simps\n",
    "\n",
    "x = np.arange(-np.pi, np.pi, 0.01)\n",
    "f = np.sin(x) - np.cos(2*x)\n",
    "\n",
    "for n in range(1, 5):\n",
    "    print(n, simps(f*np.cos(n*x), x))"
   ]
  },
  {
   "cell_type": "markdown",
   "metadata": {},
   "source": [
    "Notice that all $\\int f \\cdot \\cos nx dx = 0$ *except* for $\\int f \\cdot \\cos 2x dx$\n",
    "\n",
    "The same thing is, of course, true for the sine coefficients:"
   ]
  },
  {
   "cell_type": "code",
   "execution_count": null,
   "metadata": {},
   "outputs": [],
   "source": [
    "x = np.arange(-np.pi, np.pi, 0.01)\n",
    "f = np.sin(x) - np.cos(2*x)\n",
    "\n",
    "for n in range(1, 5):\n",
    "    print(n, simps(f*np.sin(n*x), x))"
   ]
  },
  {
   "cell_type": "markdown",
   "metadata": {},
   "source": [
    "And of course, you can see for \"perfect\" overlap, the integral yields $\\pi$\n",
    "\n",
    "That's because:\n",
    "\n",
    "$$\n",
    "\\int_{-\\pi}^{\\pi} \\cos (n x) \\cos (m x) d x=\\pi \\delta_{n m}\n",
    "$$\n",
    "\n",
    "where $\\delta_{n m}$ is a special function called the Kronecker delta function:\n",
    "\n",
    "$$\n",
    "\\delta_{n m}=\\left\\{\\begin{array}{ll}\n",
    "1 & n=m \\\\\n",
    "0 & n \\neq m\n",
    "\\end{array}\\right.\n",
    "$$\n",
    "\n",
    "Similarly, for sine functions:\n",
    "\n",
    "$$\n",
    "\\int_{-\\pi}^{\\pi} \\sin (n x) \\sin (m x) d x=\\pi \\delta_{n m}\n",
    "$$\n",
    "\n",
    "We can call this **orthogonality** - the overlap integral of a sine function and another sine function will be zero unless they're identical.\n",
    "\n",
    "There's also the overlap between $\\cos x$ and $\\sin x$ functions:\n",
    "\n",
    "$$\n",
    "\\int_{-\\pi}^{\\pi} \\sin (n x) \\cos (m x) d x=0\n",
    "$$\n",
    "\n",
    "And of course, we need $a_0$ which acts as a constant \"shift\" along the y-axis."
   ]
  },
  {
   "cell_type": "markdown",
   "metadata": {},
   "source": [
    "### Different wavelengths?\n",
    "\n",
    "Obviously, we evaluated these integrals from $-\\pi$ to $\\pi$ .. but if the function has a different periodicity, we need to tweak our limits a bit:\n",
    "\n",
    "$$\n",
    "-\\pi \\leq x<\\pi \\rightarrow-\\frac{L}{2} \\leq x<\\frac{L}{2}\n",
    "$$\n",
    "\n",
    "Then each sine and cosine will be:\n",
    "\n",
    "$$\n",
    "n x \\rightarrow \\frac{2 \\pi n x}{L}\n",
    "$$\n",
    "\n",
    "$$\n",
    "f(x)=\\frac{a_{0}}{2}+\\sum_{n=1}^{\\infty} a_{n} \\cos \\left(\\frac{2 \\pi n x}{L}\\right)+\\sum_{n=1}^{\\infty} b_{n} \\sin \\left(\\frac{2 \\pi n x}{L}\\right)\n",
    "$$\n",
    "\n",
    "and the integrals for the coefficients are:\n",
    "\n",
    "$$\n",
    "a_{n}=\\frac{2}{L} \\int_{-\\frac{L}{2}}^{\\frac{L}{2}} f(x) \\cos \\left(\\frac{2 \\pi n x}{L}\\right) d x \\quad b_{n}=\\frac{2}{L} \\int_{-\\frac{L}{2}}^{\\frac{L}{2}} f(x) \\sin \\left(\\frac{2 \\pi n x}{L}\\right) d x\n",
    "$$\n",
    "\n",
    "Perhaps $x$ has some unit (e.g., Hz, nm, etc.) but $x/L$ will be unitless and we'll be back to the \"normalized\" dimensionless analysis we performed above."
   ]
  },
  {
   "cell_type": "markdown",
   "metadata": {},
   "source": [
    "-------\n",
    "This notebook is from Prof. Geoffrey Hutchison, University of Pittsburgh\n",
    "https://github.com/ghutchis/chem1000\n",
    "\n",
    "<a rel=\"license\" href=\"http://creativecommons.org/licenses/by/4.0/\"><img alt=\"Creative Commons License\" style=\"border-width:0\" src=\"https://i.creativecommons.org/l/by/4.0/88x31.png\" /></a>"
   ]
  }
 ],
 "metadata": {
  "kernelspec": {
   "display_name": "Python 3 (ipykernel)",
   "language": "python",
   "name": "python3"
  },
  "language_info": {
   "codemirror_mode": {
    "name": "ipython",
    "version": 3
   },
   "file_extension": ".py",
   "mimetype": "text/x-python",
   "name": "python",
   "nbconvert_exporter": "python",
   "pygments_lexer": "ipython3",
   "version": "3.10.12"
  },
  "toc": {
   "base_numbering": 1,
   "nav_menu": {},
   "number_sections": false,
   "sideBar": false,
   "skip_h1_title": false,
   "title_cell": "Table of Contents",
   "title_sidebar": "Contents",
   "toc_cell": false,
   "toc_position": {},
   "toc_section_display": false,
   "toc_window_display": false
  }
 },
 "nbformat": 4,
 "nbformat_minor": 4
}
