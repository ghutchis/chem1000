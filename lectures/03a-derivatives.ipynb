{
 "cells": [
  {
   "cell_type": "markdown",
   "metadata": {},
   "source": [
    "# CHEM 1000 - Spring 2023\n",
    "Prof. Geoffrey Hutchison, University of Pittsburgh\n",
    "\n",
    "## 3 Derivatives\n",
    "\n",
    "Chapter 3 in [*Mathematical Methods for Chemists*](http://sites.bu.edu/straub/mathematical-methods-for-molecular-science/)\n",
    "\n",
    "By the end of this session, you should be able to:\n",
    "- Remember basic derivative rules for polynomials, adding, multiplying, dividing...\n",
    "- Remember the chain rule\n",
    "- Understand the basics of partial derivatives"
   ]
  },
  {
   "cell_type": "markdown",
   "metadata": {},
   "source": [
    "### Basic Rules\n",
    "\n",
    "Before we get into any rules for derivatives, let's remember what the [derivative](https://en.wikipedia.org/wiki/Derivative) means **conceptually**.\n",
    "\n",
    "Consider a generic function and the slope between two points:\n",
    "(Image from [*Mathematical Methods for Chemists*](http://sites.bu.edu/straub/mathematical-methods-for-molecular-science/))\n",
    "<img src=\"../images/derivative.png\" width=320 />\n",
    "\n",
    "That's fairly easy to describe:\n",
    "\n",
    "$$ slope = \\frac{\\Delta f}{\\Delta x} = \\frac{f(x+\\Delta x) - f(x)}{\\Delta x} $$\n",
    "\n",
    "The question that [Newton and Leibnitz](https://en.wikipedia.org/wiki/Calculus) used when establishing calculus - what happens as $\\Delta x \\rightarrow 0$?\n",
    "\n",
    "Naturally, we can evaluate that ourselves using Python. Let's evaluate the derivative of $e^x$ near $x = 1$"
   ]
  },
  {
   "cell_type": "code",
   "execution_count": null,
   "metadata": {},
   "outputs": [],
   "source": [
    "import math\n",
    "\n",
    "# evaluate the derivative of exp(x = 1.0)\n",
    "#  by finite difference\n",
    "x = 1.0\n",
    "for step in [ 2, 4, 8, 10, 25, 50, 100, 250]:\n",
    "    delta_x = 1 / step\n",
    "    delta_f = math.exp(x + delta_x) - math.exp(x)\n",
    "    print(round(delta_x, 3), round(delta_f / delta_x, 3))\n",
    "    \n",
    "print('limit', math.e)"
   ]
  },
  {
   "cell_type": "markdown",
   "metadata": {},
   "source": [
    "So as we decrease the $\\Delta x$ size, we slowly appproach a limit. Feel free to change the step sizes further (e.g., 0.01, 0.001, etc.) to convince yourself it will eventually reach \n",
    "\n",
    "$$\\frac{d}{dx}[e^x] = e^x$$\n",
    "\n",
    "One key point is that the derivative represents the instantaneous slope at a particular point - a tangent to the curve. Secondly, even if we do not *know* the formula for a derivative of a particular function, it's possible to use a numerical derivative using *finite differences* and a small $\\Delta x$ to approximate one.\n",
    "\n",
    "In our example above, we've used the \"forward\" method (i.e., $x + \\Delta x$ to approximate the derivative. There are three general methods for numeric approximate derivatives:\n",
    "\n",
    "***Forward Difference***\n",
    "\n",
    "a.k.a \"take a step forward in $\\Delta x$\n",
    "\n",
    "$$\\frac{df}{dx} \\approx \\frac{f(x+\\Delta x) - f(x)}{\\Delta x} $$\n",
    "\n",
    "***Backwards Difference***\n",
    "\n",
    "a.k.a. \"take a step backwards in $\\Delta x$\n",
    "\n",
    "$$\\frac{df}{dx} \\approx \\frac{f(x) - f(x-\\Delta x)}{\\Delta x} $$\n",
    "\n",
    "***Central Difference***\n",
    "\n",
    "Use *both* a step forward and a step backwards:\n",
    "\n",
    "$$\\frac{df}{dx} \\approx \\frac{f(x+\\Delta x) - f(x-\\Delta x)}{2\\Delta x} $$\n",
    "\n",
    "\n",
    "Let's test these quickly with Python:"
   ]
  },
  {
   "cell_type": "code",
   "execution_count": null,
   "metadata": {},
   "outputs": [],
   "source": [
    "x = 1.0\n",
    "delta_x = 0.05\n",
    "\n",
    "# forward difference for derivative of e^x\n",
    "delta_f = math.exp(x + delta_x) - math.exp(x)\n",
    "print('forward difference:', delta_f / delta_x)\n",
    "\n",
    "# backwards difference\n",
    "delta_f = math.exp(x) - math.exp(x - delta_x)\n",
    "print('backwards difference:', delta_f / delta_x)\n",
    "\n",
    "# central difference\n",
    "delta_f = math.exp(x + delta_x) - math.exp(x - delta_x)\n",
    "print('central difference:', delta_f / (2.0*delta_x)) # remember the 2*delta_x\n",
    "\n",
    "print('exact:', math.exp(x))"
   ]
  },
  {
   "cell_type": "markdown",
   "metadata": {},
   "source": [
    "<div class=\"alert alert-block alert-success\">\n",
    "\n",
    "Often the central difference method is a more accurate approximation if the function does not oscillate significantly in the range considered. The error in the approximation decreases with $\\Delta x^2$ for central difference, vs. $\\Delta x$ for forward and backwards finite difference methods.\n",
    "    \n",
    "</div>"
   ]
  },
  {
   "cell_type": "markdown",
   "metadata": {},
   "source": [
    "### Notation\n",
    "\n",
    "Calculus was derived independently by both Newton and Leibnitz - who used different notation. As a result, there are a few ways to indicate the \"take a derivative\" operation.\n",
    "\n",
    "- $\\frac{df}{dx}$ - Leibnitz\n",
    "- $\\dot f$ - Newton (a.k.a. 'f-dot')\n",
    "- $f'$ - Lagrange (a.k.a. 'f-prime')\n",
    "- $D_x f(x)$ - Euler\n",
    "\n",
    "Similar notation exists for second derivatives, third derivatives, etc.:\n",
    "\n",
    "- $\\frac{d^2f}{dx^2}$ - Leibnitz\n",
    "- $\\ddot{f}, \\dddot{f}$ - Newton\n",
    "- $f''$ - Lagrange\n",
    "\n",
    "Depending on needs, I tend to mix Leibnitz and Lagrange notation, but you may see the \"dot\" notation elsewhere."
   ]
  },
  {
   "cell_type": "markdown",
   "metadata": {},
   "source": [
    "### Taking derivatives\n",
    "\n",
    "You should be able to do any of the following:\n",
    "\n",
    "- Constants\n",
    "\n",
    "$$\\frac{d}{dx} c = 0$$\n",
    "\n",
    "- Linear functions\n",
    "\n",
    "$$\\frac{d}{dx} ax + b = a$$\n",
    "\n",
    "- Polynomials\n",
    "\n",
    "$$\\frac{d}{dx} x^3 + x^2 = 3x^2 + 2x$$\n",
    "\n",
    "- Sum / Difference\n",
    "\n",
    "$$\\frac{d}{dx} [f(x) + g(x)] = \\frac{d}{dx}[f(x)] + \\frac{d}{dx}[g(x)]$$\n",
    "\n",
    "- Sine\n",
    "\n",
    "$$\\frac{d}{dx} \\sin ax = a \\cos ax$$\n",
    "\n",
    "- Cosine\n",
    "\n",
    "$$\\frac{d}{dx} \\cos ax = -a \\sin ax$$\n",
    "\n",
    "- Exponential\n",
    "\n",
    "$$\\frac{d}{dx} e^x = e^x$$\n",
    "\n",
    "- Log\n",
    "\n",
    "$$\\frac{d}{dx} \\log x = \\frac{1}{x} $$\n",
    "\n",
    "- Powers a<sup>x</sup>\n",
    "\n",
    "$$\\frac{d}{dx} a^x = a^x \\ln a$$\n",
    "\n",
    "- Chain Rule\n",
    "\n",
    "$$\\frac{d}{dx} f(g(x)) = \\frac{df}{dg}\\frac{dg}{dx}$$\n",
    "\n",
    ">For example:\n",
    "\n",
    "$$\\frac{d}{dx} e^{ax^2} = 2axe^{ax^2}$$\n",
    "\n",
    "- Product Rule\n",
    "\n",
    "$$\n",
    "\\frac{d}{d x}[f(x) g(x)]=f(x) \\frac{d g}{d x}+g(x) \\frac{d f}{d x}\n",
    "$$\n",
    "\n",
    "- Quotient Rule\n",
    "\n",
    "$$\n",
    "d\\left(\\frac{u}{v}\\right)=\\frac{v d u-u d v}{v^{2}}\n",
    "$$\n",
    "\n",
    ">For example:\n",
    "\n",
    "$$\n",
    "f(x)=\\frac{\\sin x}{\\cos x} \\quad \\begin{array}{ll}u=\\sin x & d u=\\cos x \\\\ v=\\cos x & d v=-\\sin x\\end{array}\n",
    "$$\n",
    "\n",
    "$$\\frac{df}{dx} = \\frac{\\cos^2 x + \\sin^2 x}{\\cos^2 x} = \\frac{1}{\\cos^2 x} = \\sec^2 x\n",
    "$$\n",
    "\n",
    "Note that the \"quotient rule\" can also be considered as a combination of the product rule and chain rule that are easier to remember:\n",
    "\n",
    "$$\n",
    "\\begin{aligned} \\frac{d}{d x}\\left[\\frac{f(x)}{g(x)}\\right] &=\\frac{1}{g(x)} \\frac{d f}{d x}+f(x) \\frac{d}{d x}\\left[\\frac{1}{g(x)}\\right] \\\\ &=\\frac{1}{g^{2}(x)} g(x) \\frac{d f}{d x}+f(x)\\left[-\\frac{1}{g^{2}(x)} \\frac{d g}{d x}\\right] \\\\ &=\\frac{1}{g^{2}(x)}\\left[g(x) \\frac{d f}{d x}-f(x) \\frac{d g}{d x}\\right] \\end{aligned}\n",
    "$$"
   ]
  },
  {
   "cell_type": "code",
   "execution_count": null,
   "metadata": {},
   "outputs": [],
   "source": [
    "# We're using a new module, sympy to help us with symbolic math\n",
    "import sys\n",
    "!{sys.executable} -m pip install sympy --upgrade --user\n",
    "\n",
    "# the init_session function creates some variables but also \n",
    "# tweaks the output to display nice formulas\n",
    "from sympy import init_session\n",
    "init_session()"
   ]
  },
  {
   "cell_type": "code",
   "execution_count": null,
   "metadata": {},
   "outputs": [],
   "source": [
    "# we can take derivatives using the \"diff\" function\n",
    "diff(cos(2*x**2), x)"
   ]
  },
  {
   "cell_type": "code",
   "execution_count": null,
   "metadata": {},
   "outputs": [],
   "source": [
    "# chain rule\n",
    "diff(exp(x**2), x)"
   ]
  },
  {
   "cell_type": "code",
   "execution_count": null,
   "metadata": {},
   "outputs": [],
   "source": [
    "# quotient rule\n",
    "diff(sin(x)/cos(x), x)"
   ]
  },
  {
   "cell_type": "code",
   "execution_count": null,
   "metadata": {},
   "outputs": [],
   "source": [
    "diff(x**x, x)"
   ]
  },
  {
   "cell_type": "markdown",
   "metadata": {},
   "source": [
    "### Second derivatives, etc.\n",
    "\n",
    "You should remember that second derivatives are just repeated application of the rules:\n",
    "\n",
    "$$\\frac{d^2}{dx^2}[x^2] = \\frac{d}{dx}[2x] = 2$$"
   ]
  },
  {
   "cell_type": "code",
   "execution_count": null,
   "metadata": {},
   "outputs": [],
   "source": [
    "# we can use Sympy to take second derivatives too - just add the order after the variable\n",
    "diff(x**2, x, 2)"
   ]
  },
  {
   "cell_type": "code",
   "execution_count": null,
   "metadata": {},
   "outputs": [],
   "source": [
    "# this next line would be the third-order derivative\n",
    "diff(x**2, x, 3)"
   ]
  },
  {
   "cell_type": "markdown",
   "metadata": {},
   "source": [
    "### Partial Derivatives\n",
    "\n",
    "Remember that a first derivative is simply the limit of an infinitesimal change in $x$. If we have functions of more than one variable, we can define a partial derivative similarly:\n",
    "\n",
    "$$\n",
    "\\left(\\frac{\\partial f}{\\partial x}\\right)_{y}=\\lim _{\\Delta x \\rightarrow 0} \\frac{f(x+\\Delta x, y)-f(x, y)}{\\Delta x}\n",
    "$$\n",
    "\n",
    "We could define a similar derivative with respect to $y$: (Image from [*Mathematical Methods for Chemists*](http://sites.bu.edu/straub/mathematical-methods-for-molecular-science/))\n",
    "\n",
    "<img src=\"../images/partial-derivative.png\" width=300 />\n",
    "\n",
    "For second derivatives, there are a few possibilities:\n",
    "\n",
    "$$\n",
    "f_{x x}=\\frac{\\partial^{2} f}{\\partial x^{2}} \\quad f_{y y}=\\frac{\\partial^{2} f}{\\partial y^{2}} \\quad f_{x y}=\\frac{\\partial^{2} f}{\\partial x \\partial y}=\\frac{\\partial}{\\partial x} f_{y} \\quad f_{y x}=\\frac{\\partial^{2} f}{\\partial y \\partial x}=\\frac{\\partial}{\\partial y} f_{x}\n",
    "$$\n",
    "\n",
    "The key insight is that when taking a derivative with respect to $x$, all other variables (e.g. $y$) are constants.\n",
    "\n",
    "For example:\n",
    "$$\n",
    "\\left(\\frac{\\partial f}{\\partial x}\\right)_{y}=\\frac{\\partial}{\\partial x}\\left(3 x y^{2}+x+2 y^{2}\\right)=\\frac{\\partial}{\\partial x} 3 x y^{2}+\\frac{\\partial}{\\partial x} x+\\frac{\\partial}{\\partial x} 2 y^{2}\n",
    "= 3y^2 + 1\n",
    "$$"
   ]
  },
  {
   "cell_type": "code",
   "execution_count": null,
   "metadata": {},
   "outputs": [],
   "source": [
    "# Sympy already knows how to do partial derivatives\n",
    "f = 3*x*y**2 + x + 2*y**2\n",
    "diff(f, x)"
   ]
  },
  {
   "cell_type": "markdown",
   "metadata": {},
   "source": [
    "What about if we want to take a partial derivative with respect to $y$? Now $x$ is constant:\n",
    "\n",
    "$$\n",
    "\\begin{aligned}\\left(\\frac{\\partial f}{\\partial y}\\right)_{x} &=\\frac{\\partial}{\\partial y}\\left(3 x y^{2}+x+2 y^{2}\\right)=\\frac{\\partial}{\\partial y} 3 x y^{2}+\\frac{\\partial}{\\partial y} x+\\frac{\\partial}{\\partial y} 2 y^{2} \\\\ &=3 x \\frac{\\partial}{\\partial y} y^{2}+x \\frac{\\partial}{\\partial y} 1+2 \\frac{\\partial}{\\partial y} y^{2}=6 x y+4 y \\end{aligned}\n",
    "$$"
   ]
  },
  {
   "cell_type": "code",
   "execution_count": null,
   "metadata": {},
   "outputs": [],
   "source": [
    "# what about if I want the partia derivative with respect to y?\n",
    "diff(f, y)"
   ]
  },
  {
   "cell_type": "markdown",
   "metadata": {},
   "source": [
    " Notice that $\\frac{\\partial}{\\partial x}$ is usually not equal to $\\frac{\\partial}{\\partial y}$\n",
    " \n",
    " We can also use Sympy to help us take second-order partial derivatives:"
   ]
  },
  {
   "cell_type": "code",
   "execution_count": null,
   "metadata": {},
   "outputs": [],
   "source": [
    "diff(f, y, y)"
   ]
  },
  {
   "cell_type": "code",
   "execution_count": null,
   "metadata": {},
   "outputs": [],
   "source": [
    "# take the derivative with respect to x, then with respect to y\n",
    "# e.g., f_xy\n",
    "diff(f, x, y)"
   ]
  },
  {
   "cell_type": "code",
   "execution_count": null,
   "metadata": {},
   "outputs": [],
   "source": [
    "# take the derivative with respect to y, then to x\n",
    "# e.g. f_yx\n",
    "diff(f, y, x)"
   ]
  },
  {
   "cell_type": "markdown",
   "metadata": {},
   "source": [
    "-------\n",
    "This notebook is from Prof. Geoffrey Hutchison, University of Pittsburgh\n",
    "https://github.com/ghutchis/chem1000\n",
    "\n",
    "<a rel=\"license\" href=\"http://creativecommons.org/licenses/by/4.0/\"><img alt=\"Creative Commons License\" style=\"border-width:0\" src=\"https://i.creativecommons.org/l/by/4.0/88x31.png\" /></a>"
   ]
  }
 ],
 "metadata": {
  "kernelspec": {
   "display_name": "Python 3",
   "language": "python",
   "name": "python3"
  },
  "language_info": {
   "codemirror_mode": {
    "name": "ipython",
    "version": 3
   },
   "file_extension": ".py",
   "mimetype": "text/x-python",
   "name": "python",
   "nbconvert_exporter": "python",
   "pygments_lexer": "ipython3",
   "version": "3.6.11"
  },
  "toc": {
   "base_numbering": 1,
   "nav_menu": {},
   "number_sections": false,
   "sideBar": false,
   "skip_h1_title": false,
   "title_cell": "Table of Contents",
   "title_sidebar": "Contents",
   "toc_cell": false,
   "toc_position": {},
   "toc_section_display": false,
   "toc_window_display": false
  }
 },
 "nbformat": 4,
 "nbformat_minor": 4
}
