{
 "cells": [
  {
   "cell_type": "markdown",
   "metadata": {},
   "source": [
    "# CHEM 1000 - Spring 2024\n",
    "Prof. Geoffrey Hutchison, University of Pittsburgh\n",
    "\n",
    "## 10 Differential Equations - First Order\n",
    "\n",
    "Chapter 10 in [*Mathematical Methods for Chemists*](http://sites.bu.edu/straub/mathematical-methods-for-molecular-science/)\n",
    "\n",
    "By the end of this session, you should be able to:\n",
    "- Understand basic naming / categories of differential equations\n",
    "- Solve typical first-order ordinary differential equations"
   ]
  },
  {
   "cell_type": "markdown",
   "metadata": {},
   "source": [
    "### Differential Equations - Categories / Naming\n",
    "\n",
    "First off, a [**differential equation**](https://en.wikipedia.org/wiki/Differential_equation) is simply some type of mathematical equation that includes some type of derivative of a function.\n",
    "\n",
    "Wikipedia:\n",
    ">In applications, the functions generally represent physical quantities, the derivatives represent their rates of change, and the differential equation defines a relationship between the two. Such relations are common; therefore, differential equations play a prominent role in many disciplines including engineering, physics, chemistry, economics, and biology.\n",
    "\n",
    "Solving differential equations generally depends on the *type* of \"diff eq\", so there are some general categories:\n",
    "\n",
    "<div class=\"alert alert-block alert-success\">\n",
    "\n",
    "An **ordinary differential equation** (ODE) only involves one variable and thus ordinary derivatives.\n",
    "    \n",
    "A **partial differential equation** (PDE) includes multiple variables and partial derivatives.\n",
    "    \n",
    "</div>\n",
    "\n",
    "We also categorize differential equations by their **order** defined by the term with the highest derivative:\n",
    "- First derivatives = first-order differential equation\n",
    "- Second derivatives = second-order differential equation\n",
    "- etc.\n",
    "\n",
    "(Most differential equations in chemistry are either first-order or second-order.)\n",
    "\n",
    "We also categorize differential equations as [**linear**](https://en.wikipedia.org/wiki/Linear_differential_equation) or **nonlinear**\n",
    "\n",
    "Linear differential equations can be written in the form:\n",
    "$$\n",
    "a_{0}(x) y+a_{1}(x) y^{\\prime}+a_{2}(x) y^{\\prime \\prime}+\\cdots+a_{n}(x) y^{(n)}+b(x)=0\n",
    "$$\n",
    "\n",
    "As an example of a [nonlinear differential equation](https://en.wikipedia.org/wiki/Nonlinear_system#Nonlinear_differential_equations):\n",
    "$$\n",
    "\\frac{d y}{d x}+y^{2}=0\n",
    "$$\n",
    "\n",
    "(Note the problem is that the final term is $y^2$ not $y$, thus it's not linear.)\n",
    "\n",
    "Most non-linear differential equations cannot be solved into a formula, and require careful numeric simulation. We'll discuss a few important examples later.\n",
    "\n",
    "Finally, we consider **homogenous** differential equations, in which every term is proportional to y(x) (i.e., there is no constant):\n",
    "\n",
    "$$\n",
    "y^{\\prime}+q(x) y=0\n",
    "$$\n",
    "\n",
    "If there is a constant term, this is **non-homogenous**.\n",
    "\n",
    "$$\n",
    "y^{\\prime}+q(x) y=r(x)\n",
    "$$\n",
    "\n",
    "\n",
    "#### Summary:\n",
    "\n",
    "In short, the main ways to categorize differential equations. We ask because the types influence how we solve them.\n",
    "\n",
    "- Order (first order, second order, etc.)\n",
    "- Ordinary vs. Partial\n",
    "- Linear vs. Nonlinear\n",
    "- Homogenous vs. Non-homogenous\n",
    "\n",
    "#### Examples\n",
    "\n",
    "Homogeneous second-order linear ordinary differential equation\n",
    "\n",
    "$$\n",
    "\\frac{d^{2} u}{d x^{2}}-x \\frac{d u}{d x}+u=0\n",
    "$$\n",
    "\n",
    "Heterogeneous first-order nonlinear ordinary differential equation:\n",
    "\n",
    "$$\n",
    "\\frac{d u}{d x}=u^{2}+4\n",
    "$$\n",
    "\n",
    "So what is this equation?\n",
    "\n",
    "$$\n",
    "\\frac{d^{2} u}{d x^{2}}+\\omega^{2} u=0\n",
    "$$"
   ]
  },
  {
   "cell_type": "markdown",
   "metadata": {},
   "source": [
    "### Examples of Solving First-Order Differential Equations...\n",
    "\n",
    "Let's consider a simple chemical reaction with the concentration varying as a function of time $c(t)$. Suppose the concentration decreases through a reaction at a rate proportional to the concentration:\n",
    "\n",
    "$$\n",
    "\\frac{d}{d t} c(t)=-k c(t)\n",
    "$$\n",
    "\n",
    "Obviously $k$ here is the rate constant, with units of inverse time.\n",
    "\n",
    "To solve this linear, first-order ordinary differential equation, we need a function proportional to its own derivative.\n",
    "\n",
    "We'll discuss more general solutions later, but differential equations can be hard. Sometimes we need to make a guess as to the solution. This is perfectly fine. Our educated guess, we can call an **ansatz**, which is German for \"attempt.\" (Sometimes, it's also referred as a trial function.)\n",
    "\n",
    "What comes to mind is the exponential function:\n",
    "\n",
    "$$\n",
    "c(t)=A e^{\\alpha t}\n",
    "$$\n",
    "\n",
    "If we take the derivative, we see that $\\alpha = -k$\n",
    "\n",
    "The *initial condition* gives us:\n",
    "\n",
    "$$\n",
    "A = c_0\n",
    "$$\n",
    "\n",
    "(i.e., the initial concentration at $t = 0$).\n",
    "\n",
    "So the final solution is:\n",
    "\n",
    "$$\n",
    "c(t)=c_{0} e^{-k t}\n",
    "$$\n",
    "\n",
    "### Another Example\n",
    "\n",
    "Consider a species which has a constant birth rate $b$ and constant death rate $d$ proportional to the population $p(t)$:\n",
    "\n",
    "$$\n",
    "\\frac{d}{d t} p(t)=b p(t)-d p(t)=(b-d) p(t)\n",
    "$$\n",
    "\n",
    "Notice this looks quite similar, with the caveat that the *net* rate $k$ depends on $(b - d)$ being positive, constant or negative:\n",
    "\n",
    "<img src=\"../images/population.png\" width=\"300\" />"
   ]
  },
  {
   "cell_type": "markdown",
   "metadata": {},
   "source": [
    "### General Solutions\n",
    "\n",
    "Let's take the general homogeneous first-order equation:\n",
    "\n",
    "$$\n",
    "\\frac{dy}{d x} +q(x) y=0\n",
    "$$\n",
    "\n",
    "This is also known as a \"reduced\" equation because there is no constant term.\n",
    "\n",
    "How do we solve this?\n",
    "\n",
    "We can try \"separation of variables.\" That is, if we get all the terms in $x$ on one side and $y$ on the other:\n",
    "\n",
    "$$\n",
    "\\frac{dy}{dx} = -q(x) y\n",
    "$$\n",
    "\n",
    "Then...\n",
    "\n",
    "$$\n",
    "\\frac{1}{y} d y=-q(x) d x\n",
    "$$\n",
    "\n",
    "Now we can integrate both sides:\n",
    "\n",
    "$$\n",
    "\\int \\frac{1}{y} d y=-\\int q(x) d x\n",
    "$$\n",
    "\n",
    "The left side is really easy to integrate:\n",
    "\n",
    "$$\n",
    "\\ln y(x)=-\\int q(x) d x+\\mathcal{C}\n",
    "$$\n",
    "\n",
    "Taking the exponent of both sides:\n",
    "\n",
    "$$\n",
    "y(x)=A \\exp \\left[-\\int q(x) d x\\right]\n",
    "$$\n",
    "\n",
    "Of course if $q(x)$ is a constant, this is easy, e.g.:\n",
    "\n",
    "$$\n",
    "y(x)=A e^{-\\alpha x}\n",
    "$$\n",
    "\n",
    "Notice this is the same as our original example with kinetics of a chemical reaction."
   ]
  },
  {
   "cell_type": "markdown",
   "metadata": {},
   "source": [
    "### Example\n",
    "\n",
    "Time for a more financially practical example. Compound interest is an amazing financial tool for savings.\n",
    "\n",
    "Let's imagine that we can save one latte every week ($4 maybe?) and put it into an account."
   ]
  },
  {
   "cell_type": "code",
   "execution_count": null,
   "metadata": {},
   "outputs": [],
   "source": [
    "savings = 4 * 52\n",
    "print(savings)"
   ]
  },
  {
   "cell_type": "markdown",
   "metadata": {},
   "source": [
    "Okay, not bad, but it doesn't seem like much. Let's say we keep that up from age 20 to age 40."
   ]
  },
  {
   "cell_type": "code",
   "execution_count": null,
   "metadata": {},
   "outputs": [],
   "source": [
    "years = 40 - 20\n",
    "print(savings*years)"
   ]
  },
  {
   "cell_type": "markdown",
   "metadata": {},
   "source": [
    "Nice, but not exactly surprising. It's also assuming that the account earns no interest at all.\n",
    "\n",
    "How do we calculate compound interest? Well, each year, the account will get a certain percentage added - and then the next year, that build on itself. Start with \\\\$100, then \\\\$102, then \\\\$104.04, etc."
   ]
  },
  {
   "cell_type": "code",
   "execution_count": null,
   "metadata": {},
   "outputs": [],
   "source": [
    "years = 40 - 20\n",
    "savings = 4*52\n",
    "rate = 2.0\n",
    "\n",
    "total = 0.0\n",
    "for year in range(years):\n",
    "    total = (total + savings) * (1.0 + (rate/100.0))\n",
    "    print('age: %d, $%.2f' % (20+year, total))"
   ]
  },
  {
   "cell_type": "markdown",
   "metadata": {},
   "source": [
    "Notice that without interest, our 20 years of savings is \\\\$4160, but with a 2\\% interest rate compounded yearly (e.g., the stock market), we have \\\\$5154.93 instead. That's almost \\\\$1000 'free' money because of compound interest."
   ]
  },
  {
   "cell_type": "markdown",
   "metadata": {},
   "source": [
    "Let's make this more interesting. The S&P 500 index has 500 stocks - so even if one company has problems, it's averaged out. So it's a good measure of the whole stock market. You can get data going back to 1957 and the average return is 8.289\\%.\n",
    "\n",
    "(There are a few sites, but I grabbed data from https://www.macrotrends.net/2526/sp-500-historical-annual-returns)\n",
    "\n",
    "This in no way constitutes financial advice. Obviously, the stock market goes up and down. But when you average over many stocks with the S&P 500 or another index, and save over many, many years, well, you run the numbers..."
   ]
  },
  {
   "cell_type": "code",
   "execution_count": null,
   "metadata": {},
   "outputs": [],
   "source": [
    "years = 40 - 20\n",
    "savings = 4*52\n",
    "rate = 8.289\n",
    "\n",
    "total = 0.0\n",
    "for year in range(years):\n",
    "    total = (total + savings) * (1.0 + (rate/100.0))\n",
    "    print('age: %d, $%.2f' % (20+year, total))"
   ]
  },
  {
   "cell_type": "markdown",
   "metadata": {},
   "source": [
    "Okay, we saved \\\\$4 per week for 20 years, and now we have over \\\\$10,000!"
   ]
  },
  {
   "cell_type": "markdown",
   "metadata": {},
   "source": [
    "What if we wait until we're 30. How much do we need to save per week to get to the same \\\\$10k?"
   ]
  },
  {
   "cell_type": "code",
   "execution_count": null,
   "metadata": {},
   "outputs": [],
   "source": [
    "years = 40 - 30\n",
    "savings = 13*52\n",
    "rate = 8.289\n",
    "\n",
    "total = 0.0\n",
    "for year in range(years):\n",
    "    total = (total + savings) * (1.0 + (rate/100.0))\n",
    "    print('age: %d, $%.2f' % (30+year, total))"
   ]
  },
  {
   "cell_type": "markdown",
   "metadata": {},
   "source": [
    "If we wait 10 years to save, we need to save almost 3 times as much ($13 per week) to make up the difference!"
   ]
  },
  {
   "cell_type": "markdown",
   "metadata": {},
   "source": [
    "We calculated compounding once a year. In reality, the stock market is a continuous function (or close enough - it runs weekdays 9:30-4pm but after-hours trading is common these days)\n",
    "\n",
    "And our savings contribution is every week, so let's calculate this as a differential equation.\n",
    "\n",
    "We'll set our timescale to a week. \"m\" will be our money. 😀\n",
    "\n",
    "$$\\frac{dm}{dt} = (rate / 100)*m + 208$$\n",
    "\n",
    "where \\$ 208 is the amount we save each year..."
   ]
  },
  {
   "cell_type": "code",
   "execution_count": null,
   "metadata": {},
   "outputs": [],
   "source": [
    "week_rate = 8.289 / 365.0 * 7 # convert 8.289 annual percent to a weekly rate\n",
    "week_percent = week_rate / 100.0\n",
    "\n",
    "print(week_percent)\n",
    "# this is why the \"monthly rate\" on credit cards looks sorta low. 22\\% annual divided by 12 months"
   ]
  },
  {
   "cell_type": "code",
   "execution_count": null,
   "metadata": {},
   "outputs": [],
   "source": [
    "import numpy as np\n",
    "\n",
    "time = 20.0 * (365.25 / 7.0) # 20 years in weeks\n",
    "\n",
    "savings = 4 # per week\n",
    "m = (-savings / week_percent) + (savings/week_percent)*np.exp(week_percent * time)\n",
    "print(m)"
   ]
  },
  {
   "cell_type": "markdown",
   "metadata": {},
   "source": [
    "Note that this is a bit higher than our for() loop code because of continual / daily compounding. Over the course of a few years it adds up a lot.\n",
    "\n",
    "You can make the same arguments about debt, credit cards, etc."
   ]
  },
  {
   "cell_type": "markdown",
   "metadata": {},
   "source": [
    "-------\n",
    "This notebook is from Prof. Geoffrey Hutchison, University of Pittsburgh\n",
    "https://github.com/ghutchis/chem1000\n",
    "\n",
    "<a rel=\"license\" href=\"http://creativecommons.org/licenses/by/4.0/\"><img alt=\"Creative Commons License\" style=\"border-width:0\" src=\"https://i.creativecommons.org/l/by/4.0/88x31.png\" /></a>"
   ]
  }
 ],
 "metadata": {
  "kernelspec": {
   "display_name": "Python 3",
   "language": "python",
   "name": "python3"
  },
  "language_info": {
   "codemirror_mode": {
    "name": "ipython",
    "version": 3
   },
   "file_extension": ".py",
   "mimetype": "text/x-python",
   "name": "python",
   "nbconvert_exporter": "python",
   "pygments_lexer": "ipython3",
   "version": "3.6.11"
  },
  "toc": {
   "base_numbering": 1,
   "nav_menu": {},
   "number_sections": false,
   "sideBar": false,
   "skip_h1_title": false,
   "title_cell": "Table of Contents",
   "title_sidebar": "Contents",
   "toc_cell": false,
   "toc_position": {},
   "toc_section_display": false,
   "toc_window_display": false
  }
 },
 "nbformat": 4,
 "nbformat_minor": 4
}
