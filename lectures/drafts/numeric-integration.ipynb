{
 "cells": [
  {
   "cell_type": "code",
   "execution_count": 4,
   "metadata": {},
   "outputs": [
    {
     "name": "stdout",
     "output_type": "stream",
     "text": [
      "3 1.5707963267948968\n",
      "4 1.8137993642342178\n",
      "5 1.8961188979370398\n",
      "6 1.9337655980928052\n",
      "7 1.9540972333137065\n",
      "8 1.9663166787658923\n",
      "9 1.9742316019455508\n",
      "10 1.9796508112164835\n",
      "11 1.9835235375094542\n",
      "12 1.9863869865816575\n",
      "13 1.9885637765843158\n",
      "14 1.990257175347774\n",
      "15 1.9916004273550747\n"
     ]
    }
   ],
   "source": [
    "import numpy as np\n",
    "\n",
    "for size in range(3, 16):\n",
    "    x = np.linspace(0, np.pi, size)\n",
    "    print(size, np.trapz(np.sin(x), x))"
   ]
  },
  {
   "cell_type": "code",
   "execution_count": null,
   "metadata": {},
   "outputs": [],
   "source": []
  }
 ],
 "metadata": {
  "kernelspec": {
   "display_name": "Python 3",
   "language": "python",
   "name": "python3"
  },
  "language_info": {
   "codemirror_mode": {
    "name": "ipython",
    "version": 3
   },
   "file_extension": ".py",
   "mimetype": "text/x-python",
   "name": "python",
   "nbconvert_exporter": "python",
   "pygments_lexer": "ipython3",
   "version": "3.6.10"
  },
  "toc": {
   "base_numbering": 1,
   "nav_menu": {},
   "number_sections": false,
   "sideBar": false,
   "skip_h1_title": false,
   "title_cell": "Table of Contents",
   "title_sidebar": "Contents",
   "toc_cell": false,
   "toc_position": {},
   "toc_section_display": false,
   "toc_window_display": false
  }
 },
 "nbformat": 4,
 "nbformat_minor": 4
}
