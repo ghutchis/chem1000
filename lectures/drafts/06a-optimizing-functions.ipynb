{
 "cells": [
  {
   "cell_type": "markdown",
   "metadata": {},
   "source": [
    "# CHEM 1000 - Fall 2020\n",
    "Prof. Geoffrey Hutchison, University of Pittsburgh\n",
    "\n",
    "## 6 Optimizing Functions\n",
    "\n",
    "Chapter 6 in [*Mathematical Methods for Chemists*](http://sites.bu.edu/straub/mathematical-methods-for-molecular-science/)\n",
    "\n",
    "By the end of this session, you should be able to:\n",
    "- "
   ]
  },
  {
   "cell_type": "markdown",
   "metadata": {},
   "source": [
    "Beyond these techniques, there is a whole area of mathematics on \"[optimization theory](https://en.wikipedia.org/wiki/Mathematical_optimization)\"\n",
    "\n",
    "Gradient-free techniques include:\n",
    "- Particle swarm optimization\n",
    "- [Simultaneous perturbation stochastic approximation](https://www.jhuapl.edu/SPSA/)\n",
    "- [Genetic algorithm](https://en.wikipedia.org/wiki/Genetic_algorithm)\n",
    "- [Simulated annealing](https://en.wikipedia.org/wiki/Simulated_annealing)\n",
    "- [Simplex / Nelder-Mead](https://en.wikipedia.org/wiki/Nelder–Mead_method)\n",
    "\n",
    "Many of these gradient-free techniques involve estimating a *surrogate function* - a simpler system to be optimized\n",
    "- [Bayesian optimization / Gaussian processs regression](https://en.wikipedia.org/wiki/Bayesian_optimization)\n",
    "\n",
    "Some cases, you may want to optimize more than one property that have a trade-off.\n",
    "- [Pareto optimization](https://en.wikipedia.org/wiki/Pareto_efficiency)"
   ]
  },
  {
   "cell_type": "code",
   "execution_count": null,
   "metadata": {},
   "outputs": [],
   "source": []
  }
 ],
 "metadata": {
  "kernelspec": {
   "display_name": "Python 3",
   "language": "python",
   "name": "python3"
  },
  "language_info": {
   "codemirror_mode": {
    "name": "ipython",
    "version": 3
   },
   "file_extension": ".py",
   "mimetype": "text/x-python",
   "name": "python",
   "nbconvert_exporter": "python",
   "pygments_lexer": "ipython3",
   "version": "3.6.10"
  },
  "toc": {
   "base_numbering": 1,
   "nav_menu": {},
   "number_sections": false,
   "sideBar": false,
   "skip_h1_title": false,
   "title_cell": "Table of Contents",
   "title_sidebar": "Contents",
   "toc_cell": false,
   "toc_position": {},
   "toc_section_display": false,
   "toc_window_display": false
  }
 },
 "nbformat": 4,
 "nbformat_minor": 4
}
