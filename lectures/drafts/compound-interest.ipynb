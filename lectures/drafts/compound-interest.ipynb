{
 "cells": [
  {
   "cell_type": "markdown",
   "metadata": {},
   "source": [
    "Time for a more financially practical example. Compound interest is an amazing financial tool for savings.\n",
    "\n",
    "Let's imagine that we can save one latte every week ($4 maybe?) and put it into an account."
   ]
  },
  {
   "cell_type": "code",
   "execution_count": 1,
   "metadata": {},
   "outputs": [
    {
     "name": "stdout",
     "output_type": "stream",
     "text": [
      "208\n"
     ]
    }
   ],
   "source": [
    "savings = 4 * 52\n",
    "print(savings)"
   ]
  },
  {
   "cell_type": "markdown",
   "metadata": {},
   "source": [
    "Okay, not bad, but it doesn't seem like much. Let's say we keep that up from age 20 to age 40."
   ]
  },
  {
   "cell_type": "code",
   "execution_count": 2,
   "metadata": {},
   "outputs": [
    {
     "name": "stdout",
     "output_type": "stream",
     "text": [
      "4160\n"
     ]
    }
   ],
   "source": [
    "years = 40 - 20\n",
    "print(savings*years)"
   ]
  },
  {
   "cell_type": "markdown",
   "metadata": {},
   "source": [
    "Nice, but not exactly surprising - but it's assuming that the account earns no interest at all.\n",
    "\n",
    "How do we calculate compound interest? Well, each year, the account will get a certain percentage added - and then the next year, that build on itself. Start with \\\\$100, then \\\\$102, then \\\\$104.04, etc."
   ]
  },
  {
   "cell_type": "code",
   "execution_count": 2,
   "metadata": {},
   "outputs": [
    {
     "name": "stdout",
     "output_type": "stream",
     "text": [
      "age: 20, $212.16\n",
      "age: 21, $428.56\n",
      "age: 22, $649.29\n",
      "age: 23, $874.44\n",
      "age: 24, $1104.09\n",
      "age: 25, $1338.33\n",
      "age: 26, $1577.26\n",
      "age: 27, $1820.96\n",
      "age: 28, $2069.54\n",
      "age: 29, $2323.09\n",
      "age: 30, $2581.71\n",
      "age: 31, $2845.51\n",
      "age: 32, $3114.58\n",
      "age: 33, $3389.03\n",
      "age: 34, $3668.97\n",
      "age: 35, $3954.51\n",
      "age: 36, $4245.76\n",
      "age: 37, $4542.84\n",
      "age: 38, $4845.85\n",
      "age: 39, $5154.93\n"
     ]
    }
   ],
   "source": [
    "years = 40 - 20\n",
    "savings = 4*52\n",
    "rate = 2.0\n",
    "\n",
    "total = 0.0\n",
    "for year in range(years):\n",
    "    total = (total + savings) * (1.0 + (rate/100.0))\n",
    "    print('age: %d, $%.2f' % (20+year, total))"
   ]
  },
  {
   "cell_type": "markdown",
   "metadata": {},
   "source": [
    "Notice that without interest, our 20 years of savings is \\\\$4160, but with a 2\\% interest rate compounded yearly (e.g., the stock market), we have \\\\$5154.93 instead. That's almost \\\\$1000 'free' money because of compound interest."
   ]
  },
  {
   "cell_type": "markdown",
   "metadata": {},
   "source": [
    "Let's make this more interesting. The S&P 500 index has 500 stocks - so even if one company has problems, it's averaged out. So it's a good measure of the whole stock market. You can get data going back to 1957 and the average return is 8.289\\%.\n",
    "\n",
    "(There are a few sites, but I grabbed data from https://www.macrotrends.net/2526/sp-500-historical-annual-returns)\n",
    "\n",
    "This in no way constitutes financial advice. Obviously, the stock market goes up and down. But when you average over many stocks with the S&P 500 or another index, and save over many, many years, well, you run the numbers..."
   ]
  },
  {
   "cell_type": "code",
   "execution_count": 3,
   "metadata": {},
   "outputs": [
    {
     "name": "stdout",
     "output_type": "stream",
     "text": [
      "age: 20, $225.24\n",
      "age: 21, $469.15\n",
      "age: 22, $733.28\n",
      "age: 23, $1019.30\n",
      "age: 24, $1329.04\n",
      "age: 25, $1664.44\n",
      "age: 26, $2027.65\n",
      "age: 27, $2420.96\n",
      "age: 28, $2846.87\n",
      "age: 29, $3308.09\n",
      "age: 30, $3807.54\n",
      "age: 31, $4348.39\n",
      "age: 32, $4934.07\n",
      "age: 33, $5568.30\n",
      "age: 34, $6255.09\n",
      "age: 35, $6998.82\n",
      "age: 36, $7804.19\n",
      "age: 37, $8676.32\n",
      "age: 38, $9620.74\n",
      "age: 39, $10643.45\n"
     ]
    }
   ],
   "source": [
    "years = 40 - 20\n",
    "savings = 4*52\n",
    "rate = 8.289\n",
    "\n",
    "total = 0.0\n",
    "for year in range(years):\n",
    "    total = (total + savings) * (1.0 + (rate/100.0))\n",
    "    print('age: %d, $%.2f' % (20+year, total))"
   ]
  },
  {
   "cell_type": "markdown",
   "metadata": {},
   "source": [
    "Okay, we saved \\\\$4 per week for 20 years, and now we have over \\\\$10,000!"
   ]
  },
  {
   "cell_type": "markdown",
   "metadata": {},
   "source": [
    "What if we wait until we're 30. How much do we need to save per week to get to the same \\\\$10k?"
   ]
  },
  {
   "cell_type": "code",
   "execution_count": 4,
   "metadata": {},
   "outputs": [
    {
     "name": "stdout",
     "output_type": "stream",
     "text": [
      "age: 30, $732.03\n",
      "age: 31, $1524.75\n",
      "age: 32, $2383.17\n",
      "age: 33, $3312.74\n",
      "age: 34, $4319.37\n",
      "age: 35, $5409.43\n",
      "age: 36, $6589.85\n",
      "age: 37, $7868.12\n",
      "age: 38, $9252.34\n",
      "age: 39, $10751.30\n"
     ]
    }
   ],
   "source": [
    "years = 40 - 30\n",
    "savings = 13*52\n",
    "rate = 8.289\n",
    "\n",
    "total = 0.0\n",
    "for year in range(years):\n",
    "    total = (total + savings) * (1.0 + (rate/100.0))\n",
    "    print('age: %d, $%.2f' % (30+year, total))"
   ]
  },
  {
   "cell_type": "markdown",
   "metadata": {},
   "source": [
    "If we wait 10 years to save, we need to save almost 3 times as much to make up the difference!"
   ]
  },
  {
   "cell_type": "markdown",
   "metadata": {},
   "source": [
    "We calculated compounding once a year. In reality, the stock market is a continuous function (or close enough - it runs weekdays 9:30-4pm but after-hours trading is common these days)\n",
    "\n",
    "And our savings contribution is every week, so let's calculate this as a differential equation.\n",
    "\n",
    "We'll set our timescale to a week. \"m\" will be our money. 😀\n",
    "\n",
    "$$\\frac{dm}{dt} = (rate / 100)*m + 208$$"
   ]
  },
  {
   "cell_type": "code",
   "execution_count": 6,
   "metadata": {},
   "outputs": [
    {
     "name": "stdout",
     "output_type": "stream",
     "text": [
      "0.0015896712328767125\n"
     ]
    }
   ],
   "source": [
    "week_rate = 8.289 / 365.0 * 7\n",
    "print(week_rate / 100.0)\n",
    "# this is why the \"monthly rate\" on credit cards looks sorta low. 22\\% annual divided by 12 months"
   ]
  },
  {
   "cell_type": "code",
   "execution_count": 17,
   "metadata": {},
   "outputs": [
    {
     "name": "stdout",
     "output_type": "stream",
     "text": [
      "10703.383418887766\n"
     ]
    }
   ],
   "source": [
    "import math\n",
    "\n",
    "week_percent = week_rate / 100.0\n",
    "time = 20.0 * (365.25 / 7.0)\n",
    "\n",
    "m = (-4 / week_percent) + (4/week_percent)*math.exp(week_percent * time)\n",
    "print(m)"
   ]
  },
  {
   "cell_type": "markdown",
   "metadata": {},
   "source": [
    "Note that this is a bit higher than our for() loop code because of continual / daily compounding. Over the course of a few years it adds up a lot.\n",
    "\n",
    "You can make the same arguments about debt, credit cards, etc."
   ]
  }
 ],
 "metadata": {
  "kernelspec": {
   "display_name": "Python 3.7",
   "language": "python",
   "name": "python3"
  },
  "language_info": {
   "codemirror_mode": {
    "name": "ipython",
    "version": 3
   },
   "file_extension": ".py",
   "mimetype": "text/x-python",
   "name": "python",
   "nbconvert_exporter": "python",
   "pygments_lexer": "ipython3",
   "version": "3.7.0"
  }
 },
 "nbformat": 4,
 "nbformat_minor": 4
}
