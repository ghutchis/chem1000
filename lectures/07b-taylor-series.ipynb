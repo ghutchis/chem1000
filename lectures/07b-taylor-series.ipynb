{
 "cells": [
  {
   "cell_type": "markdown",
   "metadata": {},
   "source": [
    "# CHEM 1000 - Fall 2020\n",
    "Prof. Geoffrey Hutchison, University of Pittsburgh\n",
    "\n",
    "## 7 Maclaurin and Taylor Series\n",
    "\n",
    "Chapter 7 in [*Mathematical Methods for Chemists*](http://sites.bu.edu/straub/mathematical-methods-for-molecular-science/)\n",
    "\n",
    "By the end of this session, you should be able to:\n",
    "- Understand the concepts behind Maclaurin and Taylor series approximations\n",
    "- Use Maclaurin and Taylor expansions for exp, log, sin, cos, and other functions"
   ]
  },
  {
   "cell_type": "markdown",
   "metadata": {},
   "source": [
    "### Series\n",
    "\n",
    "Last time, we saw that infinite series can be useful for chemistry and physics. Many times, we can either use a ***series limit*** for mathematical purposes. We can also use finite approximations from ***partial sums*** to estimate a more difficult or complex system.\n",
    "\n",
    "In particular, we used a ***power series*** to approximate $e^x$ and saw that related power series could be derived for other functions.\n",
    "\n",
    "We will now use two new kinds of series to approximate functions.\n",
    "\n",
    "<div class=\"alert alert-block alert-success\">\n",
    "\n",
    "Mathematical functions that are continuous and infinitely differentiable may be  represented in terms of the function’s derivatives at a single point.\n",
    "    \n",
    "The ***Maclaurin series*** represents a function as power series in x with coefficients depending on the derivatives of the function at x = 0. \n",
    "\n",
    "The ***Taylor series*** represents a function in terms of derivatives of the function at an arbitrary point x0 and powers of the displacement x - x0.\n",
    "    \n",
    "</div>\n",
    "\n",
    "We'll start with the Maclaurin series, since the derivations are a bit \"cleaner.\""
   ]
  },
  {
   "cell_type": "markdown",
   "metadata": {},
   "source": [
    "### Maclaurin Series\n",
    "\n",
    "While we saw a few functions evaluated as power series, we would like to know how to express *any* function as a power series...\n",
    "\n",
    "$$\n",
    "f(x)=\\sum_{n=0}^{\\infty} a_{n} x^{n}=a_{0}+a_{1} x+a_{2} x^{2}+\\ldots\n",
    "$$\n",
    "\n",
    "The key question, of course is how to calculate the coefficients $a_0$, $a_1$, etc.\n",
    "\n",
    "Since we will perform this approximation near $x = 0$ we can easily get the first coefficient $a_0$:\n",
    "\n",
    "$$\n",
    "f(0) = a_0 + a_1\\cdot 0 + a_2\\cdot 0 + \\ldots\n",
    "$$\n",
    "\n",
    "We can get the *next* coefficient with the first derivative:\n",
    "\n",
    "$$\n",
    "f'(0) = a_1 + 2 a_2 \\cdot 0 + \\ldots\n",
    "$$\n",
    "\n",
    "Not surprisingly, we can continue this with second derivatives, third derivatives, etc.\n",
    "\n",
    "$$\n",
    "\\left.\\frac{d^{2}}{d x^{2}} f(x)\\right|_{x=0}=2 a_{2}\n",
    "$$\n",
    "\n",
    "$$\n",
    "\\left.\\frac{d^{3}}{d x^{3}} f(x)\\right|_{x=0}=2 \\cdot 3 a_{3}\n",
    "$$\n",
    "\n",
    "So in general, the coefficients will all be:\n",
    "\n",
    "$$\n",
    "a_{n}=\\left.\\frac{1}{n !} \\frac{d^{n}}{d x^{n}} f(x)\\right|_{x=0}\n",
    "$$\n",
    "\n",
    "This may seem like a boring and tedious procedure. On the other hand, it means that we can express *any* function as a power series around $x = 0$, which can be very useful.\n",
    "\n",
    "We will see throughout the course that there are several methods to approximate any function (even something amazingly complex) as an infinite series of simple \"basis\" functions."
   ]
  },
  {
   "cell_type": "code",
   "execution_count": null,
   "metadata": {},
   "outputs": [],
   "source": [
    "# Let's do some examples\n",
    "from sympy import init_session\n",
    "init_session()"
   ]
  },
  {
   "cell_type": "markdown",
   "metadata": {},
   "source": [
    "We already know the power series for $e^x$ - we saw it last class:\n",
    "\n",
    "$$\n",
    "e^{x}=\\sum_{n=0}^{\\infty} \\frac{1}{n !} x^{n}=1+x+\\frac{1}{2 !} x^{2}+\\frac{1}{3 !} x^{3}+\\ldots\n",
    "$$\n",
    "\n",
    "Let's see how the Maclauren series works and if we can derive this power series for $e^x$. Remember that what we need are the $a_n$:"
   ]
  },
  {
   "cell_type": "code",
   "execution_count": null,
   "metadata": {},
   "outputs": [],
   "source": [
    "f = exp(x)\n",
    "print('a0, ', f.subs(x, 0))\n",
    "print('a1, ', 1*diff(f, x).subs(x, 0))\n",
    "print('a2, ', 1/2*diff(f, x, 2).subs(x, 0))"
   ]
  },
  {
   "cell_type": "markdown",
   "metadata": {},
   "source": [
    "This is obviously boring, because the derivative of $e^x$ is *always* $e^x$ and at $x=0$ the number is *always* one.\n",
    "\n",
    "$$\n",
    "a_{n}=\\left.\\frac{1}{n !} \\frac{d^{n}}{d x^{n}} f(x)\\right|_{x=0}=\\frac{1}{n !} \\times 1\n",
    "$$\n",
    "\n",
    "Thus, it's not a surprise that the Maclaurin series for $e^x$ is:\n",
    "\n",
    "$$\n",
    "e^{x}=\\sum_{n=0}^{\\infty} \\frac{1}{n !} x^{n}=1+x+\\frac{1}{2 !} x^{2}+\\frac{1}{3 !} x^{3}+\\ldots\n",
    "$$\n",
    "\n",
    "Let's do a more interesting example for $\\sin x$:"
   ]
  },
  {
   "cell_type": "code",
   "execution_count": null,
   "metadata": {},
   "outputs": [],
   "source": [
    "f = sin(x)\n",
    "\n",
    "print('a0, ', f.subs(x, 0))\n",
    "print('a1, ', 1/factorial(1)*diff(f, x).subs(x, 0))\n",
    "print('a2, ', 1/factorial(2)*diff(f, x, 2).subs(x, 0))\n",
    "print('a3, ', 1/factorial(3)*diff(f, x, 3).subs(x, 0))"
   ]
  },
  {
   "cell_type": "markdown",
   "metadata": {},
   "source": [
    "Let's think about what this means.\n",
    "\n",
    "- constant: $\\sin 0 = 0$\n",
    "- first derivative: $d/dx = \\cos x$ and of course $\\cos 0 = 1$\n",
    "- second derivative: $d^2/dx^2 = -\\sin x$ so 0 again.\n",
    "- third derivative: $d^3/dx^3 = -\\cos x$ so $a_3 = \\frac{1}{3!} \\times -1 = \\frac{-1}{6}$\n",
    "\n",
    "Okay, I obviously could keep going by hand, but larger terms clearly call for a loop:"
   ]
  },
  {
   "cell_type": "code",
   "execution_count": null,
   "metadata": {},
   "outputs": [],
   "source": [
    "# or more fun...\n",
    "for n in range(6):\n",
    "    print(n, 1/factorial(n)*diff(f, x, n).subs(x, 0))"
   ]
  },
  {
   "cell_type": "markdown",
   "metadata": {},
   "source": [
    "Notice that for even orders, the resulting derivative will be $\\sin x$ and thus the coefficient is zero.\n",
    "\n",
    "I want to plot these..."
   ]
  },
  {
   "cell_type": "code",
   "execution_count": null,
   "metadata": {},
   "outputs": [],
   "source": [
    "# Let's plot it!\n",
    "import numpy as np\n",
    "import matplotlib.pyplot as plt\n",
    "%matplotlib inline\n",
    "%config InlineBackend.figure_format = 'retina'\n",
    "plt.style.use('./chem1000.mplstyle')"
   ]
  },
  {
   "cell_type": "code",
   "execution_count": null,
   "metadata": {},
   "outputs": [],
   "source": [
    "x = np.arange(-2*np.pi,2*np.pi,0.1)\n",
    "\n",
    "plt.plot(x, np.sin(x), color='blue', label='sin() function')\n",
    "# zero order is zero b/c sin(0) = 0\n",
    "plt.plot(x, 1/factorial(1) * x, label='Taylor - 1st order')\n",
    "# second order is the same b/c sin(0) = 0\n",
    "plt.plot(x, 1/factorial(1) * x - 1/factorial(3)*x**3, label='Taylor - 3rd order')\n",
    "# fourth order is the same again\n",
    "plt.plot(x, 1/factorial(1) * x - 1/factorial(3)*x**3 + 1/factorial(5)*x**5, label='Taylor - 5th order')\n",
    "\n",
    "plt.ylim([-7,4])\n",
    "plt.legend()\n",
    "plt.show()"
   ]
  },
  {
   "cell_type": "markdown",
   "metadata": {},
   "source": [
    "Notice that as we add higher terms, we get an increasing accuracy of the Taylor series expansion for $\\sin x$.\n",
    "\n",
    "Of course, Sympy can do this too..."
   ]
  },
  {
   "cell_type": "code",
   "execution_count": null,
   "metadata": {},
   "outputs": [],
   "source": [
    "x = symbols('x')\n",
    "f = sin(x)\n",
    "\n",
    "# Sympy already knows how to do a Maclaurin or Taylor expension of a function\n",
    "#  around x0 up to (but not including) order 'n'\n",
    "# expression.series(x, x0, n)\n",
    "# if x0 is omitted, it's assumed to be around x0 = 0 (Maclaurin series)\n",
    "# if n is omitted, it's assumed to be n=6\n",
    "f.series(x, x0 = 0, n=6)\n",
    "\n",
    "# the \"O(x**4)\" expression means that terms above x**4 are omitted"
   ]
  },
  {
   "cell_type": "code",
   "execution_count": null,
   "metadata": {},
   "outputs": [],
   "source": [
    "x = symbols('x')\n",
    "g = cos(x)\n",
    "g.series(x, x0 = 0, n=4)"
   ]
  },
  {
   "cell_type": "markdown",
   "metadata": {},
   "source": [
    "### Quick Approximations\n",
    "\n",
    "The Maclaurin series is useful for some quick / easy approximations for functions near $x=0$:\n",
    "\n",
    "- $e^x \\approx 1+x+\\frac{x^2}{2}$ - or even just $1 + x$\n",
    "- $\\sin x \\approx x$\n",
    "- $\\cos x \\approx 1 - \\frac{x^2}{2}$\n",
    "\n",
    "Obviously, these aren't very good outside some region of convergence, but when doing mental math, they're useful shortcuts."
   ]
  },
  {
   "cell_type": "markdown",
   "metadata": {},
   "source": [
    "### Taylor Series\n",
    "\n",
    "The Maclaurin series derivation is only for $x = 0$, but what if we want to expand around a different point (e.g., an optimum bond length isn't going to be 0.0 Å...\n",
    "\n",
    "It's not hard to imagine what we need to do:\n",
    "- Write the power series with ($x - x_0$)\n",
    "- Evaluate the derivatives at $x_0$ instead of zero.\n",
    "\n",
    "That's about it. The math notation looks a bit messy, but:\n",
    "\n",
    "$$\n",
    "f(x)=\\sum_{n=0}^{\\infty} a_{n}\\left(x-x_{0}\\right)^{n}=a_{0}+a_{1}\\left(x-x_{0}\\right)+a_{2}\\left(x-x_{0}\\right)^{2}+\\ldots\n",
    "$$\n",
    "\n",
    "### Example log(1)\n",
    "\n",
    "We can't take the natural log of zero. So let's consider:\n",
    "\n",
    "$$\n",
    "f(x) = \\ln x\n",
    "$$\n",
    "\n",
    "around $x_0 = 1$. Well, that's going to be:\n",
    "\n",
    "$$\n",
    "\\ln (x)=\\ln (1)+\\left.\\frac{d}{d x} \\ln (x)\\right|_{x=1}(x-1)+\\left.\\frac{1}{2 !} \\frac{d^{2}}{d x^{2}} \\ln (x)\\right|_{x=1}(x-1)^{2}+\\ldots\n",
    "$$\n",
    "\n",
    "Remember that the derivative of $\\ln x = 1/x$:\n",
    "\n",
    "- $\\ln 1 = 0$\n",
    "- $1/x = 1$\n",
    "- $-1/x^2 = -1$\n",
    "- $2/x^3 = 2$\n",
    "- (etc.)\n",
    "\n",
    "So the formula looks something like:\n",
    "$$\n",
    "\\ln \\approx 0+\\left.\\frac{1}{x}\\right|_{x=1}(x-1)+\\frac{1}{2 !}\\left[\\frac{-1}{x^{2}}\\right]_{x=1}(x-1)^{2}+\\frac{1}{3 !}\\left[\\frac{2}{x^{3}}\\right]_{x=1}(x-1)^{3}+\\ldots\n",
    "$$\n",
    "\n",
    "Then doing a little clean-up:\n",
    "$$\n",
    "\\begin{aligned}\n",
    "\\ln (x) &=(x-1)-\\frac{1}{2 !}(x-1)^{2}+\\frac{2}{3 !}(x-1)^{3}-\\frac{2 \\cdot 3}{4 !}(x-1)^{4}+\\ldots \\\\\n",
    "&=(x-1)-\\frac{1}{2}(x-1)^{2}+\\frac{1}{3}(x-1)^{3}-\\frac{1}{4}(x-1)^{4}+\\ldots\n",
    "\\end{aligned}\n",
    "$$\n",
    "\n",
    "Putting it slightly differently for small deviations $x$:\n",
    "\n",
    "$$\n",
    "\\ln (1+x)=x-\\frac{1}{2} x^{2}+\\frac{1}{3} x^{3}-\\frac{1}{4} x^{4}+\\cdots=\\sum_{n=1}^{\\infty}(-1)^{n+1} \\frac{1}{n} x^{n}\n",
    "$$"
   ]
  },
  {
   "cell_type": "code",
   "execution_count": null,
   "metadata": {},
   "outputs": [],
   "source": [
    "# plot it!\n",
    "x = np.arange(-0.5,2,0.1)\n",
    "\n",
    "plt.plot(x, np.log(x+1), color='red', label='ln(x+1)')\n",
    "plt.plot(x, x, label='1st order')\n",
    "plt.plot(x, x - x**2/2, label='2nd order')\n",
    "plt.plot(x, x - x**2/2 + x**3/3, label='3rd order')\n",
    "plt.legend()\n",
    "plt.show()"
   ]
  },
  {
   "cell_type": "markdown",
   "metadata": {},
   "source": [
    "We previously talked about the Morse potential energy function:\n",
    "\n",
    "$$\n",
    "V(r)=\\varepsilon\\left[1-e^{-\\beta\\left(r-r_{0}\\right)}\\right]^{2}=\\varepsilon\\left[1-2 e^{-\\beta\\left(r-r_{0}\\right)}+e^{-2 \\beta\\left(r-r_{0}\\right)}\\right]\n",
    "$$"
   ]
  },
  {
   "cell_type": "code",
   "execution_count": null,
   "metadata": {},
   "outputs": [],
   "source": [
    "x, x0, epsilon, beta = symbols('x x0 epsilon beta')\n",
    "V = epsilon * (1 - exp(-beta * (x-x0)))**2\n",
    "\n",
    "# harmonic approximation (i.e., terms in 0, 1, 2)\n",
    "V.series(x, x0, n=3)"
   ]
  },
  {
   "cell_type": "markdown",
   "metadata": {},
   "source": [
    "Notice that the simplest approximation of the potential energy is a harmonic expression (e.g., like a spring):\n",
    "\n",
    "$$\n",
    "V(r) \\approx k(r - r_0)^2\n",
    "$$\n",
    "\n",
    "Near the optimal bond length, $r_0$ this looks fairly good. The problems come with higher energy, if the bond is greatly stretched or compressed.\n",
    "\n",
    "At 298K, thermal energy is ≈0.025 eV = 0.592 kcal/mol, while we can see *anharmonic* parts of the curve (e.g., stretching at longer bond lengths) this is usually not a large effect."
   ]
  },
  {
   "cell_type": "code",
   "execution_count": null,
   "metadata": {},
   "outputs": [],
   "source": [
    "# let's plot it!\n",
    "x = np.linspace(0.5, 2.5, 100)\n",
    "beta = 2.253\n",
    "epsilon = 265.79\n",
    "x0 = 0.9624 # Angstroms\n",
    "\n",
    "plt.plot(x, epsilon * (1 - np.exp(-beta * (x-x0)))**2, color='red')\n",
    "plt.plot(x, beta**2*epsilon*(x - x0)**2, color='green')\n",
    "\n",
    "plt.xlabel('Bond Length (Å)')\n",
    "plt.ylabel('Relative Energy (kcal/mol)')\n",
    "plt.ylim(0, 500)\n",
    "plt.xlim(0.5, 1.75)\n",
    "plt.show()"
   ]
  },
  {
   "cell_type": "markdown",
   "metadata": {},
   "source": [
    "We can go to a higher-order Taylor series expansion to gain accuracy across a larger region. Here's the expansion up to 4th order. (Remember that Python counts from 0, so this goes up to n-1 terms, and n=5 is the O() error term.)"
   ]
  },
  {
   "cell_type": "code",
   "execution_count": null,
   "metadata": {},
   "outputs": [],
   "source": [
    "x = symbols('x')\n",
    "V.series(x, x0, n=5)"
   ]
  },
  {
   "cell_type": "code",
   "execution_count": null,
   "metadata": {},
   "outputs": [],
   "source": [
    "# let's plot the expansion terms\n",
    "x = np.linspace(0.5, 2.5, 100)\n",
    "beta = 2.253\n",
    "epsilon = 265.79\n",
    "x0 = 0.9624 # Angstroms\n",
    "\n",
    "plt.plot(x, epsilon * (1 - np.exp(-beta * (x-x0)))**2, color='red', label='Morse function')\n",
    "plt.plot(x, beta**2*epsilon*(x - x0)**2, color='green', label='2nd order')\n",
    "plt.plot(x, beta**2*epsilon*(x - x0)**2 - beta**3*epsilon*(x-x0)**3, label='3rd order')\n",
    "plt.plot(x, beta**2*epsilon*(x - x0)**2 \n",
    "         - beta**3*epsilon*(x-x0)**3 \n",
    "         + 7/12*beta**4*epsilon*(x-x0)**4, label='4th order')\n",
    "\n",
    "plt.xlabel('Bond Length (Å)')\n",
    "plt.ylabel('Relative Energy (kcal/mol)')\n",
    "plt.ylim(0, 1000)\n",
    "plt.xlim(0.5, 1.75)\n",
    "plt.legend()\n",
    "plt.show()"
   ]
  },
  {
   "cell_type": "markdown",
   "metadata": {},
   "source": [
    "While the 3rd order term goes negative at large separation (uh oh!), the 4th order term looks pretty successful from ~0.6-1.3 Å. We can continue to expand the Taylor series if we wish to have higher accuracy. Notice that the odd orders have negative sign, so we'll need to be careful to pick even orders to avoid negative energies."
   ]
  },
  {
   "cell_type": "code",
   "execution_count": null,
   "metadata": {},
   "outputs": [],
   "source": [
    "x, x0 = symbols('x x0')\n",
    "V.series(x, x0, n=9)"
   ]
  },
  {
   "cell_type": "code",
   "execution_count": null,
   "metadata": {},
   "outputs": [],
   "source": [
    "# let's plot the expansion terms\n",
    "x = np.linspace(0.5, 2.5, 100)\n",
    "beta = 2.253\n",
    "epsilon = 265.79\n",
    "x0 = 0.9624 # Angstroms\n",
    "\n",
    "plt.plot(x, epsilon * (1 - np.exp(-beta * (x-x0)))**2, color='red')\n",
    "plt.plot(x, beta**2*epsilon*(x - x0)**2, color='green')\n",
    "plt.plot(x, beta**2*epsilon*(x - x0)**2 \n",
    "         - beta**3*epsilon*(x-x0)**3 \n",
    "         + 7/12*beta**4*epsilon*(x-x0)**4, color='blue')\n",
    "plt.plot(x, beta**2*epsilon*(x - x0)**2 \n",
    "         - beta**3*epsilon*(x-x0)**3 \n",
    "         + 7/12*beta**4*epsilon*(x-x0)**4\n",
    "         - 0.25*beta**5*epsilon*(x-x0)**5\n",
    "         + 31/360*beta**6*epsilon*(x-x0)**6, color='gold')\n",
    "plt.plot(x, beta**2*epsilon*(x - x0)**2 \n",
    "         - beta**3*epsilon*(x-x0)**3 \n",
    "         + 7/12*beta**4*epsilon*(x-x0)**4\n",
    "         - 1/4*beta**5*epsilon*(x-x0)**5\n",
    "         + 31/360*beta**6*epsilon*(x-x0)**6\n",
    "         - 1/40*beta**7*epsilon*(x-x0)**7\n",
    "         + 127/20160*beta**8*epsilon*(x-x0)**8, color='purple')\n",
    "\n",
    "\n",
    "plt.xlabel('Bond Length (Å)')\n",
    "plt.ylabel('Relative Energy (kcal/mol)')\n",
    "plt.ylim(0, 750)\n",
    "plt.xlim(0.5, 1.75)\n",
    "plt.show()"
   ]
  },
  {
   "cell_type": "markdown",
   "metadata": {},
   "source": [
    "-------\n",
    "This notebook is from Prof. Geoffrey Hutchison, University of Pittsburgh\n",
    "https://github.com/ghutchis/chem1000\n",
    "\n",
    "<a rel=\"license\" href=\"http://creativecommons.org/licenses/by/4.0/\"><img alt=\"Creative Commons License\" style=\"border-width:0\" src=\"https://i.creativecommons.org/l/by/4.0/88x31.png\" /></a>"
   ]
  }
 ],
 "metadata": {
  "kernelspec": {
   "display_name": "Python 3",
   "language": "python",
   "name": "python3"
  },
  "language_info": {
   "codemirror_mode": {
    "name": "ipython",
    "version": 3
   },
   "file_extension": ".py",
   "mimetype": "text/x-python",
   "name": "python",
   "nbconvert_exporter": "python",
   "pygments_lexer": "ipython3",
   "version": "3.6.11"
  },
  "toc": {
   "base_numbering": 1,
   "nav_menu": {},
   "number_sections": false,
   "sideBar": false,
   "skip_h1_title": false,
   "title_cell": "Table of Contents",
   "title_sidebar": "Contents",
   "toc_cell": false,
   "toc_position": {},
   "toc_section_display": false,
   "toc_window_display": false
  }
 },
 "nbformat": 4,
 "nbformat_minor": 4
}
