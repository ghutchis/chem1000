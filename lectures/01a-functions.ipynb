{
 "cells": [
  {
   "cell_type": "markdown",
   "metadata": {},
   "source": [
    "# CHEM 1000 - Fall 2020\n",
    "Prof. Geoffrey Hutchison, University of Pittsburgh\n",
    "\n",
    "## 1. Functions and Coordinate Sets\n",
    "\n",
    "Chapter 1 in [*Mathematical Methods for Chemists*](http://sites.bu.edu/straub/mathematical-methods-for-molecular-science/)\n",
    "\n",
    "**Learning Objectives**\n",
    "\n",
    "By the end of this session, you should be able to:\n",
    "- Plot functions in Python with `matplotlib` and `numpy`\n",
    "- Understand the exponential function $e^x$ and other common functions\n",
    "- Understand odd and even functions"
   ]
  },
  {
   "cell_type": "markdown",
   "metadata": {},
   "source": [
    "### 1.a Functions\n",
    "\n",
    "As a reminder, a function maps numbers (e.g., 'x' values) to other numbers (e.g., 'y' values):\n",
    "\n",
    "Obviously, it's nice to plot functions. To do this easily in Python, we're going to use two new modules:\n",
    "- `numpy` which lets us create and handle arrays of numbers\n",
    "- `matplotlib` which lets us plot things"
   ]
  },
  {
   "cell_type": "code",
   "execution_count": null,
   "metadata": {},
   "outputs": [],
   "source": [
    "# import numpy\n",
    "# the \"as np\" part is giving a shortcut so we can write \"np.function()\" instead of \"numpy.function()\"\n",
    "# (saving typing is nice)\n",
    "import numpy as np\n",
    "# similarly, we import matplotlib's 'pyplot' module\n",
    "# and \"as plt\" means we can use \"plt.show\" instead of \"matplotlib.pyplot.show()\"\n",
    "import matplotlib.pyplot as plt\n",
    "\n",
    "# insert any graphs into our notebooks directly\n",
    "%matplotlib inline\n",
    "%config InlineBackend.figure_format = 'retina'\n",
    "\n",
    "x = np.arange(0, 4*np.pi, 0.1)   # start, stop, resolution\n",
    "y = np.sin(x) # creates an array with sin() of all the x values\n",
    "\n",
    "plt.plot(x,y)\n",
    "plt.show()"
   ]
  },
  {
   "cell_type": "markdown",
   "metadata": {},
   "source": [
    "**Nice !** We have a pretty easy way to plot functions in our Jupyter notebooks - we can learn to tweak the plots later (e.g., axes labels, etc.), but this is good enough for now."
   ]
  },
  {
   "cell_type": "markdown",
   "metadata": {},
   "source": [
    "We can plot multiple functions in one graph. We just use plt.plot(x, y) multiple times before calling plt.show()"
   ]
  },
  {
   "cell_type": "code",
   "execution_count": null,
   "metadata": {},
   "outputs": [],
   "source": [
    "# add some grid lines\n",
    "plt.style.use('seaborn-whitegrid')\n",
    "# these set the font size for the X and Y axes numbers\n",
    "plt.rcParams['xtick.labelsize'] = 15\n",
    "plt.rcParams['ytick.labelsize'] = 15\n",
    "plt.rcParams['grid.linewidth'] = 0.4\n",
    "\n",
    "x = np.arange(-1.0, 5.0, 0.1)\n",
    "# There are defaults for the colors, but we'll specify them to be safe\n",
    "plt.plot(x, 2*x - 2, color='red')\n",
    "plt.plot(x, 3 - x, color='chartreuse') # any HTML color name is supported\n",
    "plt.show()"
   ]
  },
  {
   "cell_type": "markdown",
   "metadata": {},
   "source": [
    "As a reminder, the slope of the lines can be calculated, e.g. for the red line:\n",
    "$$ slope = \\frac{\\Delta y}{\\Delta x} = \\frac{6 - 0}{4 - 1} = 2$$"
   ]
  },
  {
   "cell_type": "markdown",
   "metadata": {},
   "source": [
    "### 1.a.1 Quadratic Functions\n",
    "\n",
    "Quadratic equations take the form:\n",
    "$$ y(x) = ax^2 + bx + c$$\n",
    "\n",
    "For example:"
   ]
  },
  {
   "cell_type": "code",
   "execution_count": null,
   "metadata": {},
   "outputs": [],
   "source": [
    "x = np.arange(-3.0, 3.0, 0.1)\n",
    "plt.plot(x, -x**2 + 2*x - 1, color='black')\n",
    "plt.plot(x, x**2 + 2*x + 0.75, color='red')\n",
    "plt.plot(x, x**2 - 2*x + 2, color='blue')\n",
    "plt.ylim(-4,4) # set the limit on the y-axis to -4 .. 4\n",
    "plt.show()"
   ]
  },
  {
   "cell_type": "markdown",
   "metadata": {},
   "source": [
    "You probably remember that we can solve quadratic equations:\n",
    "$$ x = \\frac{-b \\pm \\sqrt{b^2-4ac}}{2a}$$\n",
    "\n",
    "The $\\sqrt{b^2-4ac}$ part is important, since it tells us if we get real numbers for our solutions when $y(x) = 0$"
   ]
  },
  {
   "cell_type": "markdown",
   "metadata": {},
   "source": [
    "### Chemical Equlibrium example:\n",
    "\n",
    "Let's consider a chemistry example from the textbook:\n",
    "$$\\require{mhchem}$$\n",
    "$$\\ce{PCl5 (g) -> PCl3 (g) + Cl2 (g)}$$\n",
    "\n",
    "So we can write an equilibrium constant:\n",
    "\n",
    "$$K_P = \\frac{P_{PCl_3}P_{Cl_2}}{P_{PCl_5}}$$\n",
    "\n",
    "If we start with 1.0 atm pressure, then we get:\n",
    "\n",
    "$$K_P = \\frac{[x] \\; [x]}{[1.0 - x]}$$\n",
    "\n",
    "Then:\n",
    "\n",
    "$$x^2 + K_P x − K_p = 0$$"
   ]
  },
  {
   "cell_type": "code",
   "execution_count": null,
   "metadata": {},
   "outputs": [],
   "source": [
    "Kp = 1.0 # arbitrary number to allow us to solve this numerically\n",
    "\n",
    "# solve a quadratic = (-b +/- sqrt(b**2 - 4ac)) / 2a\n",
    "x1 = (-Kp + np.sqrt(Kp**2 - 4*1*(-Kp))) / (2*1)\n",
    "x2 = (-Kp - np.sqrt(Kp**2 - 4*1*(-Kp))) / (2*1)\n",
    "print(x1)\n",
    "print(x2) # too many sig figs again..."
   ]
  },
  {
   "cell_type": "markdown",
   "metadata": {},
   "source": [
    "Obviously, we can't have negative numbers for pressures, so we can ignore one of these two solutions. Algebraically, we see:\n",
    "\n",
    "$$\n",
    "P_{\\mathrm{Cl}_{2}}=P_{\\mathrm{PCl}_{3}}=\\frac{1}{2} \\mathrm{K}_{\\mathrm{p}}\\left[1+\\sqrt{1+4 / \\mathrm{K}_{\\mathrm{p}}}\\right]\n",
    "$$\n",
    "\n",
    "And of course:\n",
    "$$\n",
    "P_{\\mathrm{PCl}_{5}}=1.0- P_{\\mathrm{Cl}_{2}}\n",
    "$$"
   ]
  },
  {
   "cell_type": "markdown",
   "metadata": {},
   "source": [
    "### 1.a.2 Beyond Quadratics\n",
    "\n",
    "Obviously, there are higher-order polynomial functions. We usually note the type or category of the polynomial by the highest-order exponent:\n",
    "\n",
    "- $x$ - linear\n",
    "- $x^2$ - quadratic\n",
    "- $x^3$ - cubic\n",
    "- $x^4$ - quartic\n",
    "- $x^5$ - quintic\n",
    "\n",
    "There are analytical ways to solve linear, quadratic, cubic, and quartic functions. It's been proven that [quintic](https://en.wikipedia.org/wiki/Quintic_function) equations cannot always be solved."
   ]
  },
  {
   "cell_type": "code",
   "execution_count": null,
   "metadata": {},
   "outputs": [],
   "source": [
    "x = np.arange(-3.0, 3.0, 0.1)\n",
    "plt.plot(x, 4*(x-1)**2, color='red')\n",
    "plt.plot(x, -x**3, color='grey')\n",
    "plt.plot(x, (x**2 - 1)**2, color='blue')\n",
    "plt.ylim(-3, 9.0)\n",
    "plt.show()"
   ]
  },
  {
   "cell_type": "markdown",
   "metadata": {},
   "source": [
    "### 1.a.3 Odd and Even Functions\n",
    "\n",
    "Think about the function $y = -x^3$ above. For any value $x$, we can see that:\n",
    "$$y(x) = -y(-x)$$\n",
    "\n",
    "In other words, the function is inverted on opposite side of $x = 0$. This is an example of an *odd function*. In contrast, $y = (x^2 - 1)^2$ is an *even function* where $y(x) = y(-x)$. It has mirror symmetry around $x = 0$."
   ]
  },
  {
   "cell_type": "code",
   "execution_count": null,
   "metadata": {},
   "outputs": [],
   "source": [
    "x = np.arange(-2*np.pi, 2*np.pi, 0.1)\n",
    "plt.plot(x, np.sin(x))\n",
    "plt.show()"
   ]
  },
  {
   "cell_type": "markdown",
   "metadata": {},
   "source": [
    "Is $\\sin(x)$ odd or even?"
   ]
  },
  {
   "cell_type": "code",
   "execution_count": null,
   "metadata": {},
   "outputs": [],
   "source": [
    "plt.plot(x, np.cos(x))\n",
    "plt.show()"
   ]
  },
  {
   "cell_type": "markdown",
   "metadata": {},
   "source": [
    "What about $cos(x)$? Is it an odd or even function?\n",
    "\n",
    "**Note:** Some functions are neither, for example $y = 4(x-1)^2$ is not odd or even because it has *no* symmetry at all around $x = 0$.\n",
    "\n",
    "<div class=\"alert alert-block alert-info\">\n",
    "\n",
    "***Why does this matter?***\n",
    "\n",
    "For one, it's easier to sketch a function by hand if you know that it's even or odd, since there's some symmetry around $x = 0$.\n",
    "\n",
    "More importantly, some kinds of integrals can be massively simplified if you know the function is odd or even. For example, consider;\n",
    "\n",
    "$$\\int_{-\\infty}^{\\infty} \\sin x dx = 0$$\n",
    "\n",
    "Since we know $\\sin x$ is an odd function, *whatever* the integral from 0 to $\\infty$ it will be exactly negated by the integral from $-\\infty$ to 0.\n",
    "\n",
    "We'll discuss this further when we get to integrals.\n",
    "</div>"
   ]
  },
  {
   "cell_type": "markdown",
   "metadata": {},
   "source": [
    "### 1.a.4 Plot the function\n",
    "\n",
    "Lots of people / texts will tell you to draw the function. When I took math courses, they spent a lot of time on sketching functions. It's 2020, and I carry a powerful computer in my pocket (i.e., my iPhone). As you can see, with a small amount of Python, we can plot functions in a web browser.\n",
    "\n",
    "To borrow from an ad campaign, and one of my favorite college professors, here's \n",
    "\n",
    "<div class=\"alert alert-block alert-success\">\n",
    "\n",
    "## Hutchison's First Law: Just Plot It!\n",
    "\n",
    "This will tell you things like maximum or minimum values, whether it's continuous, how it behaves (e.g., is it only defined on a range of values), etc. Hopefully if you're not comfortable plotting functions in Python, you will be soon.\n",
    "    \n",
    "</div>"
   ]
  },
  {
   "cell_type": "markdown",
   "metadata": {},
   "source": [
    "### 1.a.5 Useful functions:\n",
    "\n",
    "**Exponentials.**\n",
    "\n",
    "In many cases, growth can be much faster than linear, quadratic, etc. (e.g. COVID):\n",
    "$$y = e^x$$"
   ]
  },
  {
   "cell_type": "code",
   "execution_count": null,
   "metadata": {},
   "outputs": [],
   "source": [
    "np.e"
   ]
  },
  {
   "cell_type": "markdown",
   "metadata": {},
   "source": [
    "There's also exponential decay (e.g, radioactive elements):\n",
    "$$y = e^{-x}$$"
   ]
  },
  {
   "cell_type": "code",
   "execution_count": null,
   "metadata": {},
   "outputs": [],
   "source": [
    "x = np.arange(-3.0, 3.0, 0.1)\n",
    "plt.plot(x, np.exp(x))\n",
    "plt.plot(x, np.exp(-x))\n",
    "plt.ylim(0, 12.0)\n",
    "plt.show()"
   ]
  },
  {
   "cell_type": "markdown",
   "metadata": {},
   "source": [
    "Note that $e^{2.3} \\approx 10$. We can find the exact value with the $log()$ function, which is the inverse of exponentials."
   ]
  },
  {
   "cell_type": "code",
   "execution_count": null,
   "metadata": {},
   "outputs": [],
   "source": [
    "np.log(10)"
   ]
  },
  {
   "cell_type": "markdown",
   "metadata": {},
   "source": [
    "**Logarithms.**\n",
    "\n",
    "We will dicuss logarithms in more detail soon. Suffice to say, it serves as the inverse of exponential:\n",
    "\n",
    "$$ \\ln(\\exp(x)) = \\exp(\\ln(x)) = x$$\n",
    "\n",
    "One recent example for the need of logarithms was to visualize exponential growth (e.g., COVID infections):"
   ]
  },
  {
   "cell_type": "code",
   "execution_count": null,
   "metadata": {},
   "outputs": [],
   "source": [
    "x = np.arange(0.1, 10.0, 0.1)\n",
    "plt.plot(x, np.exp(x))\n",
    "plt.plot(x, 30 + 0.5*np.exp(x))\n",
    "\n",
    "plt.yscale(\"log\")\n",
    "plt.show()"
   ]
  },
  {
   "cell_type": "markdown",
   "metadata": {},
   "source": [
    "Notice that while we plotted two exponential functions, they appear as straight lines on a log scale plot. Similarly, non-exponential scaling (e.g., the start of the orange line for $30 + 0.5\\exp(x)$) appears 'flat' - thus the idea of \"flattening the curve\" in a pandemic. Note that the original spread was exponential (a diagonal line) before initial quarantine efforts slowed progress to linear spread.\n",
    "\n",
    "(Data is from the [Johns Hopkins COVID19 Dashboard](https://gisanddata.maps.arcgis.com/apps/opsdashboard/index.html#/bda7594740fd40299423467b48e9ecf6) via their [GitHub archive](https://github.com/CSSEGISandData/COVID-19/tree/master/csse_covid_19_data/csse_covid_19_time_series).)\n",
    "\n",
    "<img src=\"../images/covid2020.png\" width=\"375\" />"
   ]
  },
  {
   "cell_type": "markdown",
   "metadata": {},
   "source": [
    "**Sinusoid / Periodic.**\n",
    "\n",
    "Both sine and cosine functions have periodicity as we saw above, including multiple maxima and minima, etc."
   ]
  },
  {
   "cell_type": "code",
   "execution_count": null,
   "metadata": {},
   "outputs": [],
   "source": [
    "x = np.arange(-2*np.pi, 2*np.pi, 0.1)\n",
    "plt.plot(x, np.sin(x), color='blue')\n",
    "plt.plot(x, np.cos(x), color='gold')\n",
    "plt.show()"
   ]
  },
  {
   "cell_type": "markdown",
   "metadata": {},
   "source": [
    "**Compound Functions.**\n",
    "\n",
    "Many physical behaviors can be modeled by a product of functions, e.g.:\n",
    "\n",
    "$$f(t) = exp(-t/\\tau) cos(2\\pi\\nu t)$$\n",
    "\n",
    "This is an example for a \"*damped*\" spring - note that while the $\\cos(x)$ is fully periodic, the composite will decrease in amplitude over time because of the $\\exp(-t)$ term."
   ]
  },
  {
   "cell_type": "code",
   "execution_count": null,
   "metadata": {},
   "outputs": [],
   "source": [
    "x = np.arange(0, 4, 0.01)\n",
    "plt.plot(x, np.cos(2*np.pi*x), color='black')\n",
    "plt.plot(x, np.exp(-x), color='blue')\n",
    "compound = np.exp(-x)*np.cos(2*np.pi*x)\n",
    "plt.plot(x, compound, color='red')\n",
    "plt.show()"
   ]
  },
  {
   "cell_type": "markdown",
   "metadata": {},
   "source": [
    "**Gaussians.**\n",
    "\n",
    "Another common function across science is the so-called [Gaussian function](https://en.wikipedia.org/wiki/Gaussian_function) which emerges from the so-called [normal distribution](https://en.wikipedia.org/wiki/Normal_distribution) or so-called \"bell curve\" for distributions of large numbers (e.g., standardized test scores, speeds of molecules in a gas, etc.). We will discuss this more later in the course where it shows up frequently in statistics and probability.\n",
    "\n",
    "$$p(x)=\\exp \\left(-\\frac{1}{2 \\sigma^{2}} (x-x_0)^{2}\\right)$$"
   ]
  },
  {
   "cell_type": "code",
   "execution_count": null,
   "metadata": {},
   "outputs": [],
   "source": [
    "x = np.arange(-4, 10, 0.01)\n",
    "\n",
    "# first Gaussian, sigma = 2.0, mean (x0) = 4.0\n",
    "sigma = 2.0\n",
    "x0 = 4.0\n",
    "y = np.exp(-1.0/(2.0*sigma**2) * np.square(x - x0))\n",
    "plt.plot(x, y, color='blue')\n",
    "\n",
    "# plot a narrower Gaussian with sigma = 1.0 and same x0\n",
    "sigma2 = 1.0\n",
    "x0 = 4.0\n",
    "y2 = np.exp(-1.0/(2.0*sigma2**2) * np.square(x - x0))\n",
    "plt.plot(x, y2, color='red')\n",
    "\n",
    "plt.show()"
   ]
  },
  {
   "cell_type": "markdown",
   "metadata": {},
   "source": [
    "-------\n",
    "This notebook is from Prof. Geoffrey Hutchison, University of Pittsburgh\n",
    "https://github.com/ghutchis/chem1000\n",
    "\n",
    "<a rel=\"license\" href=\"http://creativecommons.org/licenses/by/4.0/\"><img alt=\"Creative Commons License\" style=\"border-width:0\" src=\"https://i.creativecommons.org/l/by/4.0/88x31.png\" /></a>"
   ]
  }
 ],
 "metadata": {
  "kernelspec": {
   "display_name": "Python 3",
   "language": "python",
   "name": "python3"
  },
  "language_info": {
   "codemirror_mode": {
    "name": "ipython",
    "version": 3
   },
   "file_extension": ".py",
   "mimetype": "text/x-python",
   "name": "python",
   "nbconvert_exporter": "python",
   "pygments_lexer": "ipython3",
   "version": "3.6.10"
  },
  "toc": {
   "base_numbering": 1,
   "nav_menu": {},
   "number_sections": false,
   "sideBar": false,
   "skip_h1_title": false,
   "title_cell": "Table of Contents",
   "title_sidebar": "Contents",
   "toc_cell": false,
   "toc_position": {},
   "toc_section_display": false,
   "toc_window_display": false
  }
 },
 "nbformat": 4,
 "nbformat_minor": 4
}
