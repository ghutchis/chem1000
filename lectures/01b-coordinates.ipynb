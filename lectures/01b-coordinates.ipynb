{
 "cells": [
  {
   "cell_type": "markdown",
   "metadata": {},
   "source": [
    "# CHEM 1000 - Spring 2022\n",
    "Prof. Geoffrey Hutchison, University of Pittsburgh\n",
    "\n",
    "## 1. Functions and Coordinate Sets\n",
    "\n",
    "Chapter 1 in [*Mathematical Methods for Chemists*](http://sites.bu.edu/straub/mathematical-methods-for-molecular-science/)\n",
    "\n",
    "By the end of this session, you should be able to:\n",
    "- Handle 2D polar and 3D spherical coordinates\n",
    "- Understand area elements in 2D polar coordinates\n",
    "- Understand volume eleements in 3D spherical coordinates"
   ]
  },
  {
   "cell_type": "markdown",
   "metadata": {},
   "source": [
    "### X/Y Cartesian 2D Coordinates\n",
    "\n",
    "We've already been using the x/y 2D Cartesian coordinate set to plot functions;"
   ]
  },
  {
   "cell_type": "code",
   "execution_count": null,
   "metadata": {},
   "outputs": [],
   "source": [
    "import numpy as np\n",
    "import matplotlib.pyplot as plt\n",
    "# insert any graphs into our notebooks directly\n",
    "%matplotlib inline\n",
    "%config InlineBackend.figure_format = 'retina'\n",
    "# bump up the font sizes\n",
    "plt.style.use('./chem1000.mplstyle')\n",
    "\n",
    "x = np.arange(0, 4*np.pi, 0.1)   # start, stop, resolution\n",
    "y = np.sin(x)\n",
    "\n",
    "plt.plot(x,y)\n",
    "plt.show()"
   ]
  },
  {
   "cell_type": "markdown",
   "metadata": {},
   "source": [
    "Sometimes, we need to get areas in the Cartesian xy system, but this is very easy - we simply multiply an increment in x ($dx$) and an increment in y ($dy$).\n",
    "\n",
    "(Image from [*Mathematical Methods for Chemists*](http://sites.bu.edu/straub/mathematical-methods-for-molecular-science/))\n",
    "\n",
    "<img src=\"../images/cartesian-area.png\" width=\"400\" />"
   ]
  },
  {
   "cell_type": "markdown",
   "metadata": {},
   "source": [
    "### Polar (2D) Coordinates\n",
    "\n",
    "Of course, not all functions work well in xy Cartesian coordinates. A function should produce one y value for any x value. Thus, a circle isn't easily represented as $y = f(x)$.\n",
    "\n",
    "Instead, polar coordinates, use radius $r$ and angle $\\theta$. (Image from [*Mathematical Methods for Chemists*](http://sites.bu.edu/straub/mathematical-methods-for-molecular-science/))\n",
    "\n",
    "<img src=\"../images/cartesian-polar.png\" width=\"343\" />"
   ]
  },
  {
   "cell_type": "markdown",
   "metadata": {},
   "source": [
    "As a reminder, we can interconvert x,y into r, theta:\n",
    "\n",
    "$$\n",
    "r = \\sqrt{x^2 + y^2}\n",
    "$$\n",
    "\n",
    "$$\n",
    "\\theta = \\arctan \\frac{y}{x} = \\tan^{-1} \\frac{y}{x}\n",
    "$$"
   ]
  },
  {
   "cell_type": "code",
   "execution_count": null,
   "metadata": {},
   "outputs": [],
   "source": [
    "x = 3.0\n",
    "y = 1.0\n",
    "\n",
    "r = np.sqrt(x**2 + y**2)\n",
    "theta = np.arctan(y / x)\n",
    "\n",
    "print('r =', round(r, 4), 'theta = ', round(theta, 4))"
   ]
  },
  {
   "cell_type": "markdown",
   "metadata": {},
   "source": [
    "Okay, we can't express a circle as an easy $y = f(x)$ expression. Can we do that in polar coordinates? Sure. The radius will be constant, and theta will go from $0 .. 2\\pi$."
   ]
  },
  {
   "cell_type": "code",
   "execution_count": null,
   "metadata": {},
   "outputs": [],
   "source": [
    "theta = np.arange(0, 2*np.pi, 0.01) # set up an array of radii from 0 to 2π with 0.01 rad\n",
    "r = np.full(theta.size, 1.5)\n",
    "\n",
    "# create a polar plot\n",
    "ax = plt.subplot(111, projection='polar')\n",
    "ax.plot(theta, r, color='blue')\n",
    "\n",
    "ax.set_rmax(3)\n",
    "ax.set_rticks([1, 2])  # Less radial ticks\n",
    "ax.set_rlabel_position(22.5)  # Move radial labels away from plotted line\n",
    "ax.grid(True)\n",
    "\n",
    "plt.show()"
   ]
  },
  {
   "cell_type": "markdown",
   "metadata": {},
   "source": [
    "Anything else? Sure - we can create spirals, etc. that are parametric functions in the XY Cartesian coordinates."
   ]
  },
  {
   "cell_type": "code",
   "execution_count": null,
   "metadata": {},
   "outputs": [],
   "source": [
    "r = np.arange(0, 2, 0.01) # set up an array of radii from 0 to 2 with 0.01 resolution\n",
    "theta = 2 * np.pi * r # set up an array of theta angles - spiraling outward .. from 0 to 2*2pi = 4pi\n",
    "\n",
    "# create a polar plot\n",
    "ax = plt.subplot(111, projection='polar')\n",
    "ax.plot(theta, r, color='red')\n",
    "\n",
    "ax.set_rmax(3)\n",
    "ax.set_rticks([1, 2])  # Less radial ticks\n",
    "ax.set_rlabel_position(22.5)  # Move radial labels away from plotted line\n",
    "ax.grid(True)\n",
    "\n",
    "plt.show()"
   ]
  },
  {
   "cell_type": "markdown",
   "metadata": {},
   "source": [
    "Just like with xy Cartesian, we will eventually need to consider the area of functions in polar coordinates. (Image from [*Mathematical Methods for Chemists*](http://sites.bu.edu/straub/mathematical-methods-for-molecular-science/))\n",
    "\n",
    "<img src=\"../images/polar_area.png\" width=375 />\n",
    "\n",
    "Note that the area depends on the radius. Even if we sweep out the same $\\Delta r$ and $\\Delta \\theta$ an area further out from the center is larger:"
   ]
  },
  {
   "cell_type": "code",
   "execution_count": null,
   "metadata": {},
   "outputs": [],
   "source": [
    "# create a polar plot\n",
    "ax = plt.subplot(111, projection='polar')\n",
    "\n",
    "# first arc at r = 1.0\n",
    "r1 = np.full(20, 1.0)\n",
    "theta1 = np.linspace(1.0, 1.3, 20)\n",
    "ax.plot(theta1, r1)\n",
    "\n",
    "# second arc at r = 1.2\n",
    "r2 = np.full(20, 1.2)\n",
    "theta2 = np.linspace(1.0, 1.3, 20)\n",
    "ax.plot(theta2, r2)\n",
    "\n",
    "# first radial line at theta = 1.0 radians\n",
    "r3 = np.linspace(1.0, 1.2, 20)\n",
    "theta3 = np.full(20, 1.0)\n",
    "ax.plot(theta3, r3)\n",
    "\n",
    "# first radial line at theta = 1.3 radians\n",
    "r4 = np.linspace(1.0, 1.2, 20)\n",
    "theta4 = np.full(20, 1.3)\n",
    "ax.plot(theta4, r4)\n",
    "\n",
    "# smaller box\n",
    "# goes from r = 0.4-> 0.6\n",
    "# sweeps out theta = 1.0-1.3 radians\n",
    "r5 = np.full(20, 0.4)\n",
    "r6 = np.full(20, 0.6)\n",
    "r7 = np.linspace(0.4, 0.6, 20)\n",
    "r8 = np.linspace(0.4, 0.6, 20)\n",
    "ax.plot(theta1, r5)\n",
    "ax.plot(theta2, r6)\n",
    "ax.plot(theta3, r7)\n",
    "ax.plot(theta4, r8)\n",
    "\n",
    "ax.set_rmax(1.5)\n",
    "ax.set_rticks([0.5, 1, 1.5])  # Less radial ticks\n",
    "ax.set_rlabel_position(-22.5)  # Move radial labels away from plotted line\n",
    "ax.grid(True)\n",
    "\n",
    "plt.show()"
   ]
  },
  {
   "cell_type": "markdown",
   "metadata": {},
   "source": [
    "Thus the area element will be $r dr d\\theta$. While it's not precisely rectangular, the increments are very small and it's a reasonable approximation."
   ]
  },
  {
   "cell_type": "markdown",
   "metadata": {},
   "source": [
    "### 3D Cartesian Coordinates\n",
    "\n",
    "Of course there are many times when we need to express functions like:\n",
    "\n",
    "$$ z = f(x,y) $$\n",
    "\n",
    "These are a standard extension of 2D Cartesian coordinates, and so the volume is simply defined as that of a rectangular solid.\n",
    "\n",
    "<img src=\"../images/cartesian-volume.png\" width=\"360\" />"
   ]
  },
  {
   "cell_type": "code",
   "execution_count": null,
   "metadata": {},
   "outputs": [],
   "source": [
    "from sympy import symbols\n",
    "from sympy.plotting import plot3d\n",
    "x, y = symbols('x y')\n",
    "\n",
    "plot3d(-0.5 * (x**2 + y**2), (x, -3, 3), (y, -3, 3))"
   ]
  },
  {
   "cell_type": "markdown",
   "metadata": {},
   "source": [
    "### 3D Spherical Coordinates\n",
    "\n",
    "Much like two dimensions we sometimes need to use spherical coordinates — atoms are spherical, after all.\n",
    "\n",
    "<div class=\"alert alert-block alert-danger\">\n",
    "\n",
    "**WARNING** Some math courses use a different [convention](https://en.wikipedia.org/wiki/Spherical_coordinate_system#Conventions) than chemistry and physics.\n",
    "    \n",
    "- Physics and chemistry use $(r, \\theta, \\varphi)$ where $\\theta$ is the angle down from the z-axis (e.g., latitude)\n",
    "- Some math courses use $\\theta$ as the angle in the XY 2D plane.\n",
    "\n",
    "</div>\n",
    "\n",
    "(Image from [*Mathematical Methods for Chemists*](http://sites.bu.edu/straub/mathematical-methods-for-molecular-science/))\n",
    "\n",
    "<img src=\"../images/spherical.png\" width=\"330\" />\n",
    "\n",
    "Where:\n",
    "- $r$ is the radius, from 0 to $\\infty$\n",
    "- $\\theta$ is the angle down from the z-axis\n",
    "  - e.g., think of N/S latitude on the Earth's surface) from 0° at the N pole to 90° (π/2) at the equator and 180° (π) at the S pole\n",
    "- $\\varphi$ is the angle in the $xy$ plane\n",
    "  - e.g., think of E/W longitude on the Earth), from 0 to 360° / 0..2π\n",
    "\n",
    "We can interconvert xyz and $r\\theta\\varphi$\n",
    "\n",
    "$$x = r\\sin \\theta \\cos \\varphi$$\n",
    "$$y = r\\sin \\theta \\sin \\varphi$$\n",
    "$$z = r \\cos \\theta$$\n",
    "\n",
    "Or vice-versa:\n",
    "\n",
    "$$\n",
    "\\begin{array}{l}r=\\sqrt{x^{2}+y^{2}+z^{2}} \\\\ \\theta=\\arccos \\left(\\frac{z}{r}\\right)=\\cos ^{-1}\\left(\\frac{z}{r}\\right) \\\\ \\varphi=\\tan ^{-1}\\left(\\frac{y}{x}\\right)\\end{array}\n",
    "$$"
   ]
  },
  {
   "cell_type": "markdown",
   "metadata": {},
   "source": [
    "The code below might look a little complicated. That's okay. I've added comments for the different sections and each line.\n",
    "\n",
    "You don't need to understand all of it - it's intended to plot the function:\n",
    "\n",
    "$$ r = |\\cos(\\theta^2) | $$"
   ]
  },
  {
   "cell_type": "code",
   "execution_count": null,
   "metadata": {},
   "outputs": [],
   "source": [
    "# import some matplotlib modules for 3D and color scales\n",
    "import mpl_toolkits.mplot3d.axes3d as axes3d\n",
    "import matplotlib.colors as mcolors\n",
    "cmap = plt.get_cmap('jet') # pick a red-to-blue color map\n",
    "fig = plt.figure() # create a figure\n",
    "ax = fig.add_subplot(1,1,1, projection='3d') # set up some axes for a 3D projection\n",
    "\n",
    "# We now set up the grid for evaluating our function\n",
    "#  particularly the angle portion of the spherical coordinates\n",
    "theta = np.linspace(0, np.pi, 100)\n",
    "phi = np.linspace(0, 2*np.pi, 100)\n",
    "THETA, PHI = np.meshgrid(theta, phi)\n",
    "\n",
    "# here's the function to plot\n",
    "R = np.abs(np.cos(THETA**2))\n",
    "\n",
    "# now convert R(phi, theta) to x, y, z coordinates to plot\n",
    "X = R * np.sin(THETA) * np.cos(PHI)\n",
    "Y = R * np.sin(THETA) * np.sin(PHI)\n",
    "Z = R * np.cos(THETA)\n",
    "\n",
    "# set up some colors based on the Z range .. from red to blue\n",
    "norm = mcolors.Normalize(vmin=Z.min(), vmax=Z.max())\n",
    "# plot the surface\n",
    "plot = ax.plot_surface(X, Y, Z, rstride=1, cstride=1, facecolors=cmap(norm(Z)),\n",
    "    linewidth=0, antialiased=True, alpha=0.4) # no lines, smooth graphics, semi-transparent\n",
    "\n",
    "plt.show()"
   ]
  },
  {
   "cell_type": "markdown",
   "metadata": {},
   "source": [
    "The volume element in spherical coordinates is a bit tricky, since the distances depend on the radius and angles:\n",
    "(Image from [*Mathematical Methods for Chemists*](http://sites.bu.edu/straub/mathematical-methods-for-molecular-science/))\n",
    "\n",
    "$$ dV = r^2 dr \\sin \\theta d\\theta d\\phi$$\n",
    "\n",
    "<img src=\"../images/spherical-volume.png\" width=\"414\" />\n"
   ]
  },
  {
   "cell_type": "markdown",
   "metadata": {},
   "source": [
    "-------\n",
    "This notebook is from Prof. Geoffrey Hutchison, University of Pittsburgh\n",
    "https://github.com/ghutchis/chem1000\n",
    "\n",
    "<a rel=\"license\" href=\"http://creativecommons.org/licenses/by/4.0/\"><img alt=\"Creative Commons License\" style=\"border-width:0\" src=\"https://i.creativecommons.org/l/by/4.0/88x31.png\" /></a>"
   ]
  }
 ],
 "metadata": {
  "kernelspec": {
   "display_name": "Python 3",
   "language": "python",
   "name": "python3"
  },
  "language_info": {
   "codemirror_mode": {
    "name": "ipython",
    "version": 3
   },
   "file_extension": ".py",
   "mimetype": "text/x-python",
   "name": "python",
   "nbconvert_exporter": "python",
   "pygments_lexer": "ipython3",
   "version": "3.6.11"
  },
  "toc": {
   "base_numbering": 1,
   "nav_menu": {},
   "number_sections": false,
   "sideBar": false,
   "skip_h1_title": false,
   "title_cell": "Table of Contents",
   "title_sidebar": "Contents",
   "toc_cell": false,
   "toc_position": {},
   "toc_section_display": false,
   "toc_window_display": false
  }
 },
 "nbformat": 4,
 "nbformat_minor": 4
}
