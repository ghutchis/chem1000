{
 "cells": [
  {
   "cell_type": "markdown",
   "metadata": {},
   "source": [
    "# CHEM 1000 - Spring 2025\n",
    "Prof. Geoffrey Hutchison, University of Pittsburgh\n",
    "\n",
    "Chapter 2 in [*Mathematical Methods for Chemists*](http://sites.bu.edu/straub/mathematical-methods-for-molecular-science/)\n",
    "\n",
    "## 2. Complex Numbers\n",
    "\n",
    "By the end of this session, you should be able to:\n",
    "- Understand complex numbers, including standard arithmetic\n",
    "- Plot complex numbers on the complex plane in Cartesian and polar coordinates\n",
    "- Understand converting complex numbers to polar format using Euler's formula"
   ]
  },
  {
   "cell_type": "markdown",
   "metadata": {},
   "source": [
    "### Why?\n",
    "\n",
    "A quick diversion into numbers.\n",
    "\n",
    "We start teaching with 1, 2, 3, 4, 5.. - simple integers. Later we realize that if I have two apples in the kitchen and my kids each eat an apple, then:"
   ]
  },
  {
   "cell_type": "code",
   "execution_count": null,
   "metadata": {},
   "outputs": [],
   "source": [
    "2 - 2"
   ]
  },
  {
   "cell_type": "markdown",
   "metadata": {},
   "source": [
    "Oops, I better go get more groceries! If I spend too much, my bank account may not look so good:"
   ]
  },
  {
   "cell_type": "code",
   "execution_count": null,
   "metadata": {},
   "outputs": [],
   "source": [
    "150 - 250"
   ]
  },
  {
   "cell_type": "markdown",
   "metadata": {},
   "source": [
    "Okay, so we realize that zero and negative numbers are \"new' kinds of numbers. They're not the only ones. I've skipped over fractions and decimals, which you should understand fairly well already."
   ]
  },
  {
   "cell_type": "code",
   "execution_count": null,
   "metadata": {},
   "outputs": [],
   "source": [
    "3.0 / 2.0"
   ]
  },
  {
   "cell_type": "markdown",
   "metadata": {},
   "source": [
    "If we use positive and negative integers, and decimals, we have adding, subtracting, multiplying, and dividing pretty well handled. We run into trouble in other kinds of functions, including trigonometry and square roots:"
   ]
  },
  {
   "cell_type": "code",
   "execution_count": null,
   "metadata": {},
   "outputs": [],
   "source": [
    "import math\n",
    "\n",
    "print(math.sqrt(2))\n",
    "print(math.pi)"
   ]
  },
  {
   "cell_type": "markdown",
   "metadata": {},
   "source": [
    "These are, of course \"irrational\" numbers that don't have a finite decimal form. But what about:"
   ]
  },
  {
   "cell_type": "code",
   "execution_count": null,
   "metadata": {},
   "outputs": [],
   "source": [
    "math.sqrt(-1)"
   ]
  },
  {
   "cell_type": "markdown",
   "metadata": {},
   "source": [
    "Uh oh, we broke Python! \n",
    "\n",
    "So $\\sqrt{-1}$ causes problems. You probably know it as an **imaginary number**. We give it a special name $i$. We don't need it in normal day-to-day life, but in science and math, it comes up whenever we take a square root of a negative number. This means, if we try to solve the quadratic equation:\n",
    "$$x^2 - 2x + 5 = 0$$\n",
    "The solutions are:\n",
    "$$x = 1 \\pm \\sqrt{-4}$$"
   ]
  },
  {
   "cell_type": "code",
   "execution_count": null,
   "metadata": {},
   "outputs": [],
   "source": [
    "x = 1+2j # Python uses 'j' for the imaginary part, borrowing from electrical engineering\n",
    "\n",
    "# we can separate out the real part\n",
    "print(x.real)\n",
    "# or the imaginary part\n",
    "print(x.imag, 'i')"
   ]
  },
  {
   "cell_type": "markdown",
   "metadata": {},
   "source": [
    "Python has a special module for complex number math `cmath`"
   ]
  },
  {
   "cell_type": "code",
   "execution_count": null,
   "metadata": {},
   "outputs": [],
   "source": [
    "import cmath\n",
    "x = 1 + cmath.sqrt(-4)\n",
    "print(x)"
   ]
  },
  {
   "cell_type": "markdown",
   "metadata": {},
   "source": [
    "No, I wouldn't have used 'j' to indicate imaginary numbers in Python, but we'll just be careful what symbols we use going forward."
   ]
  },
  {
   "cell_type": "markdown",
   "metadata": {},
   "source": [
    "### Arithmetic\n",
    "\n",
    "Adding and subtracting complex numbers isn't all that different from adding or subtracting real numbers. You just neeed to do it for both real and imaginary parts:\n",
    "\n",
    "$$ (a + ib) + (c + id) = (a+c) + i(b+d) $$"
   ]
  },
  {
   "cell_type": "code",
   "execution_count": null,
   "metadata": {},
   "outputs": [],
   "source": [
    "x =  1 + 2j\n",
    "y = -2 + 4j\n",
    "\n",
    "print(x+y)\n",
    "print(x-y)"
   ]
  },
  {
   "cell_type": "markdown",
   "metadata": {},
   "source": [
    "### Multiplying\n",
    "\n",
    "The usual rules of multiplication apply, just remembering that $i^2 = -1$:\n",
    "\n",
    "$$ (a + ib)\\times(c + id) = (ac + ibc + iad + i^2bd) = (ac - bd) + i(bc + ad)$$ "
   ]
  },
  {
   "cell_type": "code",
   "execution_count": null,
   "metadata": {},
   "outputs": [],
   "source": [
    "print(x*y)"
   ]
  },
  {
   "cell_type": "markdown",
   "metadata": {},
   "source": [
    "So it's possible to multiply two complex numbers and get a real number out... (here -10)"
   ]
  },
  {
   "cell_type": "markdown",
   "metadata": {},
   "source": [
    "### Plotting on the Complex Plane\n",
    "\n",
    "Because complex numbers consist of two parts - real and imaginary - we often represent a complex number as a point on a 2D plot, usually with the real component on the x-axis and the imaginary component on the y-axis. "
   ]
  },
  {
   "cell_type": "code",
   "execution_count": null,
   "metadata": {},
   "outputs": [],
   "source": [
    "# array of three complex numbers\n",
    "points = [ 1+2j, 3+1j, -1.5-1.5j ]"
   ]
  },
  {
   "cell_type": "code",
   "execution_count": null,
   "metadata": {},
   "outputs": [],
   "source": [
    "# paste in our code for plotting with matplotlib\n",
    "import numpy as np\n",
    "import matplotlib.pyplot as plt\n",
    "# insert any graphs into our notebooks directly\n",
    "%matplotlib inline\n",
    "%config InlineBackend.figure_format = 'retina'\n",
    "plt.style.use('./chem1000.mplstyle')\n",
    "\n",
    "# translate our list into a numpy array for plotting\n",
    "a = np.array(points)\n",
    "\n",
    "# scatter plots show multiple independent points\n",
    "# here with the x from the real component and y from the imaginary component\n",
    "plt.scatter(a.real, a.imag)\n",
    "plt.xlabel('real')\n",
    "plt.ylabel('imaginary')\n",
    "plt.show()"
   ]
  },
  {
   "cell_type": "markdown",
   "metadata": {},
   "source": [
    "### Magnitude of Complex Numbers\n",
    "\n",
    "One thing to consider is the magnitude of complex numbers. For real numbers, $|x| = \\sqrt{x^2}$ (i.e., you just flip the sign on negative numbers. Can we use that for a complex number $z = x + iy$:\n",
    "\n",
    "$$\\sqrt{z^{2}}=\\sqrt{(x+i y)^{2}}=\\sqrt{x^{2}-y^{2}+2 i x y}$$\n",
    "\n",
    "Clearly that's not actually the magnitude:\n",
    "\n",
    "$$ |z| = \\sqrt{x^2 + y^2} $$\n",
    "\n",
    "So how do we get that?"
   ]
  },
  {
   "cell_type": "markdown",
   "metadata": {},
   "source": [
    "### Complex Conjugate\n",
    "\n",
    "If we have a complex number, we can define the 'complex conjugate' which flips the sign of the imaginary part:\n",
    "\n",
    "$$z = a + ib$$\n",
    "$$z^* = a - ib$$\n",
    "\n",
    "Why is that useful?\n",
    "\n",
    "$$|z| = \\sqrt{zz^*} = \\sqrt{(a+ib)(a-ib)} = \\sqrt{a^2 + iab - iab + b^2}  = \\sqrt{a^2+b^2}$$\n",
    "\n",
    "Note that the result of multiplying $z$ by $z^*$ ($zz^*$) is *guaranteed* to be a real number."
   ]
  },
  {
   "cell_type": "markdown",
   "metadata": {},
   "source": [
    "### Division\n",
    "\n",
    "The usual rules of division apply. However, we typically want the result in the form\n",
    "$z = x + iy$ so we can easily determine the real and imaginary parts. To do that, we need to multiply the fraction with the complex conjugate of the denominator.\n",
    "\n",
    "$$\\frac{a + ib}{c + id} \\times \\frac{c - id}{c - id} = \\frac{(a + ib)(c - id)}{c^2 + d^2}$$"
   ]
  },
  {
   "cell_type": "markdown",
   "metadata": {},
   "source": [
    "### Polar Coordinates for Complex Numbers\n",
    "\n",
    "The 2D Cartesian display of complex numbers also lends itself to a polar assignment in terms of $r\\theta$:\n",
    "\n",
    "$$z = x + iy$$\n",
    "$$z = r\\cos\\theta + ir\\sin\\theta$$\n",
    "\n",
    "This relates to a significant formula, the *Euler relation*:\n",
    "\n",
    "$$e^{i\\theta} = \\cos\\theta + i\\sin\\theta$$\n",
    "\n",
    "$$z= x + iy = r \\cos \\theta+i r \\sin \\theta=r(\\cos \\theta+i \\sin \\theta)=r e^{i \\theta}$$\n",
    "\n",
    "This means the complex conjugate would be:\n",
    "\n",
    "$$z^{*} = x - iy = r \\cos \\theta-i r \\sin \\theta=r e^{-i \\theta}$$\n",
    "\n",
    "A related finding is:\n",
    "\n",
    "$$e^{i\\pi} = -1$$\n",
    "$$e^{i\\pi} +1 = 0$$"
   ]
  },
  {
   "cell_type": "code",
   "execution_count": null,
   "metadata": {},
   "outputs": [],
   "source": [
    "x = cmath.pi*cmath.sqrt(-1)\n",
    "print(x)\n",
    "\n",
    "print(format(cmath.exp(x) + 1, '.3f'))"
   ]
  },
  {
   "cell_type": "markdown",
   "metadata": {},
   "source": [
    "This is \"Euler's relation\" or [Euler's formula](https://en.wikipedia.org/wiki/Euler%27s_formula) which connects $e$, $\\pi$, $i$, 1, and 0 together.\n",
    "\n",
    "It's almost unbelievable that these constants should connect - but as we can see, it comes from the connection between polar and Cartesian forms of complex numbers.\n"
   ]
  },
  {
   "cell_type": "markdown",
   "metadata": {},
   "source": [
    "-------\n",
    "This notebook is from Prof. Geoffrey Hutchison, University of Pittsburgh\n",
    "https://github.com/ghutchis/chem1000\n",
    "\n",
    "<a rel=\"license\" href=\"http://creativecommons.org/licenses/by/4.0/\"><img alt=\"Creative Commons License\" style=\"border-width:0\" src=\"https://i.creativecommons.org/l/by/4.0/88x31.png\" /></a>"
   ]
  }
 ],
 "metadata": {
  "kernelspec": {
   "display_name": "Python 3 (ipykernel)",
   "language": "python",
   "name": "python3"
  },
  "language_info": {
   "codemirror_mode": {
    "name": "ipython",
    "version": 3
   },
   "file_extension": ".py",
   "mimetype": "text/x-python",
   "name": "python",
   "nbconvert_exporter": "python",
   "pygments_lexer": "ipython3",
   "version": "3.9.7"
  },
  "toc": {
   "base_numbering": 1,
   "nav_menu": {},
   "number_sections": false,
   "sideBar": false,
   "skip_h1_title": false,
   "title_cell": "Table of Contents",
   "title_sidebar": "Contents",
   "toc_cell": false,
   "toc_position": {},
   "toc_section_display": false,
   "toc_window_display": false
  }
 },
 "nbformat": 4,
 "nbformat_minor": 4
}
