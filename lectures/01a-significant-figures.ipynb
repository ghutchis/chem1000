{
 "cells": [
  {
   "cell_type": "markdown",
   "metadata": {},
   "source": [
    "# CHEM 1000 - Fall 2020\n",
    "Prof. Geoffrey Hutchison, University of Pittsburgh\n",
    "\n",
    "## 1. Introduction"
   ]
  },
  {
   "cell_type": "markdown",
   "metadata": {},
   "source": [
    "### Significant Figures\n",
    "\n",
    "Significant figures, or \"sig figs\" are of course ***everyone's*** favorite topic in chemistry courses. 😜\n",
    "\n",
    "To be fair, they are a simplification of general rules for handling errors and uncertainty in measurements and the resulting mathematical treatment. More complete rules are generally part of the general topics:\n",
    "- error propagation\n",
    "- uncertainty quantification\n",
    "- accuracy and precision\n",
    "\n",
    "I go running almost every day. I use a GPS watch to track my runs. Ideally, I'd want my watch to be both *repeatable* (i.e., I get the same result every time I run the same route) and *true* (i.e., if I run a 5 kilometer race, I want the reading to be 5.0 km, not 4.6 km, or 5.3 km). Incdentally, that's [rarely the case](https://fellrnr.com/wiki/GPS_Accuracy).\n",
    "\n",
    "We will come back to these topics again - for now, we'll stick to reviewing general rules of significant figures.\n",
    "- When multiplying or dividing, track the smallest number of **significant figures**, which will be used for your answer.\n",
    "- When adding or subtracting, track the smallest number of **decimal places**. You will often lose significant figures when subtracting."
   ]
  },
  {
   "cell_type": "markdown",
   "metadata": {},
   "source": [
    "An important caveat comes with computers and calculators, which will naturally show far, far too many significant figures. My daughter, for example, might memorize $\\pi$ to 20 decimal places. Does she need this many? Maybe if she's tracking individual atoms...\n",
    "\n",
    "From [xkcd](https://xkcd.com/2170/):\n",
    "\n",
    "![coordinates](https://imgs.xkcd.com/comics/coordinate_precision.png)"
   ]
  },
  {
   "cell_type": "markdown",
   "metadata": {},
   "source": [
    "An additional problem stems from how floating point numbers are usually handled in a computer. A brief detour.. Computers naturally work in binary, so 0.1 is not usually represented in decimal form, but instead in a *binary fraction*. Consider $0.125 = \\frac{1}{8}$ - the denominator is an exact power of two so it can be stored exactly. $\\frac{1}{2}$ and $\\frac{1}{4}$ can too. But 0.1 has to be stored as an [approximation](https://docs.python.org/3/tutorial/floatingpoint.html). Look what happens if we ask Python for $0.1*3$."
   ]
  },
  {
   "cell_type": "code",
   "execution_count": 1,
   "metadata": {},
   "outputs": [
    {
     "data": {
      "text/plain": [
       "0.30000000000000004"
      ]
     },
     "execution_count": 1,
     "metadata": {},
     "output_type": "execute_result"
    }
   ],
   "source": [
    "0.1*3"
   ]
  },
  {
   "cell_type": "markdown",
   "metadata": {},
   "source": [
    "It's not even equal to 0.3..."
   ]
  },
  {
   "cell_type": "code",
   "execution_count": 2,
   "metadata": {},
   "outputs": [
    {
     "data": {
      "text/plain": [
       "False"
      ]
     },
     "execution_count": 2,
     "metadata": {},
     "output_type": "execute_result"
    }
   ],
   "source": [
    "0.1*3 == 0.3"
   ]
  },
  {
   "cell_type": "markdown",
   "metadata": {},
   "source": [
    "This is a well-known problem with numeric and scientific computing. Instead of equals, use approximate comparisons. In Python, that's `math.isclose`."
   ]
  },
  {
   "cell_type": "code",
   "execution_count": 11,
   "metadata": {},
   "outputs": [
    {
     "data": {
      "text/plain": [
       "True"
      ]
     },
     "execution_count": 11,
     "metadata": {},
     "output_type": "execute_result"
    }
   ],
   "source": [
    "# use math.isclose() for comparing floating-point numbers\n",
    "math.isclose(0.1*3, 0.3)"
   ]
  },
  {
   "cell_type": "markdown",
   "metadata": {},
   "source": [
    "This isn't a bug in the code or a bug in Python. It's inherent to how you store floating point numbers on a computer or calculator. Suffice to say, there are very small errors, about $2^{-52} \\approx 10^{-16}$ which mean one number may not be *exactly* equal to another.\n",
    "\n",
    "While there are tools to track uncertainty/error and significant figures, it's important for you as a human to track significant figures yourself and ensure the final answer has the correct number. (Score one for humans.. for now at least)\n",
    "\n",
    "The good news is that on most modern computers, the errors are small, even if somewhat annoying and as long as we're aware of them and round or clean the formatting at the **end** of a calculation when reporting to other humans, we will be fine."
   ]
  },
  {
   "cell_type": "code",
   "execution_count": 5,
   "metadata": {},
   "outputs": [
    {
     "data": {
      "text/plain": [
       "'3.141593'"
      ]
     },
     "execution_count": 5,
     "metadata": {},
     "output_type": "execute_result"
    }
   ],
   "source": [
    "import math\n",
    "\n",
    "format(math.pi, '.6f') # gives 6 decimals after thhe period"
   ]
  },
  {
   "cell_type": "code",
   "execution_count": 9,
   "metadata": {},
   "outputs": [
    {
     "data": {
      "text/plain": [
       "3.1416"
      ]
     },
     "execution_count": 9,
     "metadata": {},
     "output_type": "execute_result"
    }
   ],
   "source": [
    "round(math.pi, 4) # rounds to a certain number of digits"
   ]
  },
  {
   "cell_type": "markdown",
   "metadata": {},
   "source": [
    "-------\n",
    "This notebook is from Prof. Geoffrey Hutchison, University of Pittsburgh\n",
    "https://github.com/ghutchis/chem1000\n",
    "\n",
    "<a rel=\"license\" href=\"http://creativecommons.org/licenses/by-nc-sa/4.0/\"><img alt=\"Creative Commons License\" style=\"border-width:0\" src=\"https://i.creativecommons.org/l/by-nc-sa/4.0/88x31.png\" /></a><br />This work is licensed under a <a rel=\"license\" href=\"http://creativecommons.org/licenses/by-nc-sa/4.0/\">Creative Commons Attribution-NonCommercial-ShareAlike 4.0 International License</a>."
   ]
  }
 ],
 "metadata": {
  "kernelspec": {
   "display_name": "Python 3",
   "language": "python",
   "name": "python3"
  },
  "language_info": {
   "codemirror_mode": {
    "name": "ipython",
    "version": 3
   },
   "file_extension": ".py",
   "mimetype": "text/x-python",
   "name": "python",
   "nbconvert_exporter": "python",
   "pygments_lexer": "ipython3",
   "version": "3.6.10"
  },
  "toc": {
   "base_numbering": 1,
   "nav_menu": {},
   "number_sections": false,
   "sideBar": false,
   "skip_h1_title": false,
   "title_cell": "Table of Contents",
   "title_sidebar": "Contents",
   "toc_cell": false,
   "toc_position": {},
   "toc_section_display": false,
   "toc_window_display": false
  }
 },
 "nbformat": 4,
 "nbformat_minor": 4
}
