{
 "cells": [
  {
   "cell_type": "markdown",
   "metadata": {},
   "source": [
    "# CHEM 1000 - Fall 2020\n",
    "Prof. Geoffrey Hutchison, University of Pittsburgh\n",
    "\n",
    "## 10 Differential Equations - First Order - Examples\n",
    "\n",
    "Chapter 10 in [*Mathematical Methods for Chemists*](http://sites.bu.edu/straub/mathematical-methods-for-molecular-science/)\n",
    "\n",
    "By the end of this session, you should be able to:\n",
    "- Understand basic naming / categories of differential equations\n",
    "- Solve typical first-order ordinary differential equations\n",
    "- Understand the general solution to first-order linear equations\n",
    "   - See some examples from chemical kinetics"
   ]
  },
  {
   "cell_type": "markdown",
   "metadata": {},
   "source": [
    "### Differential Equations - Categories / Naming\n",
    "\n",
    "First off, a [**differential equation**](https://en.wikipedia.org/wiki/Differential_equation) is simply some type of mathematical equation that includes some type of derivative of a function.\n",
    "\n",
    "Wikipedia:\n",
    ">In applications, the functions generally represent physical quantities, the derivatives represent their rates of change, and the differential equation defines a relationship between the two. Such relations are common; therefore, differential equations play a prominent role in many disciplines including engineering, physics, chemistry, economics, and biology.\n",
    "\n",
    "Solving differential equations generally depends on the *type* of \"diff eq\", so there are some general categories:\n",
    "\n",
    "<div class=\"alert alert-block alert-success\">\n",
    "\n",
    "An **ordinary differential equation** (ODE) only involves one variable and thus ordinary derivatives.\n",
    "    \n",
    "A **partial differential equation** (PDE) includes multiple variables and partial derivatives.\n",
    "    \n",
    "</div>\n",
    "\n",
    "We also categorize differential equations by their **order** defined by the term with the highest derivative:\n",
    "- First derivatives = first-order differential equation\n",
    "- Second derivatives = second-order differential equation\n",
    "- etc.\n",
    "\n",
    "(Most differential equations in chemistry are either first-order or second-order.)\n",
    "\n",
    "#### Summary:\n",
    "\n",
    "In short, the main ways to categorize differential equations. We ask because the types influence how we solve them.\n",
    "\n",
    "- Order (first order, second order, etc.)\n",
    "- Ordinary vs. Partial\n",
    "- Linear vs. Nonlinear\n",
    "- Homogenous vs. Non-homogenous\n",
    "\n",
    "#### Examples\n",
    "\n",
    "Homogeneous second-order linear ordinary differential equation\n",
    "\n",
    "$$\n",
    "\\frac{d^{2} u}{d x^{2}}-x \\frac{d u}{d x}+u=0\n",
    "$$\n",
    "\n",
    "Heterogeneous first-order nonlinear ordinary differential equation:\n",
    "\n",
    "$$\n",
    "\\frac{d u}{d x}=u^{2}+4\n",
    "$$\n",
    "\n",
    "So what is this equation?\n",
    "\n",
    "$$\n",
    "\\frac{d^{2} u}{d x^{2}}+\\omega^{2} u=0\n",
    "$$"
   ]
  },
  {
   "cell_type": "markdown",
   "metadata": {},
   "source": [
    "### General Solutions (Homogeneous)\n",
    "\n",
    "Let's take the general **homogeneous** first-order equation:\n",
    "\n",
    "$$\n",
    "\\frac{dy}{d x} +q(x) y=0\n",
    "$$\n",
    "\n",
    "This is also known as a \"reduced\" equation because there is no constant term.\n",
    "\n",
    "How do we solve this?\n",
    "\n",
    "We can try \"separation of variables.\" That is, if we get all the terms in $x$ on one side and $y$ on the other:\n",
    "\n",
    "$$\n",
    "\\frac{dy}{dx} = -q(x) y\n",
    "$$\n",
    "\n",
    "Then...\n",
    "\n",
    "$$\n",
    "\\frac{1}{y} d y=-q(x) d x\n",
    "$$\n",
    "\n",
    "Now we can integrate both sides:\n",
    "\n",
    "$$\n",
    "\\int \\frac{1}{y} d y=-\\int q(x) d x\n",
    "$$\n",
    "\n",
    "The left side is really easy to integrate:\n",
    "\n",
    "$$\n",
    "\\ln y(x)=-\\int q(x) d x+\\mathcal{C}\n",
    "$$\n",
    "\n",
    "Taking the exponent of both sides:\n",
    "\n",
    "$$\n",
    "y(x)=A \\exp \\left[-\\int q(x) d x\\right]\n",
    "$$\n",
    "\n",
    "Of course if $q(x)$ is a constant, this is easy, e.g.:\n",
    "\n",
    "$$\n",
    "y(x)=A e^{-\\alpha x}\n",
    "$$\n",
    "\n",
    "Notice this is the same as our original example with kinetics of a chemical reaction."
   ]
  },
  {
   "cell_type": "markdown",
   "metadata": {},
   "source": [
    "### General Solutions (Non-Homogeneous)\n",
    "\n",
    "What about the **non-homogeneous** case?\n",
    "\n",
    "$$\n",
    "\\frac{d}{d x} y(x)+q(x) y(x)=r(x)\n",
    "$$\n",
    "\n",
    "Unfortunately, we can't use separation of variables like we did in the homogeneous case above.\n",
    "\n",
    "But let's assume the form is fairly similar, maybe an *ansatz* like this:\n",
    "\n",
    "$$\n",
    "y(x)=u(x) \\exp \\left[-\\int q(x) d x\\right]\n",
    "$$\n",
    "\n",
    "In other words, we're still using a similar exponential form, but the *ansatz* guesses that we'll need more than just a constant in front of the exponential function, so $u(x)$ is needed because of the $r(x)$ form in the equation.\n",
    "\n",
    "Let's first take the left side of our equation:\n",
    "\n",
    "$$\n",
    "\\frac{dy}{dx} + q(x) y(x) = \\frac{d}{d x} u(x) \\times \\exp \\left[-\\int q(x) d x\\right] -u(x) \\times q(x) \\exp \\left[-\\int q(x) d x\\right] + q(x) u(x) \\exp \\left[-\\int q(x) d x\\right]\n",
    "$$\n",
    "\n",
    "That simplifies nicely!\n",
    "\n",
    "$$\n",
    "\\frac{d}{d x} u(x) \\times \\exp \\left[-\\int q(x) d x\\right]=r(x)\n",
    "$$\n",
    "\n",
    "Okay, let's clean this up a bit...\n",
    "\n",
    "$$\n",
    "\\frac{d u(x)}{dx \\times \\exp \\left[\\int q(x) d x\\right]} = r(x)\n",
    "$$\n",
    "\n",
    "We can then use separation of variables...\n",
    "\n",
    "$$\n",
    "d u(x)=r(x) \\exp \\left[\\int q(x) d x\\right] d x\n",
    "$$\n",
    "\n",
    "Integrate both sides and we get this somewhat messy:\n",
    "\n",
    "$$\n",
    "u(x)=\\int r(x) e^{ \\left[\\int q(x) d x\\right]} d x+\\mathcal{C}\n",
    "$$\n",
    "\n",
    "Honestly, that's not too weird:\n",
    "1. Take the integral of $q(x) dx$\n",
    "2. Take the integral of $r(x) \\times e^{integral} dx$\n",
    "\n",
    "Remember that we need *y(x)* not *u(x)*:\n",
    "\n",
    "<div class=\"alert alert-block alert-success\">\n",
    "\n",
    "$$\n",
    "y(x)=\\left[\\int r(x) e^{\\int q(x) d x} d x+\\mathcal{C}\\right] \\times e^{-\\int q(x) d x}\n",
    "$$\n",
    "\n",
    "The formula is a bit complicated, but once you integrate $q(x)$ and $r(x)$ it simplifies quickly to a general solution.\n",
    "    \n",
    "</div>"
   ]
  },
  {
   "cell_type": "markdown",
   "metadata": {},
   "source": [
    "### Examples\n",
    "\n",
    "The main take-home message is that with some integration, we can solve a wide variety of linear first-order differential equations - both homogeneous and non-homogeneous.\n",
    "\n",
    "#### Equilibrium Kinetics\n",
    "\n",
    "Okay, let's consider a simple chemical equilibrium:\n",
    "\n",
    "$$\n",
    "\\mathrm{A} \\underset{k_{b}}{\\stackrel{k_{f}}{\\rightleftharpoons}} \\mathrm{B}\n",
    "$$\n",
    "\n",
    "We can then write the change in concentration of $A$:\n",
    "$$\n",
    "\\frac{d A}{d t}=-k_{f} A+k_{b} B\n",
    "$$\n",
    "\n",
    "Since at the start, there is no $B$ we can write it as a function of $A$:\n",
    "\n",
    "$$\n",
    "\\frac{d A}{d t}=-k_{f} A+k_{b}\\left(A_{0}-A(t)\\right)=-\\left(k_{f}+k_{b}\\right) A(t)+k_{b} A_{0}\n",
    "$$\n",
    "\n",
    "We can clean this up to look like our general non-homogeneous first-order equation above:\n",
    "\n",
    "$$\n",
    "\\frac{d A}{d t}+\\left(k_{f}+k_{b}\\right) A(t)=k_{b} A_{0}\n",
    "$$\n",
    "\n",
    "**Good news!** We can solve this.\n",
    "\n",
    "First off, we need the integral of our $q(t)$\n",
    "\n",
    "$$\n",
    "\\int\\left(k_{f}+k_{b}\\right) d t=\\left(k_{f}+k_{b}\\right) t\n",
    "$$\n",
    "\n",
    "Now we have a solution:\n",
    "\n",
    "$$\n",
    "A(t)=e^{-\\left(k_{f}+k_{b}\\right) t}\\left[\\int k_{b} A_{0} e^{\\left(k_{f}+k_{b}\\right) t} d t+\\mathcal{C}\\right]\n",
    "$$\n",
    "\n",
    "Let's take the other integral;\n",
    "\n",
    "$$\n",
    "A(t) = \\left[A_{0} \\frac{k_{b}}{k_{f}+k_{b}}+\\mathcal{C} e^{-\\left(k_{f}+k_{b}\\right) t}\\right]\n",
    "$$\n",
    "\n",
    "At the start (t = 0):\n",
    "\n",
    "$$\n",
    "A(0)=\\left[A_{0} \\frac{k_{b}}{k_{f}+k_{b}}+\\mathcal{C}\\right]=A_{0}\n",
    "$$\n",
    "\n",
    "So our ***final*** equation is:\n",
    "\n",
    "$$\n",
    "A(t)=A_{0} \\frac{k_{b}}{k_{f}+k_{b}}\\left(1+\\frac{k_{f}}{k_{b}} e^{-\\left(k_{f}+k_{b}\\right) t}\\right)\n",
    "$$"
   ]
  },
  {
   "cell_type": "code",
   "execution_count": null,
   "metadata": {},
   "outputs": [],
   "source": [
    "# Let's plot it!\n",
    "import numpy as np\n",
    "import matplotlib.pyplot as plt\n",
    "%matplotlib inline\n",
    "%config InlineBackend.figure_format = 'retina'\n",
    "plt.style.use('./chem1000.mplstyle')"
   ]
  },
  {
   "cell_type": "code",
   "execution_count": null,
   "metadata": {},
   "outputs": [],
   "source": [
    "kf = 0.3 # per second\n",
    "kb = 0.15 # per second\n",
    "A0 = 1 # molar\n",
    "\n",
    "t = np.arange(0, 20, 0.1)\n",
    "\n",
    "A = A0 * (kb / (kf+kb))*(1 + (kf/kb)*np.exp(-(kf+kb)*t))\n",
    "plt.plot(t, A)\n",
    "\n",
    "B = A0 - A\n",
    "plt.plot(t, B)\n",
    "\n",
    "plt.xlabel(\"Time (s)\")\n",
    "plt.xlim(0, 20)\n",
    "plt.ylabel(\"Concentration (M)\")\n",
    "plt.ylim(0, 1)\n",
    "plt.show()"
   ]
  },
  {
   "cell_type": "markdown",
   "metadata": {},
   "source": [
    "Note that the equilibrium concentrations would be:\n",
    "\n",
    "$$\n",
    "A_{e q}=A_{0} \\frac{k_{b}}{k_{f}+k_{b}} \\quad B_{e q}=A_{0} \\frac{k_{f}}{k_{f}+k_{b}}\n",
    "$$"
   ]
  },
  {
   "cell_type": "markdown",
   "metadata": {},
   "source": [
    "### Another Example\n",
    "\n",
    "Solve the first-order differential equation (q. 10.2):\n",
    "\n",
    "$$\n",
    "\\frac{d y(x)}{d x}=x^{2}-3 x^{2} y(x)\n",
    "$$\n",
    "\n",
    "This looks a little different, so let's re-organize:\n",
    "\n",
    "$$\n",
    "\\frac{d y(x)}{d x} + 3 x^{2} y(x) =x^{2}\n",
    "$$\n",
    "\n",
    "So our $q(x)$ is $3x^2$:\n",
    "\n",
    "$$\n",
    "\\int 3x^2 dx = 3/2 x^3 + C\n",
    "$$\n",
    "\n",
    "Now we need to solve:\n",
    "\n",
    "$$\n",
    "\\int r(x) e^{3/2 x^3 + C} dx = \\int x^2 e^{3/2 x^3 + C} dx\n",
    "$$\n",
    "\n",
    "So we'll need to do some integration by parts..."
   ]
  },
  {
   "cell_type": "code",
   "execution_count": 1,
   "metadata": {},
   "outputs": [
    {
     "name": "stdout",
     "output_type": "stream",
     "text": [
      "IPython console for SymPy 1.6.2 (Python 3.6.11-64-bit) (ground types: gmpy)\n",
      "\n",
      "These commands were executed:\n",
      ">>> from __future__ import division\n",
      ">>> from sympy import *\n",
      ">>> x, y, z, t = symbols('x y z t')\n",
      ">>> k, m, n = symbols('k m n', integer=True)\n",
      ">>> f, g, h = symbols('f g h', cls=Function)\n",
      ">>> init_printing()\n",
      "\n",
      "Documentation can be found at https://docs.sympy.org/1.6.2/\n",
      "\n"
     ]
    }
   ],
   "source": [
    "# Let's do some examples\n",
    "from sympy import init_session\n",
    "init_session()"
   ]
  },
  {
   "cell_type": "code",
   "execution_count": 2,
   "metadata": {},
   "outputs": [
    {
     "data": {
      "image/png": "[encoded data removed]",
      "text/latex": [
       "$\\displaystyle 0.222222222222222 e^{C + 1.5 x^{3}}$"
      ],
      "text/plain": [
       "                            3\n",
       "                   C + 1.5⋅x \n",
       "0.222222222222222⋅ℯ          "
      ]
     },
     "execution_count": 2,
     "metadata": {},
     "output_type": "execute_result"
    }
   ],
   "source": [
    "C = symbols('C')\n",
    "integrate(x**2 * exp(3/2*x**3 + C), x)"
   ]
  },
  {
   "cell_type": "markdown",
   "metadata": {},
   "source": [
    "So the full equation will be:\n",
    "\n",
    "$$\n",
    "y = e^{-3/2x^3+C} * 2/9 * e^{3/2x^3 + C}\n",
    "$$"
   ]
  },
  {
   "cell_type": "markdown",
   "metadata": {},
   "source": [
    "Let's test this...\n",
    "\n",
    "$$\n",
    "\\frac{d y(x)}{d x}=x^{2}-3 x^{2} y(x)\n",
    "$$"
   ]
  },
  {
   "cell_type": "code",
   "execution_count": 9,
   "metadata": {},
   "outputs": [],
   "source": [
    "y = exp(-3/2*x**3 + C) * integrate(x**2 * exp(3/2*x**3 + C), x)"
   ]
  },
  {
   "cell_type": "code",
   "execution_count": 10,
   "metadata": {},
   "outputs": [
    {
     "data": {
      "image/png": "[encoded data removed]",
      "text/latex": [
       "$\\displaystyle 0$"
      ],
      "text/plain": [
       "0"
      ]
     },
     "execution_count": 10,
     "metadata": {},
     "output_type": "execute_result"
    }
   ],
   "source": [
    "diff(y, x)"
   ]
  },
  {
   "cell_type": "code",
   "execution_count": 11,
   "metadata": {},
   "outputs": [
    {
     "data": {
      "image/png": "[encoded data removed]",
      "text/latex": [
       "$\\displaystyle - 0.666666666666667 x^{2} e^{C - 1.5 x^{3}} e^{C + 1.5 x^{3}} + x^{2}$"
      ],
      "text/plain": [
       "                                 3           3     \n",
       "                     2  C - 1.5⋅x   C + 1.5⋅x     2\n",
       "- 0.666666666666667⋅x ⋅ℯ          ⋅ℯ           + x "
      ]
     },
     "execution_count": 11,
     "metadata": {},
     "output_type": "execute_result"
    }
   ],
   "source": [
    "x**2 - 3*x**2*y"
   ]
  },
  {
   "cell_type": "markdown",
   "metadata": {},
   "source": [
    "-------\n",
    "This notebook is from Prof. Geoffrey Hutchison, University of Pittsburgh\n",
    "https://github.com/ghutchis/chem1000\n",
    "\n",
    "<a rel=\"license\" href=\"http://creativecommons.org/licenses/by/4.0/\"><img alt=\"Creative Commons License\" style=\"border-width:0\" src=\"https://i.creativecommons.org/l/by/4.0/88x31.png\" /></a>"
   ]
  }
 ],
 "metadata": {
  "kernelspec": {
   "display_name": "Python 3",
   "language": "python",
   "name": "python3"
  },
  "language_info": {
   "codemirror_mode": {
    "name": "ipython",
    "version": 3
   },
   "file_extension": ".py",
   "mimetype": "text/x-python",
   "name": "python",
   "nbconvert_exporter": "python",
   "pygments_lexer": "ipython3",
   "version": "3.6.11"
  },
  "toc": {
   "base_numbering": 1,
   "nav_menu": {},
   "number_sections": false,
   "sideBar": false,
   "skip_h1_title": false,
   "title_cell": "Table of Contents",
   "title_sidebar": "Contents",
   "toc_cell": false,
   "toc_position": {},
   "toc_section_display": false,
   "toc_window_display": false
  }
 },
 "nbformat": 4,
 "nbformat_minor": 4
}
