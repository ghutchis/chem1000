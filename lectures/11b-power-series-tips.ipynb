{
 "cells": [
  {
   "cell_type": "markdown",
   "id": "ef1a98f0-1851-4240-b1f4-53345004bcb0",
   "metadata": {},
   "source": [
    "# CHEM 1000 - Spring 2025\n",
    "Prof. Geoffrey Hutchison, University of Pittsburgh\n",
    "\n",
    "## 11 Differential Equations - Power Series\n"
   ]
  },
  {
   "cell_type": "markdown",
   "id": "6b7dabd2-6cff-47e5-8e77-135007a810fd",
   "metadata": {},
   "source": [
    "## Power Series Cheat Sheet\n",
    "\n",
    "One key to using power series to solve differential equations is that we can write the first and second derivatives in different forms. This can make it easier if, for example we have a term like:\n",
    "\n",
    "$$\n",
    "x^2 \\frac{d^2f}{dx^2}\n",
    "$$\n",
    "\n",
    "Here are some example forms that we can use to simplify power series solutions:\n",
    "\n",
    "$$\n",
    "f(x) = \\sum_{n=0}^{\\infty} a_n x^n\n",
    "$$\n",
    "\n",
    "First derivative:\n",
    "$$\n",
    "\\frac{df}{dx} = \\sum_{n=0}^{\\infty} a_n (n) x^{n-1}\n",
    "$$\n",
    "\n",
    "$$\n",
    "\\frac{df}{dx} = \\sum_{n=0}^{\\infty} a_{n+1} (n+1) x^{n}\n",
    "$$\n",
    "\n",
    "Second derivative:\n",
    "$$\n",
    "\\frac{d^2f}{dx^2} = \\sum_{n=0}^{\\infty} a_n (n)(n-1) x^{n-2}\n",
    "$$\n",
    "\n",
    "$$\n",
    "\\frac{d^2f}{dx^2} = \\sum_{n=0}^{\\infty} a_{n+1} (n+1)(n) x^{n-1}\n",
    "$$\n",
    "\n",
    "$$\n",
    "\\frac{d^2f}{dx^2} = \\sum_{n=0}^{\\infty} a_{n+2} (n+2)(n+1) x^{n}\n",
    "$$\n",
    "\n",
    "You can then pick the form that is most useful for consolidating $x^n$ terms, e.g.\n",
    "\n",
    "$$\n",
    "x^2 \\frac{d^2f}{dx^2} = x^2 \\sum_{n=0}^{\\infty} a_n (n)(n-1) x^{n-2}\n",
    "$$"
   ]
  },
  {
   "cell_type": "code",
   "execution_count": null,
   "id": "5336349c-0fb0-44a6-874f-21c9ac1540e5",
   "metadata": {},
   "outputs": [],
   "source": [
    "from sympy import init_session\n",
    "init_session()"
   ]
  },
  {
   "cell_type": "code",
   "execution_count": null,
   "id": "2c7c71b2-aade-4bed-a10e-18ef4301344e",
   "metadata": {},
   "outputs": [],
   "source": [
    "diffeq = x*diff(f(x), x, x) - 10*x*diff(f(x), x) + 2*f(x)\n",
    "dsolve(diffeq, f(x))"
   ]
  },
  {
   "cell_type": "markdown",
   "id": "0232ef7f-5309-4f0c-8d33-a7868f63fa95",
   "metadata": {},
   "source": [
    "$$\n",
    "x \\frac{d^2 y}{d x^2}-10 x \\frac{d y}{d x}+2 y=0\n",
    "$$\n",
    "\n",
    "Solve:\n",
    "\n",
    "$$\n",
    "x \\sum_{n=0}^{\\infty} a_{n+1} (n+1)(n) x^{n-1} - 10x \\sum_{n=0}^{\\infty} a_n (n) x^{n-1} + 2 \\sum_{n=0}^{\\infty} a_n x^n = 0\n",
    "$$\n",
    "\n",
    "Multiply out the variables:\n",
    "\n",
    "$$\n",
    "\\sum_{n=0}^{\\infty} a_{n+1} (n+1)(n) x^n - \\sum_{n=0}^{\\infty} 10a_n (n) x^{n} + \\sum_{n=0}^{\\infty} 2a_n x^n = 0\n",
    "$$\n",
    "\n",
    "Consolidate the series:\n",
    "$$\n",
    "\\sum_{n=0}^{\\infty} [a_{n+1} (n+1)(n) - 10a_n (n) + 2a_n]x^n = 0\n",
    "$$\n",
    "\n",
    "So then the recurrence relation can be found:\n",
    "$$\n",
    "[a_{n+1} (n+1)(n) - 10a_n (n) + 2a_n] = 0\n",
    "$$\n",
    "\n",
    "$$\n",
    "a_{n+1} (n+1)(n) = 10a_n(n) - 2a_n\n",
    "$$\n",
    "\n",
    "Then:\n",
    "$$\n",
    "a_{n+1} = \\frac{2a_n(5n - 1)}{(n+1)(n)}\n",
    "$$"
   ]
  },
  {
   "cell_type": "markdown",
   "id": "64bda613-6bd9-48c8-aabe-2e17bb69ff62",
   "metadata": {},
   "source": [
    "-------\n",
    "This notebook is from Prof. Geoffrey Hutchison, University of Pittsburgh\n",
    "https://github.com/ghutchis/chem1000\n",
    "\n",
    "<a rel=\"license\" href=\"http://creativecommons.org/licenses/by/4.0/\"><img alt=\"Creative Commons License\" style=\"border-width:0\" src=\"https://i.creativecommons.org/l/by/4.0/88x31.png\" /></a>"
   ]
  }
 ],
 "metadata": {
  "kernelspec": {
   "display_name": "Python 3 (ipykernel)",
   "language": "python",
   "name": "python3"
  },
  "language_info": {
   "codemirror_mode": {
    "name": "ipython",
    "version": 3
   },
   "file_extension": ".py",
   "mimetype": "text/x-python",
   "name": "python",
   "nbconvert_exporter": "python",
   "pygments_lexer": "ipython3",
   "version": "3.10.14"
  }
 },
 "nbformat": 4,
 "nbformat_minor": 5
}
