{
 "cells": [
  {
   "cell_type": "markdown",
   "metadata": {},
   "source": [
    "# CHEM 1000 - Spring 2022\n",
    "Prof. Geoffrey Hutchison, University of Pittsburgh\n",
    "\n",
    "## 12 Systems of Differential Equations and Partial Differential Equations\n",
    "\n",
    "Chapter 12 in [*Mathematical Methods for Chemists*](http://sites.bu.edu/straub/mathematical-methods-for-molecular-science/)\n",
    "\n",
    "This notebook also includes additional material, including systems of differential equations (using numeric integration).\n",
    "\n",
    "By the end of this session, you should be able to:\n",
    "- Understand separable partial differential equations\n",
    "- Understand how to use `scipy.integrate` and `odeint` to integrate systems of differential equations"
   ]
  },
  {
   "cell_type": "markdown",
   "metadata": {},
   "source": [
    "### Partial Differential Equations\n",
    "\n",
    "There are several notable partial differential equations in physics and chemistry:\n",
    "- Classical Heat Equation\n",
    "- Classical Diffusion\n",
    "- Classical Wave Equation\n",
    "\n",
    "Section A.12 in the textbook has a nice survey and justification of the formulas for each.\n",
    "\n",
    "Let's concentrate on the classical wave equation (the solution to the heat equation is similar)\n",
    "\n",
    "$$\n",
    "\\frac{\\partial^{2} h(x, t)}{\\partial t^{2}}=v^{2} \\frac{\\partial^{2} h(x, t)}{\\partial x^{2}}\n",
    "$$\n",
    "\n",
    "That is, the displacement of a string $h(x,t)$ depends on both position and time (i.e., it oscillates).\n",
    "\n",
    "We can perhaps assume both ends of the string are tied down, so the boundary conditions would be $h(0, t) = h(L, t) = 0$\n",
    "\n",
    "Let's assume that we can write $h(x,t)$ as the **separable** product of two functions:\n",
    "\n",
    "$$\n",
    "h(x, t)=X(x) T(t)\n",
    "$$\n",
    "\n",
    "Maybe this is true, maybe not, but let's plug it back into the PDE:\n",
    "\n",
    "$$\n",
    "X(x) \\frac{d^{2} T(t)}{d t^{2}}=v^{2} T(t) \\frac{d^{2} X(x)}{d x^{2}}\n",
    "$$\n",
    "\n",
    "Notice that we can now change our partial derivatives into two equal second order ordinary differential equations.\n",
    "\n",
    "We can simplify:\n",
    "\n",
    "$$\n",
    "\\frac{1}{v^{2} T(t)} \\frac{d^{2} T(t)}{d t^{2}}=\\frac{1}{X(x)} \\frac{d^{2} X(x)}{d x^{2}}\n",
    "$$\n",
    "\n",
    "Since time and space are independent variables, this can only be true if both are equal to a constant:\n",
    "\n",
    "$$\n",
    "\\frac{1}{v^{2} T(t)} \\frac{d^{2} T(t)}{d t^{2}}=-k^{2}=\\frac{1}{X(x)} \\frac{d^{2} X(x)}{d x^{2}}\n",
    "$$\n",
    "\n",
    "Let's do these one at a time:\n",
    "\n",
    "$$\n",
    "\\frac{d^{2} X(x)}{d x^{2}}=-k^{2} X(x)\n",
    "$$\n",
    "\n",
    "Nice, it's a second-order ordinary differential equation with constant coefficients!\n",
    "\n",
    "Our *ansatz* will be:\n",
    "\n",
    "$$\n",
    "X(x)=a_{1} \\cos (k x)+b_{1} \\sin (k x)\n",
    "$$\n",
    "\n",
    "One boundary condition is that $h(0, t) = 0$ so:\n",
    "\n",
    "$$\n",
    "X(x)=b_{1} \\sin (k x)\n",
    "$$\n",
    "\n",
    "Then:\n",
    "$$\n",
    "X(L)=b_{1} \\sin (k L)=0\n",
    "$$\n",
    "\n",
    "So $k L$ can be any multiple of $\\pi$:\n",
    "\n",
    "$$\n",
    "k^{2}=\\frac{n^{2} \\pi^{2}}{L^{2}} \\quad n=1,2, \\ldots\n",
    "$$\n",
    "\n",
    "Finally, our positions:\n",
    "\n",
    "$$\n",
    "X_{n}(x)=b_{n} \\sin \\left[\\frac{n \\pi}{L} x\\right] \\quad n=1,2, \\ldots\n",
    "$$\n",
    "\n",
    "What about time?\n",
    "\n",
    "$$\n",
    "\\frac{d^{2} T(t)}{d t^{2}}=-v^{2} k^{2} T(t)\n",
    "$$\n",
    "\n",
    "But we just solved for $k$ so:\n",
    "\n",
    "$$\n",
    "\\frac{d^{2} T(t)}{d t^{2}}=-v^{2} \\frac{n^{2} \\pi^{2}}{L^{2}} T(t) \\quad n=1,2, \\ldots\n",
    "$$\n",
    "\n",
    "We don't have any boundary conditions for time, so:\n",
    "\n",
    "$$\n",
    "T_{n}(t)=c_{n} \\cos \\left(\\frac{n \\pi}{L} v t\\right)+d_{n} \\sin \\left(\\frac{n \\pi}{L} v t\\right)\n",
    "$$\n",
    "\n",
    "This leaves us with an extremely general solution for $h$:\n",
    "\n",
    "$$\n",
    "\\begin{aligned}\n",
    "h(x, t) &=\\sum_{n=1}^{\\infty} X_{n}(x) T_{n}(t) \\\\\n",
    "&=\\sum_{n=1}^{\\infty} b_{n} \\sin \\left[\\frac{n \\pi}{L} x\\right] \\times\\left[c_{n} \\cos \\left(\\frac{n \\pi}{L} v t\\right)+d_{n} \\sin \\left(\\frac{n \\pi}{L} v t\\right)\\right] \\\\\n",
    "&=\\sum_{n=1}^{\\infty} \\sin \\left[\\frac{n \\pi}{L} x\\right]\\left[s_{n} \\cos \\left(\\omega_{n} t\\right)+t_{n} \\sin \\left(\\omega_{n} t\\right)\\right]\n",
    "\\end{aligned}\n",
    "$$\n",
    "\n",
    "\n",
    "We'll come back to this idea of an oscillation / string being described by a sum of $\\sin$ and $\\cos$ functions soon."
   ]
  },
  {
   "cell_type": "markdown",
   "metadata": {},
   "source": [
    "### Lotka-Volterra (Predator-Prey)\n",
    "\n",
    "I live near Frick Park. Over the summer, we had many rabbits come visit (to eat my garden) and I also saw several foxes - there's a small group in and around Homewood cemetery.\n",
    "\n",
    "Not surprisingly, I saw more bunnies in the spring, and fewer later in the summer...\n",
    "\n",
    "[Wikipedia](https://en.wikipedia.org/wiki/Lotka%E2%80%93Volterra_equations)\n",
    ">The Lotka–Volterra equations, also known as the predator–prey equations, are a pair of first-order nonlinear differential equations, frequently used to describe the dynamics of biological systems in which two species interact, one as a predator and the other as prey. The populations change through time according to the pair of equations:\n",
    "\n",
    "$$\n",
    "\\begin{aligned}\n",
    "\\frac{d x}{d t} &=\\alpha x-\\beta x y \\\\\n",
    "\\frac{d y}{d t} &=\\delta x y-\\gamma y\n",
    "\\end{aligned}\n",
    "$$\n",
    "\n",
    "Notice that these are ordinary differential equations because *time* is the variable to integrate, not $x$ or $y$, which are coupled, but not integrated.\n",
    "\n",
    "As I've written them, $x$ is the prey, e.g. rabbits (this one was recently watching me record a video for class - thus the reflection in the window):\n",
    "\n",
    "<img src=\"../images/driveway-bunny.jpg\" width=\"400\" />\n",
    "\n",
    "So then, $y$ is the predator:\n",
    "\n",
    "<img src=\"../images/frick-fox1.jpg\" width=\"400\" />\n",
    "\n",
    "For the other parameters, $\\alpha$ represents the constant growth rate of prey (e.g. exponential growth), and $-\\beta x y$ is death due to predators (and thus proportional to interactions of both species). Predators increase in number if there are enough prey $\\delta x y$ and have a constant death or migration rate $-\\gamma y$.\n",
    "\n",
    "Generally, the easiest method is to do numeric integration. In Python, we can use `scipy.integrate` specifically `odeint` for that:"
   ]
  },
  {
   "cell_type": "code",
   "execution_count": null,
   "metadata": {},
   "outputs": [],
   "source": [
    "import numpy as np\n",
    "\n",
    "# we need `odeint` for integrating ordinary differential equations\n",
    "from scipy.integrate import odeint"
   ]
  },
  {
   "cell_type": "code",
   "execution_count": null,
   "metadata": {},
   "outputs": [],
   "source": [
    "# Definition of parameters\n",
    "alpha = 1.\n",
    "beta = 0.1\n",
    "gamma = 0.05\n",
    "delta = 0.5\n",
    "\n",
    "# time steps (months? years maybe??)\n",
    "t = np.arange(0.0, 45.0, 0.01) # remember t = time from 0 to 40.0 with 0.01 increments"
   ]
  },
  {
   "cell_type": "markdown",
   "metadata": {},
   "source": [
    "Now we have to define the function to integrate - which is packed into one \"state\" array"
   ]
  },
  {
   "cell_type": "code",
   "execution_count": null,
   "metadata": {},
   "outputs": [],
   "source": [
    "def f(state, t):\n",
    "    x, y = state  # Unpack the state vector\n",
    "    # dx/dt, dy/dt\n",
    "    return alpha*x - beta*x*y, gamma*x*y - delta*y"
   ]
  },
  {
   "cell_type": "markdown",
   "metadata": {},
   "source": [
    "Now we can integrate:"
   ]
  },
  {
   "cell_type": "code",
   "execution_count": null,
   "metadata": {},
   "outputs": [],
   "source": [
    "states = odeint(f, [10, 5], t)"
   ]
  },
  {
   "cell_type": "markdown",
   "metadata": {},
   "source": [
    "Let's plot it!"
   ]
  },
  {
   "cell_type": "code",
   "execution_count": null,
   "metadata": {},
   "outputs": [],
   "source": [
    "import matplotlib.pyplot as plt\n",
    "%matplotlib inline\n",
    "%config InlineBackend.figure_format = 'retina' # high-res images where supported\n",
    "plt.style.use('./chem1000.mplstyle')"
   ]
  },
  {
   "cell_type": "code",
   "execution_count": null,
   "metadata": {},
   "outputs": [],
   "source": [
    "plt.plot(t, states[:, 0], label=\"Rabbits\")\n",
    "plt.plot(t, states[:, 1], label=\"Foxes\")\n",
    "\n",
    "plt.xlabel(\"Time\")\n",
    "plt.ylabel(\"Population\")\n",
    "plt.legend(frameon=True, facecolor='white', framealpha=1)\n",
    "plt.show()"
   ]
  },
  {
   "cell_type": "markdown",
   "metadata": {},
   "source": [
    "Perhaps not surprisingly, the populations oscillate with slight offsets. The prey population goes up, then the predator population, etc.\n",
    "\n",
    "We can examine this a bit more with a \"phase plot.\" That is, rather than plotting time as the x-axis, we can plot the two populations as separate axes:"
   ]
  },
  {
   "cell_type": "code",
   "execution_count": null,
   "metadata": {},
   "outputs": [],
   "source": [
    "plt.plot(states[:, 0], states[:, 1])\n",
    "\n",
    "plt.xlabel(\"Rabbits\")\n",
    "plt.ylabel(\"Foxes\")\n",
    "plt.show()"
   ]
  },
  {
   "cell_type": "markdown",
   "metadata": {},
   "source": [
    "We might wonder what controls the size of the \"circuit\"? Some depends on the $\\alpha$, $\\beta$, etc. parameters, but also the initial populations.\n",
    "\n",
    "Here are a few phase plots with different initial states:"
   ]
  },
  {
   "cell_type": "code",
   "execution_count": null,
   "metadata": {},
   "outputs": [],
   "source": [
    "states1 = odeint(f, [8, 4], t)\n",
    "plt.plot(states1[:, 0], states1[:, 1], label=\"8, 4\")\n",
    "\n",
    "states2 = odeint(f, [10, 5], t)\n",
    "plt.plot(states2[:, 0], states2[:, 1], label=\"10, 5\")\n",
    "\n",
    "states3 = odeint(f, [15, 8], t)\n",
    "plt.plot(states3[:, 0], states3[:, 1], label=\"15, 8\")\n",
    "\n",
    "states4 = odeint(f, [18, 9], t)\n",
    "plt.plot(states4[:, 0], states4[:, 1], label=\"18, 9\")\n",
    "\n",
    "plt.xlabel(\"Rabbits\")\n",
    "plt.ylabel(\"Foxes\")\n",
    "plt.legend()\n",
    "plt.show()"
   ]
  },
  {
   "cell_type": "markdown",
   "metadata": {},
   "source": [
    "It looks like there might be an equilibrium point in the middle. How do we find it?\n",
    "\n",
    "At that point, both:\n",
    "\n",
    "$$\n",
    "\\frac{dx}{dt} = \\frac{dy}{dt} = 0\n",
    "$$\n",
    "\n",
    "Because, by definition, at equilibrium, the number of each won't change.\n",
    "\n",
    "That gives us:\n",
    "\n",
    "$$\n",
    "\\begin{array}{l}\n",
    "x(\\alpha-\\beta y)=0 \\\\\n",
    "-y(\\gamma-\\delta x)=0\n",
    "\\end{array}\n",
    "$$\n",
    "\n",
    "This could obviously be true if both $x$ and $y$ are zero (i.e., both species go extinct!) but a more interesting example yields:\n",
    "\n",
    "$$\n",
    "x=\\frac{\\gamma}{\\delta}, y=\\frac{\\alpha}{\\beta}\n",
    "$$"
   ]
  },
  {
   "cell_type": "code",
   "execution_count": null,
   "metadata": {},
   "outputs": [],
   "source": [
    "states1 = odeint(f, [8, 4], t)\n",
    "plt.plot(states1[:, 0], states1[:, 1], label=\"8, 4\")\n",
    "\n",
    "states2 = odeint(f, [10, 5], t)\n",
    "plt.plot(states2[:, 0], states2[:, 1], label=\"10, 5\")\n",
    "\n",
    "states3 = odeint(f, [15, 7], t)\n",
    "plt.plot(states3[:, 0], states3[:, 1], label=\"15, 7\")\n",
    "\n",
    "states4 = odeint(f, [8, 8], t)\n",
    "plt.plot(states4[:, 0], states4[:, 1], label=\"8, 8\")\n",
    "\n",
    "states5 = odeint(f, [9.9, 9.9], t)\n",
    "plt.plot(states5[:, 0], states5[:, 1], label=\"10, 10\")\n",
    "\n",
    "plt.xlabel(\"Rabbits\")\n",
    "plt.ylabel(\"Foxes\")\n",
    "plt.legend()\n",
    "plt.show()"
   ]
  },
  {
   "cell_type": "markdown",
   "metadata": {},
   "source": [
    "We've added a very small loop around 10,10 for the equilibrium point.\n",
    "\n",
    "Notice that it doesn't matter exactly where you start on the loop.. it's the ratio of $x$ and $y$ and the parameters that matter.\n",
    "\n",
    "The model was initially formulated by [Alfred Lotka](https://en.wikipedia.org/wiki/Alfred_J._Lotka) in te context of chemical reactions. At the same time, a similar model was developed by [Volterra](https://en.wikipedia.org/wiki/Vito_Volterra).\n",
    "\n",
    "A variety of chemical oscillatory systems are known, for example the [Belousov-Zhaabotisnky (BZ) system](https://en.wikipedia.org/wiki/Belousov%E2%80%93Zhabotinsky_reaction) and various [clock reactions](https://en.wikipedia.org/wiki/Iodine_clock_reaction)."
   ]
  },
  {
   "cell_type": "markdown",
   "metadata": {},
   "source": [
    "### Lorenz System / Lorenz Attractor\n",
    "\n",
    "In 1963, Edward Lorenz, with the help of [Ellen Fetter](https://en.wikipedia.org/wiki/Ellen_Fetter), who did many of the computations, established a simple model of atmospheric convection - to help with modeling weather:\n",
    "\n",
    "$$\n",
    "\\begin{aligned}\n",
    "\\frac{\\mathrm{d} x}{\\mathrm{d} t} &=\\sigma(y-x) \\\\\n",
    "\\frac{\\mathrm{d} y}{\\mathrm{d} t} &=x(\\rho-z)-y \\\\\n",
    "\\frac{\\mathrm{d} z}{\\mathrm{d} t} &=x y-\\beta z\n",
    "\\end{aligned}\n",
    "$$\n",
    "\n",
    "[Wikipedia](https://en.wikipedia.org/wiki/Lorenz_system):\n",
    "> The equations relate the properties of a two-dimensional fluid layer uniformly warmed from below and cooled from above. In particular, the equations describe the rate of change of three quantities with respect to time: $x$ is proportional to the rate of convection, $y$ to the horizontal temperature variation, and $z$ to the vertical temperature variation\n",
    "\n",
    "Notice there are three parameters: $\\sigma$ and $\\rho$ relate aspects of the convection and $\\beta$ relates to the size of the system.\n",
    "\n",
    "We can also solve these systems of equations through numeric integration."
   ]
  },
  {
   "cell_type": "code",
   "execution_count": null,
   "metadata": {},
   "outputs": [],
   "source": [
    "# We want to plot 3 variables\n",
    "# Axes3D naturally let us plot in 3D\n",
    "from mpl_toolkits.mplot3d import Axes3D"
   ]
  },
  {
   "cell_type": "markdown",
   "metadata": {},
   "source": [
    "First, let's set up our parameters. We're going to use these values for the constants.\n",
    "\n",
    "We'll also create an array of time values.. for now, from 0 to 40 with 0.01 increments:"
   ]
  },
  {
   "cell_type": "code",
   "execution_count": null,
   "metadata": {},
   "outputs": [],
   "source": [
    "rho = 28.0\n",
    "sigma = 10.0\n",
    "beta = 8.0 / 3.0\n",
    "\n",
    "t = np.arange(0.0, 40.0, 0.01) # remember t = time from 0 to 40.0 with 0.01 increments"
   ]
  },
  {
   "cell_type": "markdown",
   "metadata": {},
   "source": [
    "We have to define the function to integrate. In this case, it's three functions, so we pack (x, y, z) into a \"state\" vector (i.e., the state of the system), and return the derivatives"
   ]
  },
  {
   "cell_type": "code",
   "execution_count": null,
   "metadata": {},
   "outputs": [],
   "source": [
    "def f(state, t):\n",
    "    x, y, z = state  # Unpack the state vector\n",
    "    # dx/dt, dy/dt, dz/dt (note the commas)\n",
    "    return sigma * (y - x), x * (rho - z) - y, x * y - beta * z"
   ]
  },
  {
   "cell_type": "code",
   "execution_count": null,
   "metadata": {},
   "outputs": [],
   "source": [
    "state0 = [1.0, 1.0, 1.0] # initial conditions of x, y, z\n",
    "# odeint will now numerically integrate f(state, t) and return the states at all times\n",
    "states = odeint(f, state0, t)"
   ]
  },
  {
   "cell_type": "code",
   "execution_count": null,
   "metadata": {},
   "outputs": [],
   "source": [
    "fig = plt.figure()\n",
    "ax = fig.gca(projection='3d')\n",
    "ax.plot(states[:, 0], states[:, 1], states[:, 2])\n",
    "plt.draw()\n",
    "plt.show()"
   ]
  },
  {
   "cell_type": "markdown",
   "metadata": {},
   "source": [
    "Well, it's a system describing convection. Note the swirling behavior. So far, so good.\n",
    "\n",
    "What if our initial conditions are a little different?"
   ]
  },
  {
   "cell_type": "code",
   "execution_count": null,
   "metadata": {},
   "outputs": [],
   "source": [
    "new_states = odeint(f, [1.01, 1.0, 1.0], t)"
   ]
  },
  {
   "cell_type": "markdown",
   "metadata": {},
   "source": [
    "Now, we'll overlap the two integrated systems on the same axes..."
   ]
  },
  {
   "cell_type": "code",
   "execution_count": null,
   "metadata": {},
   "outputs": [],
   "source": [
    "fig = plt.figure()\n",
    "ax = fig.gca(projection='3d')\n",
    "ax.plot(states[:, 0], states[:, 1], states[:, 2])\n",
    "ax.plot(new_states[:,0], new_states[:,2], new_states[:,2])\n",
    "plt.draw()\n",
    "plt.show()"
   ]
  },
  {
   "cell_type": "markdown",
   "metadata": {},
   "source": [
    "Wow.\n",
    "\n",
    "We changed the initial X value by 0.01 in the new states, and the result is ***completely*** different.\n",
    "\n",
    "There are still swirling behavior, but they end up in different regions of 3D space.\n",
    "\n",
    "Let's just look at the first few time steps... (and make the difference even smaller...)"
   ]
  },
  {
   "cell_type": "code",
   "execution_count": null,
   "metadata": {},
   "outputs": [],
   "source": [
    "t = np.arange(0.0, 2.0, 0.01) # remember t = time from 0 to 10.0 with 0.01 increments\n",
    "states = odeint(f, [1.0, 1.0, 1.0], t)\n",
    "new_states = odeint(f, [1.001, 1.0, 1.0], t)\n",
    "\n",
    "fig = plt.figure()\n",
    "ax = fig.gca(projection='3d')\n",
    "ax.plot(states[:, 0], states[:, 1], states[:, 2])\n",
    "ax.plot(new_states[:,0], new_states[:,2], new_states[:,2])\n",
    "plt.draw()\n",
    "plt.show()"
   ]
  },
  {
   "cell_type": "markdown",
   "metadata": {},
   "source": [
    "You might think it's qualitatively the same. Nice little arc, then a little loop... Let's integrate out to t = 20.."
   ]
  },
  {
   "cell_type": "code",
   "execution_count": null,
   "metadata": {},
   "outputs": [],
   "source": [
    "t = np.arange(0.0, 20.0, 0.01) # remember t = time from 0 to 20.0 with 0.01 increments\n",
    "states = odeint(f, [1.0, 1.0, 1.0], t)\n",
    "new_states = odeint(f, [1.001, 1.0, 1.0], t)\n",
    "\n",
    "fig = plt.figure()\n",
    "ax = fig.gca(projection='3d')\n",
    "ax.plot(states[:, 0], states[:, 1], states[:, 2])\n",
    "ax.plot(new_states[:,0], new_states[:,2], new_states[:,2])\n",
    "plt.draw()\n",
    "plt.show()"
   ]
  },
  {
   "cell_type": "markdown",
   "metadata": {},
   "source": [
    "We can see that the Lorenz system is notable for **chaotic** behavior. Small differences in the initial conditions or parameters (even the method of numeric integration) can lead to large differences in behavior.\n",
    "\n",
    "It's frequently cited as why weather is hard to predict, or the \"butterfly effect\" - that a butterfly flapping its wings can lead to changes in weather patterns.\n",
    "\n",
    "Wikipedia:\n",
    ">This underscores that physical systems can be completely deterministic and yet still be inherently unpredictable even in the absence of quantum effects. The shape of the Lorenz attractor itself, when plotted graphically, may also be seen to resemble a butterfly."
   ]
  },
  {
   "cell_type": "markdown",
   "metadata": {},
   "source": [
    "-------\n",
    "This notebook is from Prof. Geoffrey Hutchison, University of Pittsburgh\n",
    "https://github.com/ghutchis/chem1000\n",
    "\n",
    "<a rel=\"license\" href=\"http://creativecommons.org/licenses/by/4.0/\"><img alt=\"Creative Commons License\" style=\"border-width:0\" src=\"https://i.creativecommons.org/l/by/4.0/88x31.png\" /></a>"
   ]
  }
 ],
 "metadata": {
  "kernelspec": {
   "display_name": "Python 3",
   "language": "python",
   "name": "python3"
  },
  "language_info": {
   "codemirror_mode": {
    "name": "ipython",
    "version": 3
   },
   "file_extension": ".py",
   "mimetype": "text/x-python",
   "name": "python",
   "nbconvert_exporter": "python",
   "pygments_lexer": "ipython3",
   "version": "3.6.11"
  },
  "toc": {
   "base_numbering": 1,
   "nav_menu": {},
   "number_sections": false,
   "sideBar": false,
   "skip_h1_title": false,
   "title_cell": "Table of Contents",
   "title_sidebar": "Contents",
   "toc_cell": false,
   "toc_position": {},
   "toc_section_display": false,
   "toc_window_display": false
  }
 },
 "nbformat": 4,
 "nbformat_minor": 4
}
