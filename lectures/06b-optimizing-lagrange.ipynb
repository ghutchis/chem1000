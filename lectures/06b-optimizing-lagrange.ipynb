{
 "cells": [
  {
   "cell_type": "markdown",
   "metadata": {},
   "source": [
    "# CHEM 1000 - Spring 2023\n",
    "Prof. Geoffrey Hutchison, University of Pittsburgh\n",
    "\n",
    "## 6 Optimizing Functions\n",
    "\n",
    "Chapter 6 in [*Mathematical Methods for Chemists*](http://sites.bu.edu/straub/mathematical-methods-for-molecular-science/)\n",
    "\n",
    "By the end of this session, you should be able to:\n",
    "- Understand optimization using constraints\n",
    "- Use Lagrange undetermined multipliers "
   ]
  },
  {
   "cell_type": "markdown",
   "metadata": {},
   "source": [
    "### Constraints\n",
    "\n",
    "We've learned that there are ways to use derivatives to analytically optimize functions, and methods to numerically optimize functions in many dimensions.\n",
    "\n",
    "What do we do if the optimization is subject to constraints?\n",
    "\n",
    "Let's imagine that the constraint can be specified by some function $g(x,y)$:\n",
    "\n",
    "$$\n",
    "g(x,y) = 0\n",
    "$$\n",
    "\n",
    "We could also re-write the function to be $g(x,y) = c$ for a different constant - it should be easy to see that they're effectively the same.\n",
    "\n",
    "Thus, our problem is:\n",
    "\n",
    "$$\n",
    "\\begin{array}{l}\n",
    "\\text { maximize } f(x, y) \\\\\n",
    "\\text { subject to: } g(x, y)=0\n",
    "\\end{array}\n",
    "$$\n",
    "\n",
    "#### Example Garden\n",
    "\n",
    "Let's say that I have some scrap wood (4.0 m) and want to build a border for my vegatable garden. My constraint is then:\n",
    "\n",
    "$$\n",
    "\\sum (perimeter) = 4.0\n",
    "$$\n",
    "\n",
    "Presumably, I'm building a square/rectangular garden, so:\n",
    "\n",
    "$$\n",
    "g(x,y) = 2\\times(length) + 2\\times(width) - 4.0 m  = 0.0 m\n",
    "$$\n",
    "\n",
    "If I have left-over wood, I presumably could have built a bigger frame.\n",
    "\n",
    "I want to maximize the area of the garden, constrained by the amount of wood I have:\n",
    "\n",
    "$$\n",
    "f(x,y) = x \\times y\n",
    "$$\n",
    "\n",
    "Conceptually, what I'd consider is moving along the constraint function g(x,y) and see when I maximize f(x,y):"
   ]
  },
  {
   "cell_type": "code",
   "execution_count": null,
   "metadata": {},
   "outputs": [],
   "source": [
    "# we can try some lengths, calculate the width given the constraint\n",
    "lengths = [0.25, 0.50, 1.0, 1.25, 1.5, 1.75, 2.0]\n",
    "for l in lengths:\n",
    "    # calculate the width given the perimeter constraint\n",
    "    w = 0.5 * (4.0 - 2.0*l)\n",
    "    # here's the area\n",
    "    area = l*w\n",
    "    # when do we get a maximum area?\n",
    "    print(l, w, area)"
   ]
  },
  {
   "cell_type": "markdown",
   "metadata": {},
   "source": [
    "It should be no surprise that the maximum area is from a square, where the size is 1.0 m on a side.\n",
    "\n",
    "Conceptually, this process looks something like this: (Image from [Wikipedia](https://en.wikipedia.org/wiki/Lagrange_multiplier)):\n",
    "<img src=\"https://upload.wikimedia.org/wikipedia/commons/b/bf/LagrangeMultipliers2D.svg\" width=\"500\" />\n",
    "\n",
    "Notice that as we \"walk\" along the constraint function, there's a point where the gradients of f(x,y) and g(x,y) are ***exactly matched*** in direction. They might differ in size / magnitude, but otherwise:\n",
    "\n",
    "$$\n",
    "\\boldsymbol{\\nabla}f(x,y) = \\lambda \\boldsymbol{\\nabla}g(x,y)\n",
    "$$\n",
    "\n",
    "for some constant $\\lambda$ to make up the difference in magnitude between the two gradients.\n",
    "\n",
    "This means that we can re-think our problem. We're not trying to maximize or minimize $f(x,y)$ - instead, we want to solve the related, combined equation:\n",
    "\n",
    "$$\n",
    "\\mathcal{L}(x, \\lambda)=f(x)-\\lambda g(x)\n",
    "$$\n",
    "\n",
    "We call this a [Lagrange multiplier](https://en.wikipedia.org/wiki/Lagrange_multiplier), Lagrangian, Lagrange undetermined multiplier, etc. To quote from Wikipedia:\n",
    "\n",
    "> The method of Lagrange multipliers relies on the intuition that at a maximum, $f(x,y)$ cannot be increasing in the direction of any such neighboring point that also has $g=0$. If it were, we could walk along the line $g=0$ to get higher, meaning wherever we started wasn't actually the maximum. Viewed in this way, it is an exact analogue to testing if the derivative of an unconstrained function is 0, that is, we are verifying that the directional derivative is 0 in any relevant (viable) direction.\n",
    "\n",
    "So then, we take the gradients of $f(x,y)$ and $g(x,y)$\n",
    "\n",
    "$$\n",
    "\\boldsymbol{\\nabla} f(x, y)=\\frac{\\partial f}{\\partial x} \\hat{\\mathbf{x}}+\\frac{\\partial f}{\\partial y} \\hat{\\mathbf{y}}\n",
    "$$\n",
    "\n",
    "$$\n",
    "\\boldsymbol{\\nabla} g(x, y)=\\frac{\\partial g}{\\partial x} \\hat{x}+\\frac{\\partial g}{\\partial y} \\hat{y}\n",
    "$$\n",
    "\n",
    "So then, what we're looking for is:\n",
    "\n",
    "$$\n",
    "\\left(\\frac{\\partial f}{\\partial x}-\\lambda \\frac{\\partial g}{\\partial x}\\right) \\hat{\\mathbf{x}}+\\left(\\frac{\\partial f}{\\partial y}-\\lambda \\frac{\\partial g}{\\partial y}\\right) \\hat{\\mathbf{y}}=0\n",
    "$$\n",
    "\n",
    "We can also think of these as sets of equations (e.g., one for $x$ and one for $y$):\n",
    "\n",
    "$$\n",
    "\\frac{\\partial f}{\\partial x}-\\lambda \\frac{\\partial g}{\\partial x}=0\n",
    "$$\n",
    "\n",
    "$$\n",
    "\\frac{\\partial f}{\\partial y}-\\lambda \\frac{\\partial g}{\\partial y}=0\n",
    "$$"
   ]
  },
  {
   "cell_type": "code",
   "execution_count": null,
   "metadata": {},
   "outputs": [],
   "source": [
    "# Let's do some examples - first with my garden example\n",
    "from sympy import init_session\n",
    "init_session()"
   ]
  },
  {
   "cell_type": "code",
   "execution_count": null,
   "metadata": {},
   "outputs": [],
   "source": [
    "# declare some new symbols\n",
    "C, lam = symbols(\"C lam\", real=True) # we can't use lambda for our variable name because it's a Python function\n",
    "\n",
    "A = x*y\n",
    "g = C - (2*x + 2*y)\n",
    "L = A - lam*g"
   ]
  },
  {
   "cell_type": "code",
   "execution_count": null,
   "metadata": {},
   "outputs": [],
   "source": [
    "# here's we solve for x\n",
    "diff(L, x)"
   ]
  },
  {
   "cell_type": "code",
   "execution_count": null,
   "metadata": {},
   "outputs": [],
   "source": [
    "diff(L, y)"
   ]
  },
  {
   "cell_type": "markdown",
   "metadata": {},
   "source": [
    "Clearly $x$ and $y$ are both equal to $-2\\lambda$\n",
    "\n",
    "$$\n",
    "C = 2x + 2y = -8\\lambda\n",
    "$$\n",
    "\n",
    "So for whatever value of $C$, our lengths will be:\n",
    "\n",
    "$$\n",
    "x = y = \\frac{C}{4}\n",
    "$$\n",
    "\n",
    "And then the area is:\n",
    "$$\n",
    "A = \\frac{C^2}{16}\n",
    "$$"
   ]
  },
  {
   "cell_type": "markdown",
   "metadata": {},
   "source": [
    "### Another example:\n",
    "\n",
    "Let's try to find the volume of a cylinder with fixed surface area $A_0$"
   ]
  },
  {
   "cell_type": "code",
   "execution_count": null,
   "metadata": {},
   "outputs": [],
   "source": [
    "# Let's try another example, \n",
    "A0, r = symbols('A0 r', real=True)\n",
    "V = pi * r**2 * z\n",
    "g = A0 - 2*pi*r*(z+r)\n",
    "L = V - lam*g"
   ]
  },
  {
   "cell_type": "code",
   "execution_count": null,
   "metadata": {},
   "outputs": [],
   "source": [
    "dr = diff(L, r)\n",
    "dr # print it"
   ]
  },
  {
   "cell_type": "code",
   "execution_count": null,
   "metadata": {},
   "outputs": [],
   "source": [
    "dz = diff(L, z)\n",
    "dz # print it"
   ]
  },
  {
   "cell_type": "code",
   "execution_count": null,
   "metadata": {},
   "outputs": [],
   "source": [
    "# we can ask sympy to solve that for lambda\n",
    "# i.e. simplify 2π lambda * r = π r**2\n",
    "solve( diff(L, z), lam)"
   ]
  },
  {
   "cell_type": "code",
   "execution_count": null,
   "metadata": {},
   "outputs": [],
   "source": [
    "simplify( dr.subs(lam, (-r/2)) )"
   ]
  },
  {
   "cell_type": "markdown",
   "metadata": {},
   "source": [
    "If we set that to zero, we get:\n",
    "\n",
    "$$\n",
    "\\pi r z = 2 \\pi r^2\n",
    "$$\n",
    "\n",
    "Or:\n",
    "\n",
    "$$\n",
    "z = 2r\n",
    "$$\n",
    "\n",
    "Let's substitute that back into the constraint equation and get an expression for $A_0$:"
   ]
  },
  {
   "cell_type": "code",
   "execution_count": null,
   "metadata": {},
   "outputs": [],
   "source": [
    "g.subs(z, (2*r))"
   ]
  },
  {
   "cell_type": "markdown",
   "metadata": {},
   "source": [
    "It's pretty easy to see:\n",
    "\n",
    "$$\n",
    "r = \\sqrt{\\frac{A_0}{6\\pi}}\n",
    "$$"
   ]
  },
  {
   "cell_type": "code",
   "execution_count": null,
   "metadata": {},
   "outputs": [],
   "source": [
    "V = pi * r**2 * (2*r)\n",
    "V.subs(r, (sqrt(A0/(6*pi))) )"
   ]
  },
  {
   "cell_type": "markdown",
   "metadata": {},
   "source": [
    "Not sure if that's exactly *simple* but clearly, we can solve for the maximum volume as a function of a constant surface area $A_0$.\n",
    "\n",
    "<div class=\"alert alert-block alert-success\">\n",
    "\n",
    "In short, the procedure for Lagrange multipliers goes something like this:\n",
    "- Specify the constraint as a function $g(x,y) = 0$\n",
    "- Construct the composite $\\mathcal{L} = f - \\lambda g$\n",
    "- Take the gradients / partial derivatives of $f(x,y)$ and $g(x,y)$ and start solving / simplifying\n",
    "\n",
    "</div>"
   ]
  },
  {
   "cell_type": "markdown",
   "metadata": {},
   "source": [
    "-------\n",
    "This notebook is from Prof. Geoffrey Hutchison, University of Pittsburgh\n",
    "https://github.com/ghutchis/chem1000\n",
    "\n",
    "<a rel=\"license\" href=\"http://creativecommons.org/licenses/by/4.0/\"><img alt=\"Creative Commons License\" style=\"border-width:0\" src=\"https://i.creativecommons.org/l/by/4.0/88x31.png\" /></a>"
   ]
  }
 ],
 "metadata": {
  "kernelspec": {
   "display_name": "Python 3",
   "language": "python",
   "name": "python3"
  },
  "language_info": {
   "codemirror_mode": {
    "name": "ipython",
    "version": 3
   },
   "file_extension": ".py",
   "mimetype": "text/x-python",
   "name": "python",
   "nbconvert_exporter": "python",
   "pygments_lexer": "ipython3",
   "version": "3.6.11"
  },
  "toc": {
   "base_numbering": 1,
   "nav_menu": {},
   "number_sections": false,
   "sideBar": false,
   "skip_h1_title": false,
   "title_cell": "Table of Contents",
   "title_sidebar": "Contents",
   "toc_cell": false,
   "toc_position": {},
   "toc_section_display": false,
   "toc_window_display": false
  }
 },
 "nbformat": 4,
 "nbformat_minor": 4
}
