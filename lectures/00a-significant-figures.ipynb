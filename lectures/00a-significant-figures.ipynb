{
 "cells": [
  {
   "cell_type": "markdown",
   "metadata": {},
   "source": [
    "# CHEM 1000 - Fall 2020\n",
    "Prof. Geoffrey Hutchison, University of Pittsburgh\n",
    "\n",
    "## 0. Introduction\n",
    "\n",
    "**Learning Objectives**\n",
    "\n",
    "By the end of this session, you should be able to:\n",
    "- Remember key rules for significant figures\n",
    "- Use Python to format and round numbers to specific accuracy\n",
    "- Understand why computers and calculators sometimes do weird things with decimal accuracy"
   ]
  },
  {
   "cell_type": "markdown",
   "metadata": {},
   "source": [
    "### 0.a. Significant Figures\n",
    "\n",
    "Significant figures, or \"sig figs\" are of course ***everyone's*** favorite topic in chemistry courses. 😜\n",
    "\n",
    "To be fair, they are a simplification of general rules for handling errors and uncertainty in measurements and the resulting mathematical treatment. More complete rules are generally part of the general topics:\n",
    "- [error propagation](https://en.wikipedia.org/wiki/Propagation_of_uncertainty)\n",
    "- [uncertainty quantification](https://en.wikipedia.org/wiki/Uncertainty_quantification)\n",
    "- [accuracy and precision](https://en.wikipedia.org/wiki/Accuracy_and_precision)\n",
    "\n",
    "To quote from [Wikipedia](https://en.wikipedia.org/wiki/Significance_arithmetic#Disagreements_about_importance):\n",
    "> Significant figures are used extensively in high school and undergraduate courses as a shorthand for the precision with which a measurement is known. However, significant figures are not a perfect representation of uncertainty, and are not meant to be. Instead, they are a useful tool for avoiding expressing more information than the experimenter actually knows, and for avoiding rounding numbers in such a way as to lose precision.\n",
    "\n",
    "I go running almost every day. I use a GPS watch to track my runs. Ideally, I'd want my watch to be both *repeatable* (i.e., I get the same result every time I run the same route) and *true* (i.e., if I run a 5 kilometer race, I want the reading to be 5.0 km, not 4.6 km, or 5.3 km). Incdentally, that's [rarely the case](https://fellrnr.com/wiki/GPS_Accuracy).\n",
    "\n",
    "We will come back to these topics again - for now, we'll stick to reviewing general rules of [significant figures for arithmetic](https://en.wikipedia.org/wiki/Significance_arithmetic)\n",
    "\n",
    "<div class=\"alert alert-block alert-success\">\n",
    "\n",
    "- Exact values (e.g., 2 chairs) are precise and ignored from significant figure tracking.\n",
    "- [Significant figures](https://en.wikipedia.org/wiki/Significant_figures) should be tracked from measurements, etc. The last number is an indication of uncertainty. For example, if you use an instrument with 2 cm<sup>-1</sup> resolution, then the measurement should be 1602 cm<sup>-1</sup>, not 1602.45 cm<sup>-1</sup>, even if some computer reports the latter.\n",
    "- When multiplying or dividing, track the smallest number of **significant figures**, which will be used for your answer.\n",
    "  - Example: 2.5 * 1.05 = 2.6, not 2.625\n",
    "- When adding or subtracting, track the smallest number of **decimal places** (i.e., the least precise number). You will often lose significant figures when subtracting.\n",
    "  - Example: 1 gram + 1.1 gram = 2. grams, not 2.1 gram\n",
    "\n",
    "</div>"
   ]
  },
  {
   "cell_type": "markdown",
   "metadata": {},
   "source": [
    "### Logarithms and Significant Figures\n",
    "\n",
    "$$\\require{mhchem}$$\n",
    "\n",
    "There's one new rule to discuss. **Logarithms.**\n",
    "\n",
    "Consider measuring the pH of a solution - the pH meter shows 10.23. How many significant figures are there?\n",
    "\n",
    "Remember that pH represents a $\\log_{10}$ of the $\\ce{[H+]}$ concentration. So if we had:\n",
    "\n",
    "$$\\ce{[H+]} = 1.698 \\times 10^{10}$$\n",
    "$$\\ce{pH} = \\log_{10} 1.698 \\times 10^{10} = 10.230$$\n",
    "\n",
    "Here, we can see that the *concentration* has 4 significant figures (1.698). The $\\times 10^{10}$ is just part of the scientific notation - it's not part of the significant figures.\n",
    "\n",
    "<div class=\"alert alert-block alert-success\">\n",
    "\n",
    "***Therefore the integer part of a logarithm, called the characteristic, does not factor into our sig. figs.***\n",
    "\n",
    "The decimal part (.230) is called the mantissa and represents the actual measurement. So if we have 4 significant figures in our measurement, we need to write out four decimals in the logarithm.\n",
    "</div>\n",
    "    \n",
    "In our original example, we had a pH meter reading of 10.23, so there are only two decimals and two significant figures:\n",
    "\n",
    "$$ 10^{10.23} = 16982436524.6175 = 1.7 \\times 10^{10}$$\n",
    "\n",
    "**Important question.. what would be the units on this $\\ce{[H+]}$ number?**\n",
    "\n",
    "To recap, the significant figure rules for logarithms and anti-log / exponential:\n",
    "- When taking a logarithm, the answer should have as many decimal places as significant figures in the original number: $\\ln(24.3) = 3.190$\n",
    "- When taking an exponent ($10^x$ or $e^x$) the answer should have as many significant figures as the number of decimals: $e^{23.780} = 6.02\\times 10^{23}$"
   ]
  },
  {
   "cell_type": "markdown",
   "metadata": {},
   "source": [
    "An important caveat comes with computers and calculators, which will naturally show far, far too many significant figures. My daughter, for example, might memorize $\\pi$ to 20 decimal places. Does she need this many? Maybe if she's tracking individual atoms...\n",
    "\n",
    "From [xkcd](https://xkcd.com/2170/):\n",
    "\n",
    "![coordinates](https://imgs.xkcd.com/comics/coordinate_precision.png)"
   ]
  },
  {
   "cell_type": "markdown",
   "metadata": {},
   "source": [
    "An additional problem stems from how floating point numbers are usually handled in a computer. A brief detour.. Computers naturally work in binary, so 0.1 is not usually represented in decimal form, but instead in a *binary fraction*. Consider $0.125 = \\frac{1}{8}$ - the denominator is an exact power of two so it can be stored exactly. $\\frac{1}{2}$ and $\\frac{1}{4}$ can too. But 0.1 has to be stored as an [approximation](https://docs.python.org/3/tutorial/floatingpoint.html). Look what happens if we ask Python for $0.1*3$."
   ]
  },
  {
   "cell_type": "code",
   "execution_count": null,
   "metadata": {},
   "outputs": [],
   "source": [
    "0.1*3"
   ]
  },
  {
   "cell_type": "markdown",
   "metadata": {},
   "source": [
    "It's not even equal to 0.3..."
   ]
  },
  {
   "cell_type": "code",
   "execution_count": null,
   "metadata": {},
   "outputs": [],
   "source": [
    "0.1*3 == 0.3"
   ]
  },
  {
   "cell_type": "markdown",
   "metadata": {},
   "source": [
    "This is a well-known problem with numeric and scientific computing. Instead of equals, use approximate comparisons. In Python, that's `math.isclose`."
   ]
  },
  {
   "cell_type": "code",
   "execution_count": null,
   "metadata": {},
   "outputs": [],
   "source": [
    "# use math.isclose() for comparing floating-point numbers\n",
    "import math\n",
    "\n",
    "math.isclose(0.1*3, 0.3)"
   ]
  },
  {
   "cell_type": "markdown",
   "metadata": {},
   "source": [
    "This isn't a bug in the code or a bug in Python. It's inherent to how you store floating point numbers on a computer or calculator. Suffice to say, there are very small errors, about $2^{-52} \\approx 10^{-16}$ which mean one number may not be *exactly* equal to another (i.e., there are a few bits that differ).\n",
    "\n",
    "While there are tools to track uncertainty/error and significant figures, it's important for you as a human to track significant figures yourself and ensure the final answer has the correct number. (Score one for humans.. for now at least)\n",
    "\n",
    "The good news is that on most modern computers, the errors are small, even if somewhat annoying and as long as we're aware of them and round or clean the formatting at the **end** of a calculation when reporting to other humans, we will be fine."
   ]
  },
  {
   "cell_type": "code",
   "execution_count": null,
   "metadata": {},
   "outputs": [],
   "source": [
    "format(math.pi, '.6f') # gives 6 decimals after the period"
   ]
  },
  {
   "cell_type": "code",
   "execution_count": null,
   "metadata": {},
   "outputs": [],
   "source": [
    "round(math.pi, 4) # rounds to a certain number of digits"
   ]
  },
  {
   "cell_type": "markdown",
   "metadata": {},
   "source": [
    "So the key point is to roughly track significant figures through your analysis and round the final answer.\n",
    "\n",
    "Beyond that, you need more sophisticated methods which are beyond the scope of this course."
   ]
  },
  {
   "cell_type": "markdown",
   "metadata": {},
   "source": [
    "-------\n",
    "This notebook is from Prof. Geoffrey Hutchison, University of Pittsburgh\n",
    "https://github.com/ghutchis/chem1000\n",
    "\n",
    "<a rel=\"license\" href=\"http://creativecommons.org/licenses/by-nc-sa/4.0/\"><img alt=\"Creative Commons License\" style=\"border-width:0\" src=\"https://i.creativecommons.org/l/by-nc-sa/4.0/88x31.png\" /></a><br />This work is licensed under a <a rel=\"license\" href=\"http://creativecommons.org/licenses/by-nc-sa/4.0/\">Creative Commons Attribution-NonCommercial-ShareAlike 4.0 International License</a>."
   ]
  }
 ],
 "metadata": {
  "kernelspec": {
   "display_name": "Python 3",
   "language": "python",
   "name": "python3"
  },
  "language_info": {
   "codemirror_mode": {
    "name": "ipython",
    "version": 3
   },
   "file_extension": ".py",
   "mimetype": "text/x-python",
   "name": "python",
   "nbconvert_exporter": "python",
   "pygments_lexer": "ipython3",
   "version": "3.6.10"
  },
  "toc": {
   "base_numbering": 1,
   "nav_menu": {},
   "number_sections": false,
   "sideBar": false,
   "skip_h1_title": false,
   "title_cell": "Table of Contents",
   "title_sidebar": "Contents",
   "toc_cell": false,
   "toc_position": {},
   "toc_section_display": false,
   "toc_window_display": false
  }
 },
 "nbformat": 4,
 "nbformat_minor": 4
}
