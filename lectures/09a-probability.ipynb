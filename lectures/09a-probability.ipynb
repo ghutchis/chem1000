{
 "cells": [
  {
   "cell_type": "markdown",
   "metadata": {},
   "source": [
    "# CHEM 1000 - Fall 2020\n",
    "Prof. Geoffrey Hutchison, University of Pittsburgh\n",
    "\n",
    "## 9 Probability\n",
    "\n",
    "Chapter 9 in [*Mathematical Methods for Chemists*](http://sites.bu.edu/straub/mathematical-methods-for-molecular-science/)\n",
    "\n",
    "(These lectures notes on probability and statistics will include substantial material not found in the text.)\n",
    "\n",
    "By the end of this session, you should be able to:\n",
    "- Understand the binomial and multinomial processes\n",
    "- Compute cumulative chances (e.g., lottery)\n",
    "- Understand calculating moments from probability distributions\n",
    "  - Mean, variance, skew, and kurtosis"
   ]
  },
  {
   "cell_type": "markdown",
   "metadata": {},
   "source": [
    "### Randomness, Probability and Chemistry\n",
    "\n",
    "A common technique in simulating chemistry and physical behavior is called [Monte Carlo](https://en.wikipedia.org/wiki/Monte_Carlo_method) - essentially using random processes to solve complicated problems. For example, one can randomly sample many possible shapes of a polymer or sample from multiple possible arrangements in a nanoparticle, etc.\n",
    "\n",
    "I will assume you have some background in probability and statistics and focus only on some key areas.\n",
    "\n",
    "### Coin Flips and Binomial Distribution\n",
    "\n",
    "We're generally familiar with *descrete* random numbers, like flipping a coin heads or tails.\n",
    "\n",
    "If we flip a coin once, it's 1/2 chance of heads or tails.\n",
    "\n",
    "Over multiple events - each one is independent - the probability of a particular number of heads (n) in a total of N flips is:\n",
    "\n",
    "$$\n",
    "p(n, N) =\\frac{1}{2^{N}} \\frac{N !}{n !(N-n) !}\n",
    "$$\n",
    "\n",
    "For 6 flips, this looks like:\n",
    "\n",
    "Image from [*Mathematical Methods for Chemists*](http://sites.bu.edu/straub/mathematical-methods-for-molecular-science/)\n",
    "<img src=\"../images/binomial.png\" width=\"350\" />\n",
    "\n",
    "We can calculate the counts either using the formula above, or via [Pascal's Triangle](https://en.wikipedia.org/wiki/Pascal%27s_triangle)\n",
    "\n",
    "<img src=\"../images/pascal-triangle.png\" width=\"350\" />\n",
    "\n",
    "We can relate coin-flips with electron spin or nuclear spin (for NMR), etc. For example, given 3 unpaired electrons, how many arrangements are there?\n",
    "\n",
    "- Up, Up, Up\n",
    "- Up, Up, Down\n",
    ".. (etc)\n",
    "\n",
    "\n",
    "### Multinomial Probability\n",
    "\n",
    "Obviously we don't just flip coins (or electrons) so we also need to consider a multinomial distribution (i.e., rolling a 6-sided dice, or a system that can be in multiple equivalent states):\n",
    "\n",
    "<img src=\"../images/dice.jpg\" width=\"350\" />\n",
    "\n",
    "For example, if we roll a six-sided die, 5 times how many ways can we get 2 ones and 3 sixes (1 1 6 6 6):\n",
    "\n",
    "$$\n",
    "W(2,0,0,0,0,3 ; 5)=\\frac{5 !}{2 ! 0 ! 0 ! 0 ! 0 ! 3 !}=10\n",
    "$$\n",
    "\n",
    "(Important to remember that 0! = 1)"
   ]
  },
  {
   "cell_type": "markdown",
   "metadata": {},
   "source": [
    "### Cumulative Probability\n",
    "\n",
    "One common real-world probability question is about cumulative chances.\n",
    "\n",
    "My son came to me, asking about an iPad game where he can win a prize every time he opens a gift. Each gift has a chance of winning the prize. So he asks me if he buys 30 gifts, what's the chance he'll win the super-awesome dragon?\n",
    "\n",
    "That's a cumulative probability - he doesn't care *which* gift gives him the dragon, only that one of the thirty gifts works.\n",
    "\n",
    "Here's the catch - the game only gives dragons with 1% chance - you're more likely to get other prizes.\n",
    "\n",
    "While there's a formula, it's really, really easy to compute this with a for() loop.\n",
    "- what's the total cumulative chance?\n",
    "- what's the chance we didn't get the prize on the last round\n",
    "\n",
    "e.g.\n",
    "- first time through, there's a 1% chance of a win\n",
    "- second time, there was a 99% chance we didn't win, times the 1% chance I win on this round = 0.99% chance on this gift\n",
    "- third time, there's a 99.01% we didn't win on the 2nd round, times the 1% chance on the 3rd round\n",
    "- etc."
   ]
  },
  {
   "cell_type": "code",
   "execution_count": null,
   "metadata": {},
   "outputs": [],
   "source": [
    "# help danny\n",
    "total = 0.0 # start out with no chance to win the prize\n",
    "missed = 1.0 # i.e., he doesn't have the prize yet\n",
    "chance = 0.01 # chance of winning each time he opens the gift\n",
    "\n",
    "for egg in range(1,31): # remember the loop will go from start to end - 1 = 30\n",
    "    total = total + chance * missed\n",
    "    missed = missed * (1.0 - chance)\n",
    "    print(egg, round(total, 4))"
   ]
  },
  {
   "cell_type": "markdown",
   "metadata": {},
   "source": [
    "Notice that even though there are 30 gifts, his cumulative probability is **not** 30 * 0.01, but lower...\n",
    "\n",
    "Not surprisingly, he decides a 26% chance of getting a dragon isn't very good and he picks a different game.\n",
    "\n",
    "No dragons, but this new game has a 4% chance of winning each time he plays.\n",
    "\n",
    "How long does he have to go for a good chance of winning a prize?"
   ]
  },
  {
   "cell_type": "code",
   "execution_count": null,
   "metadata": {},
   "outputs": [],
   "source": [
    "# is this a better game?\n",
    "total = 0.0 # start out with no chance to win the prize\n",
    "missed = 1.0 # i.e., he doesn't have the prize yet\n",
    "chance = 0.04 # chance of winning each time he opens the gift\n",
    "\n",
    "for egg in range(1,21): # remember the loop will go from start to end - 1 = 20\n",
    "    total = total + chance * missed\n",
    "    missed = missed * (1.0 - chance)\n",
    "    print(egg, round(total, 4))"
   ]
  },
  {
   "cell_type": "markdown",
   "metadata": {},
   "source": [
    "So it's 17 rounds before we break 50% so it's clearly better than the first game. Still, the cumulative chance is not N * 0.04...\n",
    "\n",
    "(Danny decided neither game was worth the money, incidentally.)"
   ]
  },
  {
   "cell_type": "markdown",
   "metadata": {},
   "source": [
    "### Moments from Distributions\n",
    "\n",
    "Sometimes people will discuss \"[*moments*](https://en.wikipedia.org/wiki/Moment_(mathematics))\" of probability distributions or statistical distributions.\n",
    "\n",
    "These are related to the shape of the distribution.\n",
    "- the \"zeroth\" moment is the total (e.g., for a probability it should be 1 = 100%)\n",
    "- first moment is the [mean](https://en.wikipedia.org/wiki/Expected_value) $\\mu$ (i.e., the center or \"expected value\")\n",
    "- second moment is the [variance](https://en.wikipedia.org/wiki/Variance) $\\sigma^2$ (i.e., the width)\n",
    "    - you're probably more familiar with the standard deviation $\\sigma$\n",
    "- third moment is the [skewness](https://en.wikipedia.org/wiki/Skewness) (i.e., the asymmetry of the distribution)\n",
    "- fourth moment, the [kurtosis](https://en.wikipedia.org/wiki/Kurtosis) (i.e., how thin or thick the \"tail\" of the distribution)\n",
    "\n",
    "In general, the mean, variance (or standard deviation which is the square root of the variance) and the skewness are the most useful measures of a distribution.\n",
    "\n",
    "#### Skewness\n",
    "\n",
    "Not all distributions are \"normal\" or symmetric. For example, the number of people waiting for a bus is never negative. Even if I tell you the average is 5 people in the morning, sometimes it's zero (when the bus just arrived) and it's sometimes much higher (right before the bus comes and someone runs to catch it).\n",
    "\n",
    "Image from Wikipedia:\n",
    "<a href=\"https://commons.wikimedia.org/wiki/File:Negative_and_positive_skew_diagrams_(English).svg#/media/File:Negative_and_positive_skew_diagrams_(English).svg\"><img src=\"https://upload.wikimedia.org/wikipedia/commons/thumb/f/f8/Negative_and_positive_skew_diagrams_%28English%29.svg/1200px-Negative_and_positive_skew_diagrams_%28English%29.svg.png\" alt=\"Negative and positive skew diagrams (English).svg\"></a>\n",
    "\n",
    "#### Kurtosis\n",
    "\n",
    "Kurtosis is a measure of whether the data are heavy-tailed or light-tailed relative to a normal distribution. That is, distributions with high kurtosis tend to have many outliers.\n",
    "\n",
    "This is probably easier to plot:"
   ]
  },
  {
   "cell_type": "code",
   "execution_count": null,
   "metadata": {},
   "outputs": [],
   "source": [
    "# let's plot this\n",
    "import numpy as np\n",
    "import matplotlib.pyplot as plt\n",
    "%matplotlib inline\n",
    "\n",
    "%config InlineBackend.figure_format = 'retina'\n",
    "plt.style.use('../lectures/chem1000.mplstyle')"
   ]
  },
  {
   "cell_type": "code",
   "execution_count": null,
   "metadata": {},
   "outputs": [],
   "source": [
    "# generate a \"normal\" distribution\n",
    "\n",
    "mu, sigma = 0, 0.1 # mean and standard deviation\n",
    "points = np.random.normal(mu, sigma, 1000) # 1,000 points from a normal distribution"
   ]
  },
  {
   "cell_type": "code",
   "execution_count": null,
   "metadata": {},
   "outputs": [],
   "source": [
    "import scipy.stats\n",
    "\n",
    "print('mean', np.mean(points))\n",
    "print('variance', np.var(points)) # variance\n",
    "\n",
    "print('skewness', scipy.stats.skew(points))\n",
    "print('kurtosis', scipy.stats.kurtosis(points))"
   ]
  },
  {
   "cell_type": "code",
   "execution_count": null,
   "metadata": {},
   "outputs": [],
   "source": [
    "count, bins, ignored = plt.hist(points, 30, density=True)\n",
    "\n",
    "# add a red line with the perfect curve from a Gaussian distribution\n",
    "plt.plot(bins, 1/(sigma * np.sqrt(2 * np.pi)) *\n",
    "               np.exp( - (bins - mu)**2 / (2 * sigma**2) ),\n",
    "         linewidth=2, color='r')\n",
    "\n",
    "plt.show()"
   ]
  },
  {
   "cell_type": "code",
   "execution_count": null,
   "metadata": {},
   "outputs": [],
   "source": [
    "# here's a different distribution (Cauchy - the same as a Lorentzian peak in spectra)\n",
    "from scipy.stats import cauchy\n",
    "\n",
    "mu, sigma = 0, 0.1 # mean and standard deviation\n",
    "points = cauchy.rvs(mu, sigma, 1000)\n",
    "\n",
    "print('mean', np.mean(points))\n",
    "print('variance', np.var(points)) # variance\n",
    "\n",
    "print('skew', scipy.stats.skew(points))\n",
    "print('kurtosis', scipy.stats.kurtosis(points))"
   ]
  },
  {
   "cell_type": "code",
   "execution_count": null,
   "metadata": {},
   "outputs": [],
   "source": [
    "count, bins, ignored = plt.hist(points, 1000, density=True)\n",
    "\n",
    "# add a red line with the perfect curve from a Gaussian distribution\n",
    "plt.plot(bins, 1/(sigma * np.sqrt(2 * np.pi)) *\n",
    "               np.exp( - (bins - mu)**2 / (2 * sigma**2) ),\n",
    "         linewidth=2, color='r')\n",
    "\n",
    "plt.xlim(-0.5, 0.5)\n",
    "plt.show()"
   ]
  },
  {
   "cell_type": "markdown",
   "metadata": {},
   "source": [
    "Notice that there's not as much in the middle and more on the outside? That's **kurtosis**.\n",
    "\n",
    "Can we generate some skew?\n",
    "\n",
    "Yes, there are many kinds of distributions, including intentionally skewed distributions"
   ]
  },
  {
   "cell_type": "code",
   "execution_count": null,
   "metadata": {},
   "outputs": [],
   "source": [
    "from scipy.stats import skewnorm\n",
    "\n",
    "mu, sigma = 0, 0.1 # mean and standard deviation\n",
    "asym = 4 # skew parameter\n",
    "points = skewnorm.rvs(asym, mu, sigma, 1000)\n",
    "\n",
    "print('mean', np.mean(points))\n",
    "print('variance', np.var(points)) # variance\n",
    "\n",
    "print('skew', scipy.stats.skew(points))\n",
    "print('kurtosis', scipy.stats.kurtosis(points))"
   ]
  },
  {
   "cell_type": "code",
   "execution_count": null,
   "metadata": {},
   "outputs": [],
   "source": [
    "count, bins, ignored = plt.hist(points, 30, density=True)\n",
    "\n",
    "# add a red line with the perfect curve from a Gaussian distribution\n",
    "plt.plot(bins, 1/(sigma * np.sqrt(2 * np.pi)) *\n",
    "               np.exp( - (bins - mu)**2 / (2 * sigma**2) ),\n",
    "         linewidth=2, color='r')\n",
    "\n",
    "plt.show()"
   ]
  },
  {
   "cell_type": "markdown",
   "metadata": {},
   "source": [
    "### Common Probability Distributions\n",
    "\n",
    "The following are all continuous distributions:\n",
    "\n",
    "- Uniform random (`scipy.stats.uniform`)\n",
    "- Gaussian / normal (`scipy.stats.norm`)\n",
    "- Cauchy (Lorentzian) (`scipy.stats.cauchy`)\n",
    "- Exponential (`scipy.stats.expon`)\n",
    "  - example: exponential decay of radioactive elements\n",
    "\n",
    "The [Poisson distribution](https://en.wikipedia.org/wiki/Poisson_distribution) and [binomial distribution](https://en.wikipedia.org/wiki/Poisson_distribution) are discrete probability distributions (e.g., 5 people at the bus stop, or 6 heads when flipping coins)."
   ]
  },
  {
   "cell_type": "markdown",
   "metadata": {},
   "source": [
    "-------\n",
    "This notebook is from Prof. Geoffrey Hutchison, University of Pittsburgh\n",
    "https://github.com/ghutchis/chem1000\n",
    "\n",
    "<a rel=\"license\" href=\"http://creativecommons.org/licenses/by/4.0/\"><img alt=\"Creative Commons License\" style=\"border-width:0\" src=\"https://i.creativecommons.org/l/by/4.0/88x31.png\" /></a>"
   ]
  }
 ],
 "metadata": {
  "kernelspec": {
   "display_name": "Python 3",
   "language": "python",
   "name": "python3"
  },
  "language_info": {
   "codemirror_mode": {
    "name": "ipython",
    "version": 3
   },
   "file_extension": ".py",
   "mimetype": "text/x-python",
   "name": "python",
   "nbconvert_exporter": "python",
   "pygments_lexer": "ipython3",
   "version": "3.6.11"
  },
  "toc": {
   "base_numbering": 1,
   "nav_menu": {},
   "number_sections": false,
   "sideBar": false,
   "skip_h1_title": false,
   "title_cell": "Table of Contents",
   "title_sidebar": "Contents",
   "toc_cell": false,
   "toc_position": {},
   "toc_section_display": false,
   "toc_window_display": false
  }
 },
 "nbformat": 4,
 "nbformat_minor": 4
}
