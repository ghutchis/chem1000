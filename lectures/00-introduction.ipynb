{
 "cells": [
  {
   "cell_type": "markdown",
   "metadata": {},
   "source": [
    "# CHEM 1000 - Fall 2020\n",
    "Prof. Geoffrey Hutchison, University of Pittsburgh\n",
    "\n",
    "## 0. Introduction"
   ]
  },
  {
   "cell_type": "markdown",
   "metadata": {},
   "source": [
    "Welcome to \"Mathematics for Chemistry\" (**COVID edition**)\n",
    "\n",
    "Why do we have this course?\n",
    "\n",
    "From [xkcd](https://xkcd.com/435/):\n",
    "![Fields Arranged by Purity](https://imgs.xkcd.com/comics/purity.png \"Purity\")\n",
    "\n",
    "Yes, physicists like to think that chemistry is just \"applied physics\" and mathematics like to think everything is just \"applied math.\" Which means, we want to focus on some key concepts beyond algebra and calculus that have important chemical applications, particularly in physical and analytical chemistry:\n",
    "\n",
    "- How does one calculate the concentration of chemical reactants and products as a function of time?\n",
    "- Where do molecular orbitals get their shape? \n",
    "- How does Fourier transform spectroscopy work?\n",
    "- How do we track errors and uncertainty through calculations?\n",
    "\n",
    "The challenge is that traditional math classes are *abstract* but in chemistry, our needs are concrete. Thus, our aim in the class is to learn the key skills needed -- and to see how these techniques can be applied to interesting applications."
   ]
  },
  {
   "cell_type": "markdown",
   "metadata": {},
   "source": [
    "### Python / Jupyter\n",
    "\n",
    "I will be using the Python programming language in class, pretty much every lecture. We'll use Jupyter, which is a nice way to run Python notebooks in a web browser.\n",
    "\n",
    "Why?\n",
    "\n",
    "- It's one of the most widely used languages in STEM (and [outside of STEM too](https://www.tiobe.com/tiobe-index/)…)\n",
    "- It's open source and ***free*** and through the Jupyter notebook system doesn't require anything to install - you can use this through any recent web browser.\n",
    "  - That means we can run our code on the powerful Pitt clusters, [Google \"Colab\"](https://colab.research.google.com/), [Binder](https://mybinder.org/), or [Microsoft Azure](https://notebooks.azure.com/) - multiple free and paid services exist. If you want to run offline, you can install Python 3.x from [Anaconda](https://www.anaconda.com/products/individual).\n",
    "- It offers many free, open source *libraries* of existing code for many, many common science and math tasks, from [statistics](https://www.statsmodels.org/devel/), curve fitting, processing spectroscopy, quantum chemistry, [machine learning](http://scikit-learn.org/), etc.\n",
    "- It's fairly easy to learn - most scientists are not programmers, nor are paid to do so.\n",
    "  - There's lots of documentation, tutorials, etc. online if you have trouble or want to learn more.\n",
    "- The Jupyter notebooks we use for Python allow you to include documentation / explanation in addition to the math and code.\n",
    "\n",
    "This course does not assume any programming experience, let alone with Python. No problem. You do not need to become an expert to do well in the class - this is not a CS or programming class, it's a chemistry class.\n",
    "\n",
    "Our goal though, is to have the computer do some work, so we (the humans) can focus on the *concepts* instead. \n",
    "\n",
    "You are **not required** to use Python - you can do all homework with pencil and paper, Wolfram Alpha, MATLAB, etc. if you're more comfortable. Based on my experience you'll find it easier and faster to use these noteboooks. It's 2020, and computers can help you do math and chemistry. In my experience, a bit of work writing code is usually repaid many times in making chemistry analysis easier and faster.\n",
    "\n",
    "Let's consider this an experiment - I hope you'll have an open mind and we'll have some surveys throughout the class to see what you think about Python and Jupyter."
   ]
  },
  {
   "cell_type": "markdown",
   "metadata": {},
   "source": [
    "Below I've included some simple examples of Python. The `#` character indicates the start of a comment. Anything after that on a line will be ignored by Python.\n",
    "\n",
    "We will have a recitation to go through more Python and Jupyter basics too."
   ]
  },
  {
   "cell_type": "code",
   "execution_count": null,
   "metadata": {},
   "outputs": [],
   "source": [
    "# print() is a function, that .. prints things\n",
    "# Click in this area and type Shift+Return at the same time to run this command\n",
    "print(\"Hello and H2P!\")"
   ]
  },
  {
   "cell_type": "code",
   "execution_count": null,
   "metadata": {},
   "outputs": [],
   "source": [
    "# Python includes a special way to get help - add a '?' after a function \n",
    "#  or method to get documentation. If you type shift+return in this area\n",
    "#  you'll see that the print() function can do a bunch of things, including write to files\n",
    "print?"
   ]
  },
  {
   "cell_type": "code",
   "execution_count": null,
   "metadata": {},
   "outputs": [],
   "source": [
    "# We can do a variety of math in notebooks\n",
    "# Click in this area and type Shift+Return to run this\n",
    "import math # bring in some math constants and functions\n",
    "\n",
    "print(5 + 8 - 1)\n",
    "print(3*2 / 2)\n",
    "print(2**3)  # 2 cubed = the ** is the power operator\n",
    "print(math.pi / 2) # pi / 2\n",
    "print(math.cos(math.pi)) # cosine( pi )"
   ]
  },
  {
   "cell_type": "code",
   "execution_count": null,
   "metadata": {},
   "outputs": [],
   "source": [
    "# I've left this cell for you to try things out. \n",
    "# Type some math expressions and hit `Shift+Return` to run\n",
    "\n",
    "2.0 + 12.5 * math.pi / 1.0"
   ]
  },
  {
   "cell_type": "markdown",
   "metadata": {},
   "source": [
    "Notice that you can use `print()` commands to print mulitple things. If there's just one thing in a cell, you can often skip that. Many times, I'll use multiple cells to go step-by-step through a problem."
   ]
  },
  {
   "cell_type": "markdown",
   "metadata": {},
   "source": [
    "### Jupyter notebook introduction\n",
    "\n",
    "Jupyter notebooks are an interactive, browser-based tool for running Python - it's what you're currently using. Importantly, they allow \"cells\" or sections of code, documentation, graphics, interactive views, and more.\n",
    "\n",
    "Before lectures, etc. I'll post a link which you click to \"pull\" updates, new notebooks, assignments, etc. into your account here on [hub.crc.pitt.edu](https://hub.crc.pitt.edu/) - everything will run on the Pitt computing clusters."
   ]
  },
  {
   "cell_type": "markdown",
   "metadata": {},
   "source": [
    "#### Getting Started with Jupyter\n",
    "\n",
    "Let's look at this notebook. It is made of cells. If you click on one you will see a blue bar indicating the scope of the cell. If you double click on a cell, you can see how it was made. It is written in Markdown, a lightweight text markup language. Type `Control-enter` to render the cell.\n",
    "\n",
    "Double click on the cell again. Now type `Shift-enter` to render the cell and move to the next cell.\n",
    "\n",
    "When on a cell that is rendered, you can use the up and down arrows to move from cell to cell.\n",
    "\n",
    "With your cursor on this cell, type `Esc-b` and then `Enter`. This will create a new cell after the cell, and enter it so you can add something. The default mode for a cell is `code`. This is a code cell. Type `print('Hi there')` and press `Contrl-enter` to run it. You should see some printed output."
   ]
  },
  {
   "cell_type": "markdown",
   "metadata": {},
   "source": [
    "Jupyter notebooks are a way to communicate your work. The are also executable documents. Some important points to remember:\n",
    "\n",
    "1. The `code` is for a computer, and it represents your attempt to convert some idea in your head into an executable program.\n",
    "2. You cannot expect others to read your mind and guess what your intentions were. You have to use comments and narritive (i.e. in `Markdown`) to explain what you are trying to do, what approximations you have to make to accomplish it."
   ]
  },
  {
   "cell_type": "markdown",
   "metadata": {},
   "source": [
    "#### Example:\n",
    "\n",
    "(Don't worry if this doesn't all make sense yet - we'll get to the math later in the course.)\n",
    "\n",
    "I want to compute the integral $y = \\int_0^\\pi sin(x) dx$\n",
    "\n",
    "I will approximate the integral using the trapezoid rule and the `numpy.trapz()` function."
   ]
  },
  {
   "cell_type": "code",
   "execution_count": null,
   "metadata": {},
   "outputs": [],
   "source": [
    "import numpy as np\n",
    "\n",
    "# set up an array from 0 to π\n",
    "x = np.linspace(0, np.pi)\n",
    "# my function is sin(x)\n",
    "f = np.sin(x)\n",
    "# take the integral over the range of x values\n",
    "# which was 0 .. π\n",
    "np.trapz(f, x)"
   ]
  },
  {
   "cell_type": "markdown",
   "metadata": {},
   "source": [
    "Your analysis may not be useful if nobody can tell what you were trying to do. It is *critical* that you provide documentation to guide people reviewing your work (including future you). It's like when you include written comments on a homework set or when taking notes."
   ]
  },
  {
   "cell_type": "markdown",
   "metadata": {},
   "source": [
    "### Key points\n",
    "\n",
    "- Math helps us do chemistry\n",
    "- Python and Jupyter will help us do math\n",
    "- We won't \"learn math\" or \"learn programming\" - we will focus on key skills to help chemistry\n",
    "- Including comments allow is to write code that others (including ourselves) can read later"
   ]
  },
  {
   "cell_type": "markdown",
   "metadata": {},
   "source": [
    "-------\n",
    "This notebook is from Prof. Geoffrey Hutchison, University of Pittsburgh\n",
    "https://github.com/ghutchis/chem1000\n",
    "\n",
    "<a rel=\"license\" href=\"http://creativecommons.org/licenses/by-nc-sa/4.0/\"><img alt=\"Creative Commons License\" style=\"border-width:0\" src=\"https://i.creativecommons.org/l/by-nc-sa/4.0/88x31.png\" /></a><br />This work is licensed under a <a rel=\"license\" href=\"http://creativecommons.org/licenses/by-nc-sa/4.0/\">Creative Commons Attribution-NonCommercial-ShareAlike 4.0 International License</a>."
   ]
  }
 ],
 "metadata": {
  "kernelspec": {
   "display_name": "Python 3",
   "language": "python",
   "name": "python3"
  },
  "language_info": {
   "codemirror_mode": {
    "name": "ipython",
    "version": 3
   },
   "file_extension": ".py",
   "mimetype": "text/x-python",
   "name": "python",
   "nbconvert_exporter": "python",
   "pygments_lexer": "ipython3",
   "version": "3.6.11"
  },
  "toc": {
   "base_numbering": 1,
   "nav_menu": {},
   "number_sections": false,
   "sideBar": false,
   "skip_h1_title": false,
   "title_cell": "Table of Contents",
   "title_sidebar": "Contents",
   "toc_cell": false,
   "toc_position": {},
   "toc_section_display": false,
   "toc_window_display": false
  }
 },
 "nbformat": 4,
 "nbformat_minor": 4
}
