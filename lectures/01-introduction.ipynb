{
 "cells": [
  {
   "cell_type": "markdown",
   "metadata": {},
   "source": [
    "# CHEM 1000 - Fall 2020\n",
    "Prof. Geoffrey Hutchison, University of Pittsburgh\n",
    "\n",
    "## 1. Introduction\n"
   ]
  },
  {
   "cell_type": "markdown",
   "metadata": {},
   "source": [
    "### Python\n",
    "\n",
    "I will be using the Python programming language in class, pretty much every day. Why?\n",
    "\n",
    "- It's one of the most widely used languages in STEM (and outside of STEM too…)\n",
    "- It's *free* and through the Jupyter notebook system doesn't require anything to install.\n",
    "  - That means we can run our code on the powerful Pitt clusters, or even Google \"Colab\" - multiple free services exist\n",
    "- It offers many *libraries* of existing code for many, many common science and math tasks, from statistics, curve fitting, processing spectroscopy, quantum chemistry, etc.\n",
    "- It's fairly easy to learn - most scientists are not programmers, nor are paid to do so.\n",
    "- The Jupyter notebooks we use for Python allow you to include documentation / explanation in addition to the math and code.\n",
    "- There's lots of documentation, tutorials, etc. online if you have trouble or want to learn more.\n",
    "\n",
    "I assume most of you have not used Python before or even performed any significant programming. No problem. You do not need to become an expert to do well in the class. We will start small.\n",
    "\n",
    "You are **not required** to use Python - you can do all homework with pencil and paper, Wolfram Alpha, etc. Based on my experience you'll find it easier and faster to use these noteboooks.\n",
    "\n",
    "Let's consider this an experiment - I hope you'll have an open mind and we'll have some polls throughout the class to see what you think about Python and Jupyter."
   ]
  },
  {
   "cell_type": "code",
   "execution_count": null,
   "metadata": {},
   "outputs": [],
   "source": [
    "# print() is a function, that .. prints things\n",
    "# Click in this area and type Shift+Return at the same time to run this command\n",
    "print(\"Hello and H2P!\")"
   ]
  },
  {
   "cell_type": "code",
   "execution_count": null,
   "metadata": {},
   "outputs": [],
   "source": [
    "# Python includes a special way to get help - add a '?' after a function / method to get documentation\n",
    "# if you shift+return in this area, you'll see that thNe print() function can do a bunch of things, including write to files\n",
    "print?"
   ]
  },
  {
   "cell_type": "markdown",
   "metadata": {},
   "source": [
    "### Jupyter notebook introduction\n",
    "\n",
    "Jupyter notebooks are an interactive, browser-based tool for running Python. We will use them extensively in this class. We will not learn everything about programming, mathematical modeling, data science, etc. My goal is to get you thinking about a very general computational way of thinking about these problems, and to learn how to use computation as a way to augment your analytical skills."
   ]
  },
  {
   "cell_type": "code",
   "execution_count": 1,
   "metadata": {},
   "outputs": [],
   "source": [
    "import numpy as np\n",
    "np?"
   ]
  },
  {
   "cell_type": "code",
   "execution_count": null,
   "metadata": {},
   "outputs": [],
   "source": []
  }
 ],
 "metadata": {
  "kernelspec": {
   "display_name": "Python 3",
   "language": "python",
   "name": "python3"
  },
  "language_info": {
   "codemirror_mode": {
    "name": "ipython",
    "version": 3
   },
   "file_extension": ".py",
   "mimetype": "text/x-python",
   "name": "python",
   "nbconvert_exporter": "python",
   "pygments_lexer": "ipython3",
   "version": "3.6.10"
  },
  "toc": {
   "base_numbering": 1,
   "nav_menu": {},
   "number_sections": false,
   "sideBar": false,
   "skip_h1_title": false,
   "title_cell": "Table of Contents",
   "title_sidebar": "Contents",
   "toc_cell": false,
   "toc_position": {},
   "toc_section_display": false,
   "toc_window_display": false
  }
 },
 "nbformat": 4,
 "nbformat_minor": 4
}
