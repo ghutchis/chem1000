{
 "cells": [
  {
   "cell_type": "markdown",
   "metadata": {},
   "source": [
    "# CHEM 1000 - Fall 2020\n",
    "Prof. Geoffrey Hutchison, University of Pittsburgh\n",
    "\n",
    "## 1. Introduction"
   ]
  },
  {
   "cell_type": "markdown",
   "metadata": {},
   "source": [
    "### Unit Conversion\n",
    "\n",
    "Unit conversion is usually a major annoyance in physical sciences. Fortunately, it's possible in Python to track and convert units using a package called `pint` (hah.)\n",
    "\n",
    "`pint` tracks a [lot of units](https://github.com/hgrecco/pint/blob/master/pint/default_en.txt) and most standard prefixes (e.g., *pico-* to *giga-* and more).\n",
    "\n",
    "Here's a quick tutorial - there's more [documentation online](https://pint.readthedocs.io/en/stable/index.html) including a more complete [tutorial](https://pint.readthedocs.io/en/stable/tutorial.html)."
   ]
  },
  {
   "cell_type": "code",
   "execution_count": 1,
   "metadata": {},
   "outputs": [],
   "source": [
    "###\n",
    "# This is a bit of code to make sure the most recent version of pint is installed\n",
    "#  if not, install it\n",
    "# You can safely ignore the code...\n",
    "\n",
    "install = False\n",
    "try:\n",
    "    import pint \n",
    "    def versiontuple(v):\n",
    "        return tuple(map(int, (v.split(\".\"))))\n",
    "\n",
    "    if versiontuple(pint.__version__) < versiontuple('0.14'):\n",
    "        install = True\n",
    "except ModuleNotFoundError:\n",
    "    install = True\n",
    "    \n",
    "if install:\n",
    "    import sys\n",
    "    !{sys.executable} -m pip install pint --upgrade"
   ]
  },
  {
   "cell_type": "code",
   "execution_count": 2,
   "metadata": {},
   "outputs": [],
   "source": [
    "import pint\n",
    "\n",
    "ureg = pint.UnitRegistry()"
   ]
  },
  {
   "cell_type": "code",
   "execution_count": 22,
   "metadata": {},
   "outputs": [
    {
     "name": "stdout",
     "output_type": "stream",
     "text": [
      "88.51 kilometer / hour\n",
      "24.59 meter / second\n"
     ]
    },
    {
     "data": {
      "text/html": [
       "\\[24.587200000000003\\ meter/second\\]"
      ],
      "text/latex": [
       "$24.587200000000003\\ \\frac{\\mathrm{meter}}{\\mathrm{second}}$"
      ],
      "text/plain": [
       "24.587200000000003 <Unit('meter / second')>"
      ]
     },
     "execution_count": 22,
     "metadata": {},
     "output_type": "execute_result"
    }
   ],
   "source": [
    "# we can convert this\n",
    "car_speed = 55*ureg.miles/ureg.hour\n",
    "print(car_speed.to('km/hr'))\n",
    "print(car_speed.to_base_units())\n",
    "\n",
    "# alternately\n",
    "Q_ = ureg.Quantity\n",
    "Q_(55, 'miles/hour').to_base_units()"
   ]
  },
  {
   "cell_type": "markdown",
   "metadata": {},
   "source": [
    "I'm considering importing a car - it claims 5 L/100km fuel efficiency, but I know miles per gallon..."
   ]
  },
  {
   "cell_type": "code",
   "execution_count": 4,
   "metadata": {},
   "outputs": [
    {
     "data": {
      "text/html": [
       "\\[47.042916666666656\\ mpg\\]"
      ],
      "text/latex": [
       "$47.042916666666656\\ \\mathrm{mpg}$"
      ],
      "text/plain": [
       "47.042916666666656 <Unit('mpg')>"
      ]
     },
     "execution_count": 4,
     "metadata": {},
     "output_type": "execute_result"
    }
   ],
   "source": [
    "ureg.define('mpg = 1 * mile / gallon')\n",
    "ureg.define('_100km = 100 * kilometer')\n",
    "fuel_ec_europe = 5 * ureg.L / ureg._100km\n",
    "\n",
    "(1 / fuel_ec_europe).to(ureg.mpg)"
   ]
  },
  {
   "cell_type": "code",
   "execution_count": 5,
   "metadata": {},
   "outputs": [
    {
     "name": "stdout",
     "output_type": "stream",
     "text": [
      "670616629.384395 mile / hour\n"
     ]
    }
   ],
   "source": [
    "light = Q_(\"299792458 m/s\")\n",
    "print(light.to(\"miles/hour\"))"
   ]
  },
  {
   "cell_type": "markdown",
   "metadata": {},
   "source": [
    "Okay, I think that breaks the speed limit around here..."
   ]
  },
  {
   "cell_type": "code",
   "execution_count": 6,
   "metadata": {},
   "outputs": [
    {
     "name": "stdout",
     "output_type": "stream",
     "text": [
      "186282.39705122085 mile / second\n"
     ]
    }
   ],
   "source": [
    "print(light.to(\"miles/second\"))"
   ]
  },
  {
   "cell_type": "code",
   "execution_count": 7,
   "metadata": {},
   "outputs": [
    {
     "name": "stdout",
     "output_type": "stream",
     "text": [
      "light 1 mile in:  5.368193752225749 microsecond\n",
      "0.21499443251411754 mile / second\n"
     ]
    }
   ],
   "source": [
    "# ooh, let's figure out the lightning flash thing..\n",
    "# essentially, light travels so fast, that it's effectively instantaneous\n",
    "time = 1.0*ureg.mile / light\n",
    "print('light 1 mile in: ', time.to_base_units().to_compact())\n",
    "\n",
    "# so let's figure out how far the sound travels in a second\n",
    "# Wikipedia gives ~346 m/s on a summer day: https://en.wikipedia.org/wiki/Speed_of_sound#Tables\n",
    "sound = Q_(346, 'm/s')\n",
    "print(sound.to('miles/s'))"
   ]
  },
  {
   "cell_type": "markdown",
   "metadata": {},
   "source": [
    "So, if you count ~5 seconds between the flash and the thunder, the lighting is 1 mile away"
   ]
  },
  {
   "cell_type": "code",
   "execution_count": 8,
   "metadata": {},
   "outputs": [
    {
     "data": {
      "text/html": [
       "\\[36.57599999999999\\ {meter}^{2}\\]"
      ],
      "text/latex": [
       "$36.57599999999999\\ \\mathrm{meter}^{2}$"
      ],
      "text/plain": [
       "36.57599999999999 <Unit('meter ** 2')>"
      ]
     },
     "execution_count": 8,
     "metadata": {},
     "output_type": "execute_result"
    }
   ],
   "source": [
    "# some math, with conversion between mixed units\n",
    "floor_area = 12*ureg.feet * 10*ureg.meter\n",
    "floor_area.to_base_units()"
   ]
  },
  {
   "cell_type": "code",
   "execution_count": 9,
   "metadata": {},
   "outputs": [
    {
     "name": "stdout",
     "output_type": "stream",
     "text": [
      "685.76340498251 kilogram / meter ** 3\n",
      "0.6857634049825102 gram / milliliter\n"
     ]
    }
   ],
   "source": [
    "# what about density?\n",
    "# aka, do I float?\n",
    "\n",
    "weight = 165*ureg.lbs\n",
    "height = 6*ureg.ft + 2*ureg.inches\n",
    "width = 18*ureg.inches # honestly, I have no idea\n",
    "depth = 5*ureg.inches # a random guess\n",
    "\n",
    "volume = height * width * depth # well, no, but let's assume I'm a box\n",
    "density = weight / volume\n",
    "print(density.to_base_units())\n",
    "print(density.to('g/mL'))"
   ]
  },
  {
   "cell_type": "code",
   "execution_count": 10,
   "metadata": {},
   "outputs": [
    {
     "name": "stdout",
     "output_type": "stream",
     "text": [
      "27.78 degree_Celsius\n",
      "300.93 kelvin\n"
     ]
    }
   ],
   "source": [
    "# temperature conversion\n",
    "weather = Q_(82, \"degF\") # degrees Fahrenheit\n",
    "ureg.default_format = '.2f' # number of decimals\n",
    "print(weather.to('degC'))\n",
    "print(weather.to('kelvin'))"
   ]
  },
  {
   "cell_type": "markdown",
   "metadata": {},
   "source": [
    "Batteries are often listed with somewhat weird capacity units - milli-Ampere•hour (e.g., they can supply an electrical current of 1 mA for X number of hours. Here's my iPhone:"
   ]
  },
  {
   "cell_type": "code",
   "execution_count": 11,
   "metadata": {},
   "outputs": [
    {
     "name": "stdout",
     "output_type": "stream",
     "text": [
      "3110.00 hour * milliampere\n"
     ]
    }
   ],
   "source": [
    "capacity = Q_('3110 mA*hr')\n",
    "print(capacity)"
   ]
  },
  {
   "cell_type": "markdown",
   "metadata": {},
   "source": [
    "The weird thing is that electrical current is charge $\\times$ time, so we should be able to convert that to Coulombs (i.e., units of charge):"
   ]
  },
  {
   "cell_type": "code",
   "execution_count": 12,
   "metadata": {},
   "outputs": [
    {
     "data": {
      "text/html": [
       "\\[11195.999999999998\\ coulomb\\]"
      ],
      "text/latex": [
       "$11195.999999999998\\ \\mathrm{coulomb}$"
      ],
      "text/plain": [
       "11195.999999999998 <Unit('coulomb')>"
      ]
     },
     "execution_count": 12,
     "metadata": {},
     "output_type": "execute_result"
    }
   ],
   "source": [
    "capacity.to('coulomb')"
   ]
  },
  {
   "cell_type": "markdown",
   "metadata": {},
   "source": [
    "Let's create a new unit - so we can figure out how many electrons are in my iPhone battery..."
   ]
  },
  {
   "cell_type": "code",
   "execution_count": 13,
   "metadata": {},
   "outputs": [
    {
     "name": "stdout",
     "output_type": "stream",
     "text": [
      "69879935596982385508352.00 charge\n",
      "moles  0.11602180906023973\n"
     ]
    }
   ],
   "source": [
    "ureg.define('charge = 1.0/6.2415090744e18 coulomb')\n",
    "print(capacity.to('charges'))\n",
    "\n",
    "print('moles ', capacity.to('charges').magnitude / 6.023e23)"
   ]
  },
  {
   "cell_type": "markdown",
   "metadata": {},
   "source": [
    "A little over 0.1 mole, which seems fairly reasonable. We could, if we wanted, work out charge density (volume) or charg density per gram, etc."
   ]
  },
  {
   "cell_type": "markdown",
   "metadata": {},
   "source": [
    "Here's a personal favorite. The atomic unit of electrical field corresponds to the field between a proton and an electron in a hydrogen atom."
   ]
  },
  {
   "cell_type": "code",
   "execution_count": 14,
   "metadata": {},
   "outputs": [
    {
     "data": {
      "text/html": [
       "\\[514.220674762318\\ gigavolt/meter\\]"
      ],
      "text/latex": [
       "$514.220674762318\\ \\frac{\\mathrm{gigavolt}}{\\mathrm{meter}}$"
      ],
      "text/plain": [
       "514.220674762318 <Unit('gigavolt / meter')>"
      ]
     },
     "execution_count": 14,
     "metadata": {},
     "output_type": "execute_result"
    }
   ],
   "source": [
    "au = Q_('1.0 atomic_unit_of_electric_field')\n",
    "# the \"to_compact\" method will add prefixes as needed\n",
    "au.to_compact('V/m')"
   ]
  },
  {
   "cell_type": "code",
   "execution_count": 15,
   "metadata": {},
   "outputs": [
    {
     "data": {
      "text/html": [
       "\\[514.2206747623179\\ volt/nanometer\\]"
      ],
      "text/latex": [
       "$514.2206747623179\\ \\frac{\\mathrm{volt}}{\\mathrm{nanometer}}$"
      ],
      "text/plain": [
       "514.2206747623179 <Unit('volt / nanometer')>"
      ]
     },
     "execution_count": 15,
     "metadata": {},
     "output_type": "execute_result"
    }
   ],
   "source": [
    "au.to('V/nm')"
   ]
  },
  {
   "cell_type": "markdown",
   "metadata": {},
   "source": [
    "That's obviously pretty big. What if we have one charge (e.g. a Na+ ion) at one nanometer from a molecule:"
   ]
  },
  {
   "cell_type": "code",
   "execution_count": 16,
   "metadata": {},
   "outputs": [
    {
     "data": {
      "text/html": [
       "\\[0.0019446903811524442\\ atomic\\_unit\\_of\\_electric\\_field\\]"
      ],
      "text/latex": [
       "$0.0019446903811524442\\ \\mathrm{atomic\\_unit\\_of\\_electric\\_field}$"
      ],
      "text/plain": [
       "0.0019446903811524442 <Unit('atomic_unit_of_electric_field')>"
      ]
     },
     "execution_count": 16,
     "metadata": {},
     "output_type": "execute_result"
    }
   ],
   "source": [
    "ion_field = Q_(1.0, \"V/nm\")\n",
    "ion_field.to('atomic_unit_of_electric_field')"
   ]
  },
  {
   "cell_type": "markdown",
   "metadata": {},
   "source": [
    "So ~0.002 times the proton-electron field are clearly pretty normal"
   ]
  },
  {
   "cell_type": "markdown",
   "metadata": {},
   "source": [
    "### Energy conversions:\n",
    "\n",
    "1 Hartree is the \"atomic unit\" of energy"
   ]
  },
  {
   "cell_type": "code",
   "execution_count": 17,
   "metadata": {},
   "outputs": [
    {
     "data": {
      "text/html": [
       "\\[27.21138624598847\\ electron\\_volt\\]"
      ],
      "text/latex": [
       "$27.21138624598847\\ \\mathrm{electron\\_volt}$"
      ],
      "text/plain": [
       "27.21138624598847 <Unit('electron_volt')>"
      ]
     },
     "execution_count": 17,
     "metadata": {},
     "output_type": "execute_result"
    }
   ],
   "source": [
    "energy = Q_(1.0, 'hartree')\n",
    "energy.to('eV')"
   ]
  },
  {
   "cell_type": "code",
   "execution_count": 18,
   "metadata": {},
   "outputs": [
    {
     "data": {
      "text/html": [
       "\\[627.5990072144787\\ kilocalorie/mole\\]"
      ],
      "text/latex": [
       "$627.5990072144787\\ \\frac{\\mathrm{kilocalorie}}{\\mathrm{mole}}$"
      ],
      "text/plain": [
       "627.5990072144787 <Unit('kilocalorie / mole')>"
      ]
     },
     "execution_count": 18,
     "metadata": {},
     "output_type": "execute_result"
    }
   ],
   "source": [
    "energy.to('kcal') * 6.023e23/ureg.mol"
   ]
  },
  {
   "cell_type": "markdown",
   "metadata": {},
   "source": [
    "### Spectroscopy conversions:\n"
   ]
  },
  {
   "cell_type": "code",
   "execution_count": 19,
   "metadata": {},
   "outputs": [
    {
     "data": {
      "text/html": [
       "\\[599584915999999.9\\ hertz\\]"
      ],
      "text/latex": [
       "$599584915999999.9\\ \\mathrm{hertz}$"
      ],
      "text/plain": [
       "599584915999999.9 <Unit('hertz')>"
      ]
     },
     "execution_count": 19,
     "metadata": {},
     "output_type": "execute_result"
    }
   ],
   "source": [
    "q = 500 * ureg.nm\n",
    "# q.to('Hz') # this will give a 'DimensionalityError' because nm is a length and Hz is a frequency\n",
    "q.to('Hz', 'spectroscopy')"
   ]
  },
  {
   "cell_type": "code",
   "execution_count": 20,
   "metadata": {},
   "outputs": [
    {
     "name": "stdout",
     "output_type": "stream",
     "text": [
      "545077196363636.25 hertz\n",
      "545.08 terahertz\n"
     ]
    }
   ],
   "source": [
    "# you don't really need the spectroscopy part\n",
    "wavelength = 550 * ureg.nm\n",
    "frequency = (ureg.speed_of_light / wavelength).to('Hz')\n",
    "print(frequency)\n",
    "print(frequency.to_compact())"
   ]
  },
  {
   "cell_type": "code",
   "execution_count": 21,
   "metadata": {},
   "outputs": [
    {
     "data": {
      "text/html": [
       "\\[6249.999999999999\\ nanometer\\]"
      ],
      "text/latex": [
       "$6249.999999999999\\ \\mathrm{nanometer}$"
      ],
      "text/plain": [
       "6249.999999999999 <Unit('nanometer')>"
      ]
     },
     "execution_count": 21,
     "metadata": {},
     "output_type": "execute_result"
    }
   ],
   "source": [
    "# we see a peak in our IR spectra at 1600 wavenumbers\n",
    "ir = 1600 * ureg.cm_1\n",
    "ir.to('nm', 'spectroscopy')"
   ]
  },
  {
   "cell_type": "markdown",
   "metadata": {},
   "source": [
    "-------\n",
    "This notebook is from Prof. Geoffrey Hutchison, University of Pittsburgh\n",
    "https://github.com/ghutchis/chem1000\n",
    "\n",
    "<a rel=\"license\" href=\"http://creativecommons.org/licenses/by-nc-sa/4.0/\"><img alt=\"Creative Commons License\" style=\"border-width:0\" src=\"https://i.creativecommons.org/l/by-nc-sa/4.0/88x31.png\" /></a><br />This work is licensed under a <a rel=\"license\" href=\"http://creativecommons.org/licenses/by-nc-sa/4.0/\">Creative Commons Attribution-NonCommercial-ShareAlike 4.0 International License</a>."
   ]
  }
 ],
 "metadata": {
  "kernelspec": {
   "display_name": "Python 3",
   "language": "python",
   "name": "python3"
  },
  "language_info": {
   "codemirror_mode": {
    "name": "ipython",
    "version": 3
   },
   "file_extension": ".py",
   "mimetype": "text/x-python",
   "name": "python",
   "nbconvert_exporter": "python",
   "pygments_lexer": "ipython3",
   "version": "3.6.10"
  },
  "toc": {
   "base_numbering": 1,
   "nav_menu": {},
   "number_sections": false,
   "sideBar": false,
   "skip_h1_title": false,
   "title_cell": "Table of Contents",
   "title_sidebar": "Contents",
   "toc_cell": false,
   "toc_position": {},
   "toc_section_display": false,
   "toc_window_display": false
  }
 },
 "nbformat": 4,
 "nbformat_minor": 2
}
