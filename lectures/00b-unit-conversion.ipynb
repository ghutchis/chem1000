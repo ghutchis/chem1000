{
 "cells": [
  {
   "cell_type": "markdown",
   "metadata": {},
   "source": [
    "# CHEM 1000 - Spring 2024\n",
    "Prof. Geoffrey Hutchison, University of Pittsburgh\n",
    "\n",
    "## 0. Introduction\n",
    "\n",
    "**Learning Objectives**\n",
    "\n",
    "By the end of this session, you should be able to:\n",
    "- Use the `pint` module in Python to convert units\n",
    "- Solve most unit conversion problems known to humans"
   ]
  },
  {
   "cell_type": "markdown",
   "metadata": {},
   "source": [
    "### 0.b Unit Conversion\n",
    "\n",
    "Unit conversion is usually a major annoyance in physical sciences. Fortunately, it's possible in Python to track and convert units using a package called `pint` (hah.)\n",
    "\n",
    "`pint` tracks a [lot of units](https://github.com/hgrecco/pint/blob/master/pint/default_en.txt) and most standard prefixes (e.g., *pico-* to *giga-* and more).\n",
    "\n",
    "Here's a quick tutorial - there's more [documentation online](https://pint.readthedocs.io/en/stable/index.html) including a more complete [tutorial](https://pint.readthedocs.io/en/stable/tutorial.html)."
   ]
  },
  {
   "cell_type": "code",
   "execution_count": null,
   "metadata": {},
   "outputs": [],
   "source": [
    "# this is some code for this class to make sure we have up-to-date modules installed\n",
    "import sys\n",
    "!{sys.executable} -m pip install pint --upgrade --user"
   ]
  },
  {
   "cell_type": "code",
   "execution_count": null,
   "metadata": {},
   "outputs": [],
   "source": [
    "import pint\n",
    "\n",
    "ureg = pint.UnitRegistry()"
   ]
  },
  {
   "cell_type": "code",
   "execution_count": null,
   "metadata": {},
   "outputs": [],
   "source": [
    "# we can convert this\n",
    "car_speed = 55*ureg.miles/ureg.hour\n",
    "print(car_speed.to('km/hr'))\n",
    "print(car_speed.to_base_units())\n",
    "\n",
    "# alternately\n",
    "Q_ = ureg.Quantity\n",
    "Q_(55, 'miles/hour').to_base_units()"
   ]
  },
  {
   "cell_type": "markdown",
   "metadata": {},
   "source": [
    "These look like too many significant figures. We can use `format(number, '.6f')` or `round(number, digits)` to clean that up:"
   ]
  },
  {
   "cell_type": "code",
   "execution_count": null,
   "metadata": {},
   "outputs": [],
   "source": [
    "meters_per_sec = Q_(55, 'miles/hour').to_base_units()\n",
    "format(meters_per_sec, '.0f') # 55 has 2 significant figures, so no decimal places"
   ]
  },
  {
   "cell_type": "markdown",
   "metadata": {},
   "source": [
    "I'm considering importing a car - it claims 5.0 L/100km fuel efficiency, but I know miles per gallon..."
   ]
  },
  {
   "cell_type": "code",
   "execution_count": null,
   "metadata": {},
   "outputs": [],
   "source": [
    "ureg.define('mpg = 1 * mile / gallon')\n",
    "ureg.define('_100km = 100 * kilometer')\n",
    "fuel_ec_europe = 5 * ureg.L / ureg._100km\n",
    "\n",
    "(1 / fuel_ec_europe).to(ureg.mpg)"
   ]
  },
  {
   "cell_type": "code",
   "execution_count": null,
   "metadata": {},
   "outputs": [],
   "source": [
    "# Let's give a more reasonable accuracy\n",
    "mpg = (1 / fuel_ec_europe).to(ureg.mpg)\n",
    "format(mpg, '.0f') # 2 significant figures in 5.0 L / 100km"
   ]
  },
  {
   "cell_type": "code",
   "execution_count": null,
   "metadata": {},
   "outputs": [],
   "source": [
    "light = Q_(\"299792458 m/s\")\n",
    "print(format(light.to(\"miles/hour\"), '.0f'))"
   ]
  },
  {
   "cell_type": "markdown",
   "metadata": {},
   "source": [
    "Okay, I think that breaks the speed limit around here..."
   ]
  },
  {
   "cell_type": "code",
   "execution_count": null,
   "metadata": {},
   "outputs": [],
   "source": [
    "print(light.to(\"miles/second\")) # too many sig figs, but we'll skip that for now"
   ]
  },
  {
   "cell_type": "code",
   "execution_count": null,
   "metadata": {},
   "outputs": [],
   "source": [
    "# ooh, let's figure out the lightning flash thing..\n",
    "# essentially, light travels so fast, that it's effectively instantaneous\n",
    "time = 1.0*ureg.mile / light\n",
    "print('light 1 mile in: ', time.to_base_units().to_compact())\n",
    "\n",
    "# so let's figure out how far the sound travels in a second\n",
    "# Wikipedia gives ~346 m/s on a summer day: https://en.wikipedia.org/wiki/Speed_of_sound#Tables\n",
    "sound = Q_(346, 'm/s')\n",
    "print(sound.to('miles/s'))"
   ]
  },
  {
   "cell_type": "markdown",
   "metadata": {},
   "source": [
    "So, if you count ~5 seconds between the flash and the thunder, the lighting is 1 mile away"
   ]
  },
  {
   "cell_type": "code",
   "execution_count": null,
   "metadata": {},
   "outputs": [],
   "source": [
    "# some math, with conversion between mixed units\n",
    "floor_area = 12*ureg.feet * 10*ureg.meter\n",
    "floor_area.to_base_units()"
   ]
  },
  {
   "cell_type": "code",
   "execution_count": null,
   "metadata": {},
   "outputs": [],
   "source": [
    "# what about density?\n",
    "# aka, do I float?\n",
    "\n",
    "weight = 165*ureg.lbs\n",
    "height = 6*ureg.ft + 2*ureg.inches\n",
    "width = 18*ureg.inches # honestly, I have no idea\n",
    "depth = 5*ureg.inches # a random guess\n",
    "\n",
    "volume = height * width * depth # well, no, but let's assume I'm a box\n",
    "density = weight / volume\n",
    "print(density.to_base_units())\n",
    "print(density.to('g/mL'))"
   ]
  },
  {
   "cell_type": "code",
   "execution_count": null,
   "metadata": {},
   "outputs": [],
   "source": [
    "# temperature conversion\n",
    "weather = Q_(82, \"degF\") # degrees Fahrenheit so we don't need to find the ° character\n",
    "ureg.default_format = '.2f' # number of decimals\n",
    "print(weather.to('degC')) # degrees C\n",
    "print(weather.to('kelvin'))"
   ]
  },
  {
   "cell_type": "markdown",
   "metadata": {},
   "source": [
    "Batteries are often listed with somewhat weird capacity units - milli-Ampere•hour (e.g., they can supply an electrical current of 1 mA for X number of hours. Here's my iPhone:"
   ]
  },
  {
   "cell_type": "code",
   "execution_count": null,
   "metadata": {},
   "outputs": [],
   "source": [
    "capacity = Q_('3110 mA*hr')\n",
    "print(capacity)"
   ]
  },
  {
   "cell_type": "markdown",
   "metadata": {},
   "source": [
    "The weird thing is that electrical current is charge $\\times$ time, so we should be able to convert that to Coulombs (i.e., units of charge):"
   ]
  },
  {
   "cell_type": "code",
   "execution_count": null,
   "metadata": {},
   "outputs": [],
   "source": [
    "capacity.to('coulomb')"
   ]
  },
  {
   "cell_type": "markdown",
   "metadata": {},
   "source": [
    "Let's create a new unit - so we can figure out how many electrons are in my iPhone battery..."
   ]
  },
  {
   "cell_type": "code",
   "execution_count": null,
   "metadata": {},
   "outputs": [],
   "source": [
    "ureg.define('charge = 1.0/6.2415090744e18 coulomb')\n",
    "print(capacity.to('charges'))\n",
    "\n",
    "print('moles ', capacity.to('charges').magnitude / 6.023e23)"
   ]
  },
  {
   "cell_type": "markdown",
   "metadata": {},
   "source": [
    "A little over 0.1 mole, which seems fairly reasonable. We could, if we wanted, work out charge density (volume) or charg density per gram, etc."
   ]
  },
  {
   "cell_type": "markdown",
   "metadata": {},
   "source": [
    "Here's a personal favorite. The atomic unit of electrical field corresponds to the field between a proton and an electron in a hydrogen atom."
   ]
  },
  {
   "cell_type": "code",
   "execution_count": null,
   "metadata": {},
   "outputs": [],
   "source": [
    "au = Q_('1.0 atomic_unit_of_electric_field')\n",
    "# the \"to_compact\" method will add prefixes as needed\n",
    "au.to_compact('V/m')"
   ]
  },
  {
   "cell_type": "code",
   "execution_count": null,
   "metadata": {},
   "outputs": [],
   "source": [
    "au.to('V/nm')"
   ]
  },
  {
   "cell_type": "markdown",
   "metadata": {},
   "source": [
    "That's obviously pretty big. What if we have one charge (e.g. a Na<sup>+</sup> ion) at one nanometer from a molecule:"
   ]
  },
  {
   "cell_type": "code",
   "execution_count": null,
   "metadata": {},
   "outputs": [],
   "source": [
    "ion_field = Q_(1.0, \"V/nm\")\n",
    "ion_field.to('atomic_unit_of_electric_field')"
   ]
  },
  {
   "cell_type": "markdown",
   "metadata": {},
   "source": [
    "So ~0.002 times less than the proton-electron field - which makes sense. Protons and electrons are close together and if we had huge fields from ions, we'd rip electrons out of atoms all the time."
   ]
  },
  {
   "cell_type": "markdown",
   "metadata": {},
   "source": [
    "### Energy conversions:\n",
    "\n",
    "1 Hartree is the \"atomic unit\" of energy"
   ]
  },
  {
   "cell_type": "code",
   "execution_count": null,
   "metadata": {},
   "outputs": [],
   "source": [
    "energy = Q_(1.0, 'hartree')\n",
    "energy.to('eV')"
   ]
  },
  {
   "cell_type": "code",
   "execution_count": null,
   "metadata": {},
   "outputs": [],
   "source": [
    "energy.to('kcal') * 6.023e23/ureg.mol"
   ]
  },
  {
   "cell_type": "markdown",
   "metadata": {},
   "source": [
    "### Spectroscopy conversions:\n"
   ]
  },
  {
   "cell_type": "code",
   "execution_count": null,
   "metadata": {},
   "outputs": [],
   "source": [
    "q = 500 * ureg.nm\n",
    "# q.to('Hz') # this will give a 'DimensionalityError' because nm is a length and Hz is a frequency\n",
    "q.to('Hz', 'spectroscopy') # too many sig figs"
   ]
  },
  {
   "cell_type": "code",
   "execution_count": null,
   "metadata": {},
   "outputs": [],
   "source": [
    "# you don't really need the spectroscopy part\n",
    "wavelength = 550 * ureg.nm\n",
    "frequency = (ureg.speed_of_light / wavelength).to('Hz')\n",
    "print(frequency)\n",
    "print(frequency.to_compact()) # the to_compact() method is useful since it adds appropriate prefixes like kilo-, nano-"
   ]
  },
  {
   "cell_type": "code",
   "execution_count": null,
   "metadata": {},
   "outputs": [],
   "source": [
    "# we see a peak in our IR spectra at 1600 wavenumbers\n",
    "ir = 1600 * ureg.cm_1\n",
    "wavelength = ir.to('nm', 'spectroscopy')\n",
    "format(wavelength, '.0f')"
   ]
  },
  {
   "cell_type": "markdown",
   "metadata": {},
   "source": [
    "-------\n",
    "This notebook is from Prof. Geoffrey Hutchison, University of Pittsburgh\n",
    "https://github.com/ghutchis/chem1000\n",
    "\n",
    "<a rel=\"license\" href=\"http://creativecommons.org/licenses/by-nc-sa/4.0/\"><img alt=\"Creative Commons License\" style=\"border-width:0\" src=\"https://i.creativecommons.org/l/by-nc-sa/4.0/88x31.png\" /></a><br />This work is licensed under a <a rel=\"license\" href=\"http://creativecommons.org/licenses/by-nc-sa/4.0/\">Creative Commons Attribution-NonCommercial-ShareAlike 4.0 International License</a>."
   ]
  }
 ],
 "metadata": {
  "kernelspec": {
   "display_name": "Python 3",
   "language": "python",
   "name": "python3"
  },
  "language_info": {
   "codemirror_mode": {
    "name": "ipython",
    "version": 3
   },
   "file_extension": ".py",
   "mimetype": "text/x-python",
   "name": "python",
   "nbconvert_exporter": "python",
   "pygments_lexer": "ipython3",
   "version": "3.6.11"
  },
  "toc": {
   "base_numbering": 1,
   "nav_menu": {},
   "number_sections": false,
   "sideBar": false,
   "skip_h1_title": false,
   "title_cell": "Table of Contents",
   "title_sidebar": "Contents",
   "toc_cell": false,
   "toc_position": {},
   "toc_section_display": false,
   "toc_window_display": false
  }
 },
 "nbformat": 4,
 "nbformat_minor": 2
}
