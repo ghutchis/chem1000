{
 "cells": [
  {
   "cell_type": "markdown",
   "id": "1f1f844f-54ba-489c-8fb1-e66c8affb92f",
   "metadata": {},
   "source": [
    "# CHEM 1000 - Spring 2025\n",
    "Prof. Geoffrey Hutchison, University of Pittsburgh\n",
    "\n",
    "## 8 Integrals & Multiple Integrals\n",
    "\n",
    "Chapter 8 in [*Mathematical Methods for Chemists*](http://sites.bu.edu/straub/mathematical-methods-for-molecular-science/)\n",
    "\n",
    "By the end of this session, you should be able to:\n",
    "- Understand some tips for integration-by-parts\n",
    "- Work on integration across multiple dimensions\n",
    "- Have a bunch of examples for practice"
   ]
  },
  {
   "cell_type": "markdown",
   "id": "874483fb-c3bf-4adc-9f7f-61b22e8216d0",
   "metadata": {},
   "source": [
    "## Integration by Parts Examples\n"
   ]
  },
  {
   "cell_type": "code",
   "execution_count": 1,
   "id": "57079e06-2a99-4b1b-84aa-e0cf9d6012e9",
   "metadata": {},
   "outputs": [
    {
     "name": "stdout",
     "output_type": "stream",
     "text": [
      "IPython console for SymPy 1.13.3 (Python 3.10.14-64-bit) (ground types: gmpy)\n",
      "\n",
      "These commands were executed:\n",
      ">>> from sympy import *\n",
      ">>> x, y, z, t = symbols('x y z t')\n",
      ">>> k, m, n = symbols('k m n', integer=True)\n",
      ">>> f, g, h = symbols('f g h', cls=Function)\n",
      ">>> init_printing()\n",
      "\n",
      "Documentation can be found at https://docs.sympy.org/1.13.3/\n",
      "\n"
     ]
    }
   ],
   "source": [
    "from sympy import init_session\n",
    "init_session()"
   ]
  },
  {
   "cell_type": "markdown",
   "id": "f2dfe583-bdc3-4b5f-baf1-b03a9ccf068e",
   "metadata": {},
   "source": [
    "Okay, we're going to start with a few integration by parts examples...\n",
    "\n",
    "$$\\int x^2 \\sin x \\, dx$$\n",
    "$$\\int x^2 \\cos x \\, dx$$\n",
    "$$\\int x^2 e^{-\\alpha x} \\, dx$$"
   ]
  },
  {
   "cell_type": "code",
   "execution_count": 2,
   "id": "dcdf6965-27b0-4e41-b89f-94629f879824",
   "metadata": {},
   "outputs": [],
   "source": [
    "alpha = symbols(\"alpha\")\n",
    "# as a reminder, we use the following syntax \n",
    "# for doing integrals with sympy\n",
    "integrate(f, x)"
   ]
  },
  {
   "cell_type": "markdown",
   "id": "70135ce1-82b1-4eb9-abc3-47a4a1db49cc",
   "metadata": {},
   "source": [
    "## Multiple Integration Examples\n",
    "\n",
    "What if we want the surface area of a sphere? Let's take a sphere of radius 1Å for now...\n",
    "\n",
    "How do we set that up?"
   ]
  },
  {
   "cell_type": "code",
   "execution_count": null,
   "id": "c69f9962-94b3-41f8-b18b-334049b4efbc",
   "metadata": {},
   "outputs": [],
   "source": [
    "r, theta, phi = symbols('r theta phi')\n",
    "f = \n"
   ]
  },
  {
   "cell_type": "markdown",
   "id": "e07b887c-be21-46ff-8574-1af59157b965",
   "metadata": {},
   "source": [
    "What about a function like:\n",
    "\n",
    "$$ \\psi(r, \\theta, \\phi)=N e^{-r / \\alpha}$$ "
   ]
  },
  {
   "cell_type": "code",
   "execution_count": null,
   "id": "f077fc12-a533-463a-9a34-8b9aee2204a5",
   "metadata": {},
   "outputs": [],
   "source": [
    "# if we need to add limits, we do something like\n",
    "# note we use oo to indicate infinity and -oo for -infinity\n",
    "integrate(f, (r, 0, oo)"
   ]
  }
 ],
 "metadata": {
  "kernelspec": {
   "display_name": "Python 3 (ipykernel)",
   "language": "python",
   "name": "python3"
  },
  "language_info": {
   "codemirror_mode": {
    "name": "ipython",
    "version": 3
   },
   "file_extension": ".py",
   "mimetype": "text/x-python",
   "name": "python",
   "nbconvert_exporter": "python",
   "pygments_lexer": "ipython3",
   "version": "3.10.14"
  }
 },
 "nbformat": 4,
 "nbformat_minor": 5
}
